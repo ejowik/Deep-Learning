{
 "cells": [
  {
   "cell_type": "code",
   "execution_count": 1,
   "id": "7bd903cc",
   "metadata": {},
   "outputs": [],
   "source": [
    "import gc\n",
    "import os\n",
    "import re\n",
    "import math\n",
    "import random\n",
    "import numpy as np\n",
    "import pandas as pd\n",
    "from glob import glob\n",
    "from tqdm.notebook import tqdm as tqdm\n",
    "from itertools import compress\n",
    "\n",
    "import librosa\n",
    "from scipy.fftpack import fft\n",
    "from scipy.io import wavfile\n",
    "from scipy import signal\n",
    "from scipy.io import wavfile\n",
    "\n",
    "import keras\n",
    "from keras import optimizers, losses, activations, models\n",
    "from keras.layers import Dense, Input, Flatten, Dropout, BatchNormalization\n",
    "from tensorflow.keras import backend as K\n",
    "from tensorflow.keras.layers import Dense, SimpleRNN, LSTM, Bidirectional, Conv1D, GRU\n",
    "from tensorflow.keras.layers import Input, Dropout, BatchNormalization, Activation\n",
    "from tensorflow.keras.models import Model\n",
    "from tensorflow.keras.optimizers import Adam, SGD\n",
    "from tensorflow.keras.callbacks import EarlyStopping\n",
    "\n",
    "from sklearn.metrics import confusion_matrix\n",
    "\n",
    "import seaborn as sns\n",
    "import matplotlib.pyplot as plt\n",
    "\n",
    "import warnings\n",
    "\n",
    "random.seed(0)\n",
    "sns.set_style('whitegrid')\n",
    "warnings.filterwarnings('ignore')"
   ]
  },
  {
   "cell_type": "code",
   "execution_count": 2,
   "id": "d8c98eb1",
   "metadata": {},
   "outputs": [],
   "source": [
    "# parameters settings\n",
    "data_path = '../../data/train/audio'\n",
    "labels = os.listdir(data_path)\n",
    "CLASSES = ['yes', 'no', 'up', 'down', 'left', 'right', 'on', 'off', 'stop', 'go'] \n",
    "SAMPLING_RATE = 16000\n",
    "\n",
    "EPOCHS = 30\n",
    "PATIENCE=int(EPOCHS/3)\n",
    "BATCH_SIZE = 128\n",
    "MIN_DELTA=1e-4\n",
    "LR = 1e-4\n",
    "DROPOUT = 0.2\n",
    "NOISE_RATIO = 0.1"
   ]
  },
  {
   "cell_type": "code",
   "execution_count": 3,
   "id": "6f1846a6",
   "metadata": {},
   "outputs": [],
   "source": [
    "def pad_audio(samples):\n",
    "    return np.pad(samples, pad_width=(SAMPLING_RATE - len(samples), 0), mode='constant', constant_values=(0, 0))\n",
    "\n",
    "\n",
    "def chop_audio(samples):\n",
    "    return samples[:SAMPLING_RATE]\n",
    "\n",
    "\n",
    "def split_audio(sample_rate, samples):\n",
    "    \"\"\" Splits audio file to multiple with (up to) fixed 1s length \"\"\"\n",
    "    duration = float(len(samples)/sample_rate)\n",
    "    n_samples = math.ceil(duration)\n",
    "    return np.array_split(samples, n_samples)"
   ]
  },
  {
   "cell_type": "code",
   "execution_count": 4,
   "id": "f417dec7",
   "metadata": {},
   "outputs": [],
   "source": [
    "def assign_unknown_label(labels, classes=CLASSES):\n",
    "    new_labels = []\n",
    "    for label in labels:\n",
    "        if label not in classes:\n",
    "            new_labels.append('unknown')\n",
    "        else:\n",
    "            new_labels.append(label)\n",
    "    return new_labels\n",
    "\n",
    "def encode_labels(labels):\n",
    "    return pd.get_dummies(pd.Series(labels))"
   ]
  },
  {
   "cell_type": "code",
   "execution_count": 5,
   "id": "5733564b",
   "metadata": {},
   "outputs": [],
   "source": [
    "def specgram(audio, sample_rate, window_size=20, step_size=10, eps=1e-10):\n",
    "    nperseg = int(round(window_size * sample_rate / 1e3))\n",
    "    noverlap = int(round(step_size * sample_rate / 1e3))\n",
    "    _, _, spec = signal.spectrogram(audio,\n",
    "                                    fs=sample_rate,\n",
    "                                    window='hann',\n",
    "                                    nperseg=nperseg,\n",
    "                                    noverlap=noverlap,\n",
    "                                    detrend=False)\n",
    "    return np.log(spec.T.astype(np.float32) + eps)\n",
    "\n",
    "\n",
    "def plot_model_history(history, title: str) -> None:\n",
    "    \"\"\"\n",
    "    Plotting the learning curve of Keras model, broken down into loss curve and accuracy curve, \n",
    "    for both training and validation data.\n",
    "\n",
    "    Args:\n",
    "        history : Object returned by the .fit method of Keras model.\n",
    "        title (str): Title of the plots.\n",
    "    \"\"\"\n",
    "    fig, axs = plt.subplots(1,2,figsize=(15,5)) \n",
    "\n",
    "    axs[0].plot(history.history['accuracy']) \n",
    "    axs[0].plot(history.history['val_accuracy']) \n",
    "    axs[0].set_title('Model Accuracy')\n",
    "    axs[0].set_ylabel('Accuracy') \n",
    "    axs[0].set_xlabel('Epoch')\n",
    "    axs[0].legend(['train', 'validate'], loc='upper left')\n",
    "\n",
    "    axs[1].plot(history.history['loss']) \n",
    "    axs[1].plot(history.history['val_loss']) \n",
    "    axs[1].set_title('Model Loss')\n",
    "    axs[1].set_ylabel('Loss') \n",
    "    axs[1].set_xlabel('Epoch')\n",
    "    axs[1].legend(['train', 'validate'], loc='upper left')\n",
    "    fig.suptitle(title, size=15)\n",
    "    plt.show()"
   ]
  },
  {
   "cell_type": "code",
   "execution_count": 6,
   "id": "1c34c289",
   "metadata": {},
   "outputs": [],
   "source": [
    "def rnn_network(input_dim, output_dim, rnn_layer):\n",
    "\n",
    "    input_data = Input(name='input', shape=input_dim, dtype='float32')\n",
    "\n",
    "    x = Conv1D(filters=256, kernel_size=10, strides=4, name='conv1d')(input_data)\n",
    "    x = BatchNormalization(name='b_norm')(x)\n",
    "    x = Activation('relu', name='activation')(x)\n",
    "    x = Dropout(DROPOUT, name='dropout_1')(x)\n",
    "    x = rnn_layer(128, activation='relu', return_sequences=True, dropout=DROPOUT, name='rnn_1')(x)\n",
    "    x = rnn_layer(128, activation='relu', return_sequences=False, dropout=DROPOUT, name='rnn_2')(x)\n",
    "    x = Dense(units=64, activation='relu', name='dense')(x)\n",
    "    x = Dropout(DROPOUT, name='dropout_2')(x)\n",
    "\n",
    "    output_data = Dense(units=output_dim, activation='softmax', name='softmax')(x)\n",
    "\n",
    "    model = Model(inputs=input_data, outputs=output_data, name=str(rnn_layer).split(\".\")[-1].split(\"'\")[0])\n",
    "    model.compile(loss='categorical_crossentropy', optimizer=OPT, metrics=['accuracy'])\n",
    "\n",
    "    return model"
   ]
  },
  {
   "cell_type": "code",
   "execution_count": 7,
   "id": "5776e11c",
   "metadata": {},
   "outputs": [],
   "source": [
    "def plot_heatmaps(models_results: list, title: str=None) -> None:\n",
    "    \"\"\"\n",
    "    Plot heatmaps based on the confusion matrices of a given models.\n",
    "\n",
    "    Args:\n",
    "        models_results (list): List of confusion matrices of the evaluated models.\n",
    "        title (str): Title of the plots.\n",
    "    \"\"\"\n",
    "    fig, axes = plt.subplots(1,3,figsize=(18,6))\n",
    "    models = ['SimpleRNN', 'LSTM', 'GRU']\n",
    "    for i in range(3):\n",
    "        sns.heatmap(models_results[i], annot=True, cmap=\"Blues\", ax=axes[i], fmt='d', annot_kws={\"size\": 12})\n",
    "        axes[i].set_title(models[i], size=15)\n",
    "        axes[i].set_xticklabels(axes[i].get_xmajorticklabels(), fontsize = 12)\n",
    "        axes[i].set_yticklabels(axes[i].get_xmajorticklabels(), fontsize = 12)\n",
    "        cax = plt.gcf().axes[-1]\n",
    "        cax.tick_params(labelsize=12)\n",
    "\n",
    "    plt.tight_layout()\n",
    "    plt.show()"
   ]
  },
  {
   "cell_type": "markdown",
   "id": "ed72d5e9",
   "metadata": {},
   "source": [
    "# <span style='font-family:Georgia'> 1. Data loading & preparation"
   ]
  },
  {
   "cell_type": "markdown",
   "id": "bcc1f756",
   "metadata": {},
   "source": [
    "### <span style='font-family:Georgia'> 1.1. Check on length distributions of recordings from classes other than background_noise & sampling rates consistency"
   ]
  },
  {
   "cell_type": "code",
   "execution_count": 8,
   "id": "9cf8af7d",
   "metadata": {
    "scrolled": true
   },
   "outputs": [
    {
     "data": {
      "application/vnd.jupyter.widget-view+json": {
       "model_id": "05e3d9d4bde0460ebcbab0f29737772a",
       "version_major": 2,
       "version_minor": 0
      },
      "text/plain": [
       "  0%|          | 0/30 [00:00<?, ?it/s]"
      ]
     },
     "metadata": {},
     "output_type": "display_data"
    }
   ],
   "source": [
    "duration_checklist = []\n",
    "sampling_rates_checklist = []\n",
    "\n",
    "for label in tqdm([l for l in labels if l != '_background_noise_']):\n",
    "\n",
    "    files = [f for f in os.listdir(data_path + '/'+ label) if f.endswith('.wav')]\n",
    "    \n",
    "    for file in files:\n",
    "        sample_rate, samples = wavfile.read(data_path + \"/\" + label + \"/\" + file)\n",
    "        duration = float(len(samples)/sample_rate)\n",
    "        \n",
    "        duration_checklist.append(duration)\n",
    "        sampling_rates_checklist.append(sample_rate)"
   ]
  },
  {
   "cell_type": "code",
   "execution_count": 9,
   "id": "a4cd1417",
   "metadata": {},
   "outputs": [
    {
     "data": {
      "image/png": "[encoded data removed]",
      "text/plain": [
       "<Figure size 432x288 with 1 Axes>"
      ]
     },
     "metadata": {},
     "output_type": "display_data"
    },
    {
     "name": "stdout",
     "output_type": "stream",
     "text": [
      "In no class other than background noise there are recordings longer than 1s.\n",
      "Sampling rates are consistent and equal to: 16000\n"
     ]
    }
   ],
   "source": [
    "num_bins = 10\n",
    "x = np.array(duration_checklist)\n",
    "\n",
    "plt.hist(x, num_bins, \n",
    "         density = 1, \n",
    "         color ='green',\n",
    "         alpha = 0.7)\n",
    "  \n",
    "plt.xlabel('X-Axis')\n",
    "plt.ylabel('Y-Axis')\n",
    "  \n",
    "plt.title('Distribution of the length of recordings \\nfrom classes other than background_noise\\n',\n",
    "          fontweight =\"bold\")\n",
    "  \n",
    "plt.show()\n",
    "\n",
    "if np.sum(x>1) > 0:\n",
    "    print(\"There is a class other than background noise with recordings longer than 1s.\")\n",
    "else:\n",
    "    print(\"In no class other than background noise there are recordings longer than 1s.\")\n",
    "    \n",
    "if np.sum(np.array(sampling_rates_checklist)!=SAMPLING_RATE) > 0:\n",
    "    print(\"Sampling rates are not consistent\")\n",
    "else:\n",
    "    print(f\"Sampling rates are consistent and equal to: {SAMPLING_RATE}\")"
   ]
  },
  {
   "cell_type": "markdown",
   "id": "c0597d4b",
   "metadata": {},
   "source": [
    "### <span style='font-family:Georgia'> 1.2. Check of length distributions of recordings from background_noise class"
   ]
  },
  {
   "cell_type": "code",
   "execution_count": 10,
   "id": "646a2bde",
   "metadata": {
    "scrolled": true
   },
   "outputs": [],
   "source": [
    "duration_checklist = []\n",
    "sampling_rates_checklist = []\n",
    "label = '_background_noise_'\n",
    "\n",
    "files = [f for f in os.listdir(data_path + '/'+ label) if f.endswith('.wav')]\n",
    "\n",
    "for file in files:\n",
    "    sample_rate, samples = wavfile.read(data_path + \"/\" + label + \"/\" + file)\n",
    "    duration = float(len(samples)/sample_rate)\n",
    "\n",
    "    duration_checklist.append(duration)\n",
    "    sampling_rates_checklist.append(sample_rate)"
   ]
  },
  {
   "cell_type": "code",
   "execution_count": 11,
   "id": "b3971f14",
   "metadata": {},
   "outputs": [
    {
     "data": {
      "image/png": "[encoded data removed]",
      "text/plain": [
       "<Figure size 432x288 with 1 Axes>"
      ]
     },
     "metadata": {},
     "output_type": "display_data"
    },
    {
     "name": "stdout",
     "output_type": "stream",
     "text": [
      "Sampling rates are consistent and equal to: 16000\n"
     ]
    }
   ],
   "source": [
    "num_bins = 10\n",
    "x = np.array(duration_checklist)\n",
    "\n",
    "plt.hist(x, num_bins, \n",
    "         density = 1, \n",
    "         color ='green',\n",
    "         alpha = 0.7)\n",
    "  \n",
    "plt.xlabel('X-Axis')\n",
    "plt.ylabel('Y-Axis')\n",
    "  \n",
    "plt.title('Distribution of the length of recordings \\nfrom the background_noise class\\n',\n",
    "          fontweight =\"bold\")\n",
    "  \n",
    "plt.show()\n",
    "\n",
    "if np.sum(np.array(sampling_rates_checklist)!=SAMPLING_RATE) > 0:\n",
    "    print(\"Sampling rates are not consistent\")\n",
    "else:\n",
    "    print(f\"Sampling rates are consistent and equal to: {SAMPLING_RATE}\")"
   ]
  },
  {
   "cell_type": "markdown",
   "id": "6eb3636c",
   "metadata": {},
   "source": [
    "### <span style='font-family:Georgia'> 1.3. Noisy data loading"
   ]
  },
  {
   "cell_type": "code",
   "execution_count": 12,
   "id": "8f9787f5",
   "metadata": {},
   "outputs": [],
   "source": [
    "# NOTE: Zakładam, że nie chcemy rozróżniać klas szumów\n",
    "# NOTE: Wg plików etykietujących *.txt szystkie zaszumione pliki są przypisane do zbioru treningowego"
   ]
  },
  {
   "cell_type": "code",
   "execution_count": 13,
   "id": "9eb8c4e4",
   "metadata": {},
   "outputs": [
    {
     "data": {
      "application/vnd.jupyter.widget-view+json": {
       "model_id": "fb46a9a07c304c8cb5b584e399f0feef",
       "version_major": 2,
       "version_minor": 0
      },
      "text/plain": [
       "  0%|          | 0/6 [00:00<?, ?it/s]"
      ]
     },
     "metadata": {},
     "output_type": "display_data"
    }
   ],
   "source": [
    "label = '_background_noise_'\n",
    "files = [f for f in os.listdir(data_path + '/'+ label) if f.endswith('.wav')]\n",
    "one_sec_background_noise_specgrams = []\n",
    "\n",
    "for file in tqdm(files):\n",
    "    _, samples = wavfile.read(data_path + \"/\" + label + \"/\" + file)\n",
    "    duration = float(len(samples)/SAMPLING_RATE)\n",
    "\n",
    "    # Do not distinguish between noise classes\n",
    "    one_sec_background_noise = split_audio(\n",
    "            sample_rate=SAMPLING_RATE, samples=samples\n",
    "        )\n",
    "    \n",
    "    for item in one_sec_background_noise:\n",
    "        duration = float(len(item)/SAMPLING_RATE)\n",
    "        if duration < 1: item = pad_audio(item)        \n",
    "        \n",
    "        one_sec_background_noise_specgrams.append(\n",
    "            specgram(item, SAMPLING_RATE)\n",
    "        )"
   ]
  },
  {
   "cell_type": "markdown",
   "id": "7b6aec04",
   "metadata": {},
   "source": [
    "### <span style='font-family:Georgia'> 1.4. Noise-free data loading"
   ]
  },
  {
   "cell_type": "code",
   "execution_count": 14,
   "id": "6ec2f8a3",
   "metadata": {},
   "outputs": [],
   "source": [
    "validation_list = pd.read_csv('../../data/train/validation_list.txt', sep=\"\\t\", header=None)[0].tolist()\n",
    "testing_list = pd.read_csv('../../data/train/testing_list.txt', sep=\"\\t\", header=None)[0].tolist()"
   ]
  },
  {
   "cell_type": "code",
   "execution_count": 15,
   "id": "9c70ae40",
   "metadata": {},
   "outputs": [
    {
     "name": "stdout",
     "output_type": "stream",
     "text": [
      "Training:  51088\n",
      "Validation:  6798\n",
      "Testing:  6835\n"
     ]
    }
   ],
   "source": [
    "print('Training: ', 64721 - len(validation_list) - len(testing_list))\n",
    "print('Validation: ', len(validation_list))\n",
    "print('Testing: ', len(testing_list))"
   ]
  },
  {
   "cell_type": "code",
   "execution_count": 16,
   "id": "006bce66",
   "metadata": {},
   "outputs": [
    {
     "data": {
      "application/vnd.jupyter.widget-view+json": {
       "model_id": "c8b3c3af78e34f2189613213e6b8cc08",
       "version_major": 2,
       "version_minor": 0
      },
      "text/plain": [
       "  0%|          | 0/30 [00:00<?, ?it/s]"
      ]
     },
     "metadata": {},
     "output_type": "display_data"
    },
    {
     "data": {
      "application/vnd.jupyter.widget-view+json": {
       "model_id": "b93e69414ac841b0a9b8ad9ed3d97cd9",
       "version_major": 2,
       "version_minor": 0
      },
      "text/plain": [
       "  0%|          | 0/1713 [00:00<?, ?it/s]"
      ]
     },
     "metadata": {},
     "output_type": "display_data"
    },
    {
     "data": {
      "application/vnd.jupyter.widget-view+json": {
       "model_id": "75cfd3b5d0e844599574c599db2e4328",
       "version_major": 2,
       "version_minor": 0
      },
      "text/plain": [
       "  0%|          | 0/1731 [00:00<?, ?it/s]"
      ]
     },
     "metadata": {},
     "output_type": "display_data"
    },
    {
     "data": {
      "application/vnd.jupyter.widget-view+json": {
       "model_id": "812d77091e934a14bf37b3bbaaf52abb",
       "version_major": 2,
       "version_minor": 0
      },
      "text/plain": [
       "  0%|          | 0/1733 [00:00<?, ?it/s]"
      ]
     },
     "metadata": {},
     "output_type": "display_data"
    },
    {
     "data": {
      "application/vnd.jupyter.widget-view+json": {
       "model_id": "f70dbf2751c04255a1e048ee6c7df16a",
       "version_major": 2,
       "version_minor": 0
      },
      "text/plain": [
       "  0%|          | 0/1746 [00:00<?, ?it/s]"
      ]
     },
     "metadata": {},
     "output_type": "display_data"
    },
    {
     "data": {
      "application/vnd.jupyter.widget-view+json": {
       "model_id": "407e4b05d7c646629e35e0c8952b24b4",
       "version_major": 2,
       "version_minor": 0
      },
      "text/plain": [
       "  0%|          | 0/2359 [00:00<?, ?it/s]"
      ]
     },
     "metadata": {},
     "output_type": "display_data"
    },
    {
     "data": {
      "application/vnd.jupyter.widget-view+json": {
       "model_id": "d020320fdefc4f559e9e02f50d70472d",
       "version_major": 2,
       "version_minor": 0
      },
      "text/plain": [
       "  0%|          | 0/2352 [00:00<?, ?it/s]"
      ]
     },
     "metadata": {},
     "output_type": "display_data"
    },
    {
     "data": {
      "application/vnd.jupyter.widget-view+json": {
       "model_id": "dab422e3f55c49a88dc45011e0043c0c",
       "version_major": 2,
       "version_minor": 0
      },
      "text/plain": [
       "  0%|          | 0/2357 [00:00<?, ?it/s]"
      ]
     },
     "metadata": {},
     "output_type": "display_data"
    },
    {
     "data": {
      "application/vnd.jupyter.widget-view+json": {
       "model_id": "3b2c735207044256b6e5c9347681fc3d",
       "version_major": 2,
       "version_minor": 0
      },
      "text/plain": [
       "  0%|          | 0/2372 [00:00<?, ?it/s]"
      ]
     },
     "metadata": {},
     "output_type": "display_data"
    },
    {
     "data": {
      "application/vnd.jupyter.widget-view+json": {
       "model_id": "371391ec4c7d4ddcb5f45c8db531c0a7",
       "version_major": 2,
       "version_minor": 0
      },
      "text/plain": [
       "  0%|          | 0/2372 [00:00<?, ?it/s]"
      ]
     },
     "metadata": {},
     "output_type": "display_data"
    },
    {
     "data": {
      "application/vnd.jupyter.widget-view+json": {
       "model_id": "210bddb827f546559491fc5992fc6413",
       "version_major": 2,
       "version_minor": 0
      },
      "text/plain": [
       "  0%|          | 0/1742 [00:00<?, ?it/s]"
      ]
     },
     "metadata": {},
     "output_type": "display_data"
    },
    {
     "data": {
      "application/vnd.jupyter.widget-view+json": {
       "model_id": "3ef54cd3c723435bbe4068ced8bbedf0",
       "version_major": 2,
       "version_minor": 0
      },
      "text/plain": [
       "  0%|          | 0/1750 [00:00<?, ?it/s]"
      ]
     },
     "metadata": {},
     "output_type": "display_data"
    },
    {
     "data": {
      "application/vnd.jupyter.widget-view+json": {
       "model_id": "80dff1aa58fd46a2979ef6e671d234a9",
       "version_major": 2,
       "version_minor": 0
      },
      "text/plain": [
       "  0%|          | 0/2353 [00:00<?, ?it/s]"
      ]
     },
     "metadata": {},
     "output_type": "display_data"
    },
    {
     "data": {
      "application/vnd.jupyter.widget-view+json": {
       "model_id": "382d67870eb14eabba7dbc49aa3e5ca3",
       "version_major": 2,
       "version_minor": 0
      },
      "text/plain": [
       "  0%|          | 0/1746 [00:00<?, ?it/s]"
      ]
     },
     "metadata": {},
     "output_type": "display_data"
    },
    {
     "data": {
      "application/vnd.jupyter.widget-view+json": {
       "model_id": "236ccb61f3fb4faaab95177cee098c99",
       "version_major": 2,
       "version_minor": 0
      },
      "text/plain": [
       "  0%|          | 0/2364 [00:00<?, ?it/s]"
      ]
     },
     "metadata": {},
     "output_type": "display_data"
    },
    {
     "data": {
      "application/vnd.jupyter.widget-view+json": {
       "model_id": "4c892ecc8fb5403fb5db44736d12eb2f",
       "version_major": 2,
       "version_minor": 0
      },
      "text/plain": [
       "  0%|          | 0/2375 [00:00<?, ?it/s]"
      ]
     },
     "metadata": {},
     "output_type": "display_data"
    },
    {
     "data": {
      "application/vnd.jupyter.widget-view+json": {
       "model_id": "697f88e69ea146dab11ab4821283a51d",
       "version_major": 2,
       "version_minor": 0
      },
      "text/plain": [
       "  0%|          | 0/2357 [00:00<?, ?it/s]"
      ]
     },
     "metadata": {},
     "output_type": "display_data"
    },
    {
     "data": {
      "application/vnd.jupyter.widget-view+json": {
       "model_id": "32c30841264544188af9ba51f366668c",
       "version_major": 2,
       "version_minor": 0
      },
      "text/plain": [
       "  0%|          | 0/2367 [00:00<?, ?it/s]"
      ]
     },
     "metadata": {},
     "output_type": "display_data"
    },
    {
     "data": {
      "application/vnd.jupyter.widget-view+json": {
       "model_id": "e873a0dd93c44099963a551ee1529b34",
       "version_major": 2,
       "version_minor": 0
      },
      "text/plain": [
       "  0%|          | 0/2370 [00:00<?, ?it/s]"
      ]
     },
     "metadata": {},
     "output_type": "display_data"
    },
    {
     "data": {
      "application/vnd.jupyter.widget-view+json": {
       "model_id": "f47a3ca311a746349ea0476e0a79462f",
       "version_major": 2,
       "version_minor": 0
      },
      "text/plain": [
       "  0%|          | 0/2367 [00:00<?, ?it/s]"
      ]
     },
     "metadata": {},
     "output_type": "display_data"
    },
    {
     "data": {
      "application/vnd.jupyter.widget-view+json": {
       "model_id": "f2644f3e856f4fd99cc321438fb26093",
       "version_major": 2,
       "version_minor": 0
      },
      "text/plain": [
       "  0%|          | 0/2377 [00:00<?, ?it/s]"
      ]
     },
     "metadata": {},
     "output_type": "display_data"
    },
    {
     "data": {
      "application/vnd.jupyter.widget-view+json": {
       "model_id": "8dc32e54ce674378a432b50bc2c9926a",
       "version_major": 2,
       "version_minor": 0
      },
      "text/plain": [
       "  0%|          | 0/1734 [00:00<?, ?it/s]"
      ]
     },
     "metadata": {},
     "output_type": "display_data"
    },
    {
     "data": {
      "application/vnd.jupyter.widget-view+json": {
       "model_id": "0286c901596e49a5bc233b69ed99c3ca",
       "version_major": 2,
       "version_minor": 0
      },
      "text/plain": [
       "  0%|          | 0/2369 [00:00<?, ?it/s]"
      ]
     },
     "metadata": {},
     "output_type": "display_data"
    },
    {
     "data": {
      "application/vnd.jupyter.widget-view+json": {
       "model_id": "67fa00a9bcf143438ec0ba9d3e6638c0",
       "version_major": 2,
       "version_minor": 0
      },
      "text/plain": [
       "  0%|          | 0/2380 [00:00<?, ?it/s]"
      ]
     },
     "metadata": {},
     "output_type": "display_data"
    },
    {
     "data": {
      "application/vnd.jupyter.widget-view+json": {
       "model_id": "dd4dd37e107a4dd494a126a68082bfce",
       "version_major": 2,
       "version_minor": 0
      },
      "text/plain": [
       "  0%|          | 0/2356 [00:00<?, ?it/s]"
      ]
     },
     "metadata": {},
     "output_type": "display_data"
    },
    {
     "data": {
      "application/vnd.jupyter.widget-view+json": {
       "model_id": "5cb4bdac05e54348aee5d51a9c38f41b",
       "version_major": 2,
       "version_minor": 0
      },
      "text/plain": [
       "  0%|          | 0/1733 [00:00<?, ?it/s]"
      ]
     },
     "metadata": {},
     "output_type": "display_data"
    },
    {
     "data": {
      "application/vnd.jupyter.widget-view+json": {
       "model_id": "fd53b6b6ba1d46e787261a13df98ab66",
       "version_major": 2,
       "version_minor": 0
      },
      "text/plain": [
       "  0%|          | 0/2373 [00:00<?, ?it/s]"
      ]
     },
     "metadata": {},
     "output_type": "display_data"
    },
    {
     "data": {
      "application/vnd.jupyter.widget-view+json": {
       "model_id": "cd36cc00871b4ed9ba7d3f3cef264895",
       "version_major": 2,
       "version_minor": 0
      },
      "text/plain": [
       "  0%|          | 0/2375 [00:00<?, ?it/s]"
      ]
     },
     "metadata": {},
     "output_type": "display_data"
    },
    {
     "data": {
      "application/vnd.jupyter.widget-view+json": {
       "model_id": "a7ae0d51c9574439a2b26652505ca0b2",
       "version_major": 2,
       "version_minor": 0
      },
      "text/plain": [
       "  0%|          | 0/1745 [00:00<?, ?it/s]"
      ]
     },
     "metadata": {},
     "output_type": "display_data"
    },
    {
     "data": {
      "application/vnd.jupyter.widget-view+json": {
       "model_id": "6cee7a6d6cf34faea4171cffce09494d",
       "version_major": 2,
       "version_minor": 0
      },
      "text/plain": [
       "  0%|          | 0/2377 [00:00<?, ?it/s]"
      ]
     },
     "metadata": {},
     "output_type": "display_data"
    },
    {
     "data": {
      "application/vnd.jupyter.widget-view+json": {
       "model_id": "91d343945b454feea3706a1b0eaafb0c",
       "version_major": 2,
       "version_minor": 0
      },
      "text/plain": [
       "  0%|          | 0/2376 [00:00<?, ?it/s]"
      ]
     },
     "metadata": {},
     "output_type": "display_data"
    }
   ],
   "source": [
    "train_labels = []\n",
    "train_specgrams = []\n",
    "val_labels = []\n",
    "val_specgrams = []\n",
    "test_labels = []\n",
    "test_specgrams = []\n",
    "\n",
    "for label in tqdm([l for l in labels if l != '_background_noise_']):\n",
    "\n",
    "    files = [f for f in os.listdir(data_path + '/'+ label) if f.endswith('.wav')]\n",
    "    \n",
    "    for file in tqdm(files):\n",
    "        _, samples = wavfile.read(data_path + \"/\" + label + \"/\" + file)\n",
    "        duration = float(len(samples)/SAMPLING_RATE)\n",
    "                \n",
    "        if duration < 1: samples = pad_audio(samples)\n",
    "            \n",
    "        if (label + \"/\" + file) in validation_list: \n",
    "            val_labels.append(label)\n",
    "            val_specgrams.append(specgram(samples, SAMPLING_RATE))\n",
    "        elif (label + \"/\" + file) in testing_list: \n",
    "            test_labels.append(label)\n",
    "            test_specgrams.append(specgram(samples, SAMPLING_RATE))\n",
    "        else:\n",
    "            train_labels.append(label)\n",
    "            train_specgrams.append(specgram(samples, SAMPLING_RATE))"
   ]
  },
  {
   "cell_type": "markdown",
   "id": "f7aff870",
   "metadata": {},
   "source": [
    "### <span style='font-family:Georgia'> 1.5. Data labeling"
   ]
  },
  {
   "cell_type": "markdown",
   "id": "5f68893e",
   "metadata": {},
   "source": [
    "### <span style='font-family:Georgia'> 1.5.1. Approach 1 - taking `background_noise` observations as separate `silence` class"
   ]
  },
  {
   "cell_type": "code",
   "execution_count": 17,
   "id": "e0360d3b",
   "metadata": {},
   "outputs": [],
   "source": [
    "# Split noise into 3 disjoint subsets (train, valid & test sets)\n",
    "N = 64721\n",
    "valid_ratio = np.round(len(validation_list)/N, 2)\n",
    "test_ratio = np.round(len(testing_list)/N, 2)\n",
    "train_ratio = 1 - (valid_ratio+test_ratio)\n",
    "\n",
    "sets_list = [\"train\", \"val\", \"test\"]\n",
    "obs_split = np.array(random.choices(sets_list, weights=(train_ratio, valid_ratio, test_ratio), k=N))\n",
    "train_mask, val_mask, test_mask = obs_split == \"train\", obs_split == \"val\", obs_split == \"test\""
   ]
  },
  {
   "cell_type": "code",
   "execution_count": 18,
   "id": "b3001513",
   "metadata": {},
   "outputs": [
    {
     "name": "stdout",
     "output_type": "stream",
     "text": [
      "Number of observations assigned to train set: 303\n",
      "Number of observations assigned to validation set: 48\n",
      "Number of observations assigned to test set: 51\n"
     ]
    }
   ],
   "source": [
    "train_noise = list(compress(one_sec_background_noise_specgrams, train_mask))\n",
    "print(f'Number of observations assigned to train set: {len(train_noise)}')\n",
    "\n",
    "val_noise = list(compress(one_sec_background_noise_specgrams, val_mask))\n",
    "print(f'Number of observations assigned to validation set: {len(val_noise)}')\n",
    "\n",
    "test_noise = list(compress(one_sec_background_noise_specgrams, test_mask))\n",
    "print(f'Number of observations assigned to test set: {len(test_noise)}')"
   ]
  },
  {
   "cell_type": "code",
   "execution_count": 19,
   "id": "cc35b15d",
   "metadata": {},
   "outputs": [],
   "source": [
    "train_specgrams_1 = train_specgrams + train_noise\n",
    "train_labels_1 = train_labels + ['silence' for i in range(len(train_noise))]\n",
    "\n",
    "val_specgrams_1 = val_specgrams + val_noise\n",
    "val_labels_1 = val_labels + ['silence' for i in range(len(val_noise))]\n",
    "\n",
    "test_specgrams_1 = test_specgrams + test_noise\n",
    "test_labels_1 = test_labels + ['silence' for i in range(len(test_noise))]"
   ]
  },
  {
   "cell_type": "code",
   "execution_count": 20,
   "id": "74b75257",
   "metadata": {},
   "outputs": [
    {
     "name": "stdout",
     "output_type": "stream",
     "text": [
      "(51391, 99, 161)\n",
      "(6846, 99, 161)\n",
      "(6886, 99, 161)\n"
     ]
    }
   ],
   "source": [
    "x_train_1 = np.array(train_specgrams_1)\n",
    "print(x_train_1.shape)\n",
    "\n",
    "x_val_1 = np.array(val_specgrams_1)\n",
    "print(x_val_1.shape)\n",
    "\n",
    "x_test_1 = np.array(test_specgrams_1)\n",
    "print(x_test_1.shape)"
   ]
  },
  {
   "cell_type": "code",
   "execution_count": 21,
   "id": "86b225be",
   "metadata": {},
   "outputs": [
    {
     "name": "stdout",
     "output_type": "stream",
     "text": [
      "['down' 'go' 'left' 'no' 'off' 'on' 'right' 'silence' 'stop' 'unknown'\n",
      " 'up' 'yes']\n",
      "['down' 'go' 'left' 'no' 'off' 'on' 'right' 'silence' 'stop' 'unknown'\n",
      " 'up' 'yes']\n",
      "['down' 'go' 'left' 'no' 'off' 'on' 'right' 'silence' 'stop' 'unknown'\n",
      " 'up' 'yes']\n"
     ]
    }
   ],
   "source": [
    "classes=CLASSES+['silence']\n",
    "\n",
    "y_train_1 = assign_unknown_label(train_labels_1, classes=classes)\n",
    "print(np.unique(y_train_1))\n",
    "\n",
    "y_val_1 = assign_unknown_label(val_labels_1, classes=classes)\n",
    "print(np.unique(y_val_1))\n",
    "\n",
    "y_test_1 = assign_unknown_label(test_labels_1, classes=classes)\n",
    "print(np.unique(y_test_1))"
   ]
  },
  {
   "cell_type": "code",
   "execution_count": 22,
   "id": "fe4f9ab0",
   "metadata": {},
   "outputs": [
    {
     "data": {
      "text/plain": [
       "7311"
      ]
     },
     "execution_count": 22,
     "metadata": {},
     "output_type": "execute_result"
    }
   ],
   "source": [
    "del train_specgrams_1, val_specgrams_1, test_specgrams_1\n",
    "del train_labels_1, val_labels_1, test_labels_1\n",
    "gc.collect()"
   ]
  },
  {
   "cell_type": "code",
   "execution_count": 23,
   "id": "049945e8",
   "metadata": {},
   "outputs": [],
   "source": [
    "# Labels encoding\n",
    "y_train_1 = np.array(encode_labels(y_train_1).values)\n",
    "y_val_1 = np.array(encode_labels(y_val_1).values)\n",
    "y_test_1 = np.array(encode_labels(y_test_1).values)"
   ]
  },
  {
   "cell_type": "markdown",
   "id": "51d9b35e",
   "metadata": {},
   "source": [
    "### <span style='font-family:Georgia'> 1.5.2. Approach 2 - noising the training subset(s) with the 'background_noise' class observations"
   ]
  },
  {
   "cell_type": "code",
   "execution_count": 25,
   "id": "c65e38ee",
   "metadata": {},
   "outputs": [
    {
     "data": {
      "text/html": [
       "<div>\n",
       "<style scoped>\n",
       "    .dataframe tbody tr th:only-of-type {\n",
       "        vertical-align: middle;\n",
       "    }\n",
       "\n",
       "    .dataframe tbody tr th {\n",
       "        vertical-align: top;\n",
       "    }\n",
       "\n",
       "    .dataframe thead th {\n",
       "        text-align: right;\n",
       "    }\n",
       "</style>\n",
       "<table border=\"1\" class=\"dataframe\">\n",
       "  <thead>\n",
       "    <tr style=\"text-align: right;\">\n",
       "      <th></th>\n",
       "      <th>obs_cnt</th>\n",
       "      <th>noise_cnt</th>\n",
       "      <th>noise_ratio</th>\n",
       "    </tr>\n",
       "  </thead>\n",
       "  <tbody>\n",
       "    <tr>\n",
       "      <th>one</th>\n",
       "      <td>1892</td>\n",
       "      <td>204</td>\n",
       "      <td>0.107822</td>\n",
       "    </tr>\n",
       "    <tr>\n",
       "      <th>stop</th>\n",
       "      <td>1885</td>\n",
       "      <td>185</td>\n",
       "      <td>0.098143</td>\n",
       "    </tr>\n",
       "    <tr>\n",
       "      <th>nine</th>\n",
       "      <td>1875</td>\n",
       "      <td>170</td>\n",
       "      <td>0.090667</td>\n",
       "    </tr>\n",
       "    <tr>\n",
       "      <th>seven</th>\n",
       "      <td>1875</td>\n",
       "      <td>173</td>\n",
       "      <td>0.092267</td>\n",
       "    </tr>\n",
       "    <tr>\n",
       "      <th>two</th>\n",
       "      <td>1873</td>\n",
       "      <td>167</td>\n",
       "      <td>0.089162</td>\n",
       "    </tr>\n",
       "    <tr>\n",
       "      <th>zero</th>\n",
       "      <td>1866</td>\n",
       "      <td>166</td>\n",
       "      <td>0.088960</td>\n",
       "    </tr>\n",
       "    <tr>\n",
       "      <th>on</th>\n",
       "      <td>1864</td>\n",
       "      <td>183</td>\n",
       "      <td>0.098176</td>\n",
       "    </tr>\n",
       "    <tr>\n",
       "      <th>six</th>\n",
       "      <td>1863</td>\n",
       "      <td>181</td>\n",
       "      <td>0.097155</td>\n",
       "    </tr>\n",
       "    <tr>\n",
       "      <th>go</th>\n",
       "      <td>1861</td>\n",
       "      <td>163</td>\n",
       "      <td>0.087587</td>\n",
       "    </tr>\n",
       "    <tr>\n",
       "      <th>yes</th>\n",
       "      <td>1860</td>\n",
       "      <td>191</td>\n",
       "      <td>0.102688</td>\n",
       "    </tr>\n",
       "    <tr>\n",
       "      <th>no</th>\n",
       "      <td>1853</td>\n",
       "      <td>177</td>\n",
       "      <td>0.095521</td>\n",
       "    </tr>\n",
       "    <tr>\n",
       "      <th>eight</th>\n",
       "      <td>1852</td>\n",
       "      <td>180</td>\n",
       "      <td>0.097192</td>\n",
       "    </tr>\n",
       "    <tr>\n",
       "      <th>right</th>\n",
       "      <td>1852</td>\n",
       "      <td>201</td>\n",
       "      <td>0.108531</td>\n",
       "    </tr>\n",
       "    <tr>\n",
       "      <th>five</th>\n",
       "      <td>1844</td>\n",
       "      <td>183</td>\n",
       "      <td>0.099241</td>\n",
       "    </tr>\n",
       "    <tr>\n",
       "      <th>up</th>\n",
       "      <td>1843</td>\n",
       "      <td>175</td>\n",
       "      <td>0.094954</td>\n",
       "    </tr>\n",
       "    <tr>\n",
       "      <th>down</th>\n",
       "      <td>1842</td>\n",
       "      <td>189</td>\n",
       "      <td>0.102606</td>\n",
       "    </tr>\n",
       "    <tr>\n",
       "      <th>three</th>\n",
       "      <td>1841</td>\n",
       "      <td>173</td>\n",
       "      <td>0.093971</td>\n",
       "    </tr>\n",
       "    <tr>\n",
       "      <th>off</th>\n",
       "      <td>1839</td>\n",
       "      <td>207</td>\n",
       "      <td>0.112561</td>\n",
       "    </tr>\n",
       "    <tr>\n",
       "      <th>left</th>\n",
       "      <td>1839</td>\n",
       "      <td>174</td>\n",
       "      <td>0.094617</td>\n",
       "    </tr>\n",
       "    <tr>\n",
       "      <th>four</th>\n",
       "      <td>1839</td>\n",
       "      <td>213</td>\n",
       "      <td>0.115824</td>\n",
       "    </tr>\n",
       "    <tr>\n",
       "      <th>house</th>\n",
       "      <td>1427</td>\n",
       "      <td>127</td>\n",
       "      <td>0.088998</td>\n",
       "    </tr>\n",
       "    <tr>\n",
       "      <th>marvin</th>\n",
       "      <td>1424</td>\n",
       "      <td>149</td>\n",
       "      <td>0.104635</td>\n",
       "    </tr>\n",
       "    <tr>\n",
       "      <th>wow</th>\n",
       "      <td>1414</td>\n",
       "      <td>138</td>\n",
       "      <td>0.097595</td>\n",
       "    </tr>\n",
       "    <tr>\n",
       "      <th>bird</th>\n",
       "      <td>1411</td>\n",
       "      <td>154</td>\n",
       "      <td>0.109142</td>\n",
       "    </tr>\n",
       "    <tr>\n",
       "      <th>cat</th>\n",
       "      <td>1399</td>\n",
       "      <td>150</td>\n",
       "      <td>0.107219</td>\n",
       "    </tr>\n",
       "    <tr>\n",
       "      <th>dog</th>\n",
       "      <td>1396</td>\n",
       "      <td>140</td>\n",
       "      <td>0.100287</td>\n",
       "    </tr>\n",
       "    <tr>\n",
       "      <th>tree</th>\n",
       "      <td>1374</td>\n",
       "      <td>158</td>\n",
       "      <td>0.114993</td>\n",
       "    </tr>\n",
       "    <tr>\n",
       "      <th>happy</th>\n",
       "      <td>1373</td>\n",
       "      <td>133</td>\n",
       "      <td>0.096868</td>\n",
       "    </tr>\n",
       "    <tr>\n",
       "      <th>sheila</th>\n",
       "      <td>1372</td>\n",
       "      <td>153</td>\n",
       "      <td>0.111516</td>\n",
       "    </tr>\n",
       "    <tr>\n",
       "      <th>bed</th>\n",
       "      <td>1340</td>\n",
       "      <td>151</td>\n",
       "      <td>0.112687</td>\n",
       "    </tr>\n",
       "  </tbody>\n",
       "</table>\n",
       "</div>"
      ],
      "text/plain": [
       "        obs_cnt  noise_cnt  noise_ratio\n",
       "one        1892        204     0.107822\n",
       "stop       1885        185     0.098143\n",
       "nine       1875        170     0.090667\n",
       "seven      1875        173     0.092267\n",
       "two        1873        167     0.089162\n",
       "zero       1866        166     0.088960\n",
       "on         1864        183     0.098176\n",
       "six        1863        181     0.097155\n",
       "go         1861        163     0.087587\n",
       "yes        1860        191     0.102688\n",
       "no         1853        177     0.095521\n",
       "eight      1852        180     0.097192\n",
       "right      1852        201     0.108531\n",
       "five       1844        183     0.099241\n",
       "up         1843        175     0.094954\n",
       "down       1842        189     0.102606\n",
       "three      1841        173     0.093971\n",
       "off        1839        207     0.112561\n",
       "left       1839        174     0.094617\n",
       "four       1839        213     0.115824\n",
       "house      1427        127     0.088998\n",
       "marvin     1424        149     0.104635\n",
       "wow        1414        138     0.097595\n",
       "bird       1411        154     0.109142\n",
       "cat        1399        150     0.107219\n",
       "dog        1396        140     0.100287\n",
       "tree       1374        158     0.114993\n",
       "happy      1373        133     0.096868\n",
       "sheila     1372        153     0.111516\n",
       "bed        1340        151     0.112687"
      ]
     },
     "execution_count": 25,
     "metadata": {},
     "output_type": "execute_result"
    }
   ],
   "source": [
    "train_labels_summary = pd.Series(train_labels).value_counts()\n",
    "n = math.floor(NOISE_RATIO*train_labels_summary.sum())\n",
    "noised_labels = random.choices(train_labels, k=n)\n",
    "\n",
    "summary = pd.DataFrame(train_labels_summary, columns=[\"obs_cnt\"])\n",
    "summary[\"noise_cnt\"] = pd.Series(noised_labels).value_counts()\n",
    "summary[\"noise_ratio\"] = summary[\"noise_cnt\"] / summary[\"obs_cnt\"]\n",
    "summary"
   ]
  },
  {
   "cell_type": "code",
   "execution_count": 26,
   "id": "5f332f62",
   "metadata": {},
   "outputs": [],
   "source": [
    "train_specgrams_2 = train_specgrams + random.choices(one_sec_background_noise_specgrams, k=n)\n",
    "train_labels_2 = train_labels + noised_labels"
   ]
  },
  {
   "cell_type": "code",
   "execution_count": 27,
   "id": "a7103c35",
   "metadata": {},
   "outputs": [
    {
     "name": "stdout",
     "output_type": "stream",
     "text": [
      "(56196, 99, 161)\n"
     ]
    }
   ],
   "source": [
    "x_train_2 = np.array(train_specgrams_2)\n",
    "print(x_train_2.shape)"
   ]
  },
  {
   "cell_type": "code",
   "execution_count": 28,
   "id": "4886cc16",
   "metadata": {},
   "outputs": [
    {
     "name": "stdout",
     "output_type": "stream",
     "text": [
      "['down' 'go' 'left' 'no' 'off' 'on' 'right' 'stop' 'unknown' 'up' 'yes']\n"
     ]
    }
   ],
   "source": [
    "y_train_2 = assign_unknown_label(train_labels_2)\n",
    "print(np.unique(y_train_2))"
   ]
  },
  {
   "cell_type": "code",
   "execution_count": 29,
   "id": "0b01e322",
   "metadata": {},
   "outputs": [],
   "source": [
    "# Labels encoding\n",
    "y_train_2 = np.array(encode_labels(y_train_2).values)"
   ]
  },
  {
   "cell_type": "code",
   "execution_count": 30,
   "id": "a5ae8de7",
   "metadata": {},
   "outputs": [
    {
     "data": {
      "text/plain": [
       "0"
      ]
     },
     "execution_count": 30,
     "metadata": {},
     "output_type": "execute_result"
    }
   ],
   "source": [
    "del train_specgrams_2, train_labels_2\n",
    "del train_specgrams, val_specgrams, test_specgrams\n",
    "del train_labels, val_labels, test_labels\n",
    "\n",
    "gc.collect()"
   ]
  },
  {
   "cell_type": "markdown",
   "id": "1305a760",
   "metadata": {},
   "source": [
    "# <span style='font-family:Georgia'> 2. Modeling"
   ]
  },
  {
   "cell_type": "markdown",
   "id": "b5e38ef0",
   "metadata": {},
   "source": [
    "## <span style='font-family:Georgia'> 2.1. Approach 1 - taking `background_noise` observations as separate `silence` class"
   ]
  },
  {
   "cell_type": "code",
   "execution_count": 31,
   "id": "7aee6d2b",
   "metadata": {},
   "outputs": [],
   "source": [
    "x_train, x_val, x_test = x_train_1, x_val_1, x_test_1\n",
    "y_train, y_val, y_test = y_train_1, y_val_1, y_test_1"
   ]
  },
  {
   "cell_type": "code",
   "execution_count": 32,
   "id": "d92ba142",
   "metadata": {},
   "outputs": [],
   "source": [
    "# hyperparameters set-up\n",
    "INPUT_DIM = (x_train.shape[1], x_train.shape[2])\n",
    "OUTPUT_DIM = y_train.shape[1]\n",
    "\n",
    "OPT = Adam(learning_rate=LR, clipnorm=1.0)\n",
    "early_stop = EarlyStopping(monitor='val_accuracy', patience=PATIENCE, min_delta=MIN_DELTA)"
   ]
  },
  {
   "cell_type": "markdown",
   "id": "b5fcce09",
   "metadata": {},
   "source": [
    "### <span style='font-family:Georgia'> 2.1.1 SimpleRNN"
   ]
  },
  {
   "cell_type": "code",
   "execution_count": 33,
   "id": "d4674891",
   "metadata": {},
   "outputs": [
    {
     "name": "stdout",
     "output_type": "stream",
     "text": [
      "Model: \"SimpleRNN\"\n",
      "_________________________________________________________________\n",
      " Layer (type)                Output Shape              Param #   \n",
      "=================================================================\n",
      " input (InputLayer)          [(None, 99, 161)]         0         \n",
      "                                                                 \n",
      " conv1d (Conv1D)             (None, 23, 256)           412416    \n",
      "                                                                 \n",
      " b_norm (BatchNormalization)  (None, 23, 256)          1024      \n",
      "                                                                 \n",
      " activation (Activation)     (None, 23, 256)           0         \n",
      "                                                                 \n",
      " dropout_1 (Dropout)         (None, 23, 256)           0         \n",
      "                                                                 \n",
      " rnn_1 (SimpleRNN)           (None, 23, 128)           49280     \n",
      "                                                                 \n",
      " rnn_2 (SimpleRNN)           (None, 128)               32896     \n",
      "                                                                 \n",
      " dense (Dense)               (None, 64)                8256      \n",
      "                                                                 \n",
      " dropout_2 (Dropout)         (None, 64)                0         \n",
      "                                                                 \n",
      " softmax (Dense)             (None, 12)                780       \n",
      "                                                                 \n",
      "=================================================================\n",
      "Total params: 504,652\n",
      "Trainable params: 504,140\n",
      "Non-trainable params: 512\n",
      "_________________________________________________________________\n"
     ]
    }
   ],
   "source": [
    "model_simple = rnn_network(INPUT_DIM, OUTPUT_DIM, SimpleRNN)\n",
    "model_simple.summary()"
   ]
  },
  {
   "cell_type": "code",
   "execution_count": 34,
   "id": "02ecf468",
   "metadata": {},
   "outputs": [],
   "source": [
    "K.clear_session()"
   ]
  },
  {
   "cell_type": "code",
   "execution_count": null,
   "id": "cf589597",
   "metadata": {
    "scrolled": false
   },
   "outputs": [
    {
     "name": "stdout",
     "output_type": "stream",
     "text": [
      "Epoch 1/30\n",
      "402/402 [==============================] - 127s 309ms/step - loss: 1.5325 - accuracy: 0.6121 - val_loss: 1.3154 - val_accuracy: 0.6189\n",
      "Epoch 2/30\n",
      "402/402 [==============================] - 94s 234ms/step - loss: 1.3039 - accuracy: 0.6306 - val_loss: 1.2370 - val_accuracy: 0.6259\n",
      "Epoch 3/30\n",
      "402/402 [==============================] - 94s 234ms/step - loss: 1.1728 - accuracy: 0.6390 - val_loss: 1.0372 - val_accuracy: 0.6573\n",
      "Epoch 4/30\n",
      "402/402 [==============================] - 95s 237ms/step - loss: 1.0114 - accuracy: 0.6756 - val_loss: 0.7922 - val_accuracy: 0.7489\n",
      "Epoch 5/30\n",
      "402/402 [==============================] - 95s 236ms/step - loss: 0.8270 - accuracy: 0.7361 - val_loss: 0.6946 - val_accuracy: 0.7615\n",
      "Epoch 6/30\n",
      "402/402 [==============================] - 100s 248ms/step - loss: 0.7010 - accuracy: 0.7743 - val_loss: 0.5919 - val_accuracy: 0.8013\n",
      "Epoch 7/30\n",
      "402/402 [==============================] - 99s 245ms/step - loss: 0.6203 - accuracy: 0.7998 - val_loss: 0.5160 - val_accuracy: 0.8330\n",
      "Epoch 8/30\n",
      "402/402 [==============================] - 91s 227ms/step - loss: 0.5528 - accuracy: 0.8214 - val_loss: 0.4964 - val_accuracy: 0.8393\n",
      "Epoch 9/30\n",
      "402/402 [==============================] - 89s 222ms/step - loss: 0.4977 - accuracy: 0.8420 - val_loss: 0.4325 - val_accuracy: 0.8647\n",
      "Epoch 10/30\n",
      "402/402 [==============================] - 103s 255ms/step - loss: 0.4518 - accuracy: 0.8600 - val_loss: 0.4133 - val_accuracy: 0.8706\n",
      "Epoch 11/30\n",
      "402/402 [==============================] - 92s 229ms/step - loss: 0.4170 - accuracy: 0.8732 - val_loss: 0.3798 - val_accuracy: 0.8823\n",
      "Epoch 12/30\n",
      "402/402 [==============================] - 93s 231ms/step - loss: 0.3881 - accuracy: 0.8825 - val_loss: 0.3907 - val_accuracy: 0.8799\n",
      "Epoch 13/30\n",
      "402/402 [==============================] - 119s 297ms/step - loss: 0.3589 - accuracy: 0.8932 - val_loss: 0.3519 - val_accuracy: 0.8951\n",
      "Epoch 14/30\n",
      " 83/402 [=====>........................] - ETA: 1:21 - loss: 0.3403 - accuracy: 0.8973"
     ]
    }
   ],
   "source": [
    "history_simple = model_simple.fit(x_train, y_train,\n",
    "                                  batch_size=BATCH_SIZE, epochs=EPOCHS, verbose=1,\n",
    "                                  validation_data=(x_val, y_val),\n",
    "                                  callbacks=[early_stop]\n",
    "                       )"
   ]
  },
  {
   "cell_type": "code",
   "execution_count": null,
   "id": "a06dc500",
   "metadata": {},
   "outputs": [],
   "source": [
    "plot_model_history(history_simple, 'SimpleRNN')"
   ]
  },
  {
   "cell_type": "markdown",
   "id": "162180a5",
   "metadata": {},
   "source": [
    "### <span style='font-family:Georgia'> 2.1.2. LSTM"
   ]
  },
  {
   "cell_type": "code",
   "execution_count": null,
   "id": "44b8a3b1",
   "metadata": {},
   "outputs": [],
   "source": [
    "model_lstm = rnn_network(INPUT_DIM, OUTPUT_DIM, LSTM)\n",
    "model_lstm.summary()"
   ]
  },
  {
   "cell_type": "code",
   "execution_count": null,
   "id": "e314263b",
   "metadata": {},
   "outputs": [],
   "source": [
    "K.clear_session()"
   ]
  },
  {
   "cell_type": "code",
   "execution_count": null,
   "id": "5e81aa84",
   "metadata": {
    "scrolled": true
   },
   "outputs": [],
   "source": [
    "history_lstm = model_lstm.fit(x_train, y_train,\n",
    "                              batch_size=BATCH_SIZE, epochs=EPOCHS, verbose=1,\n",
    "                              validation_data=(x_val, y_val),\n",
    "                              callbacks=[early_stop]\n",
    "                       )"
   ]
  },
  {
   "cell_type": "code",
   "execution_count": null,
   "id": "ba7e2a9f",
   "metadata": {},
   "outputs": [],
   "source": [
    "plot_model_history(history_lstm, 'LSTM')"
   ]
  },
  {
   "cell_type": "markdown",
   "id": "ef14c03d",
   "metadata": {},
   "source": [
    "### <span style='font-family:Georgia'> 2.1.3. GRU"
   ]
  },
  {
   "cell_type": "code",
   "execution_count": null,
   "id": "ce97a452",
   "metadata": {},
   "outputs": [],
   "source": [
    "model_gru = rnn_network(INPUT_DIM, OUTPUT_DIM, GRU)\n",
    "model_gru.summary()"
   ]
  },
  {
   "cell_type": "code",
   "execution_count": null,
   "id": "4ce9d461",
   "metadata": {},
   "outputs": [],
   "source": [
    "K.clear_session()"
   ]
  },
  {
   "cell_type": "code",
   "execution_count": null,
   "id": "01c88adc",
   "metadata": {
    "scrolled": true
   },
   "outputs": [],
   "source": [
    "history_gru = model_gru.fit(x_train, y_train,\n",
    "                            batch_size=BATCH_SIZE, epochs=EPOCHS, verbose=1,\n",
    "                            validation_data=(x_val, y_val),\n",
    "                            callbacks=[early_stop]\n",
    "                       )"
   ]
  },
  {
   "cell_type": "code",
   "execution_count": null,
   "id": "a55233f4",
   "metadata": {},
   "outputs": [],
   "source": [
    "plot_model_history(history_gru, 'GRU')"
   ]
  },
  {
   "cell_type": "markdown",
   "id": "1da26556",
   "metadata": {},
   "source": [
    "### <span style='font-family:Georgia'> 2.1.4. Evaluation"
   ]
  },
  {
   "cell_type": "code",
   "execution_count": null,
   "id": "cd2f569f",
   "metadata": {},
   "outputs": [],
   "source": [
    "y_pred_test_1 = model_simple.predict(x_test)\n",
    "y_pred_test_classes_1 = np.argmax(y_pred_test_1, axis=-1)\n",
    "\n",
    "y_pred_test_2 = model_lstm.predict(x_test)\n",
    "y_pred_test_classes_2 = np.argmax(y_pred_test_2, axis=-1)\n",
    "\n",
    "y_pred_test_3 = model_gru.predict(x_test)\n",
    "y_pred_test_classes_3 = np.argmax(y_pred_test_3, axis=-1)"
   ]
  },
  {
   "cell_type": "code",
   "execution_count": null,
   "id": "b80e44f1",
   "metadata": {},
   "outputs": [],
   "source": [
    "models_results = [pd.DataFrame(confusion_matrix(np.argmax(y_test, axis=-1), y_pred_test_classes_1)),\n",
    "                  pd.DataFrame(confusion_matrix(np.argmax(y_test, axis=-1), y_pred_test_classes_2)),\n",
    "                  pd.DataFrame(confusion_matrix(np.argmax(y_test, axis=-1), y_pred_test_classes_3))]\n",
    "plot_heatmaps(models_results)"
   ]
  },
  {
   "cell_type": "code",
   "execution_count": null,
   "id": "c0ca6de2",
   "metadata": {},
   "outputs": [],
   "source": [
    "plt.hist(np.argmax(y_test, axis=-1))"
   ]
  },
  {
   "cell_type": "markdown",
   "id": "7c1c0e48",
   "metadata": {},
   "source": [
    "## <span style='font-family:Georgia'> 2.2. Approach 2 - noising the training subset(s) with the 'background_noise' class observations"
   ]
  },
  {
   "cell_type": "code",
   "execution_count": null,
   "id": "e7caf18c",
   "metadata": {},
   "outputs": [],
   "source": [
    "x_train, x_val, x_test = x_train_2, x_val_1, x_test_1\n",
    "y_train, y_val, y_test = y_train_2, y_val_1, y_test_1"
   ]
  },
  {
   "cell_type": "code",
   "execution_count": null,
   "id": "82b5b0a1",
   "metadata": {},
   "outputs": [],
   "source": [
    "# hyperparameters set-up\n",
    "INPUT_DIM = (x_train.shape[1], x_train.shape[2])\n",
    "OUTPUT_DIM = y_train.shape[1]\n",
    "\n",
    "early_stop = EarlyStopping(monitor='val_accuracy', patience=PATIENCE, min_delta=MIN_DELTA)\n",
    "OPT = Adam(learning_rate=LR, clipnorm=1.0)"
   ]
  },
  {
   "cell_type": "markdown",
   "id": "bc949751",
   "metadata": {},
   "source": [
    "### <span style='font-family:Georgia'> 2.2.1. SimpleRNN"
   ]
  },
  {
   "cell_type": "code",
   "execution_count": null,
   "id": "e7838754",
   "metadata": {},
   "outputs": [],
   "source": [
    "model_simple = rnn_network(INPUT_DIM, OUTPUT_DIM, SimpleRNN)\n",
    "model_simple.summary()"
   ]
  },
  {
   "cell_type": "code",
   "execution_count": null,
   "id": "fce21324",
   "metadata": {},
   "outputs": [],
   "source": [
    "K.clear_session()"
   ]
  },
  {
   "cell_type": "code",
   "execution_count": null,
   "id": "0377d3cd",
   "metadata": {
    "scrolled": true
   },
   "outputs": [],
   "source": [
    "history_simple = model_simple.fit(x_train, y_train,\n",
    "                                  batch_size=BATCH_SIZE, epochs=EPOCHS, verbose=1,\n",
    "                                  validation_data=(x_val, y_val),\n",
    "                                  callbacks=[early_stop]\n",
    "                       )"
   ]
  },
  {
   "cell_type": "code",
   "execution_count": null,
   "id": "e39615a5",
   "metadata": {},
   "outputs": [],
   "source": [
    "plot_model_history(history_simple, 'SimpleRNN')"
   ]
  },
  {
   "cell_type": "markdown",
   "id": "0ee29e56",
   "metadata": {},
   "source": [
    "### <span style='font-family:Georgia'> 2.2.2. LSTM"
   ]
  },
  {
   "cell_type": "code",
   "execution_count": null,
   "id": "a2669382",
   "metadata": {},
   "outputs": [],
   "source": [
    "model_lstm = rnn_network(INPUT_DIM, OUTPUT_DIM, LSTM)\n",
    "model_lstm.summary()"
   ]
  },
  {
   "cell_type": "code",
   "execution_count": null,
   "id": "cb07346b",
   "metadata": {},
   "outputs": [],
   "source": [
    "K.clear_session()"
   ]
  },
  {
   "cell_type": "code",
   "execution_count": null,
   "id": "282a908b",
   "metadata": {
    "scrolled": true
   },
   "outputs": [],
   "source": [
    "history_lstm = model_lstm.fit(x_train, y_train,\n",
    "                              batch_size=BATCH_SIZE, epochs=EPOCHS, verbose=1,\n",
    "                              validation_data=(x_val, y_val),\n",
    "                              callbacks=[early_stop]\n",
    "                       )"
   ]
  },
  {
   "cell_type": "code",
   "execution_count": null,
   "id": "2dccc8b4",
   "metadata": {},
   "outputs": [],
   "source": [
    "plot_model_history(history_lstm, 'LSTM')"
   ]
  },
  {
   "cell_type": "markdown",
   "id": "1915f75d",
   "metadata": {},
   "source": [
    "### <span style='font-family:Georgia'> 2.2.3. GRU"
   ]
  },
  {
   "cell_type": "code",
   "execution_count": null,
   "id": "042ba7df",
   "metadata": {},
   "outputs": [],
   "source": [
    "model_gru = rnn_network(INPUT_DIM, OUTPUT_DIM, GRU)\n",
    "model_gru.summary()"
   ]
  },
  {
   "cell_type": "code",
   "execution_count": null,
   "id": "2df24cdb",
   "metadata": {},
   "outputs": [],
   "source": [
    "K.clear_session()"
   ]
  },
  {
   "cell_type": "code",
   "execution_count": null,
   "id": "cf34dc1e",
   "metadata": {
    "scrolled": true
   },
   "outputs": [],
   "source": [
    "history_gru = model_gru.fit(x_train, y_train,\n",
    "                            batch_size=BATCH_SIZE, epochs=EPOCHS, verbose=1,\n",
    "                            validation_data=(x_val, y_val),\n",
    "                            callbacks=[early_stop]\n",
    "                       )"
   ]
  },
  {
   "cell_type": "code",
   "execution_count": null,
   "id": "495c1a62",
   "metadata": {},
   "outputs": [],
   "source": [
    "plot_model_history(history_gru, 'GRU')"
   ]
  },
  {
   "cell_type": "markdown",
   "id": "07d2dac3",
   "metadata": {},
   "source": [
    "### <span style='font-family:Georgia'> 2.2.4. Evaluation"
   ]
  },
  {
   "cell_type": "code",
   "execution_count": null,
   "id": "d07ed65d",
   "metadata": {},
   "outputs": [],
   "source": [
    "y_pred_test_1 = model_simple.predict(x_test)\n",
    "y_pred_test_classes_1 = np.argmax(y_pred_test_1, axis=-1)\n",
    "\n",
    "y_pred_test_2 = model_lstm.predict(x_test)\n",
    "y_pred_test_classes_2 = np.argmax(y_pred_test_2, axis=-1)\n",
    "\n",
    "y_pred_test_3 = model_gru.predict(x_test)\n",
    "y_pred_test_classes_3 = np.argmax(y_pred_test_3, axis=-1)"
   ]
  },
  {
   "cell_type": "code",
   "execution_count": null,
   "id": "9aace5a7",
   "metadata": {},
   "outputs": [],
   "source": [
    "models_results = [pd.DataFrame(confusion_matrix(np.argmax(y_test, axis=-1), y_pred_test_classes_1)),\n",
    "                  pd.DataFrame(confusion_matrix(np.argmax(y_test, axis=-1), y_pred_test_classes_2)),\n",
    "                  pd.DataFrame(confusion_matrix(np.argmax(y_test, axis=-1), y_pred_test_classes_3))]\n",
    "plot_heatmaps(models_results)"
   ]
  },
  {
   "cell_type": "code",
   "execution_count": null,
   "id": "1bee5956",
   "metadata": {},
   "outputs": [],
   "source": [
    "plt.hist(np.argmax(y_test, axis=-1))"
   ]
  },
  {
   "cell_type": "code",
   "execution_count": null,
   "id": "bd973670",
   "metadata": {},
   "outputs": [],
   "source": []
  },
  {
   "cell_type": "code",
   "execution_count": null,
   "id": "f3a26af0",
   "metadata": {},
   "outputs": [],
   "source": []
  }
 ],
 "metadata": {
  "kernelspec": {
   "display_name": "Python 3 (ipykernel)",
   "language": "python",
   "name": "python3"
  },
  "language_info": {
   "codemirror_mode": {
    "name": "ipython",
    "version": 3
   },
   "file_extension": ".py",
   "mimetype": "text/x-python",
   "name": "python",
   "nbconvert_exporter": "python",
   "pygments_lexer": "ipython3",
   "version": "3.9.7"
  }
 },
 "nbformat": 4,
 "nbformat_minor": 5
}
