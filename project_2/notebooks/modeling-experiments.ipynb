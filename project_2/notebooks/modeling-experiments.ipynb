{
 "cells": [
  {
   "cell_type": "code",
   "execution_count": 1,
   "id": "7bd903cc",
   "metadata": {
    "ExecuteTime": {
     "end_time": "2022-05-02T11:29:34.789909Z",
     "start_time": "2022-05-02T11:29:08.371164Z"
    }
   },
   "outputs": [],
   "source": [
    "import gc\n",
    "import os\n",
    "import re\n",
    "import math\n",
    "import random\n",
    "import numpy as np\n",
    "import pandas as pd\n",
    "from glob import glob\n",
    "from tqdm.notebook import tqdm as tqdm\n",
    "from itertools import compress\n",
    "\n",
    "import librosa\n",
    "from scipy.fftpack import fft\n",
    "from scipy.io import wavfile\n",
    "from scipy import signal\n",
    "from scipy.io import wavfile\n",
    "\n",
    "import keras\n",
    "from keras import optimizers, losses, activations, models\n",
    "from keras.layers import Dense, Input, Flatten, Dropout, BatchNormalization\n",
    "from tensorflow.keras import backend as K\n",
    "from tensorflow.keras.layers import Dense, SimpleRNN, LSTM, Bidirectional, Conv1D, GRU\n",
    "from tensorflow.keras.layers import Input, Dropout, BatchNormalization, Activation\n",
    "from tensorflow.keras.models import Model\n",
    "from tensorflow.keras.optimizers import Adam, SGD\n",
    "from tensorflow.keras.callbacks import EarlyStopping\n",
    "\n",
    "from sklearn.metrics import confusion_matrix\n",
    "from sklearn.metrics import accuracy_score\n",
    "\n",
    "import seaborn as sns\n",
    "import matplotlib.pyplot as plt\n",
    "\n",
    "import warnings\n",
    "\n",
    "random.seed(0)\n",
    "sns.set_style('whitegrid')\n",
    "plt.rcParams[\"figure.figsize\"] = 9,6\n",
    "warnings.filterwarnings('ignore')"
   ]
  },
  {
   "cell_type": "code",
   "execution_count": 2,
   "id": "d8c98eb1",
   "metadata": {
    "ExecuteTime": {
     "end_time": "2022-05-02T11:29:34.805824Z",
     "start_time": "2022-05-02T11:29:34.790758Z"
    }
   },
   "outputs": [],
   "source": [
    "# parameters settings\n",
    "data_path = '../../data/train/audio'\n",
    "labels = os.listdir(data_path)\n",
    "CLASSES = ['yes', 'no', 'up', 'down', 'left', 'right', 'on', 'off', 'stop', 'go'] \n",
    "SAMPLING_RATE = 16000\n",
    "NOISE_RATIO = 0.1"
   ]
  },
  {
   "cell_type": "code",
   "execution_count": 3,
   "id": "6f1846a6",
   "metadata": {
    "ExecuteTime": {
     "end_time": "2022-05-02T11:29:34.821584Z",
     "start_time": "2022-05-02T11:29:34.807787Z"
    }
   },
   "outputs": [],
   "source": [
    "def pad_audio(samples):\n",
    "    return np.pad(samples, pad_width=(SAMPLING_RATE - len(samples), 0), mode='constant', constant_values=(0, 0))\n",
    "\n",
    "\n",
    "def chop_audio(samples):\n",
    "    return samples[:SAMPLING_RATE]\n",
    "\n",
    "\n",
    "def split_audio(sample_rate, samples):\n",
    "    \"\"\" Splits audio file to multiple with (up to) fixed 1s length \"\"\"\n",
    "    duration = float(len(samples)/sample_rate)\n",
    "    n_samples = math.ceil(duration)\n",
    "    return np.array_split(samples, n_samples)"
   ]
  },
  {
   "cell_type": "code",
   "execution_count": 4,
   "id": "f417dec7",
   "metadata": {
    "ExecuteTime": {
     "end_time": "2022-05-02T11:29:34.828963Z",
     "start_time": "2022-05-02T11:29:34.823546Z"
    }
   },
   "outputs": [],
   "source": [
    "def assign_unknown_label(labels, classes=CLASSES):\n",
    "    new_labels = []\n",
    "    for label in labels:\n",
    "        if label not in classes:\n",
    "            new_labels.append('unknown')\n",
    "        else:\n",
    "            new_labels.append(label)\n",
    "    return new_labels\n",
    "\n",
    "def encode_labels(labels):\n",
    "    return pd.get_dummies(pd.Series(labels))"
   ]
  },
  {
   "cell_type": "code",
   "execution_count": 5,
   "id": "5733564b",
   "metadata": {
    "ExecuteTime": {
     "end_time": "2022-05-02T11:29:34.844826Z",
     "start_time": "2022-05-02T11:29:34.828963Z"
    }
   },
   "outputs": [],
   "source": [
    "def specgram(audio, sample_rate, window_size=20, step_size=10, eps=1e-10):\n",
    "    nperseg = int(round(window_size * sample_rate / 1e3))\n",
    "    noverlap = int(round(step_size * sample_rate / 1e3))\n",
    "    _, _, spec = signal.spectrogram(audio,\n",
    "                                    fs=sample_rate,\n",
    "                                    window='hann',\n",
    "                                    nperseg=nperseg,\n",
    "                                    noverlap=noverlap,\n",
    "                                    detrend=False)\n",
    "    return np.log(spec.T.astype(np.float32) + eps)\n",
    "\n",
    "\n",
    "def plot_model_history(history, title: str) -> None:\n",
    "    \"\"\"\n",
    "    Plotting the learning curve of Keras model, broken down into loss curve and accuracy curve, \n",
    "    for both training and validation data.\n",
    "\n",
    "    Args:\n",
    "        history : Object returned by the .fit method of Keras model.\n",
    "        title (str): Title of the plots.\n",
    "    \"\"\"\n",
    "    fig, axs = plt.subplots(1,2,figsize=(15,5)) \n",
    "\n",
    "    axs[0].plot(history.history['accuracy']) \n",
    "    axs[0].plot(history.history['val_accuracy']) \n",
    "    axs[0].set_title('Model Accuracy')\n",
    "    axs[0].set_ylabel('Accuracy') \n",
    "    axs[0].set_xlabel('Epoch')\n",
    "    axs[0].legend(['train', 'validate'], loc='upper left')\n",
    "\n",
    "    axs[1].plot(history.history['loss']) \n",
    "    axs[1].plot(history.history['val_loss']) \n",
    "    axs[1].set_title('Model Loss')\n",
    "    axs[1].set_ylabel('Loss') \n",
    "    axs[1].set_xlabel('Epoch')\n",
    "    axs[1].legend(['train', 'validate'], loc='upper left')\n",
    "    fig.suptitle(title, size=15)\n",
    "    plt.show()"
   ]
  },
  {
   "cell_type": "code",
   "execution_count": 6,
   "id": "b46539ed",
   "metadata": {
    "ExecuteTime": {
     "end_time": "2022-05-02T11:29:34.860792Z",
     "start_time": "2022-05-02T11:29:34.845596Z"
    }
   },
   "outputs": [],
   "source": [
    "def rnn_network(input_dim, output_dim, rnn_layer, optimizer):\n",
    "\n",
    "    input_data = Input(name='input', shape=input_dim, dtype='float32')\n",
    "\n",
    "    x = Conv1D(filters=256, kernel_size=10, strides=4, name='conv1d')(input_data)\n",
    "    x = BatchNormalization(name='b_norm')(x)\n",
    "    x = Activation('relu', name='activation')(x)\n",
    "    x = Dropout(DROPOUT, name='dropout_1')(x)\n",
    "    x = rnn_layer(128, activation='relu', return_sequences=True, dropout=DROPOUT, name='rnn_1')(x)\n",
    "    x = rnn_layer(128, activation='relu', return_sequences=False, dropout=DROPOUT, name='rnn_2')(x)\n",
    "    x = Dense(units=64, activation='relu', name='dense')(x)\n",
    "    x = Dropout(DROPOUT, name='dropout_2')(x)\n",
    "\n",
    "    output_data = Dense(units=output_dim, activation='softmax', name='softmax')(x)\n",
    "\n",
    "    model = Model(inputs=input_data, outputs=output_data, name=str(rnn_layer).split(\".\")[-1].split(\"'\")[0])\n",
    "    model.compile(loss='categorical_crossentropy', optimizer=optimizer, metrics=['accuracy'])\n",
    "\n",
    "    return model"
   ]
  },
  {
   "cell_type": "code",
   "execution_count": 7,
   "id": "a196fc1d",
   "metadata": {
    "ExecuteTime": {
     "end_time": "2022-05-02T11:29:34.876044Z",
     "start_time": "2022-05-02T11:29:34.861288Z"
    }
   },
   "outputs": [],
   "source": [
    "def plot_heatmaps(models_results: list, title: str) -> None:\n",
    "    \"\"\"\n",
    "    Plot heatmaps based on the confusion matrices of a given model (basic version and with 2 different augmentations).)\n",
    "\n",
    "    Args:\n",
    "        models_results (list): List of confusion matrices of the evaluated models.\n",
    "        title (str): Title of the plots.\n",
    "    \"\"\"\n",
    "    fig, axes = plt.subplots(1,3,figsize=(18,6))\n",
    "    models = ['SimpleRNN', 'LSTM', 'GRU']\n",
    "    for i in range(3):\n",
    "        sns.heatmap(models_results[i], center=0.5, annot=True,  linewidths=1, linecolor='black', ax=axes[i], annot_kws={\"size\": 12})\n",
    "        axes[i].set_title(models[i], size=15)\n",
    "        cax = plt.gcf().axes[-1]\n",
    "        cax.tick_params(labelsize=12)\n",
    "\n",
    "    fig.suptitle(title, size=18)\n",
    "    plt.tight_layout()\n",
    "    plt.show()\n",
    "    \n",
    "def plot_confusion_matr(models_results: list, title: str) -> None:\n",
    "    \"\"\"\n",
    "    Plot heatmaps based on the confusion matrices of a given model (basic version and with 2 different augmentations).)\n",
    "\n",
    "    Args:\n",
    "        models_results (list): List of confusion matrices of the evaluated models.\n",
    "        title (str): Title of the plots.\n",
    "    \"\"\"\n",
    "    fig, axes = plt.subplots(1,3,figsize=(18,6))\n",
    "    models = ['SimpleRNN', 'LSTM', 'GRU']\n",
    "    for i in range(3):\n",
    "        sns.heatmap(models_results[i], annot=True, cmap=\"Blues\", ax=axes[i], fmt='d', annot_kws={\"size\": 12})\n",
    "        axes[i].set_title(models[i], size=15)\n",
    "        axes[i].set_xticklabels(axes[i].get_xmajorticklabels(), fontsize = 12)\n",
    "        axes[i].set_yticklabels(axes[i].get_xmajorticklabels(), fontsize = 12)\n",
    "        cax = plt.gcf().axes[-1]\n",
    "        cax.tick_params(labelsize=12)\n",
    "\n",
    "    fig.suptitle(title, size=18)\n",
    "    plt.tight_layout()\n",
    "    plt.show()"
   ]
  },
  {
   "cell_type": "markdown",
   "id": "ed72d5e9",
   "metadata": {},
   "source": [
    "# <span style='font-family:Georgia'> 1. Data loading & preparation"
   ]
  },
  {
   "cell_type": "markdown",
   "id": "6eb3636c",
   "metadata": {},
   "source": [
    "## <span style='font-family:Georgia'> 1.1. Noisy data loading"
   ]
  },
  {
   "cell_type": "code",
   "execution_count": 8,
   "id": "9eb8c4e4",
   "metadata": {
    "ExecuteTime": {
     "end_time": "2022-05-02T11:29:35.528282Z",
     "start_time": "2022-05-02T11:29:34.877823Z"
    }
   },
   "outputs": [
    {
     "data": {
      "application/vnd.jupyter.widget-view+json": {
       "model_id": "b2ef8bba038441fa9c0f6f9059a7d62b",
       "version_major": 2,
       "version_minor": 0
      },
      "text/plain": [
       "  0%|          | 0/6 [00:00<?, ?it/s]"
      ]
     },
     "metadata": {},
     "output_type": "display_data"
    }
   ],
   "source": [
    "label = '_background_noise_'\n",
    "files = [f for f in os.listdir(data_path + '/'+ label) if f.endswith('.wav')]\n",
    "one_sec_background_noise_specgrams = []\n",
    "\n",
    "for file in tqdm(files):\n",
    "    _, samples = wavfile.read(data_path + \"/\" + label + \"/\" + file)\n",
    "    duration = float(len(samples)/SAMPLING_RATE)\n",
    "\n",
    "    # Do not distinguish between noise classes\n",
    "    one_sec_background_noise = split_audio(\n",
    "            sample_rate=SAMPLING_RATE, samples=samples\n",
    "        )\n",
    "    \n",
    "    for item in one_sec_background_noise:\n",
    "        duration = float(len(item)/SAMPLING_RATE)\n",
    "        if duration < 1: item = pad_audio(item)        \n",
    "        \n",
    "        one_sec_background_noise_specgrams.append(\n",
    "            specgram(item, SAMPLING_RATE)\n",
    "        )"
   ]
  },
  {
   "cell_type": "markdown",
   "id": "7b6aec04",
   "metadata": {},
   "source": [
    "## <span style='font-family:Georgia'> 1.2. Noise-free data loading"
   ]
  },
  {
   "cell_type": "code",
   "execution_count": 9,
   "id": "6ec2f8a3",
   "metadata": {
    "ExecuteTime": {
     "end_time": "2022-05-02T11:29:35.558332Z",
     "start_time": "2022-05-02T11:29:35.528282Z"
    }
   },
   "outputs": [],
   "source": [
    "validation_list = pd.read_csv('../../data/train/validation_list.txt', sep=\"\\t\", header=None)[0].tolist()\n",
    "testing_list = pd.read_csv('../../data/train/testing_list.txt', sep=\"\\t\", header=None)[0].tolist()"
   ]
  },
  {
   "cell_type": "code",
   "execution_count": 10,
   "id": "9c70ae40",
   "metadata": {
    "ExecuteTime": {
     "end_time": "2022-05-02T11:29:35.579090Z",
     "start_time": "2022-05-02T11:29:35.559049Z"
    }
   },
   "outputs": [
    {
     "name": "stdout",
     "output_type": "stream",
     "text": [
      "Training:  51088\n",
      "Validation:  6798\n",
      "Testing:  6835\n"
     ]
    }
   ],
   "source": [
    "print('Training: ', 64721 - len(validation_list) - len(testing_list))\n",
    "print('Validation: ', len(validation_list))\n",
    "print('Testing: ', len(testing_list))"
   ]
  },
  {
   "cell_type": "code",
   "execution_count": 11,
   "id": "006bce66",
   "metadata": {
    "ExecuteTime": {
     "end_time": "2022-05-02T12:00:31.510864Z",
     "start_time": "2022-05-02T11:29:35.580085Z"
    }
   },
   "outputs": [
    {
     "data": {
      "application/vnd.jupyter.widget-view+json": {
       "model_id": "52c0c4a280414f8ca5911073eb35df58",
       "version_major": 2,
       "version_minor": 0
      },
      "text/plain": [
       "  0%|          | 0/30 [00:00<?, ?it/s]"
      ]
     },
     "metadata": {},
     "output_type": "display_data"
    },
    {
     "data": {
      "application/vnd.jupyter.widget-view+json": {
       "model_id": "b4cd6b7601cb4851b54da525a64f3552",
       "version_major": 2,
       "version_minor": 0
      },
      "text/plain": [
       "  0%|          | 0/1713 [00:00<?, ?it/s]"
      ]
     },
     "metadata": {},
     "output_type": "display_data"
    },
    {
     "data": {
      "application/vnd.jupyter.widget-view+json": {
       "model_id": "25ddacba4a494a60a374137634055de2",
       "version_major": 2,
       "version_minor": 0
      },
      "text/plain": [
       "  0%|          | 0/1731 [00:00<?, ?it/s]"
      ]
     },
     "metadata": {},
     "output_type": "display_data"
    },
    {
     "data": {
      "application/vnd.jupyter.widget-view+json": {
       "model_id": "cb3a198f4e314e1f9a0e504ccd1e258e",
       "version_major": 2,
       "version_minor": 0
      },
      "text/plain": [
       "  0%|          | 0/1733 [00:00<?, ?it/s]"
      ]
     },
     "metadata": {},
     "output_type": "display_data"
    },
    {
     "data": {
      "application/vnd.jupyter.widget-view+json": {
       "model_id": "3786ff56fd634b9193610cc8d782b9ff",
       "version_major": 2,
       "version_minor": 0
      },
      "text/plain": [
       "  0%|          | 0/1746 [00:00<?, ?it/s]"
      ]
     },
     "metadata": {},
     "output_type": "display_data"
    },
    {
     "data": {
      "application/vnd.jupyter.widget-view+json": {
       "model_id": "58ba22189ee34c6aa667fed54193053f",
       "version_major": 2,
       "version_minor": 0
      },
      "text/plain": [
       "  0%|          | 0/2359 [00:00<?, ?it/s]"
      ]
     },
     "metadata": {},
     "output_type": "display_data"
    },
    {
     "data": {
      "application/vnd.jupyter.widget-view+json": {
       "model_id": "33770b7a910c4c7e8ac8be19d979574c",
       "version_major": 2,
       "version_minor": 0
      },
      "text/plain": [
       "  0%|          | 0/2352 [00:00<?, ?it/s]"
      ]
     },
     "metadata": {},
     "output_type": "display_data"
    },
    {
     "data": {
      "application/vnd.jupyter.widget-view+json": {
       "model_id": "ddbef81c440a4916952e005a189b7b5e",
       "version_major": 2,
       "version_minor": 0
      },
      "text/plain": [
       "  0%|          | 0/2357 [00:00<?, ?it/s]"
      ]
     },
     "metadata": {},
     "output_type": "display_data"
    },
    {
     "data": {
      "application/vnd.jupyter.widget-view+json": {
       "model_id": "b217dec600a646c08ff50ddbc41b4a19",
       "version_major": 2,
       "version_minor": 0
      },
      "text/plain": [
       "  0%|          | 0/2372 [00:00<?, ?it/s]"
      ]
     },
     "metadata": {},
     "output_type": "display_data"
    },
    {
     "data": {
      "application/vnd.jupyter.widget-view+json": {
       "model_id": "eb07691a8b284738a9d68bfe3a6c647e",
       "version_major": 2,
       "version_minor": 0
      },
      "text/plain": [
       "  0%|          | 0/2372 [00:00<?, ?it/s]"
      ]
     },
     "metadata": {},
     "output_type": "display_data"
    },
    {
     "data": {
      "application/vnd.jupyter.widget-view+json": {
       "model_id": "80eb251d106749d3858cac9e07b4b4d5",
       "version_major": 2,
       "version_minor": 0
      },
      "text/plain": [
       "  0%|          | 0/1742 [00:00<?, ?it/s]"
      ]
     },
     "metadata": {},
     "output_type": "display_data"
    },
    {
     "data": {
      "application/vnd.jupyter.widget-view+json": {
       "model_id": "d7482bb96dd3470f8dc5c6c0ec65cd40",
       "version_major": 2,
       "version_minor": 0
      },
      "text/plain": [
       "  0%|          | 0/1750 [00:00<?, ?it/s]"
      ]
     },
     "metadata": {},
     "output_type": "display_data"
    },
    {
     "data": {
      "application/vnd.jupyter.widget-view+json": {
       "model_id": "8d89d83bb21842d4911d8b3833b42b1d",
       "version_major": 2,
       "version_minor": 0
      },
      "text/plain": [
       "  0%|          | 0/2353 [00:00<?, ?it/s]"
      ]
     },
     "metadata": {},
     "output_type": "display_data"
    },
    {
     "data": {
      "application/vnd.jupyter.widget-view+json": {
       "model_id": "861640faf3c14d2491b5641ca1fa51dc",
       "version_major": 2,
       "version_minor": 0
      },
      "text/plain": [
       "  0%|          | 0/1746 [00:00<?, ?it/s]"
      ]
     },
     "metadata": {},
     "output_type": "display_data"
    },
    {
     "data": {
      "application/vnd.jupyter.widget-view+json": {
       "model_id": "a337351edca0423098ace2c391645228",
       "version_major": 2,
       "version_minor": 0
      },
      "text/plain": [
       "  0%|          | 0/2364 [00:00<?, ?it/s]"
      ]
     },
     "metadata": {},
     "output_type": "display_data"
    },
    {
     "data": {
      "application/vnd.jupyter.widget-view+json": {
       "model_id": "5aaba8f33f664d6f8c4a4dcd630a0a76",
       "version_major": 2,
       "version_minor": 0
      },
      "text/plain": [
       "  0%|          | 0/2375 [00:00<?, ?it/s]"
      ]
     },
     "metadata": {},
     "output_type": "display_data"
    },
    {
     "data": {
      "application/vnd.jupyter.widget-view+json": {
       "model_id": "5a12d6ed19174a4495c28c2c9591f750",
       "version_major": 2,
       "version_minor": 0
      },
      "text/plain": [
       "  0%|          | 0/2357 [00:00<?, ?it/s]"
      ]
     },
     "metadata": {},
     "output_type": "display_data"
    },
    {
     "data": {
      "application/vnd.jupyter.widget-view+json": {
       "model_id": "9e842a8c2e3941f9bf10271af4aea2a6",
       "version_major": 2,
       "version_minor": 0
      },
      "text/plain": [
       "  0%|          | 0/2367 [00:00<?, ?it/s]"
      ]
     },
     "metadata": {},
     "output_type": "display_data"
    },
    {
     "data": {
      "application/vnd.jupyter.widget-view+json": {
       "model_id": "29573543354a47b0b6d529a01f8a040c",
       "version_major": 2,
       "version_minor": 0
      },
      "text/plain": [
       "  0%|          | 0/2370 [00:00<?, ?it/s]"
      ]
     },
     "metadata": {},
     "output_type": "display_data"
    },
    {
     "data": {
      "application/vnd.jupyter.widget-view+json": {
       "model_id": "1f6ff8b742d84f8cab08ee89a0a8422f",
       "version_major": 2,
       "version_minor": 0
      },
      "text/plain": [
       "  0%|          | 0/2367 [00:00<?, ?it/s]"
      ]
     },
     "metadata": {},
     "output_type": "display_data"
    },
    {
     "data": {
      "application/vnd.jupyter.widget-view+json": {
       "model_id": "76c41b47d8ca4584aeefb8047f71fa44",
       "version_major": 2,
       "version_minor": 0
      },
      "text/plain": [
       "  0%|          | 0/2377 [00:00<?, ?it/s]"
      ]
     },
     "metadata": {},
     "output_type": "display_data"
    },
    {
     "data": {
      "application/vnd.jupyter.widget-view+json": {
       "model_id": "e66bad17056b431d90cdd5a7066ff26c",
       "version_major": 2,
       "version_minor": 0
      },
      "text/plain": [
       "  0%|          | 0/1734 [00:00<?, ?it/s]"
      ]
     },
     "metadata": {},
     "output_type": "display_data"
    },
    {
     "data": {
      "application/vnd.jupyter.widget-view+json": {
       "model_id": "00ce701b17894df0bdb9c7d008633a31",
       "version_major": 2,
       "version_minor": 0
      },
      "text/plain": [
       "  0%|          | 0/2369 [00:00<?, ?it/s]"
      ]
     },
     "metadata": {},
     "output_type": "display_data"
    },
    {
     "data": {
      "application/vnd.jupyter.widget-view+json": {
       "model_id": "bb4f9bd82b39402e91ffa76a9e02beec",
       "version_major": 2,
       "version_minor": 0
      },
      "text/plain": [
       "  0%|          | 0/2380 [00:00<?, ?it/s]"
      ]
     },
     "metadata": {},
     "output_type": "display_data"
    },
    {
     "data": {
      "application/vnd.jupyter.widget-view+json": {
       "model_id": "af11d1532d8146b69e4b92c550c0bdef",
       "version_major": 2,
       "version_minor": 0
      },
      "text/plain": [
       "  0%|          | 0/2356 [00:00<?, ?it/s]"
      ]
     },
     "metadata": {},
     "output_type": "display_data"
    },
    {
     "data": {
      "application/vnd.jupyter.widget-view+json": {
       "model_id": "440a141b76e54159880b52c06ee56c41",
       "version_major": 2,
       "version_minor": 0
      },
      "text/plain": [
       "  0%|          | 0/1733 [00:00<?, ?it/s]"
      ]
     },
     "metadata": {},
     "output_type": "display_data"
    },
    {
     "data": {
      "application/vnd.jupyter.widget-view+json": {
       "model_id": "36ceb82466b940979adc487a9aa83ee7",
       "version_major": 2,
       "version_minor": 0
      },
      "text/plain": [
       "  0%|          | 0/2373 [00:00<?, ?it/s]"
      ]
     },
     "metadata": {},
     "output_type": "display_data"
    },
    {
     "data": {
      "application/vnd.jupyter.widget-view+json": {
       "model_id": "5b41e6808096427b831dfb6827be3c29",
       "version_major": 2,
       "version_minor": 0
      },
      "text/plain": [
       "  0%|          | 0/2375 [00:00<?, ?it/s]"
      ]
     },
     "metadata": {},
     "output_type": "display_data"
    },
    {
     "data": {
      "application/vnd.jupyter.widget-view+json": {
       "model_id": "e959ef2276cd4e30b3dbfa6cc65d5961",
       "version_major": 2,
       "version_minor": 0
      },
      "text/plain": [
       "  0%|          | 0/1745 [00:00<?, ?it/s]"
      ]
     },
     "metadata": {},
     "output_type": "display_data"
    },
    {
     "data": {
      "application/vnd.jupyter.widget-view+json": {
       "model_id": "09eb6477d91246c68c8a8813779f6d07",
       "version_major": 2,
       "version_minor": 0
      },
      "text/plain": [
       "  0%|          | 0/2377 [00:00<?, ?it/s]"
      ]
     },
     "metadata": {},
     "output_type": "display_data"
    },
    {
     "data": {
      "application/vnd.jupyter.widget-view+json": {
       "model_id": "4ac44bf0e1414c99a4d30c052f755c9a",
       "version_major": 2,
       "version_minor": 0
      },
      "text/plain": [
       "  0%|          | 0/2376 [00:00<?, ?it/s]"
      ]
     },
     "metadata": {},
     "output_type": "display_data"
    }
   ],
   "source": [
    "train_labels = []\n",
    "train_specgrams = []\n",
    "val_labels = []\n",
    "val_specgrams = []\n",
    "test_labels = []\n",
    "test_specgrams = []\n",
    "\n",
    "for label in tqdm([l for l in labels if l != '_background_noise_']):\n",
    "\n",
    "    files = [f for f in os.listdir(data_path + '/'+ label) if f.endswith('.wav')]\n",
    "    \n",
    "    for file in tqdm(files):\n",
    "        _, samples = wavfile.read(data_path + \"/\" + label + \"/\" + file)\n",
    "        duration = float(len(samples)/SAMPLING_RATE)\n",
    "                \n",
    "        if duration < 1: samples = pad_audio(samples)\n",
    "            \n",
    "        if (label + \"/\" + file) in validation_list: \n",
    "            val_labels.append(label)\n",
    "            val_specgrams.append(specgram(samples, SAMPLING_RATE))\n",
    "        elif (label + \"/\" + file) in testing_list: \n",
    "            test_labels.append(label)\n",
    "            test_specgrams.append(specgram(samples, SAMPLING_RATE))\n",
    "        else:\n",
    "            train_labels.append(label)\n",
    "            train_specgrams.append(specgram(samples, SAMPLING_RATE))"
   ]
  },
  {
   "cell_type": "markdown",
   "id": "f7aff870",
   "metadata": {},
   "source": [
    "## <span style='font-family:Georgia'> 1.3. Data labeling"
   ]
  },
  {
   "cell_type": "markdown",
   "id": "8a960c2e",
   "metadata": {},
   "source": [
    "### <span style='font-family:Georgia'> 1.3.1. Noise-free data split (for hyperparameters tuning)"
   ]
  },
  {
   "cell_type": "code",
   "execution_count": 12,
   "id": "8a049be4",
   "metadata": {
    "ExecuteTime": {
     "end_time": "2022-05-02T12:00:33.849603Z",
     "start_time": "2022-05-02T12:00:31.515033Z"
    }
   },
   "outputs": [],
   "source": [
    "X_train = np.array(train_specgrams)\n",
    "X_val = np.array(val_specgrams)\n",
    "X_test = np.array(test_specgrams)\n",
    "\n",
    "Y_train = assign_unknown_label(train_labels)\n",
    "Y_val = assign_unknown_label(val_labels)\n",
    "Y_test = assign_unknown_label(test_labels)\n",
    "\n",
    "Y_train = np.array(encode_labels(Y_train).values)\n",
    "Y_val = np.array(encode_labels(Y_val).values)\n",
    "Y_test = np.array(encode_labels(Y_test).values)"
   ]
  },
  {
   "cell_type": "markdown",
   "id": "5f68893e",
   "metadata": {},
   "source": [
    "### <span style='font-family:Georgia'> 1.3.2. Approach 1 - taking `background_noise` observations as separate `silence` class"
   ]
  },
  {
   "cell_type": "code",
   "execution_count": 13,
   "id": "e0360d3b",
   "metadata": {
    "ExecuteTime": {
     "end_time": "2022-05-02T12:00:33.971410Z",
     "start_time": "2022-05-02T12:00:33.851599Z"
    }
   },
   "outputs": [],
   "source": [
    "# Split noise into 3 disjoint subsets (train, valid & test sets)\n",
    "N = 64721\n",
    "valid_ratio = np.round(len(validation_list)/N, 2)\n",
    "test_ratio = np.round(len(testing_list)/N, 2)\n",
    "train_ratio = 1 - (valid_ratio+test_ratio)\n",
    "\n",
    "sets_list = [\"train\", \"val\", \"test\"]\n",
    "obs_split = np.array(random.choices(sets_list, weights=(train_ratio, valid_ratio, test_ratio), k=N))\n",
    "train_mask, val_mask, test_mask = obs_split == \"train\", obs_split == \"val\", obs_split == \"test\""
   ]
  },
  {
   "cell_type": "code",
   "execution_count": 14,
   "id": "b3001513",
   "metadata": {
    "ExecuteTime": {
     "end_time": "2022-05-02T12:00:33.980101Z",
     "start_time": "2022-05-02T12:00:33.971410Z"
    }
   },
   "outputs": [
    {
     "name": "stdout",
     "output_type": "stream",
     "text": [
      "Number of observations assigned to train set: 303\n",
      "Number of observations assigned to validation set: 48\n",
      "Number of observations assigned to test set: 51\n"
     ]
    }
   ],
   "source": [
    "train_noise = list(compress(one_sec_background_noise_specgrams, train_mask))\n",
    "print(f'Number of observations assigned to train set: {len(train_noise)}')\n",
    "\n",
    "val_noise = list(compress(one_sec_background_noise_specgrams, val_mask))\n",
    "print(f'Number of observations assigned to validation set: {len(val_noise)}')\n",
    "\n",
    "test_noise = list(compress(one_sec_background_noise_specgrams, test_mask))\n",
    "print(f'Number of observations assigned to test set: {len(test_noise)}')"
   ]
  },
  {
   "cell_type": "code",
   "execution_count": 15,
   "id": "cc35b15d",
   "metadata": {
    "ExecuteTime": {
     "end_time": "2022-05-02T12:00:34.008611Z",
     "start_time": "2022-05-02T12:00:33.982939Z"
    }
   },
   "outputs": [],
   "source": [
    "train_specgrams_1 = train_specgrams + train_noise\n",
    "train_labels_1 = train_labels + ['silence' for i in range(len(train_noise))]\n",
    "\n",
    "val_specgrams_1 = val_specgrams + val_noise\n",
    "val_labels_1 = val_labels + ['silence' for i in range(len(val_noise))]\n",
    "\n",
    "test_specgrams_1 = test_specgrams + test_noise\n",
    "test_labels_1 = test_labels + ['silence' for i in range(len(test_noise))]"
   ]
  },
  {
   "cell_type": "code",
   "execution_count": 16,
   "id": "74b75257",
   "metadata": {
    "ExecuteTime": {
     "end_time": "2022-05-02T12:00:48.027069Z",
     "start_time": "2022-05-02T12:00:34.010022Z"
    }
   },
   "outputs": [
    {
     "name": "stdout",
     "output_type": "stream",
     "text": [
      "(51391, 99, 161)\n",
      "(6846, 99, 161)\n",
      "(6886, 99, 161)\n"
     ]
    }
   ],
   "source": [
    "x_train_1 = np.array(train_specgrams_1)\n",
    "print(x_train_1.shape)\n",
    "\n",
    "x_val_1 = np.array(val_specgrams_1)\n",
    "print(x_val_1.shape)\n",
    "\n",
    "x_test_1 = np.array(test_specgrams_1)\n",
    "print(x_test_1.shape)"
   ]
  },
  {
   "cell_type": "code",
   "execution_count": 17,
   "id": "86b225be",
   "metadata": {
    "ExecuteTime": {
     "end_time": "2022-05-02T12:00:48.878204Z",
     "start_time": "2022-05-02T12:00:48.044891Z"
    }
   },
   "outputs": [
    {
     "name": "stdout",
     "output_type": "stream",
     "text": [
      "['down' 'go' 'left' 'no' 'off' 'on' 'right' 'silence' 'stop' 'unknown'\n",
      " 'up' 'yes']\n",
      "['down' 'go' 'left' 'no' 'off' 'on' 'right' 'silence' 'stop' 'unknown'\n",
      " 'up' 'yes']\n",
      "['down' 'go' 'left' 'no' 'off' 'on' 'right' 'silence' 'stop' 'unknown'\n",
      " 'up' 'yes']\n"
     ]
    }
   ],
   "source": [
    "classes=CLASSES+['silence']\n",
    "\n",
    "y_train_1 = assign_unknown_label(train_labels_1, classes=classes)\n",
    "print(np.unique(y_train_1))\n",
    "\n",
    "y_val_1 = assign_unknown_label(val_labels_1, classes=classes)\n",
    "print(np.unique(y_val_1))\n",
    "\n",
    "y_test_1 = assign_unknown_label(test_labels_1, classes=classes)\n",
    "print(np.unique(y_test_1))"
   ]
  },
  {
   "cell_type": "code",
   "execution_count": 18,
   "id": "fe4f9ab0",
   "metadata": {
    "ExecuteTime": {
     "end_time": "2022-05-02T12:00:51.953946Z",
     "start_time": "2022-05-02T12:00:48.880823Z"
    }
   },
   "outputs": [
    {
     "data": {
      "text/plain": [
       "268"
      ]
     },
     "execution_count": 18,
     "metadata": {},
     "output_type": "execute_result"
    }
   ],
   "source": [
    "del train_specgrams_1, val_specgrams_1, test_specgrams_1\n",
    "del train_labels_1, val_labels_1, test_labels_1\n",
    "gc.collect()"
   ]
  },
  {
   "cell_type": "code",
   "execution_count": 19,
   "id": "049945e8",
   "metadata": {
    "ExecuteTime": {
     "end_time": "2022-05-02T12:00:52.165217Z",
     "start_time": "2022-05-02T12:00:51.957688Z"
    }
   },
   "outputs": [],
   "source": [
    "# Labels encoding\n",
    "y_train_1 = np.array(encode_labels(y_train_1).values)\n",
    "y_val_1 = np.array(encode_labels(y_val_1).values)\n",
    "y_test_1 = np.array(encode_labels(y_test_1).values)"
   ]
  },
  {
   "cell_type": "markdown",
   "id": "0703d383",
   "metadata": {},
   "source": [
    "### <span style='font-family:Georgia'> 1.3.2. Approach 2 - noising the training subset(s) with the 'background_noise' class observations"
   ]
  },
  {
   "cell_type": "code",
   "execution_count": 20,
   "id": "2edab460",
   "metadata": {
    "ExecuteTime": {
     "end_time": "2022-05-02T12:00:52.834185Z",
     "start_time": "2022-05-02T12:00:52.167921Z"
    }
   },
   "outputs": [
    {
     "data": {
      "text/html": [
       "<div>\n",
       "<style scoped>\n",
       "    .dataframe tbody tr th:only-of-type {\n",
       "        vertical-align: middle;\n",
       "    }\n",
       "\n",
       "    .dataframe tbody tr th {\n",
       "        vertical-align: top;\n",
       "    }\n",
       "\n",
       "    .dataframe thead th {\n",
       "        text-align: right;\n",
       "    }\n",
       "</style>\n",
       "<table border=\"1\" class=\"dataframe\">\n",
       "  <thead>\n",
       "    <tr style=\"text-align: right;\">\n",
       "      <th></th>\n",
       "      <th>obs_cnt</th>\n",
       "      <th>noise_cnt</th>\n",
       "      <th>noise_ratio</th>\n",
       "    </tr>\n",
       "  </thead>\n",
       "  <tbody>\n",
       "    <tr>\n",
       "      <th>one</th>\n",
       "      <td>1892</td>\n",
       "      <td>204</td>\n",
       "      <td>0.107822</td>\n",
       "    </tr>\n",
       "    <tr>\n",
       "      <th>stop</th>\n",
       "      <td>1885</td>\n",
       "      <td>185</td>\n",
       "      <td>0.098143</td>\n",
       "    </tr>\n",
       "    <tr>\n",
       "      <th>nine</th>\n",
       "      <td>1875</td>\n",
       "      <td>170</td>\n",
       "      <td>0.090667</td>\n",
       "    </tr>\n",
       "    <tr>\n",
       "      <th>seven</th>\n",
       "      <td>1875</td>\n",
       "      <td>173</td>\n",
       "      <td>0.092267</td>\n",
       "    </tr>\n",
       "    <tr>\n",
       "      <th>two</th>\n",
       "      <td>1873</td>\n",
       "      <td>167</td>\n",
       "      <td>0.089162</td>\n",
       "    </tr>\n",
       "    <tr>\n",
       "      <th>zero</th>\n",
       "      <td>1866</td>\n",
       "      <td>166</td>\n",
       "      <td>0.088960</td>\n",
       "    </tr>\n",
       "    <tr>\n",
       "      <th>on</th>\n",
       "      <td>1864</td>\n",
       "      <td>183</td>\n",
       "      <td>0.098176</td>\n",
       "    </tr>\n",
       "    <tr>\n",
       "      <th>six</th>\n",
       "      <td>1863</td>\n",
       "      <td>181</td>\n",
       "      <td>0.097155</td>\n",
       "    </tr>\n",
       "    <tr>\n",
       "      <th>go</th>\n",
       "      <td>1861</td>\n",
       "      <td>163</td>\n",
       "      <td>0.087587</td>\n",
       "    </tr>\n",
       "    <tr>\n",
       "      <th>yes</th>\n",
       "      <td>1860</td>\n",
       "      <td>191</td>\n",
       "      <td>0.102688</td>\n",
       "    </tr>\n",
       "    <tr>\n",
       "      <th>no</th>\n",
       "      <td>1853</td>\n",
       "      <td>177</td>\n",
       "      <td>0.095521</td>\n",
       "    </tr>\n",
       "    <tr>\n",
       "      <th>right</th>\n",
       "      <td>1852</td>\n",
       "      <td>201</td>\n",
       "      <td>0.108531</td>\n",
       "    </tr>\n",
       "    <tr>\n",
       "      <th>eight</th>\n",
       "      <td>1852</td>\n",
       "      <td>180</td>\n",
       "      <td>0.097192</td>\n",
       "    </tr>\n",
       "    <tr>\n",
       "      <th>five</th>\n",
       "      <td>1844</td>\n",
       "      <td>183</td>\n",
       "      <td>0.099241</td>\n",
       "    </tr>\n",
       "    <tr>\n",
       "      <th>up</th>\n",
       "      <td>1843</td>\n",
       "      <td>175</td>\n",
       "      <td>0.094954</td>\n",
       "    </tr>\n",
       "    <tr>\n",
       "      <th>down</th>\n",
       "      <td>1842</td>\n",
       "      <td>189</td>\n",
       "      <td>0.102606</td>\n",
       "    </tr>\n",
       "    <tr>\n",
       "      <th>three</th>\n",
       "      <td>1841</td>\n",
       "      <td>173</td>\n",
       "      <td>0.093971</td>\n",
       "    </tr>\n",
       "    <tr>\n",
       "      <th>off</th>\n",
       "      <td>1839</td>\n",
       "      <td>207</td>\n",
       "      <td>0.112561</td>\n",
       "    </tr>\n",
       "    <tr>\n",
       "      <th>four</th>\n",
       "      <td>1839</td>\n",
       "      <td>213</td>\n",
       "      <td>0.115824</td>\n",
       "    </tr>\n",
       "    <tr>\n",
       "      <th>left</th>\n",
       "      <td>1839</td>\n",
       "      <td>174</td>\n",
       "      <td>0.094617</td>\n",
       "    </tr>\n",
       "    <tr>\n",
       "      <th>house</th>\n",
       "      <td>1427</td>\n",
       "      <td>127</td>\n",
       "      <td>0.088998</td>\n",
       "    </tr>\n",
       "    <tr>\n",
       "      <th>marvin</th>\n",
       "      <td>1424</td>\n",
       "      <td>149</td>\n",
       "      <td>0.104635</td>\n",
       "    </tr>\n",
       "    <tr>\n",
       "      <th>wow</th>\n",
       "      <td>1414</td>\n",
       "      <td>138</td>\n",
       "      <td>0.097595</td>\n",
       "    </tr>\n",
       "    <tr>\n",
       "      <th>bird</th>\n",
       "      <td>1411</td>\n",
       "      <td>154</td>\n",
       "      <td>0.109142</td>\n",
       "    </tr>\n",
       "    <tr>\n",
       "      <th>cat</th>\n",
       "      <td>1399</td>\n",
       "      <td>150</td>\n",
       "      <td>0.107219</td>\n",
       "    </tr>\n",
       "    <tr>\n",
       "      <th>dog</th>\n",
       "      <td>1396</td>\n",
       "      <td>140</td>\n",
       "      <td>0.100287</td>\n",
       "    </tr>\n",
       "    <tr>\n",
       "      <th>tree</th>\n",
       "      <td>1374</td>\n",
       "      <td>158</td>\n",
       "      <td>0.114993</td>\n",
       "    </tr>\n",
       "    <tr>\n",
       "      <th>happy</th>\n",
       "      <td>1373</td>\n",
       "      <td>133</td>\n",
       "      <td>0.096868</td>\n",
       "    </tr>\n",
       "    <tr>\n",
       "      <th>sheila</th>\n",
       "      <td>1372</td>\n",
       "      <td>153</td>\n",
       "      <td>0.111516</td>\n",
       "    </tr>\n",
       "    <tr>\n",
       "      <th>bed</th>\n",
       "      <td>1340</td>\n",
       "      <td>151</td>\n",
       "      <td>0.112687</td>\n",
       "    </tr>\n",
       "  </tbody>\n",
       "</table>\n",
       "</div>"
      ],
      "text/plain": [
       "        obs_cnt  noise_cnt  noise_ratio\n",
       "one        1892        204     0.107822\n",
       "stop       1885        185     0.098143\n",
       "nine       1875        170     0.090667\n",
       "seven      1875        173     0.092267\n",
       "two        1873        167     0.089162\n",
       "zero       1866        166     0.088960\n",
       "on         1864        183     0.098176\n",
       "six        1863        181     0.097155\n",
       "go         1861        163     0.087587\n",
       "yes        1860        191     0.102688\n",
       "no         1853        177     0.095521\n",
       "right      1852        201     0.108531\n",
       "eight      1852        180     0.097192\n",
       "five       1844        183     0.099241\n",
       "up         1843        175     0.094954\n",
       "down       1842        189     0.102606\n",
       "three      1841        173     0.093971\n",
       "off        1839        207     0.112561\n",
       "four       1839        213     0.115824\n",
       "left       1839        174     0.094617\n",
       "house      1427        127     0.088998\n",
       "marvin     1424        149     0.104635\n",
       "wow        1414        138     0.097595\n",
       "bird       1411        154     0.109142\n",
       "cat        1399        150     0.107219\n",
       "dog        1396        140     0.100287\n",
       "tree       1374        158     0.114993\n",
       "happy      1373        133     0.096868\n",
       "sheila     1372        153     0.111516\n",
       "bed        1340        151     0.112687"
      ]
     },
     "execution_count": 20,
     "metadata": {},
     "output_type": "execute_result"
    }
   ],
   "source": [
    "train_labels_summary = pd.Series(train_labels).value_counts()\n",
    "n = math.floor(NOISE_RATIO*train_labels_summary.sum())\n",
    "noised_labels = random.choices(train_labels, k=n)\n",
    "\n",
    "summary = pd.DataFrame(train_labels_summary, columns=[\"obs_cnt\"])\n",
    "summary[\"noise_cnt\"] = pd.Series(noised_labels).value_counts()\n",
    "summary[\"noise_ratio\"] = summary[\"noise_cnt\"] / summary[\"obs_cnt\"]\n",
    "summary"
   ]
  },
  {
   "cell_type": "code",
   "execution_count": 21,
   "id": "5527ab01",
   "metadata": {
    "ExecuteTime": {
     "end_time": "2022-05-02T12:00:52.865132Z",
     "start_time": "2022-05-02T12:00:52.836180Z"
    }
   },
   "outputs": [],
   "source": [
    "train_specgrams_2 = train_specgrams + random.choices(one_sec_background_noise_specgrams, k=n)\n",
    "train_labels_2 = train_labels + noised_labels"
   ]
  },
  {
   "cell_type": "code",
   "execution_count": 22,
   "id": "cb0baf74",
   "metadata": {
    "ExecuteTime": {
     "end_time": "2022-05-02T12:01:17.155732Z",
     "start_time": "2022-05-02T12:00:52.871370Z"
    }
   },
   "outputs": [
    {
     "name": "stdout",
     "output_type": "stream",
     "text": [
      "(56196, 99, 161)\n"
     ]
    }
   ],
   "source": [
    "x_train_2 = np.array(train_specgrams_2)\n",
    "print(x_train_2.shape)"
   ]
  },
  {
   "cell_type": "code",
   "execution_count": 23,
   "id": "a2075ba6",
   "metadata": {
    "ExecuteTime": {
     "end_time": "2022-05-02T12:01:18.795904Z",
     "start_time": "2022-05-02T12:01:17.223364Z"
    }
   },
   "outputs": [
    {
     "name": "stdout",
     "output_type": "stream",
     "text": [
      "['down' 'go' 'left' 'no' 'off' 'on' 'right' 'stop' 'unknown' 'up' 'yes']\n"
     ]
    }
   ],
   "source": [
    "y_train_2 = assign_unknown_label(train_labels_2)\n",
    "print(np.unique(y_train_2))"
   ]
  },
  {
   "cell_type": "code",
   "execution_count": 24,
   "id": "ff4eb1e3",
   "metadata": {
    "ExecuteTime": {
     "end_time": "2022-05-02T12:01:18.974344Z",
     "start_time": "2022-05-02T12:01:18.810525Z"
    }
   },
   "outputs": [],
   "source": [
    "# Labels encoding\n",
    "y_train_2 = np.array(encode_labels(y_train_2).values)"
   ]
  },
  {
   "cell_type": "code",
   "execution_count": 25,
   "id": "36a2eb99",
   "metadata": {
    "ExecuteTime": {
     "end_time": "2022-05-02T12:02:12.898476Z",
     "start_time": "2022-05-02T12:01:18.980206Z"
    }
   },
   "outputs": [
    {
     "data": {
      "text/plain": [
       "75"
      ]
     },
     "execution_count": 25,
     "metadata": {},
     "output_type": "execute_result"
    }
   ],
   "source": [
    "del train_specgrams_2, train_labels_2\n",
    "del train_specgrams, val_specgrams, test_specgrams\n",
    "del train_labels, val_labels, test_labels\n",
    "\n",
    "gc.collect()"
   ]
  },
  {
   "cell_type": "markdown",
   "id": "1305a760",
   "metadata": {},
   "source": [
    "# <span style='font-family:Georgia'> 2. Modeling"
   ]
  },
  {
   "cell_type": "code",
   "execution_count": 26,
   "id": "03900c85",
   "metadata": {
    "ExecuteTime": {
     "end_time": "2022-05-02T12:02:12.916882Z",
     "start_time": "2022-05-02T12:02:12.903418Z"
    }
   },
   "outputs": [],
   "source": [
    "MIN_DELTA=1e-4\n",
    "DROPOUT = 0.2"
   ]
  },
  {
   "cell_type": "markdown",
   "id": "93c0f192",
   "metadata": {},
   "source": [
    "## <span style='font-family:Georgia'> 2.1. Tuning hyperparameters"
   ]
  },
  {
   "cell_type": "markdown",
   "id": "5875e17b",
   "metadata": {},
   "source": [
    "### <span style='font-family:Georgia'> 2.1.1. Learning rate & batch size tuning"
   ]
  },
  {
   "cell_type": "code",
   "execution_count": 27,
   "id": "17f534ef",
   "metadata": {
    "ExecuteTime": {
     "end_time": "2022-05-02T12:02:12.933101Z",
     "start_time": "2022-05-02T12:02:12.918878Z"
    }
   },
   "outputs": [],
   "source": [
    "# hyperparameters set-up\n",
    "INPUT_DIM = (X_train.shape[1], X_train.shape[2])\n",
    "OUTPUT_DIM = Y_train.shape[1]\n",
    "\n",
    "Y_test_classes = np.argmax(Y_test, axis=1)"
   ]
  },
  {
   "cell_type": "code",
   "execution_count": 28,
   "id": "b4fc8da4",
   "metadata": {
    "ExecuteTime": {
     "end_time": "2022-05-02T12:02:12.954227Z",
     "start_time": "2022-05-02T12:02:12.935254Z"
    }
   },
   "outputs": [],
   "source": [
    "ITER = 2  # TODO: increase ITER number\n",
    "EPOCHS = 3  # TODO: increase EPOCHS number\n",
    "PATIENCE=int(EPOCHS/3)\n",
    "learning_rate = [1e-4, 1e-3, 1e-2]  # TODO: expand parameters grids\n",
    "batch_size = [128, 256]  # TODO: expand parameters grids"
   ]
  },
  {
   "cell_type": "code",
   "execution_count": 29,
   "id": "b0d0cbf5",
   "metadata": {
    "ExecuteTime": {
     "end_time": "2022-05-02T12:02:12.983936Z",
     "start_time": "2022-05-02T12:02:12.956674Z"
    }
   },
   "outputs": [],
   "source": [
    "early_stop = EarlyStopping(monitor='val_accuracy', patience=PATIENCE, min_delta=MIN_DELTA)"
   ]
  },
  {
   "cell_type": "code",
   "execution_count": 30,
   "id": "bcfde49c",
   "metadata": {
    "ExecuteTime": {
     "end_time": "2022-05-02T17:48:04.784057Z",
     "start_time": "2022-05-02T12:02:12.987725Z"
    },
    "scrolled": false
   },
   "outputs": [
    {
     "data": {
      "application/vnd.jupyter.widget-view+json": {
       "model_id": "87fd2292dacd4d71b8b1832441027dfb",
       "version_major": 2,
       "version_minor": 0
      },
      "text/plain": [
       "  0%|          | 0/3 [00:00<?, ?it/s]"
      ]
     },
     "metadata": {},
     "output_type": "display_data"
    },
    {
     "data": {
      "application/vnd.jupyter.widget-view+json": {
       "model_id": "7ac6f8206c3e401fa93946fc35bd3882",
       "version_major": 2,
       "version_minor": 0
      },
      "text/plain": [
       "  0%|          | 0/2 [00:00<?, ?it/s]"
      ]
     },
     "metadata": {},
     "output_type": "display_data"
    },
    {
     "data": {
      "application/vnd.jupyter.widget-view+json": {
       "model_id": "15c10759707742ea96268d294b9ebf94",
       "version_major": 2,
       "version_minor": 0
      },
      "text/plain": [
       "  0%|          | 0/2 [00:00<?, ?it/s]"
      ]
     },
     "metadata": {},
     "output_type": "display_data"
    },
    {
     "name": "stdout",
     "output_type": "stream",
     "text": [
      "Epoch 1/3\n",
      "400/400 [==============================] - 98s 233ms/step - loss: 1.5809 - accuracy: 0.5968 - val_loss: 1.3354 - val_accuracy: 0.6208\n",
      "Epoch 2/3\n",
      "400/400 [==============================] - 102s 254ms/step - loss: 1.2892 - accuracy: 0.6323 - val_loss: 1.1659 - val_accuracy: 0.6236\n",
      "Epoch 3/3\n",
      "400/400 [==============================] - 100s 250ms/step - loss: 1.1642 - accuracy: 0.6361 - val_loss: 1.0360 - val_accuracy: 0.6486\n",
      "Epoch 1/3\n",
      "400/400 [==============================] - 188s 455ms/step - loss: 1.1392 - accuracy: 0.6715 - val_loss: 0.7364 - val_accuracy: 0.7558\n",
      "Epoch 2/3\n",
      "400/400 [==============================] - 174s 436ms/step - loss: 0.6282 - accuracy: 0.8014 - val_loss: 0.4855 - val_accuracy: 0.8486\n",
      "Epoch 3/3\n",
      "400/400 [==============================] - 172s 430ms/step - loss: 0.4572 - accuracy: 0.8580 - val_loss: 0.3734 - val_accuracy: 0.8838\n",
      "Epoch 1/3\n",
      "400/400 [==============================] - 180s 435ms/step - loss: 1.0288 - accuracy: 0.6948 - val_loss: 0.5446 - val_accuracy: 0.8239\n",
      "Epoch 2/3\n",
      "400/400 [==============================] - 169s 422ms/step - loss: 0.4849 - accuracy: 0.8417 - val_loss: 0.3814 - val_accuracy: 0.8748\n",
      "Epoch 3/3\n",
      "400/400 [==============================] - 169s 422ms/step - loss: 0.3564 - accuracy: 0.8864 - val_loss: 0.2924 - val_accuracy: 0.9078\n",
      "Epoch 1/3\n",
      "400/400 [==============================] - 97s 231ms/step - loss: 1.5407 - accuracy: 0.5997 - val_loss: 1.3397 - val_accuracy: 0.6196\n",
      "Epoch 2/3\n",
      "400/400 [==============================] - 91s 227ms/step - loss: 1.3007 - accuracy: 0.6343 - val_loss: 1.2103 - val_accuracy: 0.6211\n",
      "Epoch 3/3\n",
      "400/400 [==============================] - 91s 227ms/step - loss: 1.1960 - accuracy: 0.6436 - val_loss: 1.0848 - val_accuracy: 0.6539\n",
      "Epoch 1/3\n",
      "400/400 [==============================] - 236s 577ms/step - loss: 1.1322 - accuracy: 0.6691 - val_loss: 0.7630 - val_accuracy: 0.7524\n",
      "Epoch 2/3\n",
      "400/400 [==============================] - 230s 574ms/step - loss: 0.6440 - accuracy: 0.7929 - val_loss: 0.4845 - val_accuracy: 0.8464\n",
      "Epoch 3/3\n",
      "400/400 [==============================] - 224s 561ms/step - loss: 0.4750 - accuracy: 0.8484 - val_loss: 0.3999 - val_accuracy: 0.8764\n",
      "Epoch 1/3\n",
      "400/400 [==============================] - 220s 536ms/step - loss: 1.0715 - accuracy: 0.6856 - val_loss: 0.6197 - val_accuracy: 0.7930\n",
      "Epoch 2/3\n",
      "400/400 [==============================] - 211s 528ms/step - loss: 0.5259 - accuracy: 0.8271 - val_loss: 0.3874 - val_accuracy: 0.8775\n",
      "Epoch 3/3\n",
      "400/400 [==============================] - 217s 543ms/step - loss: 0.3839 - accuracy: 0.8771 - val_loss: 0.3250 - val_accuracy: 0.8960\n"
     ]
    },
    {
     "data": {
      "application/vnd.jupyter.widget-view+json": {
       "model_id": "29351e7671cd446e8dd5b7921f6f50cd",
       "version_major": 2,
       "version_minor": 0
      },
      "text/plain": [
       "  0%|          | 0/2 [00:00<?, ?it/s]"
      ]
     },
     "metadata": {},
     "output_type": "display_data"
    },
    {
     "name": "stdout",
     "output_type": "stream",
     "text": [
      "Epoch 1/3\n",
      "200/200 [==============================] - 119s 570ms/step - loss: 1.5498 - accuracy: 0.6216 - val_loss: 1.4152 - val_accuracy: 0.6209\n",
      "Epoch 2/3\n",
      "200/200 [==============================] - 113s 566ms/step - loss: 1.3610 - accuracy: 0.6346 - val_loss: 1.2805 - val_accuracy: 0.6212\n",
      "Epoch 3/3\n",
      "200/200 [==============================] - 91s 454ms/step - loss: 1.2724 - accuracy: 0.6346 - val_loss: 1.2200 - val_accuracy: 0.6237\n",
      "Epoch 1/3\n",
      "200/200 [==============================] - 165s 794ms/step - loss: 1.2912 - accuracy: 0.6491 - val_loss: 1.0372 - val_accuracy: 0.6830\n",
      "Epoch 2/3\n",
      "200/200 [==============================] - 161s 804ms/step - loss: 0.8165 - accuracy: 0.7375 - val_loss: 0.6761 - val_accuracy: 0.7933\n",
      "Epoch 3/3\n",
      "200/200 [==============================] - 161s 808ms/step - loss: 0.6056 - accuracy: 0.8056 - val_loss: 0.5055 - val_accuracy: 0.8503\n",
      "Epoch 1/3\n",
      "200/200 [==============================] - 155s 744ms/step - loss: 1.2571 - accuracy: 0.6456 - val_loss: 0.8644 - val_accuracy: 0.7020\n",
      "Epoch 2/3\n",
      "200/200 [==============================] - 146s 731ms/step - loss: 0.6434 - accuracy: 0.7882 - val_loss: 0.4611 - val_accuracy: 0.8561\n",
      "Epoch 3/3\n",
      "200/200 [==============================] - 141s 704ms/step - loss: 0.4401 - accuracy: 0.8600 - val_loss: 0.3571 - val_accuracy: 0.8854\n",
      "Epoch 1/3\n",
      "200/200 [==============================] - 110s 528ms/step - loss: 1.6765 - accuracy: 0.5673 - val_loss: 1.4074 - val_accuracy: 0.6209\n",
      "Epoch 2/3\n",
      "200/200 [==============================] - 105s 527ms/step - loss: 1.3678 - accuracy: 0.6333 - val_loss: 1.3279 - val_accuracy: 0.6205\n",
      "Epoch 1/3\n",
      "200/200 [==============================] - 136s 650ms/step - loss: 1.2754 - accuracy: 0.6447 - val_loss: 0.9965 - val_accuracy: 0.6914\n",
      "Epoch 2/3\n",
      "200/200 [==============================] - 91s 457ms/step - loss: 0.8136 - accuracy: 0.7379 - val_loss: 0.6309 - val_accuracy: 0.8049\n",
      "Epoch 3/3\n",
      "200/200 [==============================] - 89s 444ms/step - loss: 0.5899 - accuracy: 0.8115 - val_loss: 0.4675 - val_accuracy: 0.8554\n",
      "Epoch 1/3\n",
      "200/200 [==============================] - 81s 389ms/step - loss: 1.2813 - accuracy: 0.6403 - val_loss: 0.9024 - val_accuracy: 0.6878\n",
      "Epoch 2/3\n",
      "200/200 [==============================] - 75s 377ms/step - loss: 0.7061 - accuracy: 0.7674 - val_loss: 0.4843 - val_accuracy: 0.8450\n",
      "Epoch 3/3\n",
      "200/200 [==============================] - 76s 378ms/step - loss: 0.4743 - accuracy: 0.8455 - val_loss: 0.3552 - val_accuracy: 0.8903\n"
     ]
    },
    {
     "data": {
      "application/vnd.jupyter.widget-view+json": {
       "model_id": "f90fe1c32799493cadbc98ab3c8b389b",
       "version_major": 2,
       "version_minor": 0
      },
      "text/plain": [
       "  0%|          | 0/2 [00:00<?, ?it/s]"
      ]
     },
     "metadata": {},
     "output_type": "display_data"
    },
    {
     "data": {
      "application/vnd.jupyter.widget-view+json": {
       "model_id": "8d0b6144ce3e48a5aa6912be1fa71840",
       "version_major": 2,
       "version_minor": 0
      },
      "text/plain": [
       "  0%|          | 0/2 [00:00<?, ?it/s]"
      ]
     },
     "metadata": {},
     "output_type": "display_data"
    },
    {
     "name": "stdout",
     "output_type": "stream",
     "text": [
      "Epoch 1/3\n",
      "400/400 [==============================] - 69s 168ms/step - loss: 1.2814 - accuracy: 0.6394 - val_loss: 1.1722 - val_accuracy: 0.6453\n",
      "Epoch 2/3\n",
      "400/400 [==============================] - 67s 168ms/step - loss: 0.8943 - accuracy: 0.7088 - val_loss: 0.7528 - val_accuracy: 0.7526\n",
      "Epoch 3/3\n",
      "400/400 [==============================] - 67s 167ms/step - loss: 0.6274 - accuracy: 0.8049 - val_loss: 0.4667 - val_accuracy: 0.8628\n",
      "Epoch 1/3\n",
      "400/400 [==============================] - 111s 270ms/step - loss: 173.7193 - accuracy: 0.6365 - val_loss: 0.8494 - val_accuracy: 0.7086\n",
      "Epoch 2/3\n",
      "400/400 [==============================] - 106s 266ms/step - loss: 0.6756 - accuracy: 0.7823 - val_loss: 0.5095 - val_accuracy: 0.8288\n",
      "Epoch 3/3\n",
      "400/400 [==============================] - 107s 267ms/step - loss: 0.4317 - accuracy: 0.8660 - val_loss: 0.3337 - val_accuracy: 0.8995\n",
      "Epoch 1/3\n",
      "400/400 [==============================] - 107s 259ms/step - loss: 0.8128 - accuracy: 0.7515 - val_loss: 0.4346 - val_accuracy: 0.8580\n",
      "Epoch 2/3\n",
      "400/400 [==============================] - 105s 263ms/step - loss: 0.3682 - accuracy: 0.8824 - val_loss: 0.3417 - val_accuracy: 0.8941\n",
      "Epoch 3/3\n",
      "400/400 [==============================] - 105s 262ms/step - loss: 0.2847 - accuracy: 0.9120 - val_loss: 0.3185 - val_accuracy: 0.9034\n",
      "Epoch 1/3\n",
      "400/400 [==============================] - 80s 193ms/step - loss: 1.3236 - accuracy: 0.6342 - val_loss: 1.1539 - val_accuracy: 0.6453\n",
      "Epoch 2/3\n",
      "400/400 [==============================] - 76s 189ms/step - loss: 0.8862 - accuracy: 0.7080 - val_loss: 0.6549 - val_accuracy: 0.7838\n",
      "Epoch 3/3\n",
      "400/400 [==============================] - 79s 198ms/step - loss: 0.5877 - accuracy: 0.8133 - val_loss: 0.4821 - val_accuracy: 0.8513\n",
      "Epoch 1/3\n",
      "400/400 [==============================] - 138s 333ms/step - loss: 33.2272 - accuracy: 0.6144 - val_loss: 1.0412 - val_accuracy: 0.6784\n",
      "Epoch 2/3\n",
      "400/400 [==============================] - 129s 322ms/step - loss: 0.8018 - accuracy: 0.7483 - val_loss: 0.5163 - val_accuracy: 0.8333\n",
      "Epoch 3/3\n",
      "400/400 [==============================] - 7292s 18s/step - loss: 0.4898 - accuracy: 0.8444 - val_loss: 0.4135 - val_accuracy: 0.8707\n",
      "Epoch 1/3\n",
      "400/400 [==============================] - 130s 317ms/step - loss: 0.8641 - accuracy: 0.7389 - val_loss: 0.4979 - val_accuracy: 0.8323\n",
      "Epoch 2/3\n",
      "400/400 [==============================] - 153s 382ms/step - loss: 0.4010 - accuracy: 0.8745 - val_loss: 0.3172 - val_accuracy: 0.8986\n",
      "Epoch 3/3\n",
      "400/400 [==============================] - 152s 381ms/step - loss: 0.2955 - accuracy: 0.9097 - val_loss: 0.2542 - val_accuracy: 0.9176\n"
     ]
    },
    {
     "data": {
      "application/vnd.jupyter.widget-view+json": {
       "model_id": "266449fab33741f59253ea1c6fa068c7",
       "version_major": 2,
       "version_minor": 0
      },
      "text/plain": [
       "  0%|          | 0/2 [00:00<?, ?it/s]"
      ]
     },
     "metadata": {},
     "output_type": "display_data"
    },
    {
     "name": "stdout",
     "output_type": "stream",
     "text": [
      "Epoch 1/3\n",
      "200/200 [==============================] - 88s 429ms/step - loss: 1.4015 - accuracy: 0.6250 - val_loss: 2.7355 - val_accuracy: 0.6330\n",
      "Epoch 2/3\n",
      "200/200 [==============================] - 83s 417ms/step - loss: 1.0143 - accuracy: 0.6720 - val_loss: 0.8563 - val_accuracy: 0.7014\n",
      "Epoch 3/3\n",
      "200/200 [==============================] - 82s 410ms/step - loss: 0.7686 - accuracy: 0.7420 - val_loss: 0.5926 - val_accuracy: 0.8030\n",
      "Epoch 1/3\n",
      "200/200 [==============================] - 148s 729ms/step - loss: 1.5672 - accuracy: 0.6340 - val_loss: 0.9781 - val_accuracy: 0.6687\n",
      "Epoch 2/3\n",
      "200/200 [==============================] - 131s 656ms/step - loss: 0.7454 - accuracy: 0.7582 - val_loss: 0.5273 - val_accuracy: 0.8277\n",
      "Epoch 3/3\n",
      "200/200 [==============================] - 128s 641ms/step - loss: 0.4662 - accuracy: 0.8493 - val_loss: 0.4501 - val_accuracy: 0.8604\n",
      "Epoch 1/3\n",
      "200/200 [==============================] - 122s 596ms/step - loss: 0.9246 - accuracy: 0.7229 - val_loss: 0.5703 - val_accuracy: 0.8045\n",
      "Epoch 2/3\n",
      "200/200 [==============================] - 118s 590ms/step - loss: 0.4189 - accuracy: 0.8670 - val_loss: 0.3434 - val_accuracy: 0.8969\n",
      "Epoch 3/3\n",
      "200/200 [==============================] - 124s 623ms/step - loss: 0.2980 - accuracy: 0.9081 - val_loss: 0.2674 - val_accuracy: 0.9150\n",
      "Epoch 1/3\n",
      "200/200 [==============================] - 83s 405ms/step - loss: 1.3296 - accuracy: 0.6337 - val_loss: 1.2553 - val_accuracy: 0.6275\n",
      "Epoch 2/3\n",
      "200/200 [==============================] - 81s 405ms/step - loss: 0.9914 - accuracy: 0.6794 - val_loss: 0.8614 - val_accuracy: 0.7130\n",
      "Epoch 3/3\n",
      "200/200 [==============================] - 82s 412ms/step - loss: 0.6941 - accuracy: 0.7706 - val_loss: 0.5394 - val_accuracy: 0.8222\n",
      "Epoch 1/3\n",
      "200/200 [==============================] - 133s 656ms/step - loss: 2.0563 - accuracy: 0.6360 - val_loss: 0.9888 - val_accuracy: 0.6886\n",
      "Epoch 2/3\n",
      "200/200 [==============================] - 132s 661ms/step - loss: 0.6663 - accuracy: 0.7819 - val_loss: 0.4618 - val_accuracy: 0.8472\n",
      "Epoch 3/3\n",
      "200/200 [==============================] - 133s 663ms/step - loss: 0.4327 - accuracy: 0.8639 - val_loss: 0.3740 - val_accuracy: 0.8853\n",
      "Epoch 1/3\n",
      "200/200 [==============================] - 130s 635ms/step - loss: 0.9347 - accuracy: 0.7177 - val_loss: 0.5496 - val_accuracy: 0.8211\n",
      "Epoch 2/3\n",
      "200/200 [==============================] - 125s 627ms/step - loss: 0.4386 - accuracy: 0.8601 - val_loss: 0.3754 - val_accuracy: 0.8797\n",
      "Epoch 3/3\n",
      "200/200 [==============================] - 129s 645ms/step - loss: 0.3232 - accuracy: 0.8994 - val_loss: 0.2782 - val_accuracy: 0.9112\n"
     ]
    },
    {
     "data": {
      "application/vnd.jupyter.widget-view+json": {
       "model_id": "3006911fdd2a430a9108cb5f83350d22",
       "version_major": 2,
       "version_minor": 0
      },
      "text/plain": [
       "  0%|          | 0/2 [00:00<?, ?it/s]"
      ]
     },
     "metadata": {},
     "output_type": "display_data"
    },
    {
     "data": {
      "application/vnd.jupyter.widget-view+json": {
       "model_id": "2e7b1626e6fd4be8af8bacd8a0250d81",
       "version_major": 2,
       "version_minor": 0
      },
      "text/plain": [
       "  0%|          | 0/2 [00:00<?, ?it/s]"
      ]
     },
     "metadata": {},
     "output_type": "display_data"
    },
    {
     "name": "stdout",
     "output_type": "stream",
     "text": [
      "Epoch 1/3\n",
      "400/400 [==============================] - 96s 236ms/step - loss: 1.3910 - accuracy: 0.6352 - val_loss: 1.2415 - val_accuracy: 0.6234\n",
      "Epoch 2/3\n",
      "400/400 [==============================] - 93s 234ms/step - loss: 1.2412 - accuracy: 0.6345 - val_loss: 1.2281 - val_accuracy: 0.6209\n",
      "Epoch 1/3\n",
      "400/400 [==============================] - 164s 406ms/step - loss: 5645306.5000 - accuracy: 0.6335 - val_loss: 1.5394 - val_accuracy: 0.6209\n",
      "Epoch 2/3\n",
      "400/400 [==============================] - 157s 393ms/step - loss: 1.4942 - accuracy: 0.6371 - val_loss: 1.5412 - val_accuracy: 0.6209\n",
      "Epoch 1/3\n",
      "400/400 [==============================] - 153s 376ms/step - loss: 1.4119 - accuracy: 0.6434 - val_loss: 0.9859 - val_accuracy: 0.6717\n",
      "Epoch 2/3\n",
      "400/400 [==============================] - 148s 369ms/step - loss: 0.8753 - accuracy: 0.7140 - val_loss: 0.6233 - val_accuracy: 0.7910\n",
      "Epoch 3/3\n",
      "400/400 [==============================] - 150s 376ms/step - loss: 0.6882 - accuracy: 0.7793 - val_loss: 0.5250 - val_accuracy: 0.8295\n",
      "Epoch 1/3\n",
      "400/400 [==============================] - 105s 257ms/step - loss: 1.3605 - accuracy: 0.6348 - val_loss: 1.2415 - val_accuracy: 0.6218\n",
      "Epoch 2/3\n",
      "400/400 [==============================] - 101s 253ms/step - loss: 1.2126 - accuracy: 0.6463 - val_loss: 1.2889 - val_accuracy: 0.6368\n",
      "Epoch 3/3\n",
      "400/400 [==============================] - 101s 252ms/step - loss: 1.1951 - accuracy: 0.6474 - val_loss: 1.2703 - val_accuracy: 0.6189\n",
      "Epoch 1/3\n",
      "400/400 [==============================] - 174s 427ms/step - loss: 38319532.0000 - accuracy: 0.6318 - val_loss: 1.5381 - val_accuracy: 0.6209\n",
      "Epoch 2/3\n",
      "400/400 [==============================] - 171s 427ms/step - loss: 1.4734 - accuracy: 0.6366 - val_loss: 1.4520 - val_accuracy: 0.6209\n",
      "Epoch 1/3\n",
      "400/400 [==============================] - 160s 393ms/step - loss: 1.8421 - accuracy: 0.6412 - val_loss: 1.0066 - val_accuracy: 0.6743\n",
      "Epoch 2/3\n",
      "400/400 [==============================] - 159s 398ms/step - loss: 0.9179 - accuracy: 0.7057 - val_loss: 0.6987 - val_accuracy: 0.7613\n",
      "Epoch 3/3\n",
      "400/400 [==============================] - 156s 389ms/step - loss: 0.6879 - accuracy: 0.7738 - val_loss: 0.5710 - val_accuracy: 0.8141\n"
     ]
    },
    {
     "data": {
      "application/vnd.jupyter.widget-view+json": {
       "model_id": "54b1bdbaf28b443b9fc73c7f7a8f70e0",
       "version_major": 2,
       "version_minor": 0
      },
      "text/plain": [
       "  0%|          | 0/2 [00:00<?, ?it/s]"
      ]
     },
     "metadata": {},
     "output_type": "display_data"
    },
    {
     "name": "stdout",
     "output_type": "stream",
     "text": [
      "Epoch 1/3\n",
      "200/200 [==============================] - 90s 443ms/step - loss: 1.6841 - accuracy: 0.6343 - val_loss: 1.3548 - val_accuracy: 0.6209\n",
      "Epoch 2/3\n",
      "200/200 [==============================] - 88s 440ms/step - loss: 1.2315 - accuracy: 0.6407 - val_loss: 1.2111 - val_accuracy: 0.6421\n",
      "Epoch 3/3\n",
      "200/200 [==============================] - 88s 440ms/step - loss: 1.1733 - accuracy: 0.6480 - val_loss: 1.1949 - val_accuracy: 0.6315\n",
      "Epoch 1/3\n",
      "200/200 [==============================] - 151s 743ms/step - loss: 12934639.0000 - accuracy: 0.6253 - val_loss: 1.2577 - val_accuracy: 0.6233\n",
      "Epoch 2/3\n",
      "200/200 [==============================] - 148s 738ms/step - loss: 1.1051 - accuracy: 0.6728 - val_loss: 0.8902 - val_accuracy: 0.7111\n",
      "Epoch 3/3\n",
      "200/200 [==============================] - 150s 749ms/step - loss: 0.8569 - accuracy: 0.7235 - val_loss: 0.6975 - val_accuracy: 0.7638\n",
      "Epoch 1/3\n",
      "200/200 [==============================] - 135s 660ms/step - loss: 1.4745 - accuracy: 0.6399 - val_loss: 1.0927 - val_accuracy: 0.6578\n",
      "Epoch 2/3\n",
      "200/200 [==============================] - 131s 657ms/step - loss: 0.9736 - accuracy: 0.6972 - val_loss: 0.8589 - val_accuracy: 0.7199\n",
      "Epoch 3/3\n",
      "200/200 [==============================] - 130s 651ms/step - loss: 0.7705 - accuracy: 0.7493 - val_loss: 0.6185 - val_accuracy: 0.7911\n",
      "Epoch 1/3\n",
      "200/200 [==============================] - 92s 450ms/step - loss: 1.5577 - accuracy: 0.6334 - val_loss: 2.4345 - val_accuracy: 0.6209\n",
      "Epoch 2/3\n",
      "200/200 [==============================] - 90s 452ms/step - loss: 1.2294 - accuracy: 0.6417 - val_loss: 1.1867 - val_accuracy: 0.6471\n",
      "Epoch 3/3\n",
      "200/200 [==============================] - 89s 447ms/step - loss: 1.1357 - accuracy: 0.6566 - val_loss: 1.0679 - val_accuracy: 0.6574\n",
      "Epoch 1/3\n",
      "200/200 [==============================] - 154s 758ms/step - loss: 57549692.0000 - accuracy: 0.6300 - val_loss: 1.1587 - val_accuracy: 0.6403\n",
      "Epoch 2/3\n",
      "200/200 [==============================] - 153s 763ms/step - loss: 1.1321 - accuracy: 0.6554 - val_loss: 1.1362 - val_accuracy: 0.6502\n",
      "Epoch 3/3\n",
      "200/200 [==============================] - 150s 751ms/step - loss: 0.9437 - accuracy: 0.6950 - val_loss: 0.8277 - val_accuracy: 0.7277\n",
      "Epoch 1/3\n",
      "200/200 [==============================] - 134s 656ms/step - loss: 1.5501 - accuracy: 0.6404 - val_loss: 1.0348 - val_accuracy: 0.6570\n",
      "Epoch 2/3\n",
      "200/200 [==============================] - 130s 652ms/step - loss: 0.8976 - accuracy: 0.7097 - val_loss: 0.7493 - val_accuracy: 0.7430\n",
      "Epoch 3/3\n",
      "200/200 [==============================] - 130s 650ms/step - loss: 0.7040 - accuracy: 0.7683 - val_loss: 0.5958 - val_accuracy: 0.8061\n"
     ]
    }
   ],
   "source": [
    "model1_acc_all, model2_acc_all, model3_acc_all = [], [], []\n",
    "\n",
    "for lr in tqdm(learning_rate):\n",
    "    model1_acc_lr, model2_acc_lr, model3_acc_lr = [], [], []\n",
    "    \n",
    "    for size in tqdm(batch_size):\n",
    "        model1_acc_bs, model2_acc_bs, model3_acc_bs = [], [], []        \n",
    "    \n",
    "        for i in tqdm(range(ITER)):\n",
    "            OPT = Adam(learning_rate=lr, clipnorm=1.0)\n",
    "            # SimpleRNN\n",
    "            model1 = rnn_network(INPUT_DIM, OUTPUT_DIM, SimpleRNN, OPT)\n",
    "            K.clear_session()\n",
    "            model1_history = model1.fit(X_train, Y_train,\n",
    "                                        batch_size=size, epochs=EPOCHS, verbose=1,\n",
    "                                        validation_data=(X_val, Y_val),\n",
    "                                        callbacks=[early_stop]\n",
    "                                       )\n",
    "\n",
    "            # LSTM\n",
    "            model2 = rnn_network(INPUT_DIM, OUTPUT_DIM, LSTM, OPT)\n",
    "            K.clear_session()\n",
    "            model2_history = model2.fit(X_train, Y_train,\n",
    "                                        batch_size=size, epochs=EPOCHS, verbose=1,\n",
    "                                        validation_data=(X_val, Y_val),\n",
    "                                        callbacks=[early_stop]\n",
    "                                       )\n",
    "\n",
    "            # GRU\n",
    "            model3 = rnn_network(INPUT_DIM, OUTPUT_DIM, GRU, OPT)\n",
    "            K.clear_session()\n",
    "            model3_history = model3.fit(X_train, Y_train,\n",
    "                                        batch_size=size, epochs=EPOCHS, verbose=1,\n",
    "                                        validation_data=(X_val, Y_val),\n",
    "                                        callbacks=[early_stop]\n",
    "                                       )\n",
    "            \n",
    "            # Save models predictions accuracies for each iteration\n",
    "            y_pred_1 = model1.predict(X_test)\n",
    "            y_pred_2 = model2.predict(X_test)\n",
    "            y_pred_3 = model3.predict(X_test)\n",
    "            y_pred_classes_1 = np.argmax(y_pred_1, axis=-1)\n",
    "            y_pred_classes_2 = np.argmax(y_pred_2, axis=-1)\n",
    "            y_pred_classes_3 = np.argmax(y_pred_3, axis=-1)\n",
    "\n",
    "            model1_acc_bs.append(accuracy_score(Y_test_classes, y_pred_classes_1))\n",
    "            model2_acc_bs.append(accuracy_score(Y_test_classes, y_pred_classes_2))\n",
    "            model3_acc_bs.append(accuracy_score(Y_test_classes, y_pred_classes_3))\n",
    "\n",
    "        model1_acc_lr.append(model1_acc_bs)\n",
    "        model2_acc_lr.append(model2_acc_bs)\n",
    "        model3_acc_lr.append(model3_acc_bs)\n",
    "        \n",
    "    # Save models results for each learning rate\n",
    "    model1_acc_all.append(model1_acc_lr)\n",
    "    model2_acc_all.append(model2_acc_lr)\n",
    "    model3_acc_all.append(model3_acc_lr)"
   ]
  },
  {
   "cell_type": "markdown",
   "id": "41e67f0c",
   "metadata": {},
   "source": [
    "### <span style='font-family:Georgia'> 2.1.2. Tuning results summary"
   ]
  },
  {
   "cell_type": "code",
   "execution_count": 31,
   "id": "aac0a5a0",
   "metadata": {
    "ExecuteTime": {
     "end_time": "2022-05-02T17:48:04.813360Z",
     "start_time": "2022-05-02T17:48:04.784057Z"
    }
   },
   "outputs": [],
   "source": [
    "acc_all = []\n",
    "model_1_acc_lr, model_2_acc_lr, model_3_acc_lr = [], [], []\n",
    "\n",
    "for i in range(len(learning_rate)):\n",
    "    model_1_acc_bs, model_2_acc_bs, model_3_acc_bs = [], [], []\n",
    "    for j in range(len(batch_size)):\n",
    "        # mean over iterations (mean score for each learning_rate-batch_size pair)\n",
    "        model_1_acc_bs.append(np.mean(model1_acc_all[i][j]))\n",
    "        model_2_acc_bs.append(np.mean(model2_acc_all[i][j]))\n",
    "        model_3_acc_bs.append(np.mean(model3_acc_all[i][j]))\n",
    "        \n",
    "    model_1_acc_lr.append(model_1_acc_bs)\n",
    "    model_2_acc_lr.append(model_2_acc_bs)\n",
    "    model_3_acc_lr.append(model_3_acc_bs)\n",
    "        \n",
    "    # mean over batch_sized (mean score for each learning_rate)\n",
    "    acc_all.append([\n",
    "        np.mean(model_1_acc_lr),\n",
    "        np.mean(model_2_acc_lr),\n",
    "        np.mean(model_3_acc_lr)\n",
    "    ])"
   ]
  },
  {
   "cell_type": "code",
   "execution_count": 32,
   "id": "15436b8c",
   "metadata": {
    "ExecuteTime": {
     "end_time": "2022-05-02T17:48:04.828977Z",
     "start_time": "2022-05-02T17:48:04.816015Z"
    }
   },
   "outputs": [],
   "source": [
    "# Accuracy depending on both: Learning rate & Batch size"
   ]
  },
  {
   "cell_type": "code",
   "execution_count": 33,
   "id": "d9f1afc7",
   "metadata": {
    "ExecuteTime": {
     "end_time": "2022-05-02T17:48:04.855316Z",
     "start_time": "2022-05-02T17:48:04.830975Z"
    }
   },
   "outputs": [],
   "source": [
    "models_results = [\n",
    "    pd.DataFrame(model_1_acc_lr, columns=batch_size, index=learning_rate),\n",
    "    pd.DataFrame(model_2_acc_lr, columns=batch_size, index=learning_rate),\n",
    "    pd.DataFrame(model_3_acc_lr, columns=batch_size, index=learning_rate)\n",
    "]"
   ]
  },
  {
   "cell_type": "code",
   "execution_count": 34,
   "id": "8f9598f1",
   "metadata": {
    "ExecuteTime": {
     "end_time": "2022-05-02T17:48:05.677128Z",
     "start_time": "2022-05-02T17:48:04.855316Z"
    }
   },
   "outputs": [
    {
     "data": {
      "image/png": "[encoded data removed]",
      "text/plain": [
       "<Figure size 1296x432 with 6 Axes>"
      ]
     },
     "metadata": {},
     "output_type": "display_data"
    }
   ],
   "source": [
    "plot_heatmaps(models_results, title=\"Hyperparameters tuning results\")"
   ]
  },
  {
   "cell_type": "code",
   "execution_count": 35,
   "id": "59537ffc",
   "metadata": {
    "ExecuteTime": {
     "end_time": "2022-05-02T17:48:05.693086Z",
     "start_time": "2022-05-02T17:48:05.679092Z"
    }
   },
   "outputs": [],
   "source": [
    "# Accuracy depending on both: Learning rate (mean over batch size)"
   ]
  },
  {
   "cell_type": "code",
   "execution_count": 36,
   "id": "cfc1b9f9",
   "metadata": {
    "ExecuteTime": {
     "end_time": "2022-05-02T17:48:05.715299Z",
     "start_time": "2022-05-02T17:48:05.695047Z"
    }
   },
   "outputs": [],
   "source": [
    "results_acc = pd.DataFrame(acc_all)\n",
    "results_acc.columns = ['SimpleRNN', 'LSTM', 'GRU']\n",
    "results_acc.index = learning_rate\n",
    "results_acc.index.name = \"Learning rate\"\n",
    "results_acc_melted = pd.melt(results_acc.reset_index(), id_vars=['Learning rate'], value_vars=['SimpleRNN', 'LSTM', 'GRU'])\n",
    "results_acc_melted.columns=['Learning rate', 'Model', 'Accuracy']\n",
    "results_acc.reset_index(inplace=True)"
   ]
  },
  {
   "cell_type": "code",
   "execution_count": 37,
   "id": "24649530",
   "metadata": {
    "ExecuteTime": {
     "end_time": "2022-05-02T17:48:06.064224Z",
     "start_time": "2022-05-02T17:48:05.715299Z"
    }
   },
   "outputs": [
    {
     "data": {
      "image/png": "[encoded data removed]",
      "text/plain": [
       "<Figure size 648x432 with 1 Axes>"
      ]
     },
     "metadata": {},
     "output_type": "display_data"
    }
   ],
   "source": [
    "for j in range(results_acc_melted.shape[0]):\n",
    "    results_acc_melted.loc[j, 'Learning rate'] = '{:.0e}'.format(results_acc_melted.loc[j, 'Learning rate'])\n",
    "sns.stripplot(x=\"Learning rate\", y=\"Accuracy\", hue=\"Model\",\n",
    "               data=results_acc_melted, palette=\"Set2\", dodge=False, jitter=0.0)    \n",
    "plt.title(\"Accuracy depending on learning rate\", size=14);"
   ]
  },
  {
   "cell_type": "markdown",
   "id": "153221a5",
   "metadata": {},
   "source": [
    "### <span style='font-family:Georgia'> 2.1.3. Tuned models overview"
   ]
  },
  {
   "cell_type": "code",
   "execution_count": 38,
   "id": "aadfd154",
   "metadata": {
    "ExecuteTime": {
     "end_time": "2022-05-02T18:10:57.506426Z",
     "start_time": "2022-05-02T17:48:06.066753Z"
    }
   },
   "outputs": [
    {
     "name": "stdout",
     "output_type": "stream",
     "text": [
      "Epoch 1/3\n",
      "400/400 [==============================] - 107s 263ms/step - loss: 1.3023 - accuracy: 0.6323 - val_loss: 1.0556 - val_accuracy: 0.6487\n",
      "Epoch 2/3\n",
      "400/400 [==============================] - 105s 262ms/step - loss: 0.8774 - accuracy: 0.7187 - val_loss: 0.6152 - val_accuracy: 0.7983\n",
      "Epoch 3/3\n",
      "400/400 [==============================] - 105s 263ms/step - loss: 0.6047 - accuracy: 0.8089 - val_loss: 0.4969 - val_accuracy: 0.8364\n",
      "Epoch 1/3\n",
      "400/400 [==============================] - 181s 445ms/step - loss: 1.3559 - accuracy: 0.6313 - val_loss: 1.1507 - val_accuracy: 0.6805\n",
      "Epoch 2/3\n",
      "400/400 [==============================] - 178s 445ms/step - loss: 0.8868 - accuracy: 0.7249 - val_loss: 0.6750 - val_accuracy: 0.7919\n",
      "Epoch 3/3\n",
      "400/400 [==============================] - 178s 446ms/step - loss: 0.6397 - accuracy: 0.7976 - val_loss: 0.4907 - val_accuracy: 0.8497\n",
      "Epoch 1/3\n",
      "400/400 [==============================] - 165s 406ms/step - loss: 0.8529 - accuracy: 0.7466 - val_loss: 0.3880 - val_accuracy: 0.8816\n",
      "Epoch 2/3\n",
      "400/400 [==============================] - 164s 409ms/step - loss: 0.3453 - accuracy: 0.8916 - val_loss: 0.2710 - val_accuracy: 0.9139\n",
      "Epoch 3/3\n",
      "400/400 [==============================] - 162s 404ms/step - loss: 0.2556 - accuracy: 0.9214 - val_loss: 0.2570 - val_accuracy: 0.9206\n"
     ]
    }
   ],
   "source": [
    "# TODO: select the best learning rate & batch size pair for each model\n",
    "EPOCHS = 3  # TODO: increase EPOCHS number\n",
    "MODELS = ['SimpleRNN', 'LSTM', 'GRU']\n",
    "LEARNING_RATES = [1e-3, 1e-4, 1e-3]\n",
    "BATCH_SIZES = [128, 128, 128]\n",
    "\n",
    "# SimpleRNN\n",
    "OPT = Adam(learning_rate=LEARNING_RATES[0], clipnorm=1.0)\n",
    "model1 = rnn_network(INPUT_DIM, OUTPUT_DIM, SimpleRNN, OPT)\n",
    "K.clear_session()\n",
    "model1_history = model1.fit(X_train, Y_train,\n",
    "                            batch_size=BATCH_SIZES[0], epochs=EPOCHS, verbose=1,\n",
    "                            validation_data=(X_val, Y_val),\n",
    "                            callbacks=[early_stop]\n",
    "                           )\n",
    "\n",
    "# LSTM\n",
    "OPT = Adam(learning_rate=LEARNING_RATES[1], clipnorm=1.0)\n",
    "model2 = rnn_network(INPUT_DIM, OUTPUT_DIM, LSTM, OPT)\n",
    "K.clear_session()\n",
    "model2_history = model2.fit(X_train, Y_train,\n",
    "                            batch_size=BATCH_SIZES[1], epochs=EPOCHS, verbose=1,\n",
    "                            validation_data=(X_val, Y_val),\n",
    "                            callbacks=[early_stop]\n",
    "                           )\n",
    "\n",
    "# GRU\n",
    "OPT = Adam(learning_rate=LEARNING_RATES[2], clipnorm=1.0)\n",
    "model3 = rnn_network(INPUT_DIM, OUTPUT_DIM, GRU, OPT)\n",
    "K.clear_session()\n",
    "model3_history = model3.fit(X_train, Y_train,\n",
    "                            batch_size=BATCH_SIZES[2], epochs=EPOCHS, verbose=1,\n",
    "                            validation_data=(X_val, Y_val),\n",
    "                            callbacks=[early_stop]\n",
    "                           )\n",
    "\n",
    "# Save models predictions accuracies for each iteration\n",
    "y_pred_1 = model1.predict(X_test)\n",
    "y_pred_2 = model2.predict(X_test)\n",
    "y_pred_3 = model3.predict(X_test)\n",
    "y_pred_classes_1 = np.argmax(y_pred_1, axis=-1)\n",
    "y_pred_classes_2 = np.argmax(y_pred_2, axis=-1)\n",
    "y_pred_classes_3 = np.argmax(y_pred_3, axis=-1)"
   ]
  },
  {
   "cell_type": "code",
   "execution_count": 39,
   "id": "f360ae9d",
   "metadata": {
    "ExecuteTime": {
     "end_time": "2022-05-02T18:10:58.128911Z",
     "start_time": "2022-05-02T18:10:57.511515Z"
    }
   },
   "outputs": [
    {
     "data": {
      "image/png": "[encoded data removed]",
      "text/plain": [
       "<Figure size 1296x432 with 3 Axes>"
      ]
     },
     "metadata": {},
     "output_type": "display_data"
    }
   ],
   "source": [
    "# Convergence analysis\n",
    "models_history = [model1_history, model2_history, model3_history]\n",
    "\n",
    "fig, axes = plt.subplots(1,3,figsize=(18,6))\n",
    "models = ['1', '2', '3']\n",
    "for i in range(3):\n",
    "    model_name=MODELS[i]\n",
    "    history = models_history[i]\n",
    "    data_lr = history.history['loss']\n",
    "    sns.lineplot(data=data_lr, ax=axes[i])\n",
    "    if i == 0 : axes[i].set_ylim([0,2.5]) # due to huge loss values for 1e-2 (to make other lines visible)\n",
    "    axes[i].set_title('Model '+model_name)\n",
    "    axes[i].set_xlabel('Epoch', size=12)\n",
    "    axes[i].set_ylabel('Loss', size=12)\n",
    "fig.suptitle(\"Convergence analysis\", size=15)\n",
    "plt.show()"
   ]
  },
  {
   "cell_type": "code",
   "execution_count": 40,
   "id": "67439893",
   "metadata": {
    "ExecuteTime": {
     "end_time": "2022-05-02T18:11:00.644742Z",
     "start_time": "2022-05-02T18:10:58.130906Z"
    }
   },
   "outputs": [
    {
     "data": {
      "image/png": "[encoded data removed]",
      "text/plain": [
       "<Figure size 1296x432 with 6 Axes>"
      ]
     },
     "metadata": {},
     "output_type": "display_data"
    }
   ],
   "source": [
    "# Models evaluation- confusion matrices\n",
    "models_results = [pd.DataFrame(confusion_matrix(Y_test_classes, y_pred_classes_1)),\n",
    "                  pd.DataFrame(confusion_matrix(Y_test_classes, y_pred_classes_2)),\n",
    "                  pd.DataFrame(confusion_matrix(Y_test_classes, y_pred_classes_3))]\n",
    "\n",
    "plot_confusion_matr(models_results, 'Models evaluation')"
   ]
  },
  {
   "cell_type": "markdown",
   "id": "143daa87",
   "metadata": {},
   "source": [
    "## <span style='font-family:Georgia'> 2.2. Noise data handling"
   ]
  },
  {
   "cell_type": "markdown",
   "id": "52034972",
   "metadata": {},
   "source": [
    "### <span style='font-family:Georgia'> 2.2.1. Approach 1 - taking `background_noise` observations as separate `silence` class"
   ]
  },
  {
   "cell_type": "code",
   "execution_count": 41,
   "id": "ba0cb6d8",
   "metadata": {
    "ExecuteTime": {
     "end_time": "2022-05-02T18:11:00.654104Z",
     "start_time": "2022-05-02T18:11:00.646736Z"
    }
   },
   "outputs": [],
   "source": [
    "x_train, x_val, x_test = x_train_1, x_val_1, x_test_1\n",
    "y_train, y_val, y_test = y_train_1, y_val_1, y_test_1"
   ]
  },
  {
   "cell_type": "code",
   "execution_count": 44,
   "id": "d92ba142",
   "metadata": {
    "ExecuteTime": {
     "end_time": "2022-05-02T19:28:06.404910Z",
     "start_time": "2022-05-02T19:28:06.399958Z"
    }
   },
   "outputs": [],
   "source": [
    "# hyperparameters set-up\n",
    "INPUT_DIM = (x_train.shape[1], x_train.shape[2])\n",
    "OUTPUT_DIM = y_train.shape[1]\n",
    "\n",
    "early_stop = EarlyStopping(monitor='val_accuracy', patience=PATIENCE, min_delta=MIN_DELTA)\n",
    "\n",
    "# TODO: Choose best LR & BATCH_SIZE\n",
    "BATCH_SIZE = 128\n",
    "LR = 1e-4\n",
    "OPT = Adam(learning_rate=LR, clipnorm=1.0)"
   ]
  },
  {
   "cell_type": "code",
   "execution_count": 45,
   "id": "6bae78ee",
   "metadata": {
    "ExecuteTime": {
     "end_time": "2022-05-02T20:13:23.958611Z",
     "start_time": "2022-05-02T19:28:07.569577Z"
    }
   },
   "outputs": [
    {
     "data": {
      "application/vnd.jupyter.widget-view+json": {
       "model_id": "f6b111a0c3174c02a68e03bd2d22498a",
       "version_major": 2,
       "version_minor": 0
      },
      "text/plain": [
       "  0%|          | 0/2 [00:00<?, ?it/s]"
      ]
     },
     "metadata": {},
     "output_type": "display_data"
    },
    {
     "name": "stdout",
     "output_type": "stream",
     "text": [
      "Epoch 1/3\n",
      "402/402 [==============================] - 112s 274ms/step - loss: 1.5349 - accuracy: 0.6228 - val_loss: 1.3779 - val_accuracy: 0.6218\n",
      "Epoch 2/3\n",
      "402/402 [==============================] - 103s 257ms/step - loss: 1.3072 - accuracy: 0.6324 - val_loss: 1.2025 - val_accuracy: 0.6278\n",
      "Epoch 3/3\n",
      "402/402 [==============================] - 104s 259ms/step - loss: 1.1746 - accuracy: 0.6399 - val_loss: 1.0566 - val_accuracy: 0.6471\n",
      "Epoch 1/3\n",
      "402/402 [==============================] - 172s 422ms/step - loss: 1.2702 - accuracy: 0.6491 - val_loss: 0.8919 - val_accuracy: 0.7083\n",
      "Epoch 2/3\n",
      "402/402 [==============================] - 169s 420ms/step - loss: 0.7569 - accuracy: 0.7622 - val_loss: 0.5308 - val_accuracy: 0.8295\n",
      "Epoch 3/3\n",
      "402/402 [==============================] - 168s 418ms/step - loss: 0.5209 - accuracy: 0.8380 - val_loss: 0.4122 - val_accuracy: 0.8704\n",
      "Epoch 1/3\n",
      "402/402 [==============================] - 164s 401ms/step - loss: 1.0999 - accuracy: 0.6814 - val_loss: 0.6021 - val_accuracy: 0.8047\n",
      "Epoch 2/3\n",
      "402/402 [==============================] - 160s 398ms/step - loss: 0.5103 - accuracy: 0.8330 - val_loss: 0.4108 - val_accuracy: 0.8728\n",
      "Epoch 3/3\n",
      "402/402 [==============================] - 173s 431ms/step - loss: 0.3727 - accuracy: 0.8824 - val_loss: 0.3001 - val_accuracy: 0.9071\n",
      "Epoch 1/3\n",
      "402/402 [==============================] - 104s 253ms/step - loss: 1.4001 - accuracy: 0.6277 - val_loss: 1.2081 - val_accuracy: 0.6275\n",
      "Epoch 2/3\n",
      "402/402 [==============================] - 112s 278ms/step - loss: 1.1388 - accuracy: 0.6554 - val_loss: 0.9879 - val_accuracy: 0.6819\n",
      "Epoch 3/3\n",
      "402/402 [==============================] - 104s 258ms/step - loss: 0.9775 - accuracy: 0.6869 - val_loss: 0.8406 - val_accuracy: 0.7251\n",
      "Epoch 1/3\n",
      "402/402 [==============================] - 172s 423ms/step - loss: 1.1268 - accuracy: 0.6736 - val_loss: 0.7214 - val_accuracy: 0.7597\n",
      "Epoch 2/3\n",
      "402/402 [==============================] - 176s 437ms/step - loss: 0.6307 - accuracy: 0.7981 - val_loss: 0.4682 - val_accuracy: 0.8577\n",
      "Epoch 3/3\n",
      "402/402 [==============================] - 173s 431ms/step - loss: 0.4616 - accuracy: 0.8552 - val_loss: 0.3762 - val_accuracy: 0.8845\n",
      "Epoch 1/3\n",
      "402/402 [==============================] - 167s 410ms/step - loss: 1.1003 - accuracy: 0.6825 - val_loss: 0.5552 - val_accuracy: 0.8281\n",
      "Epoch 2/3\n",
      "402/402 [==============================] - 167s 416ms/step - loss: 0.4971 - accuracy: 0.8370 - val_loss: 0.3610 - val_accuracy: 0.8877\n",
      "Epoch 3/3\n",
      "402/402 [==============================] - 162s 403ms/step - loss: 0.3692 - accuracy: 0.8824 - val_loss: 0.3048 - val_accuracy: 0.9061\n"
     ]
    }
   ],
   "source": [
    "# Models training\n",
    "model1_stats = []\n",
    "model1_acc = []\n",
    "model2_stats = []\n",
    "model2_acc = []\n",
    "model3_stats = []\n",
    "model3_acc = []\n",
    "\n",
    "for i in tqdm(range(ITER)):\n",
    "    # SimpleRNN\n",
    "    model1 = rnn_network(INPUT_DIM, OUTPUT_DIM, SimpleRNN, OPT)\n",
    "    K.clear_session()\n",
    "    model1_history = model1.fit(x_train, y_train,\n",
    "                                batch_size=BATCH_SIZE, epochs=EPOCHS, verbose=1,\n",
    "                                validation_data=(x_val, y_val),\n",
    "                                callbacks=[early_stop]\n",
    "                               )\n",
    "    \n",
    "    # LSTM\n",
    "    model2 = rnn_network(INPUT_DIM, OUTPUT_DIM, LSTM, OPT)\n",
    "    K.clear_session()\n",
    "    model2_history = model2.fit(x_train, y_train,\n",
    "                                batch_size=BATCH_SIZE, epochs=EPOCHS, verbose=1,\n",
    "                                validation_data=(x_val, y_val),\n",
    "                                callbacks=[early_stop]\n",
    "                               )\n",
    "    \n",
    "    # GRU\n",
    "    model3 = rnn_network(INPUT_DIM, OUTPUT_DIM, GRU, OPT)\n",
    "    K.clear_session()\n",
    "    model3_history = model3.fit(x_train, y_train,\n",
    "                                batch_size=BATCH_SIZE, epochs=EPOCHS, verbose=1,\n",
    "                                validation_data=(x_val, y_val),\n",
    "                                callbacks=[early_stop]\n",
    "                               )\n",
    "    \n",
    "    # Saving results\n",
    "    y_test_classes = np.argmax(y_test, axis=1)\n",
    "    \n",
    "    model1_stats.append(model1_history)\n",
    "    y_pred_1 = model1.predict(x_test)\n",
    "    y_pred_classes_1 = np.argmax(y_pred_1, axis=-1)\n",
    "    model1_acc.append(accuracy_score(y_test_classes, y_pred_classes_1))\n",
    "\n",
    "    model2_stats.append(model2_history)\n",
    "    y_pred_2 = model2.predict(x_test)\n",
    "    y_pred_classes_2 = np.argmax(y_pred_2, axis=-1)\n",
    "    model2_acc.append(accuracy_score(y_test_classes, y_pred_classes_2))\n",
    "    \n",
    "    model3_stats.append(model3_history)\n",
    "    y_pred_3 = model3.predict(x_test)\n",
    "    y_pred_classes_3 = np.argmax(y_pred_3, axis=-1)\n",
    "    model3_acc.append(accuracy_score(y_test_classes, y_pred_classes_3))"
   ]
  },
  {
   "cell_type": "code",
   "execution_count": 46,
   "id": "7b7b8b28",
   "metadata": {
    "ExecuteTime": {
     "end_time": "2022-05-02T20:13:24.005050Z",
     "start_time": "2022-05-02T20:13:23.960678Z"
    }
   },
   "outputs": [],
   "source": [
    "# Models summary\n",
    "approach1_acc_results = pd.DataFrame([model1_acc, model2_acc, model3_acc]).T\n",
    "approach1_acc_results.columns=['SimpleRNN', 'LSTM', 'GRU']\n",
    "approach1_acc_results_stats = approach1_acc_results.describe().T[['mean', 'std', 'min', 'max']]"
   ]
  },
  {
   "cell_type": "code",
   "execution_count": 47,
   "id": "90aaded6",
   "metadata": {
    "ExecuteTime": {
     "end_time": "2022-05-02T20:13:24.034348Z",
     "start_time": "2022-05-02T20:13:24.008561Z"
    }
   },
   "outputs": [
    {
     "data": {
      "text/html": [
       "<div>\n",
       "<style scoped>\n",
       "    .dataframe tbody tr th:only-of-type {\n",
       "        vertical-align: middle;\n",
       "    }\n",
       "\n",
       "    .dataframe tbody tr th {\n",
       "        vertical-align: top;\n",
       "    }\n",
       "\n",
       "    .dataframe thead th {\n",
       "        text-align: right;\n",
       "    }\n",
       "</style>\n",
       "<table border=\"1\" class=\"dataframe\">\n",
       "  <thead>\n",
       "    <tr style=\"text-align: right;\">\n",
       "      <th></th>\n",
       "      <th>mean</th>\n",
       "      <th>std</th>\n",
       "      <th>min</th>\n",
       "      <th>max</th>\n",
       "      <th>epochs</th>\n",
       "    </tr>\n",
       "  </thead>\n",
       "  <tbody>\n",
       "    <tr>\n",
       "      <th>SimpleRNN</th>\n",
       "      <td>0.682254</td>\n",
       "      <td>0.051344</td>\n",
       "      <td>0.645948</td>\n",
       "      <td>0.718559</td>\n",
       "      <td>3.0</td>\n",
       "    </tr>\n",
       "    <tr>\n",
       "      <th>LSTM</th>\n",
       "      <td>0.881208</td>\n",
       "      <td>0.010269</td>\n",
       "      <td>0.873947</td>\n",
       "      <td>0.888469</td>\n",
       "      <td>3.0</td>\n",
       "    </tr>\n",
       "    <tr>\n",
       "      <th>GRU</th>\n",
       "      <td>0.909309</td>\n",
       "      <td>0.000308</td>\n",
       "      <td>0.909091</td>\n",
       "      <td>0.909527</td>\n",
       "      <td>3.0</td>\n",
       "    </tr>\n",
       "  </tbody>\n",
       "</table>\n",
       "</div>"
      ],
      "text/plain": [
       "               mean       std       min       max  epochs\n",
       "SimpleRNN  0.682254  0.051344  0.645948  0.718559     3.0\n",
       "LSTM       0.881208  0.010269  0.873947  0.888469     3.0\n",
       "GRU        0.909309  0.000308  0.909091  0.909527     3.0"
      ]
     },
     "execution_count": 47,
     "metadata": {},
     "output_type": "execute_result"
    }
   ],
   "source": [
    "model1_epochs = []\n",
    "model2_epochs = []\n",
    "model3_epochs = []\n",
    "for i in range(ITER):\n",
    "    model1_epochs.append(len(model1_stats[i].history['loss']))\n",
    "    model2_epochs.append(len(model2_stats[i].history['loss']))\n",
    "    model3_epochs.append(len(model3_stats[i].history['loss']))\n",
    "    \n",
    "approach1_acc_results_stats['epochs'] = [np.array(model1_epochs).mean(), np.array(model2_epochs).mean(),\n",
    "                                      np.array(model3_epochs).mean()]\n",
    "approach1_acc_results_stats"
   ]
  },
  {
   "cell_type": "markdown",
   "id": "72095d57",
   "metadata": {},
   "source": [
    "### <span style='font-family:Georgia'> 2.2.2. Approach 2 - noising the training subset(s) with the `background_noise` class observations"
   ]
  },
  {
   "cell_type": "code",
   "execution_count": 48,
   "id": "a74bf8fe",
   "metadata": {
    "ExecuteTime": {
     "end_time": "2022-05-02T20:13:24.049735Z",
     "start_time": "2022-05-02T20:13:24.034348Z"
    }
   },
   "outputs": [],
   "source": [
    "x_train, x_val, x_test = x_train_2, X_val, X_test\n",
    "y_train, y_val, y_test = y_train_2, Y_val, Y_test"
   ]
  },
  {
   "cell_type": "code",
   "execution_count": 49,
   "id": "ce5b2c14",
   "metadata": {
    "ExecuteTime": {
     "end_time": "2022-05-02T20:13:24.065694Z",
     "start_time": "2022-05-02T20:13:24.052729Z"
    }
   },
   "outputs": [],
   "source": [
    "# hyperparameters set-up\n",
    "INPUT_DIM = (x_train.shape[1], x_train.shape[2])\n",
    "OUTPUT_DIM = y_train.shape[1]\n",
    "\n",
    "early_stop = EarlyStopping(monitor='val_accuracy', patience=PATIENCE, min_delta=MIN_DELTA)\n",
    "\n",
    "# TODO: Choose best LR & BATCH_SIZE\n",
    "BATCH_SIZE = 128\n",
    "LR = 1e-4\n",
    "OPT = Adam(learning_rate=LR, clipnorm=1.0)"
   ]
  },
  {
   "cell_type": "code",
   "execution_count": 50,
   "id": "a6a39295",
   "metadata": {
    "ExecuteTime": {
     "end_time": "2022-05-02T21:05:02.607788Z",
     "start_time": "2022-05-02T20:13:24.068684Z"
    }
   },
   "outputs": [
    {
     "data": {
      "application/vnd.jupyter.widget-view+json": {
       "model_id": "f2c13d877c894124b3ecd7f27e639c5c",
       "version_major": 2,
       "version_minor": 0
      },
      "text/plain": [
       "  0%|          | 0/2 [00:00<?, ?it/s]"
      ]
     },
     "metadata": {},
     "output_type": "display_data"
    },
    {
     "name": "stdout",
     "output_type": "stream",
     "text": [
      "Epoch 1/3\n",
      "440/440 [==============================] - 134s 298ms/step - loss: 1.5334 - accuracy: 0.6205 - val_loss: 1.3260 - val_accuracy: 0.6211\n",
      "Epoch 2/3\n",
      "440/440 [==============================] - 117s 266ms/step - loss: 1.3267 - accuracy: 0.6364 - val_loss: 1.2292 - val_accuracy: 0.6274\n",
      "Epoch 3/3\n",
      "440/440 [==============================] - 120s 272ms/step - loss: 1.2255 - accuracy: 0.6464 - val_loss: 1.0551 - val_accuracy: 0.6711\n",
      "Epoch 1/3\n",
      "440/440 [==============================] - 218s 491ms/step - loss: 1.2274 - accuracy: 0.6599 - val_loss: 0.8067 - val_accuracy: 0.7510\n",
      "Epoch 2/3\n",
      "440/440 [==============================] - 209s 474ms/step - loss: 0.7808 - accuracy: 0.7642 - val_loss: 0.4942 - val_accuracy: 0.8395\n",
      "Epoch 3/3\n",
      "440/440 [==============================] - 225s 511ms/step - loss: 0.6015 - accuracy: 0.8196 - val_loss: 0.4144 - val_accuracy: 0.8725\n",
      "Epoch 1/3\n",
      "440/440 [==============================] - 185s 413ms/step - loss: 1.1065 - accuracy: 0.6840 - val_loss: 0.5754 - val_accuracy: 0.8207\n",
      "Epoch 2/3\n",
      "440/440 [==============================] - 185s 421ms/step - loss: 0.6132 - accuracy: 0.8119 - val_loss: 0.3728 - val_accuracy: 0.8863\n",
      "Epoch 3/3\n",
      "440/440 [==============================] - 197s 449ms/step - loss: 0.4828 - accuracy: 0.8578 - val_loss: 0.3213 - val_accuracy: 0.8984\n",
      "Epoch 1/3\n",
      "440/440 [==============================] - 115s 257ms/step - loss: 1.4003 - accuracy: 0.6318 - val_loss: 1.2263 - val_accuracy: 0.6258\n",
      "Epoch 2/3\n",
      "440/440 [==============================] - 117s 265ms/step - loss: 1.2344 - accuracy: 0.6371 - val_loss: 1.1347 - val_accuracy: 0.6292\n",
      "Epoch 3/3\n",
      "440/440 [==============================] - 113s 257ms/step - loss: 1.1236 - accuracy: 0.6494 - val_loss: 0.9900 - val_accuracy: 0.6633\n",
      "Epoch 1/3\n",
      "440/440 [==============================] - 201s 449ms/step - loss: 1.1833 - accuracy: 0.6604 - val_loss: 0.7476 - val_accuracy: 0.7511\n",
      "Epoch 2/3\n",
      "440/440 [==============================] - 200s 454ms/step - loss: 0.7431 - accuracy: 0.7701 - val_loss: 0.4844 - val_accuracy: 0.8435\n",
      "Epoch 3/3\n",
      "440/440 [==============================] - 197s 448ms/step - loss: 0.5743 - accuracy: 0.8282 - val_loss: 0.4191 - val_accuracy: 0.8707\n",
      "Epoch 1/3\n",
      "440/440 [==============================] - 173s 388ms/step - loss: 1.1480 - accuracy: 0.6721 - val_loss: 0.6110 - val_accuracy: 0.7944\n",
      "Epoch 2/3\n",
      "440/440 [==============================] - 170s 387ms/step - loss: 0.5976 - accuracy: 0.8189 - val_loss: 0.3627 - val_accuracy: 0.8901\n",
      "Epoch 3/3\n",
      "440/440 [==============================] - 168s 382ms/step - loss: 0.4678 - accuracy: 0.8647 - val_loss: 0.3055 - val_accuracy: 0.9051\n"
     ]
    }
   ],
   "source": [
    "# Models training\n",
    "model4_stats = []\n",
    "model4_acc = []\n",
    "model5_stats = []\n",
    "model5_acc = []\n",
    "model6_stats = []\n",
    "model6_acc = []\n",
    "\n",
    "for i in tqdm(range(ITER)):\n",
    "    # SimpleRNN\n",
    "    model4 = rnn_network(INPUT_DIM, OUTPUT_DIM, SimpleRNN, OPT)\n",
    "    K.clear_session()\n",
    "    model4_history = model4.fit(x_train, y_train,\n",
    "                                batch_size=BATCH_SIZE, epochs=EPOCHS, verbose=1,\n",
    "                                validation_data=(x_val, y_val),\n",
    "                                callbacks=[early_stop]\n",
    "                               )\n",
    "    \n",
    "    # LSTM\n",
    "    model5 = rnn_network(INPUT_DIM, OUTPUT_DIM, LSTM, OPT)\n",
    "    K.clear_session()\n",
    "    \n",
    "    model5_history = model5.fit(x_train, y_train,\n",
    "                                batch_size=BATCH_SIZE, epochs=EPOCHS, verbose=1,\n",
    "                                validation_data=(x_val, y_val),\n",
    "                                callbacks=[early_stop]\n",
    "                               )\n",
    "    \n",
    "    # GRU\n",
    "    model6 = rnn_network(INPUT_DIM, OUTPUT_DIM, GRU, OPT)\n",
    "    K.clear_session()\n",
    "    model6_history = model6.fit(x_train, y_train,\n",
    "                                batch_size=BATCH_SIZE, epochs=EPOCHS, verbose=1,\n",
    "                                validation_data=(x_val, y_val),\n",
    "                                callbacks=[early_stop]\n",
    "                               )\n",
    "    \n",
    "    # Saving results\n",
    "    y_test_classes = np.argmax(y_test, axis=1)\n",
    "    \n",
    "    model4_stats.append(model4_history)\n",
    "    y_pred_4 = model4.predict(x_test)\n",
    "    y_pred_classes_4 = np.argmax(y_pred_4, axis=-1)\n",
    "    model4_acc.append(accuracy_score(y_test_classes, y_pred_classes_4))\n",
    "\n",
    "    model5_stats.append(model5_history)\n",
    "    y_pred_5 = model5.predict(x_test)\n",
    "    y_pred_classes_5 = np.argmax(y_pred_5, axis=-1)\n",
    "    model5_acc.append(accuracy_score(y_test_classes, y_pred_classes_5))\n",
    "    \n",
    "    model6_stats.append(model6_history)\n",
    "    y_pred_6 = model6.predict(x_test)\n",
    "    y_pred_classes_6 = np.argmax(y_pred_6, axis=-1)\n",
    "    model6_acc.append(accuracy_score(y_test_classes, y_pred_classes_6))"
   ]
  },
  {
   "cell_type": "code",
   "execution_count": 51,
   "id": "47c2ffb8",
   "metadata": {
    "ExecuteTime": {
     "end_time": "2022-05-02T21:05:02.696500Z",
     "start_time": "2022-05-02T21:05:02.612806Z"
    }
   },
   "outputs": [],
   "source": [
    "# Models summary\n",
    "approach2_acc_results = pd.DataFrame([model4_acc, model5_acc, model6_acc]).T\n",
    "approach2_acc_results.columns=['SimpleRNN', 'LSTM', 'GRU']\n",
    "approach2_acc_results_stats = approach2_acc_results.describe().T[['mean', 'std', 'min', 'max']]"
   ]
  },
  {
   "cell_type": "code",
   "execution_count": 52,
   "id": "c52a9f19",
   "metadata": {
    "ExecuteTime": {
     "end_time": "2022-05-02T21:05:02.733475Z",
     "start_time": "2022-05-02T21:05:02.699492Z"
    }
   },
   "outputs": [
    {
     "data": {
      "text/html": [
       "<div>\n",
       "<style scoped>\n",
       "    .dataframe tbody tr th:only-of-type {\n",
       "        vertical-align: middle;\n",
       "    }\n",
       "\n",
       "    .dataframe tbody tr th {\n",
       "        vertical-align: top;\n",
       "    }\n",
       "\n",
       "    .dataframe thead th {\n",
       "        text-align: right;\n",
       "    }\n",
       "</style>\n",
       "<table border=\"1\" class=\"dataframe\">\n",
       "  <thead>\n",
       "    <tr style=\"text-align: right;\">\n",
       "      <th></th>\n",
       "      <th>mean</th>\n",
       "      <th>std</th>\n",
       "      <th>min</th>\n",
       "      <th>max</th>\n",
       "      <th>epochs</th>\n",
       "    </tr>\n",
       "  </thead>\n",
       "  <tbody>\n",
       "    <tr>\n",
       "      <th>SimpleRNN</th>\n",
       "      <td>0.672495</td>\n",
       "      <td>0.002173</td>\n",
       "      <td>0.670958</td>\n",
       "      <td>0.674031</td>\n",
       "      <td>3.0</td>\n",
       "    </tr>\n",
       "    <tr>\n",
       "      <th>LSTM</th>\n",
       "      <td>0.877249</td>\n",
       "      <td>0.002069</td>\n",
       "      <td>0.875786</td>\n",
       "      <td>0.878713</td>\n",
       "      <td>3.0</td>\n",
       "    </tr>\n",
       "    <tr>\n",
       "      <th>GRU</th>\n",
       "      <td>0.907388</td>\n",
       "      <td>0.006621</td>\n",
       "      <td>0.902707</td>\n",
       "      <td>0.912070</td>\n",
       "      <td>3.0</td>\n",
       "    </tr>\n",
       "  </tbody>\n",
       "</table>\n",
       "</div>"
      ],
      "text/plain": [
       "               mean       std       min       max  epochs\n",
       "SimpleRNN  0.672495  0.002173  0.670958  0.674031     3.0\n",
       "LSTM       0.877249  0.002069  0.875786  0.878713     3.0\n",
       "GRU        0.907388  0.006621  0.902707  0.912070     3.0"
      ]
     },
     "execution_count": 52,
     "metadata": {},
     "output_type": "execute_result"
    }
   ],
   "source": [
    "model4_epochs = []\n",
    "model5_epochs = []\n",
    "model6_epochs = []\n",
    "for i in range(ITER):\n",
    "    model4_epochs.append(len(model4_stats[i].history['loss']))\n",
    "    model5_epochs.append(len(model5_stats[i].history['loss']))\n",
    "    model6_epochs.append(len(model6_stats[i].history['loss']))\n",
    "    \n",
    "approach2_acc_results_stats['epochs'] = [np.array(model4_epochs).mean(), np.array(model5_epochs).mean(),\n",
    "                                      np.array(model6_epochs).mean()]\n",
    "approach2_acc_results_stats"
   ]
  },
  {
   "cell_type": "code",
   "execution_count": null,
   "id": "f2240dd4",
   "metadata": {},
   "outputs": [],
   "source": []
  }
 ],
 "metadata": {
  "kernelspec": {
   "display_name": "Python 3",
   "language": "python",
   "name": "python3"
  }
 },
 "nbformat": 4,
 "nbformat_minor": 5
}
