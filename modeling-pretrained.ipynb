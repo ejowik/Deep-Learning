{
 "cells": [
  {
   "cell_type": "code",
   "execution_count": 1,
   "id": "286fa481",
   "metadata": {
    "ExecuteTime": {
     "end_time": "2022-03-21T08:14:04.022914Z",
     "start_time": "2022-03-21T08:13:33.997363Z"
    }
   },
   "outputs": [
    {
     "name": "stderr",
     "output_type": "stream",
     "text": [
      "2022-04-05 17:58:47.688754: W tensorflow/stream_executor/platform/default/dso_loader.cc:64] Could not load dynamic library 'libcudart.so.11.0'; dlerror: libcudart.so.11.0: cannot open shared object file: No such file or directory\n",
      "2022-04-05 17:58:47.688778: I tensorflow/stream_executor/cuda/cudart_stub.cc:29] Ignore above cudart dlerror if you do not have a GPU set up on your machine.\n"
     ]
    }
   ],
   "source": [
    "import pandas as pd\n",
    "import keras\n",
    "import numpy as np\n",
    "\n",
    "# Import CIFAR 10 dataset\n",
    "from keras.datasets import cifar10\n",
    "\n",
    "from keras.preprocessing.image import ImageDataGenerator\n",
    "\n",
    "# Import Necessary CNN Building Blocks\n",
    "from keras.models import Sequential, Model\n",
    "from keras.layers import Conv2D, MaxPooling2D, Flatten, Dense, Activation, Dropout, MaxPool2D, BatchNormalization, GlobalAveragePooling2D, UpSampling2D\n",
    "from keras.layers.advanced_activations import LeakyReLU\n",
    "\n",
    "from keras import backend as K\n",
    "from keras import applications\n",
    "from keras import callbacks\n",
    "from keras import optimizers\n",
    "from keras.utils import np_utils\n",
    "import random\n",
    "\n",
    "import tensorflow as tf\n",
    "import tensorflow_addons as tfa\n",
    "\n",
    "from sklearn.metrics import classification_report, confusion_matrix\n",
    "from tensorflow.keras.callbacks import EarlyStopping"
   ]
  },
  {
   "cell_type": "code",
   "execution_count": 2,
   "id": "8aa4a7d3",
   "metadata": {
    "ExecuteTime": {
     "end_time": "2022-03-21T08:14:04.038692Z",
     "start_time": "2022-03-21T08:14:04.028109Z"
    }
   },
   "outputs": [],
   "source": [
    "# Requirements:\n",
    "# !pip install keras\n",
    "# !pip install tensorflow\n",
    "# !pip install keras\n",
    "# !pip install tensorflow_addons\n",
    "\n",
    "# TODO: data augmentation validation"
   ]
  },
  {
   "cell_type": "markdown",
   "id": "1584ee76",
   "metadata": {},
   "source": [
    "## Data"
   ]
  },
  {
   "cell_type": "code",
   "execution_count": 3,
   "id": "01100192",
   "metadata": {
    "ExecuteTime": {
     "end_time": "2022-03-21T11:58:49.082526Z",
     "start_time": "2022-03-21T11:58:48.213546Z"
    }
   },
   "outputs": [
    {
     "name": "stdout",
     "output_type": "stream",
     "text": [
      "x_train shape: (50000, 32, 32, 3)\n",
      "y_train shape: (50000, 1)\n",
      "50000 train samples\n",
      "10000 test samples\n"
     ]
    }
   ],
   "source": [
    "# Load Dataset\n",
    "(X_train, y_train), (X_test, y_test) = cifar10.load_data()\n",
    "\n",
    "BATCH_SIZE = 32\n",
    "INPUT_SHAPE = X_train.shape[1:]\n",
    "\n",
    "print('x_train shape:', X_train.shape)\n",
    "print('y_train shape:', y_train.shape)\n",
    "print(X_train.shape[0], 'train samples')\n",
    "print(X_test.shape[0], 'test samples')"
   ]
  },
  {
   "cell_type": "markdown",
   "id": "42d744b1",
   "metadata": {},
   "source": [
    "## Fitting the Deep Learning Models"
   ]
  },
  {
   "cell_type": "markdown",
   "id": "67385436",
   "metadata": {},
   "source": [
    "### Pretrained Models"
   ]
  },
  {
   "cell_type": "code",
   "execution_count": 4,
   "id": "d28d5f73",
   "metadata": {
    "ExecuteTime": {
     "end_time": "2022-03-21T11:58:51.145483Z",
     "start_time": "2022-03-21T11:58:50.530719Z"
    }
   },
   "outputs": [],
   "source": [
    "# Normalize input data\n",
    "X_train = X_train.astype('float32')/255\n",
    "X_test = X_test.astype('float32')/255\n",
    "\n",
    "# Convert class labels to one-hot encoded\n",
    "# y_train = keras.utils.np_utils.to_categorical(y_train, 10)\n",
    "# y_test = keras.utils.np_utils.to_categorical(y_test, 10)"
   ]
  },
  {
   "cell_type": "markdown",
   "id": "2430ebef",
   "metadata": {},
   "source": [
    "#### VGG16"
   ]
  },
  {
   "cell_type": "code",
   "execution_count": 5,
   "id": "caa4e57f",
   "metadata": {
    "ExecuteTime": {
     "end_time": "2022-03-21T08:15:52.152061Z",
     "start_time": "2022-03-21T08:15:52.131485Z"
    }
   },
   "outputs": [],
   "source": [
    "EPOCHS=5  # 50\n",
    "BATCH_SIZE = 32\n",
    "LR=1e-3\n",
    "MOMENTUM=0.9"
   ]
  },
  {
   "cell_type": "code",
   "execution_count": 6,
   "id": "10c4d885",
   "metadata": {
    "ExecuteTime": {
     "end_time": "2022-03-21T08:16:03.975160Z",
     "start_time": "2022-03-21T08:16:03.532180Z"
    }
   },
   "outputs": [],
   "source": [
    "X_train_vgg16 = X_train\n",
    "y_train_vgg16 = tf.keras.utils.to_categorical(y_train)\n",
    "X_test_vgg16 = X_test\n",
    "y_test_vgg16 = tf.keras.utils.to_categorical(y_test)"
   ]
  },
  {
   "cell_type": "code",
   "execution_count": 8,
   "id": "1e574e2a",
   "metadata": {
    "ExecuteTime": {
     "end_time": "2022-03-21T08:16:04.626335Z",
     "start_time": "2022-03-21T08:16:04.229364Z"
    }
   },
   "outputs": [
    {
     "name": "stdout",
     "output_type": "stream",
     "text": [
      "Model: \"sequential_1\"\n",
      "_________________________________________________________________\n",
      " Layer (type)                Output Shape              Param #   \n",
      "=================================================================\n",
      " vgg16 (Functional)          (None, 1, 1, 512)         14714688  \n",
      "                                                                 \n",
      " flatten (Flatten)           (None, 512)               0         \n",
      "                                                                 \n",
      " dense (Dense)               (None, 10)                5130      \n",
      "                                                                 \n",
      "=================================================================\n",
      "Total params: 14,719,818\n",
      "Trainable params: 14,719,818\n",
      "Non-trainable params: 0\n",
      "_________________________________________________________________\n"
     ]
    }
   ],
   "source": [
    "vgg_base = tf.keras.applications.vgg16.VGG16(include_top=False,weights='imagenet',input_shape=INPUT_SHAPE)\n",
    "\n",
    "vgg = Sequential()\n",
    "vgg.add(vgg_base)\n",
    "vgg.add(Flatten()) \n",
    "\n",
    "# model.add(Dense(1024,activation=('relu'),input_dim=512))\n",
    "# model.add(Dense(512,activation=('relu'))) \n",
    "# model.add(Dense(256,activation=('relu'))) \n",
    "# model.add(Dropout(.3))\n",
    "# model.add(Dense(128,activation=('relu')))\n",
    "# model.add(Dropout(.2))\n",
    "\n",
    "vgg.add(Dense(10,activation=('softmax')))\n",
    "vgg.summary()"
   ]
  },
  {
   "cell_type": "code",
   "execution_count": 9,
   "id": "4276049a",
   "metadata": {
    "ExecuteTime": {
     "end_time": "2022-03-21T08:16:04.836922Z",
     "start_time": "2022-03-21T08:16:04.822782Z"
    }
   },
   "outputs": [],
   "source": [
    "vgg.compile(loss='binary_crossentropy',\n",
    "            optimizer=tf.keras.optimizers.SGD(learning_rate=LR, momentum=MOMENTUM),\n",
    "            metrics=['accuracy'])"
   ]
  },
  {
   "cell_type": "code",
   "execution_count": null,
   "id": "8395fe05",
   "metadata": {},
   "outputs": [
    {
     "name": "stdout",
     "output_type": "stream",
     "text": [
      "Epoch 1/5\n",
      "1263/1562 [=======================>......] - ETA: 4:14 - loss: 0.1946 - accuracy: 0.5798"
     ]
    }
   ],
   "source": [
    "#Training the model\n",
    "vgg_history = (\n",
    "    vgg.fit(X_train_vgg16,\n",
    "            y_train_vgg16, \n",
    "            batch_size=BATCH_SIZE,\n",
    "            epochs=EPOCHS,\n",
    "            steps_per_epoch=X_train.shape[0]//BATCH_SIZE,\n",
    "            validation_data=(X_test_vgg16, y_test_vgg16),\n",
    "            validation_steps=X_test.shape[0]//BATCH_SIZE,\n",
    "            verbose=1\n",
    "           )\n",
    ")"
   ]
  },
  {
   "cell_type": "markdown",
   "id": "ebefd28d",
   "metadata": {},
   "source": [
    "#### Residual Network (ResNet)\n",
    "\n",
    "https://medium.com/@kenneth.ca95/a-guide-to-transfer-learning-with-keras-using-resnet50-a81a4a28084b"
   ]
  },
  {
   "cell_type": "code",
   "execution_count": 4,
   "id": "53e7215c",
   "metadata": {
    "ExecuteTime": {
     "end_time": "2022-03-21T00:27:59.280389Z",
     "start_time": "2022-03-21T00:27:59.269919Z"
    }
   },
   "outputs": [],
   "source": [
    "LR = 2e-5\n",
    "EPOCHS=5 # 10"
   ]
  },
  {
   "cell_type": "code",
   "execution_count": 27,
   "id": "ddc8e764",
   "metadata": {
    "ExecuteTime": {
     "end_time": "2022-03-21T00:27:59.295709Z",
     "start_time": "2022-03-21T00:27:59.283371Z"
    }
   },
   "outputs": [],
   "source": [
    "def preprocess_data(X, y):\n",
    "    \"\"\"\n",
    "    a function that trains a convolutional neural network to classify the CIFAR 10 dataset\n",
    "    \n",
    "    :param X: X is a numpy.ndarray of shape(m, 32, 32, 3) containing the CIFAR 10 data,\n",
    "    where m is the number of data points\n",
    "    :param y: y is a numpy.ndarray of shape(m,) containing the CIFAR 10 data,\n",
    "    labels for X\n",
    "    :return: X_p, y_p\n",
    "        X_p is a numpy.ndarray containing the preprocessed X\n",
    "        y_p is a numpy.ndarray containing the preprocessed y\n",
    "    \"\"\"\n",
    "    X_p = tf.keras.applications.resnet50.preprocess_input(X)\n",
    "    y_p = tf.keras.utils.to_categorical(y, 10)\n",
    "    return X_p, y_p"
   ]
  },
  {
   "cell_type": "code",
   "execution_count": 28,
   "id": "ac651d83",
   "metadata": {
    "ExecuteTime": {
     "end_time": "2022-03-21T00:27:59.920228Z",
     "start_time": "2022-03-21T00:27:59.302690Z"
    }
   },
   "outputs": [],
   "source": [
    "X_train_resnet50, y_train_resnet50 = preprocess_data(X_train, y_train)\n",
    "X_test_resnet50, y_test_resnet50 = preprocess_data(X_test, y_test)\n",
    "\n",
    "input_tensor=tf.keras.Input(shape=X_train_resnet50.shape[1:])"
   ]
  },
  {
   "cell_type": "code",
   "execution_count": 29,
   "id": "30f4b266",
   "metadata": {
    "ExecuteTime": {
     "end_time": "2022-03-21T00:28:02.536812Z",
     "start_time": "2022-03-21T00:27:59.921077Z"
    }
   },
   "outputs": [],
   "source": [
    "res_model = tf.keras.applications.resnet50.ResNet50(weights='imagenet', include_top=False, input_tensor=input_tensor)\n",
    "\n",
    "for layer in res_model.layers[:143]:\n",
    "    layer.trainable=False\n",
    "    \n",
    "resNet = Sequential()\n",
    "resNet.add(res_model)\n",
    "resNet.add(tf.keras.layers.Flatten())\n",
    "resNet.add(tf.keras.layers.Dense(10, activation='softmax'))"
   ]
  },
  {
   "cell_type": "code",
   "execution_count": 30,
   "id": "d1a21ecf",
   "metadata": {
    "ExecuteTime": {
     "end_time": "2022-03-21T00:28:02.552247Z",
     "start_time": "2022-03-21T00:28:02.537813Z"
    }
   },
   "outputs": [],
   "source": [
    "resNet.compile(loss='categorical_crossentropy',\n",
    "               optimizer=tf.keras.optimizers.RMSprop(learning_rate=LR), \n",
    "               metrics=['accuracy'])"
   ]
  },
  {
   "cell_type": "code",
   "execution_count": 31,
   "id": "65bbb239",
   "metadata": {
    "ExecuteTime": {
     "end_time": "2022-03-21T00:28:02.583347Z",
     "start_time": "2022-03-21T00:28:02.553245Z"
    },
    "scrolled": true
   },
   "outputs": [
    {
     "name": "stdout",
     "output_type": "stream",
     "text": [
      "Model: \"sequential_4\"\n",
      "_________________________________________________________________\n",
      " Layer (type)                Output Shape              Param #   \n",
      "=================================================================\n",
      " resnet50 (Functional)       (None, 1, 1, 2048)        23587712  \n",
      "                                                                 \n",
      " flatten_4 (Flatten)         (None, 2048)              0         \n",
      "                                                                 \n",
      " dense_10 (Dense)            (None, 10)                20490     \n",
      "                                                                 \n",
      "=================================================================\n",
      "Total params: 23,608,202\n",
      "Trainable params: 14,996,490\n",
      "Non-trainable params: 8,611,712\n",
      "_________________________________________________________________\n"
     ]
    }
   ],
   "source": [
    "resNet.summary()"
   ]
  },
  {
   "cell_type": "code",
   "execution_count": 32,
   "id": "7dc5b755",
   "metadata": {
    "ExecuteTime": {
     "end_time": "2022-03-21T03:11:58.567464Z",
     "start_time": "2022-03-21T00:28:02.584200Z"
    },
    "scrolled": true
   },
   "outputs": [
    {
     "name": "stdout",
     "output_type": "stream",
     "text": [
      "Epoch 1/10\n",
      "391/391 [==============================] - 982s 3s/step - loss: 1.9412 - accuracy: 0.4174 - val_loss: 1.4056 - val_accuracy: 0.5417\n",
      "Epoch 2/10\n",
      "391/391 [==============================] - 988s 3s/step - loss: 1.0850 - accuracy: 0.6395 - val_loss: 1.2232 - val_accuracy: 0.6122\n",
      "Epoch 3/10\n",
      "391/391 [==============================] - 980s 3s/step - loss: 0.7825 - accuracy: 0.7352 - val_loss: 1.1423 - val_accuracy: 0.6361\n",
      "Epoch 4/10\n",
      "391/391 [==============================] - 982s 3s/step - loss: 0.5872 - accuracy: 0.8035 - val_loss: 1.1092 - val_accuracy: 0.6509\n",
      "Epoch 5/10\n",
      "391/391 [==============================] - 979s 3s/step - loss: 0.4388 - accuracy: 0.8618 - val_loss: 1.1027 - val_accuracy: 0.6570\n",
      "Epoch 6/10\n",
      "391/391 [==============================] - 996s 3s/step - loss: 0.3233 - accuracy: 0.9075 - val_loss: 1.0933 - val_accuracy: 0.6647\n",
      "Epoch 7/10\n",
      "391/391 [==============================] - 982s 3s/step - loss: 0.2350 - accuracy: 0.9405 - val_loss: 1.1156 - val_accuracy: 0.6650\n",
      "Epoch 8/10\n",
      "391/391 [==============================] - 980s 3s/step - loss: 0.1657 - accuracy: 0.9650 - val_loss: 1.1320 - val_accuracy: 0.6692\n",
      "Epoch 9/10\n",
      "391/391 [==============================] - 981s 3s/step - loss: 0.1173 - accuracy: 0.9791 - val_loss: 1.1785 - val_accuracy: 0.6714\n",
      "Epoch 10/10\n",
      "391/391 [==============================] - 986s 3s/step - loss: 0.0827 - accuracy: 0.9880 - val_loss: 1.1916 - val_accuracy: 0.6716\n"
     ]
    },
    {
     "data": {
      "text/plain": [
       "<keras.callbacks.History at 0x22cbf2945b0>"
      ]
     },
     "execution_count": 32,
     "metadata": {},
     "output_type": "execute_result"
    }
   ],
   "source": [
    "resNet.fit(X_train_resnet50,\n",
    "           y_train_resnet50,\n",
    "           batch_size=BATCH_SIZE,\n",
    "           epochs=EPOCHS,\n",
    "           shuffle=True,\n",
    "           verbose=1,\n",
    "           validation_data=(X_test_resnet50, y_test_resnet50)\n",
    "          )"
   ]
  },
  {
   "cell_type": "markdown",
   "id": "ef3da1b9",
   "metadata": {
    "ExecuteTime": {
     "end_time": "2022-03-19T18:22:56.487259Z",
     "start_time": "2022-03-19T18:22:56.483638Z"
    }
   },
   "source": [
    "## Models Evaluation"
   ]
  },
  {
   "cell_type": "markdown",
   "id": "63e82544",
   "metadata": {},
   "source": [
    "#### Residual Network (ResNet)"
   ]
  },
  {
   "cell_type": "code",
   "execution_count": 53,
   "id": "7a3a8ac3",
   "metadata": {
    "ExecuteTime": {
     "end_time": "2022-03-21T05:57:13.106834Z",
     "start_time": "2022-03-21T05:56:51.552484Z"
    }
   },
   "outputs": [
    {
     "name": "stdout",
     "output_type": "stream",
     "text": [
      "313/313 [==============================] - 21s 69ms/step - loss: 1.1916 - accuracy: 0.6716\n"
     ]
    },
    {
     "data": {
      "text/plain": [
       "[1.1915991306304932, 0.6715999841690063]"
      ]
     },
     "execution_count": 53,
     "metadata": {},
     "output_type": "execute_result"
    }
   ],
   "source": [
    "# TODO\n",
    "resNet.evaluate(X_test_resnet50, y_test_resnet50)"
   ]
  },
  {
   "cell_type": "code",
   "execution_count": 54,
   "id": "01c05763",
   "metadata": {
    "ExecuteTime": {
     "end_time": "2022-03-21T05:57:42.987800Z",
     "start_time": "2022-03-21T05:57:19.483184Z"
    }
   },
   "outputs": [],
   "source": [
    "y_pred_test_resnet = resNet.predict(X_test_resnet50)\n",
    "y_pred_test_classes_resnet = np.argmax(y_pred_test_resnet, axis=-1)"
   ]
  },
  {
   "cell_type": "code",
   "execution_count": 55,
   "id": "06106254",
   "metadata": {
    "ExecuteTime": {
     "end_time": "2022-03-21T05:57:44.444587Z",
     "start_time": "2022-03-21T05:57:44.418762Z"
    }
   },
   "outputs": [
    {
     "data": {
      "text/html": [
       "<div>\n",
       "<style scoped>\n",
       "    .dataframe tbody tr th:only-of-type {\n",
       "        vertical-align: middle;\n",
       "    }\n",
       "\n",
       "    .dataframe tbody tr th {\n",
       "        vertical-align: top;\n",
       "    }\n",
       "\n",
       "    .dataframe thead th {\n",
       "        text-align: right;\n",
       "    }\n",
       "</style>\n",
       "<table border=\"1\" class=\"dataframe\">\n",
       "  <thead>\n",
       "    <tr style=\"text-align: right;\">\n",
       "      <th></th>\n",
       "      <th>0</th>\n",
       "      <th>1</th>\n",
       "      <th>2</th>\n",
       "      <th>3</th>\n",
       "      <th>4</th>\n",
       "      <th>5</th>\n",
       "      <th>6</th>\n",
       "      <th>7</th>\n",
       "      <th>8</th>\n",
       "      <th>9</th>\n",
       "    </tr>\n",
       "  </thead>\n",
       "  <tbody>\n",
       "    <tr>\n",
       "      <th>0</th>\n",
       "      <td>718</td>\n",
       "      <td>32</td>\n",
       "      <td>45</td>\n",
       "      <td>11</td>\n",
       "      <td>23</td>\n",
       "      <td>9</td>\n",
       "      <td>7</td>\n",
       "      <td>17</td>\n",
       "      <td>93</td>\n",
       "      <td>45</td>\n",
       "    </tr>\n",
       "    <tr>\n",
       "      <th>1</th>\n",
       "      <td>27</td>\n",
       "      <td>736</td>\n",
       "      <td>5</td>\n",
       "      <td>14</td>\n",
       "      <td>9</td>\n",
       "      <td>20</td>\n",
       "      <td>9</td>\n",
       "      <td>11</td>\n",
       "      <td>47</td>\n",
       "      <td>122</td>\n",
       "    </tr>\n",
       "    <tr>\n",
       "      <th>2</th>\n",
       "      <td>62</td>\n",
       "      <td>12</td>\n",
       "      <td>582</td>\n",
       "      <td>54</td>\n",
       "      <td>101</td>\n",
       "      <td>53</td>\n",
       "      <td>83</td>\n",
       "      <td>33</td>\n",
       "      <td>12</td>\n",
       "      <td>8</td>\n",
       "    </tr>\n",
       "    <tr>\n",
       "      <th>3</th>\n",
       "      <td>17</td>\n",
       "      <td>32</td>\n",
       "      <td>63</td>\n",
       "      <td>492</td>\n",
       "      <td>64</td>\n",
       "      <td>170</td>\n",
       "      <td>85</td>\n",
       "      <td>41</td>\n",
       "      <td>13</td>\n",
       "      <td>23</td>\n",
       "    </tr>\n",
       "    <tr>\n",
       "      <th>4</th>\n",
       "      <td>14</td>\n",
       "      <td>3</td>\n",
       "      <td>67</td>\n",
       "      <td>56</td>\n",
       "      <td>631</td>\n",
       "      <td>46</td>\n",
       "      <td>84</td>\n",
       "      <td>80</td>\n",
       "      <td>13</td>\n",
       "      <td>6</td>\n",
       "    </tr>\n",
       "    <tr>\n",
       "      <th>5</th>\n",
       "      <td>7</td>\n",
       "      <td>14</td>\n",
       "      <td>45</td>\n",
       "      <td>160</td>\n",
       "      <td>53</td>\n",
       "      <td>611</td>\n",
       "      <td>45</td>\n",
       "      <td>52</td>\n",
       "      <td>4</td>\n",
       "      <td>9</td>\n",
       "    </tr>\n",
       "    <tr>\n",
       "      <th>6</th>\n",
       "      <td>10</td>\n",
       "      <td>12</td>\n",
       "      <td>60</td>\n",
       "      <td>55</td>\n",
       "      <td>66</td>\n",
       "      <td>47</td>\n",
       "      <td>730</td>\n",
       "      <td>7</td>\n",
       "      <td>6</td>\n",
       "      <td>7</td>\n",
       "    </tr>\n",
       "    <tr>\n",
       "      <th>7</th>\n",
       "      <td>23</td>\n",
       "      <td>16</td>\n",
       "      <td>24</td>\n",
       "      <td>50</td>\n",
       "      <td>63</td>\n",
       "      <td>66</td>\n",
       "      <td>15</td>\n",
       "      <td>708</td>\n",
       "      <td>9</td>\n",
       "      <td>26</td>\n",
       "    </tr>\n",
       "    <tr>\n",
       "      <th>8</th>\n",
       "      <td>72</td>\n",
       "      <td>52</td>\n",
       "      <td>19</td>\n",
       "      <td>10</td>\n",
       "      <td>13</td>\n",
       "      <td>8</td>\n",
       "      <td>0</td>\n",
       "      <td>6</td>\n",
       "      <td>772</td>\n",
       "      <td>48</td>\n",
       "    </tr>\n",
       "    <tr>\n",
       "      <th>9</th>\n",
       "      <td>45</td>\n",
       "      <td>108</td>\n",
       "      <td>1</td>\n",
       "      <td>15</td>\n",
       "      <td>9</td>\n",
       "      <td>12</td>\n",
       "      <td>8</td>\n",
       "      <td>23</td>\n",
       "      <td>43</td>\n",
       "      <td>736</td>\n",
       "    </tr>\n",
       "  </tbody>\n",
       "</table>\n",
       "</div>"
      ],
      "text/plain": [
       "     0    1    2    3    4    5    6    7    8    9\n",
       "0  718   32   45   11   23    9    7   17   93   45\n",
       "1   27  736    5   14    9   20    9   11   47  122\n",
       "2   62   12  582   54  101   53   83   33   12    8\n",
       "3   17   32   63  492   64  170   85   41   13   23\n",
       "4   14    3   67   56  631   46   84   80   13    6\n",
       "5    7   14   45  160   53  611   45   52    4    9\n",
       "6   10   12   60   55   66   47  730    7    6    7\n",
       "7   23   16   24   50   63   66   15  708    9   26\n",
       "8   72   52   19   10   13    8    0    6  772   48\n",
       "9   45  108    1   15    9   12    8   23   43  736"
      ]
     },
     "execution_count": 55,
     "metadata": {},
     "output_type": "execute_result"
    }
   ],
   "source": [
    "pd.DataFrame(confusion_matrix(y_actual_test_classes, y_pred_test_classes_resnet))"
   ]
  },
  {
   "cell_type": "code",
   "execution_count": 56,
   "id": "0ae80aa5",
   "metadata": {
    "ExecuteTime": {
     "end_time": "2022-03-21T05:57:59.517100Z",
     "start_time": "2022-03-21T05:57:59.487180Z"
    }
   },
   "outputs": [
    {
     "name": "stdout",
     "output_type": "stream",
     "text": [
      "              precision    recall  f1-score   support\n",
      "\n",
      "           0       0.72      0.72      0.72      1000\n",
      "           1       0.72      0.74      0.73      1000\n",
      "           2       0.64      0.58      0.61      1000\n",
      "           3       0.54      0.49      0.51      1000\n",
      "           4       0.61      0.63      0.62      1000\n",
      "           5       0.59      0.61      0.60      1000\n",
      "           6       0.68      0.73      0.71      1000\n",
      "           7       0.72      0.71      0.72      1000\n",
      "           8       0.76      0.77      0.77      1000\n",
      "           9       0.71      0.74      0.73      1000\n",
      "\n",
      "    accuracy                           0.67     10000\n",
      "   macro avg       0.67      0.67      0.67     10000\n",
      "weighted avg       0.67      0.67      0.67     10000\n",
      "\n"
     ]
    }
   ],
   "source": [
    "print(classification_report(y_actual_test_classes, y_pred_test_classes_resnet))"
   ]
  },
  {
   "cell_type": "markdown",
   "id": "c50f43d2",
   "metadata": {},
   "source": [
    "#### VGG16"
   ]
  },
  {
   "cell_type": "code",
   "execution_count": 21,
   "id": "f16436ee",
   "metadata": {
    "ExecuteTime": {
     "end_time": "2022-03-21T11:54:41.447202Z",
     "start_time": "2022-03-21T11:53:46.847943Z"
    }
   },
   "outputs": [
    {
     "name": "stdout",
     "output_type": "stream",
     "text": [
      "313/313 [==============================] - 54s 172ms/step - loss: nan - accuracy: 0.1000\n"
     ]
    },
    {
     "data": {
      "text/plain": [
       "[nan, 0.10000000149011612]"
      ]
     },
     "execution_count": 21,
     "metadata": {},
     "output_type": "execute_result"
    }
   ],
   "source": [
    "# TODO\n",
    "vggNet.evaluate(X_test_vgg16, y_test_vgg16)"
   ]
  },
  {
   "cell_type": "code",
   "execution_count": 22,
   "id": "5fa8ff0c",
   "metadata": {
    "ExecuteTime": {
     "end_time": "2022-03-21T11:55:28.201168Z",
     "start_time": "2022-03-21T11:54:41.451190Z"
    }
   },
   "outputs": [],
   "source": [
    "y_pred_test_vgg16 = vggNet.predict(X_test_vgg16)\n",
    "y_pred_test_classes_vgg16 = np.argmax(y_pred_test_vgg16, axis=-1)"
   ]
  },
  {
   "cell_type": "code",
   "execution_count": 28,
   "id": "489c3a73",
   "metadata": {
    "ExecuteTime": {
     "end_time": "2022-03-21T11:59:02.838347Z",
     "start_time": "2022-03-21T11:59:02.784856Z"
    }
   },
   "outputs": [
    {
     "data": {
      "text/html": [
       "<div>\n",
       "<style scoped>\n",
       "    .dataframe tbody tr th:only-of-type {\n",
       "        vertical-align: middle;\n",
       "    }\n",
       "\n",
       "    .dataframe tbody tr th {\n",
       "        vertical-align: top;\n",
       "    }\n",
       "\n",
       "    .dataframe thead th {\n",
       "        text-align: right;\n",
       "    }\n",
       "</style>\n",
       "<table border=\"1\" class=\"dataframe\">\n",
       "  <thead>\n",
       "    <tr style=\"text-align: right;\">\n",
       "      <th></th>\n",
       "      <th>0</th>\n",
       "      <th>1</th>\n",
       "      <th>2</th>\n",
       "      <th>3</th>\n",
       "      <th>4</th>\n",
       "      <th>5</th>\n",
       "      <th>6</th>\n",
       "      <th>7</th>\n",
       "      <th>8</th>\n",
       "      <th>9</th>\n",
       "    </tr>\n",
       "  </thead>\n",
       "  <tbody>\n",
       "    <tr>\n",
       "      <th>0</th>\n",
       "      <td>1000</td>\n",
       "      <td>0</td>\n",
       "      <td>0</td>\n",
       "      <td>0</td>\n",
       "      <td>0</td>\n",
       "      <td>0</td>\n",
       "      <td>0</td>\n",
       "      <td>0</td>\n",
       "      <td>0</td>\n",
       "      <td>0</td>\n",
       "    </tr>\n",
       "    <tr>\n",
       "      <th>1</th>\n",
       "      <td>1000</td>\n",
       "      <td>0</td>\n",
       "      <td>0</td>\n",
       "      <td>0</td>\n",
       "      <td>0</td>\n",
       "      <td>0</td>\n",
       "      <td>0</td>\n",
       "      <td>0</td>\n",
       "      <td>0</td>\n",
       "      <td>0</td>\n",
       "    </tr>\n",
       "    <tr>\n",
       "      <th>2</th>\n",
       "      <td>1000</td>\n",
       "      <td>0</td>\n",
       "      <td>0</td>\n",
       "      <td>0</td>\n",
       "      <td>0</td>\n",
       "      <td>0</td>\n",
       "      <td>0</td>\n",
       "      <td>0</td>\n",
       "      <td>0</td>\n",
       "      <td>0</td>\n",
       "    </tr>\n",
       "    <tr>\n",
       "      <th>3</th>\n",
       "      <td>1000</td>\n",
       "      <td>0</td>\n",
       "      <td>0</td>\n",
       "      <td>0</td>\n",
       "      <td>0</td>\n",
       "      <td>0</td>\n",
       "      <td>0</td>\n",
       "      <td>0</td>\n",
       "      <td>0</td>\n",
       "      <td>0</td>\n",
       "    </tr>\n",
       "    <tr>\n",
       "      <th>4</th>\n",
       "      <td>1000</td>\n",
       "      <td>0</td>\n",
       "      <td>0</td>\n",
       "      <td>0</td>\n",
       "      <td>0</td>\n",
       "      <td>0</td>\n",
       "      <td>0</td>\n",
       "      <td>0</td>\n",
       "      <td>0</td>\n",
       "      <td>0</td>\n",
       "    </tr>\n",
       "    <tr>\n",
       "      <th>5</th>\n",
       "      <td>1000</td>\n",
       "      <td>0</td>\n",
       "      <td>0</td>\n",
       "      <td>0</td>\n",
       "      <td>0</td>\n",
       "      <td>0</td>\n",
       "      <td>0</td>\n",
       "      <td>0</td>\n",
       "      <td>0</td>\n",
       "      <td>0</td>\n",
       "    </tr>\n",
       "    <tr>\n",
       "      <th>6</th>\n",
       "      <td>1000</td>\n",
       "      <td>0</td>\n",
       "      <td>0</td>\n",
       "      <td>0</td>\n",
       "      <td>0</td>\n",
       "      <td>0</td>\n",
       "      <td>0</td>\n",
       "      <td>0</td>\n",
       "      <td>0</td>\n",
       "      <td>0</td>\n",
       "    </tr>\n",
       "    <tr>\n",
       "      <th>7</th>\n",
       "      <td>1000</td>\n",
       "      <td>0</td>\n",
       "      <td>0</td>\n",
       "      <td>0</td>\n",
       "      <td>0</td>\n",
       "      <td>0</td>\n",
       "      <td>0</td>\n",
       "      <td>0</td>\n",
       "      <td>0</td>\n",
       "      <td>0</td>\n",
       "    </tr>\n",
       "    <tr>\n",
       "      <th>8</th>\n",
       "      <td>1000</td>\n",
       "      <td>0</td>\n",
       "      <td>0</td>\n",
       "      <td>0</td>\n",
       "      <td>0</td>\n",
       "      <td>0</td>\n",
       "      <td>0</td>\n",
       "      <td>0</td>\n",
       "      <td>0</td>\n",
       "      <td>0</td>\n",
       "    </tr>\n",
       "    <tr>\n",
       "      <th>9</th>\n",
       "      <td>1000</td>\n",
       "      <td>0</td>\n",
       "      <td>0</td>\n",
       "      <td>0</td>\n",
       "      <td>0</td>\n",
       "      <td>0</td>\n",
       "      <td>0</td>\n",
       "      <td>0</td>\n",
       "      <td>0</td>\n",
       "      <td>0</td>\n",
       "    </tr>\n",
       "  </tbody>\n",
       "</table>\n",
       "</div>"
      ],
      "text/plain": [
       "      0  1  2  3  4  5  6  7  8  9\n",
       "0  1000  0  0  0  0  0  0  0  0  0\n",
       "1  1000  0  0  0  0  0  0  0  0  0\n",
       "2  1000  0  0  0  0  0  0  0  0  0\n",
       "3  1000  0  0  0  0  0  0  0  0  0\n",
       "4  1000  0  0  0  0  0  0  0  0  0\n",
       "5  1000  0  0  0  0  0  0  0  0  0\n",
       "6  1000  0  0  0  0  0  0  0  0  0\n",
       "7  1000  0  0  0  0  0  0  0  0  0\n",
       "8  1000  0  0  0  0  0  0  0  0  0\n",
       "9  1000  0  0  0  0  0  0  0  0  0"
      ]
     },
     "execution_count": 28,
     "metadata": {},
     "output_type": "execute_result"
    }
   ],
   "source": [
    "pd.DataFrame(confusion_matrix(y_actual_test_classes, y_pred_test_classes_vgg16))"
   ]
  },
  {
   "cell_type": "code",
   "execution_count": 29,
   "id": "39f4a610",
   "metadata": {
    "ExecuteTime": {
     "end_time": "2022-03-21T11:59:04.590862Z",
     "start_time": "2022-03-21T11:59:04.553344Z"
    }
   },
   "outputs": [
    {
     "name": "stdout",
     "output_type": "stream",
     "text": [
      "              precision    recall  f1-score   support\n",
      "\n",
      "           0       0.10      1.00      0.18      1000\n",
      "           1       0.00      0.00      0.00      1000\n",
      "           2       0.00      0.00      0.00      1000\n",
      "           3       0.00      0.00      0.00      1000\n",
      "           4       0.00      0.00      0.00      1000\n",
      "           5       0.00      0.00      0.00      1000\n",
      "           6       0.00      0.00      0.00      1000\n",
      "           7       0.00      0.00      0.00      1000\n",
      "           8       0.00      0.00      0.00      1000\n",
      "           9       0.00      0.00      0.00      1000\n",
      "\n",
      "    accuracy                           0.10     10000\n",
      "   macro avg       0.01      0.10      0.02     10000\n",
      "weighted avg       0.01      0.10      0.02     10000\n",
      "\n"
     ]
    },
    {
     "name": "stderr",
     "output_type": "stream",
     "text": [
      "C:\\Users\\ejowik001\\Anaconda3\\lib\\site-packages\\sklearn\\metrics\\_classification.py:1318: UndefinedMetricWarning: Precision and F-score are ill-defined and being set to 0.0 in labels with no predicted samples. Use `zero_division` parameter to control this behavior.\n",
      "  _warn_prf(average, modifier, msg_start, len(result))\n",
      "C:\\Users\\ejowik001\\Anaconda3\\lib\\site-packages\\sklearn\\metrics\\_classification.py:1318: UndefinedMetricWarning: Precision and F-score are ill-defined and being set to 0.0 in labels with no predicted samples. Use `zero_division` parameter to control this behavior.\n",
      "  _warn_prf(average, modifier, msg_start, len(result))\n",
      "C:\\Users\\ejowik001\\Anaconda3\\lib\\site-packages\\sklearn\\metrics\\_classification.py:1318: UndefinedMetricWarning: Precision and F-score are ill-defined and being set to 0.0 in labels with no predicted samples. Use `zero_division` parameter to control this behavior.\n",
      "  _warn_prf(average, modifier, msg_start, len(result))\n"
     ]
    }
   ],
   "source": [
    "print(classification_report(y_actual_test_classes, y_pred_test_classes_vgg16))"
   ]
  }
 ],
 "metadata": {
  "kernelspec": {
   "display_name": "Python 3 (ipykernel)",
   "language": "python",
   "name": "python3"
  },
  "language_info": {
   "codemirror_mode": {
    "name": "ipython",
    "version": 3
   },
   "file_extension": ".py",
   "mimetype": "text/x-python",
   "name": "python",
   "nbconvert_exporter": "python",
   "pygments_lexer": "ipython3",
   "version": "3.8.10"
  }
 },
 "nbformat": 4,
 "nbformat_minor": 5
}
