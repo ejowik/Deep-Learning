{
 "cells": [
  {
   "cell_type": "code",
   "execution_count": null,
   "metadata": {
    "_uuid": "287a6d30ea8c30b244e5c056309f89b51a0a4361"
   },
   "outputs": [],
   "source": [
    "%reload_ext autoreload\n",
    "%autoreload 2\n",
    "%matplotlib inline"
   ]
  },
  {
   "cell_type": "code",
   "execution_count": null,
   "metadata": {
    "_uuid": "9fcf466e7e7f9249881cc738d59387f38e9533e1"
   },
   "outputs": [],
   "source": [
    "from fastai.vision import *\n",
    "from fastai.vision.gan import *"
   ]
  },
  {
   "cell_type": "markdown",
   "metadata": {
    "_uuid": "6c74347d32916e7989cf004882493183af606342"
   },
   "source": [
    "## LSun bedroom data"
   ]
  },
  {
   "cell_type": "markdown",
   "metadata": {
    "_uuid": "a44510846a07715d6cfe9cfc2e0665e63174cc70"
   },
   "source": [
    "For this lesson, we'll be using the bedrooms from the [LSUN dataset](http://lsun.cs.princeton.edu/2017/). The full dataset is a bit too large so we'll use a sample from [kaggle](https://www.kaggle.com/jhoward/lsun_bedroom)."
   ]
  },
  {
   "cell_type": "code",
   "execution_count": null,
   "metadata": {
    "_uuid": "bcd80907737771bb5417f439eaac7f9e5bf6ab4b"
   },
   "outputs": [],
   "source": [
    "path = Path('/kaggle/input/sample/data0/lsun/bedroom')"
   ]
  },
  {
   "cell_type": "markdown",
   "metadata": {
    "_uuid": "ac85e5df7f633d90775dfa0e8fea610874118272"
   },
   "source": [
    "We then grab all the images in the folder with the data block API. We don't create a validation set here for reasons we'll explain later. It consists of random noise of size 100 by default (can be changed below) as inputs and the images of bedrooms as targets. That's why we do `tfm_y=True` in the transforms, then apply the normalization to the ys and not the xs."
   ]
  },
  {
   "cell_type": "code",
   "execution_count": null,
   "metadata": {
    "_uuid": "0a2524f74c6b77c8df656e47076ea8305191283c"
   },
   "outputs": [],
   "source": [
    "def get_data(bs, size):\n",
    "    return (GANItemList.from_folder(path, noise_sz=100)\n",
    "               .no_split()\n",
    "               .label_from_func(noop)\n",
    "               .transform(tfms=[[crop_pad(size=size, row_pct=(0,1), col_pct=(0,1))], []], size=size, tfm_y=True)\n",
    "               .databunch(bs=bs, num_workers=0)\n",
    "               .normalize(stats = [torch.tensor([0.5,0.5,0.5]), torch.tensor([0.5,0.5,0.5])], do_x=False, do_y=True))"
   ]
  },
  {
   "cell_type": "markdown",
   "metadata": {
    "_uuid": "67562b61160619e96f119e53c53f1a782e4de0b5"
   },
   "source": [
    "We'll begin with a small side and use gradual resizing."
   ]
  },
  {
   "cell_type": "code",
   "execution_count": null,
   "metadata": {
    "_uuid": "2eb2beb784841f62f2ecaab29965b4f845d51761"
   },
   "outputs": [],
   "source": [
    "data = get_data(128, 64)"
   ]
  },
  {
   "cell_type": "code",
   "execution_count": null,
   "metadata": {
    "_uuid": "cad556b0756bc0b442b9662eead7bac8d88db27b"
   },
   "outputs": [],
   "source": [
    "data.show_batch(rows=5)"
   ]
  },
  {
   "cell_type": "markdown",
   "metadata": {
    "_uuid": "58798e88a053c12674577f7145c43250b4e1f495"
   },
   "source": [
    "## Models"
   ]
  },
  {
   "cell_type": "markdown",
   "metadata": {
    "_uuid": "40a5ad36c16b635482484f97d6e89c99e73ecaa1"
   },
   "source": [
    "GAN stands for [Generative Adversarial Nets](https://arxiv.org/pdf/1406.2661.pdf) and were invented by Ian Goodfellow. The concept is that we will train two models at the same time: a generator and a critic. The generator will try to make new images similar to the ones in our dataset, and the critic will try to classify real images from the ones the generator does. The generator returns images, the critic a single number (usually 0. for fake images and 1. for real ones).\n",
    "\n",
    "We train them against each other in the sense that at each step (more or less), we:\n",
    "1. Freeze the generator and train the critic for one step by:\n",
    "  - getting one batch of true images (let's call that `real`)\n",
    "  - generating one batch of fake images (let's call that `fake`)\n",
    "  - have the critic evaluate each batch and compute a loss function from that; the important part is that it rewards positively the detection of real images and penalizes the fake ones\n",
    "  - update the weights of the critic with the gradients of this loss\n",
    "  \n",
    "  \n",
    "2. Freeze the critic and train the generator for one step by:\n",
    "  - generating one batch of fake images\n",
    "  - evaluate the critic on it\n",
    "  - return a loss that rewards posisitivly the critic thinking those are real images; the important part is that it rewards positively the detection of real images and penalizes the fake ones\n",
    "  - update the weights of the generator with the gradients of this loss\n",
    "  \n",
    "Here, we'll use the [Wassertein GAN](https://arxiv.org/pdf/1701.07875.pdf)."
   ]
  },
  {
   "cell_type": "markdown",
   "metadata": {
    "_uuid": "10ae2d4ba606f20881b65b45cc0031d3957ff138"
   },
   "source": [
    "We create a generator and a critic that we pass to `gan_learner`. The noise_size is the size of the random vector from which our generator creates images."
   ]
  },
  {
   "cell_type": "code",
   "execution_count": null,
   "metadata": {
    "_uuid": "52a93d31f0da6fcc98bf90022b082ed426a47352"
   },
   "outputs": [],
   "source": [
    "generator = basic_generator(in_size=64, n_channels=3, n_extra_layers=1)\n",
    "critic    = basic_critic   (in_size=64, n_channels=3, n_extra_layers=1)"
   ]
  },
  {
   "cell_type": "code",
   "execution_count": null,
   "metadata": {
    "_uuid": "b3fcd3ce4580374492d9ffbcdc276ab66207f552"
   },
   "outputs": [],
   "source": [
    "learn = GANLearner.wgan(data, generator, critic, switch_eval=False,\n",
    "                        opt_func = partial(optim.Adam, betas = (0.,0.99)), wd=0., model_dir='/tmp/models')"
   ]
  },
  {
   "cell_type": "code",
   "execution_count": null,
   "metadata": {
    "_uuid": "677d156015bbda24cc6c75dcd6f1bdc74c4ee009"
   },
   "outputs": [],
   "source": [
    "learn.fit(5,2e-4)"
   ]
  },
  {
   "cell_type": "code",
   "execution_count": null,
   "metadata": {
    "_uuid": "e0485db2bdc3843af4ea311f7dad7efbdf3f9064"
   },
   "outputs": [],
   "source": [
    "# had to restrict to 5 epochs because of Kaggle Kernel limits, uncomment below for full training\n",
    "# learn.fit(30,2e-4)"
   ]
  },
  {
   "cell_type": "code",
   "execution_count": null,
   "metadata": {
    "_uuid": "179e6bd9248758f6ec671e88d8e25fd6f68a9263"
   },
   "outputs": [],
   "source": [
    "learn.gan_trainer.switch(gen_mode=True)\n",
    "learn.show_results(ds_type=DatasetType.Train, rows=16, figsize=(8,8))"
   ]
  },
  {
   "cell_type": "code",
   "execution_count": null,
   "metadata": {
    "_uuid": "897c836637fa764d6e65862202221bab7c582c3d"
   },
   "outputs": [],
   "source": []
  }
 ],
 "metadata": {
  "kernelspec": {
   "display_name": "Python 3",
   "language": "python",
   "name": "python3"
  },
  "language_info": {
   "codemirror_mode": {
    "name": "ipython",
    "version": 3
   },
   "file_extension": ".py",
   "mimetype": "text/x-python",
   "name": "python",
   "nbconvert_exporter": "python",
   "pygments_lexer": "ipython3",
   "version": "3.8.8"
  }
 },
 "nbformat": 4,
 "nbformat_minor": 1
}
