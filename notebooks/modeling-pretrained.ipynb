{
 "cells": [
  {
   "cell_type": "code",
   "execution_count": 1,
   "id": "286fa481",
   "metadata": {
    "ExecuteTime": {
     "end_time": "2022-03-21T08:14:04.022914Z",
     "start_time": "2022-03-21T08:13:33.997363Z"
    }
   },
   "outputs": [],
   "source": [
    "import pandas as pd\n",
    "import keras\n",
    "import numpy as np\n",
    "\n",
    "# Import CIFAR 10 dataset\n",
    "from keras.datasets import cifar10\n",
    "\n",
    "from keras.preprocessing.image import ImageDataGenerator\n",
    "\n",
    "# Import Necessary CNN Building Blocks\n",
    "from keras.models import Sequential, Model\n",
    "from keras.layers import Conv2D, MaxPooling2D, Flatten, Dense, Activation, Dropout, MaxPool2D, BatchNormalization, GlobalAveragePooling2D, UpSampling2D\n",
    "from keras.layers.advanced_activations import LeakyReLU\n",
    "\n",
    "from keras import backend as K\n",
    "from keras import applications\n",
    "from keras import callbacks\n",
    "from keras import optimizers\n",
    "from keras.utils import np_utils\n",
    "import random\n",
    "\n",
    "import tensorflow as tf\n",
    "import tensorflow_addons as tfa\n",
    "\n",
    "from sklearn.metrics import classification_report, confusion_matrix\n",
    "from tensorflow.keras.callbacks import EarlyStopping"
   ]
  },
  {
   "cell_type": "code",
   "execution_count": 2,
   "id": "8aa4a7d3",
   "metadata": {
    "ExecuteTime": {
     "end_time": "2022-03-21T08:14:04.038692Z",
     "start_time": "2022-03-21T08:14:04.028109Z"
    }
   },
   "outputs": [],
   "source": [
    "# Requirements:\n",
    "# !pip install keras\n",
    "# !pip install tensorflow\n",
    "# !pip install keras\n",
    "# !pip install tensorflow_addons\n",
    "\n",
    "# TODO: data augmentation validation"
   ]
  },
  {
   "cell_type": "markdown",
   "id": "1584ee76",
   "metadata": {},
   "source": [
    "## Data preparation"
   ]
  },
  {
   "cell_type": "code",
   "execution_count": 3,
   "id": "01100192",
   "metadata": {
    "ExecuteTime": {
     "end_time": "2022-03-21T11:58:49.082526Z",
     "start_time": "2022-03-21T11:58:48.213546Z"
    }
   },
   "outputs": [
    {
     "name": "stdout",
     "output_type": "stream",
     "text": [
      "x_train shape: (50000, 32, 32, 3)\n",
      "y_train shape: (50000, 1)\n",
      "50000 train samples\n",
      "10000 test samples\n"
     ]
    }
   ],
   "source": [
    "# Load Dataset\n",
    "(X_train, y_train), (X_test, y_test) = cifar10.load_data()\n",
    "\n",
    "BATCH_SIZE = 32\n",
    "INPUT_SHAPE = X_train.shape[1:]\n",
    "NUM_CLASSES = 10\n",
    "\n",
    "print('x_train shape:', X_train.shape)\n",
    "print('y_train shape:', y_train.shape)\n",
    "print(X_train.shape[0], 'train samples')\n",
    "print(X_test.shape[0], 'test samples')"
   ]
  },
  {
   "cell_type": "code",
   "execution_count": 4,
   "id": "d28d5f73",
   "metadata": {
    "ExecuteTime": {
     "end_time": "2022-03-21T11:58:51.145483Z",
     "start_time": "2022-03-21T11:58:50.530719Z"
    }
   },
   "outputs": [],
   "source": [
    "# Normalize input data\n",
    "X_train = X_train.astype('float32')/255\n",
    "X_test = X_test.astype('float32')/255\n",
    "\n",
    "# Encode target variable\n",
    "y_train_ohe = tf.keras.utils.to_categorical(y_train, NUM_CLASSES)\n",
    "y_test_ohe = tf.keras.utils.to_categorical(y_test, NUM_CLASSES)"
   ]
  },
  {
   "cell_type": "markdown",
   "id": "42d744b1",
   "metadata": {},
   "source": [
    "## Deep Learning pretrained models fitting"
   ]
  },
  {
   "cell_type": "markdown",
   "id": "2430ebef",
   "metadata": {},
   "source": [
    "### VGG16"
   ]
  },
  {
   "cell_type": "code",
   "execution_count": 5,
   "id": "caa4e57f",
   "metadata": {
    "ExecuteTime": {
     "end_time": "2022-03-21T08:15:52.152061Z",
     "start_time": "2022-03-21T08:15:52.131485Z"
    }
   },
   "outputs": [],
   "source": [
    "EPOCHS=5  # 50\n",
    "BATCH_SIZE = 32\n",
    "LR=1e-3\n",
    "MOMENTUM=0.9"
   ]
  },
  {
   "cell_type": "code",
   "execution_count": null,
   "id": "1e574e2a",
   "metadata": {
    "ExecuteTime": {
     "end_time": "2022-03-21T08:16:04.626335Z",
     "start_time": "2022-03-21T08:16:04.229364Z"
    }
   },
   "outputs": [],
   "source": [
    "vgg_base = tf.keras.applications.vgg16.VGG16(include_top=False,weights='imagenet',input_shape=INPUT_SHAPE)\n",
    "\n",
    "vgg = Sequential()\n",
    "vgg.add(vgg_base)\n",
    "vgg.add(Flatten()) \n",
    "vgg.add(Dense(NUM_CLASSES, activation=('softmax')))\n",
    "vgg.summary()"
   ]
  },
  {
   "cell_type": "code",
   "execution_count": null,
   "id": "4276049a",
   "metadata": {
    "ExecuteTime": {
     "end_time": "2022-03-21T08:16:04.836922Z",
     "start_time": "2022-03-21T08:16:04.822782Z"
    }
   },
   "outputs": [],
   "source": [
    "vgg.compile(loss='binary_crossentropy',\n",
    "            optimizer=tf.keras.optimizers.SGD(learning_rate=LR, momentum=MOMENTUM),\n",
    "            metrics=['accuracy'])"
   ]
  },
  {
   "cell_type": "code",
   "execution_count": null,
   "id": "8395fe05",
   "metadata": {},
   "outputs": [],
   "source": [
    "vgg_history = (\n",
    "    vgg.fit(X_train,\n",
    "            y_train, \n",
    "            batch_size=BATCH_SIZE,\n",
    "            epochs=EPOCHS,\n",
    "            steps_per_epoch=X_train.shape[0]//BATCH_SIZE,\n",
    "            validation_data=(X_test_vgg16, y_test_vgg16),\n",
    "            validation_steps=X_test.shape[0]//BATCH_SIZE,\n",
    "            verbose=1\n",
    "           )\n",
    ")"
   ]
  },
  {
   "cell_type": "markdown",
   "id": "ebefd28d",
   "metadata": {},
   "source": [
    "### Residual Network (ResNet)"
   ]
  },
  {
   "cell_type": "code",
   "execution_count": 6,
   "id": "53e7215c",
   "metadata": {
    "ExecuteTime": {
     "end_time": "2022-03-21T00:27:59.280389Z",
     "start_time": "2022-03-21T00:27:59.269919Z"
    }
   },
   "outputs": [],
   "source": [
    "LR = 2e-5\n",
    "EPOCHS=5 # 10\n",
    "INPUT_SHAPE = X_train.shape[1:]"
   ]
  },
  {
   "cell_type": "code",
   "execution_count": 7,
   "id": "ac651d83",
   "metadata": {
    "ExecuteTime": {
     "end_time": "2022-03-21T00:27:59.920228Z",
     "start_time": "2022-03-21T00:27:59.302690Z"
    }
   },
   "outputs": [],
   "source": [
    "input_tensor=tf.keras.Input(shape=INPUT_SHAPE)"
   ]
  },
  {
   "cell_type": "code",
   "execution_count": 8,
   "id": "30f4b266",
   "metadata": {
    "ExecuteTime": {
     "end_time": "2022-03-21T00:28:02.536812Z",
     "start_time": "2022-03-21T00:27:59.921077Z"
    }
   },
   "outputs": [],
   "source": [
    "res_base = tf.keras.applications.resnet50.ResNet50(weights='imagenet', include_top=False, input_tensor=input_tensor)\n",
    "    \n",
    "resNet = Sequential()\n",
    "resNet.add(res_base)\n",
    "resNet.add(tf.keras.layers.Flatten())\n",
    "resNet.add(tf.keras.layers.Dense(NUM_CLASSES, activation='softmax'))"
   ]
  },
  {
   "cell_type": "code",
   "execution_count": 9,
   "id": "d1a21ecf",
   "metadata": {
    "ExecuteTime": {
     "end_time": "2022-03-21T00:28:02.552247Z",
     "start_time": "2022-03-21T00:28:02.537813Z"
    }
   },
   "outputs": [],
   "source": [
    "resNet.compile(loss='categorical_crossentropy',\n",
    "               optimizer=tf.keras.optimizers.RMSprop(learning_rate=LR),\n",
    "               metrics=['accuracy'])"
   ]
  },
  {
   "cell_type": "code",
   "execution_count": 10,
   "id": "65bbb239",
   "metadata": {
    "ExecuteTime": {
     "end_time": "2022-03-21T00:28:02.583347Z",
     "start_time": "2022-03-21T00:28:02.553245Z"
    },
    "scrolled": true
   },
   "outputs": [
    {
     "name": "stdout",
     "output_type": "stream",
     "text": [
      "Model: \"sequential\"\n",
      "_________________________________________________________________\n",
      " Layer (type)                Output Shape              Param #   \n",
      "=================================================================\n",
      " resnet50 (Functional)       (None, 1, 1, 2048)        23587712  \n",
      "                                                                 \n",
      " flatten (Flatten)           (None, 2048)              0         \n",
      "                                                                 \n",
      " dense (Dense)               (None, 10)                20490     \n",
      "                                                                 \n",
      "=================================================================\n",
      "Total params: 23,608,202\n",
      "Trainable params: 23,555,082\n",
      "Non-trainable params: 53,120\n",
      "_________________________________________________________________\n"
     ]
    }
   ],
   "source": [
    "resNet.summary()"
   ]
  },
  {
   "cell_type": "code",
   "execution_count": null,
   "id": "7dc5b755",
   "metadata": {
    "ExecuteTime": {
     "end_time": "2022-03-21T03:11:58.567464Z",
     "start_time": "2022-03-21T00:28:02.584200Z"
    },
    "scrolled": true
   },
   "outputs": [
    {
     "name": "stdout",
     "output_type": "stream",
     "text": [
      "Epoch 1/5\n",
      " 235/1563 [===>..........................] - ETA: 50:49 - loss: 2.9357 - accuracy: 0.1806"
     ]
    }
   ],
   "source": [
    "resNet.fit(X_train,\n",
    "           y_train_ohe,\n",
    "           batch_size=BATCH_SIZE,\n",
    "           epochs=EPOCHS,\n",
    "           shuffle=True,\n",
    "           verbose=1,\n",
    "           validation_data=(X_test, y_test_ohe)\n",
    "          )"
   ]
  },
  {
   "cell_type": "markdown",
   "id": "ef3da1b9",
   "metadata": {
    "ExecuteTime": {
     "end_time": "2022-03-19T18:22:56.487259Z",
     "start_time": "2022-03-19T18:22:56.483638Z"
    }
   },
   "source": [
    "## Models Evaluation"
   ]
  },
  {
   "cell_type": "markdown",
   "id": "63e82544",
   "metadata": {},
   "source": [
    "### Residual Network (ResNet)"
   ]
  },
  {
   "cell_type": "code",
   "execution_count": null,
   "id": "7a3a8ac3",
   "metadata": {
    "ExecuteTime": {
     "end_time": "2022-03-21T05:57:13.106834Z",
     "start_time": "2022-03-21T05:56:51.552484Z"
    }
   },
   "outputs": [],
   "source": [
    "resNet.evaluate(X_test, y_test_ohe)"
   ]
  },
  {
   "cell_type": "code",
   "execution_count": null,
   "id": "01c05763",
   "metadata": {
    "ExecuteTime": {
     "end_time": "2022-03-21T05:57:42.987800Z",
     "start_time": "2022-03-21T05:57:19.483184Z"
    }
   },
   "outputs": [],
   "source": [
    "y_pred_resnet = resNet.predict(X_test)\n",
    "y_pred_resnet_classes = np.argmax(y_pred_resnet, axis=-1)"
   ]
  },
  {
   "cell_type": "code",
   "execution_count": null,
   "id": "06106254",
   "metadata": {
    "ExecuteTime": {
     "end_time": "2022-03-21T05:57:44.444587Z",
     "start_time": "2022-03-21T05:57:44.418762Z"
    }
   },
   "outputs": [],
   "source": [
    "pd.DataFrame(confusion_matrix(y_actual_test_classes, y_pred_resnet_classes))"
   ]
  },
  {
   "cell_type": "code",
   "execution_count": null,
   "id": "0ae80aa5",
   "metadata": {
    "ExecuteTime": {
     "end_time": "2022-03-21T05:57:59.517100Z",
     "start_time": "2022-03-21T05:57:59.487180Z"
    }
   },
   "outputs": [],
   "source": [
    "print(classification_report(y_actual_test_classes, y_pred_resnet_classes))"
   ]
  },
  {
   "cell_type": "markdown",
   "id": "c50f43d2",
   "metadata": {},
   "source": [
    "### VGG16"
   ]
  },
  {
   "cell_type": "code",
   "execution_count": null,
   "id": "f16436ee",
   "metadata": {
    "ExecuteTime": {
     "end_time": "2022-03-21T11:54:41.447202Z",
     "start_time": "2022-03-21T11:53:46.847943Z"
    }
   },
   "outputs": [],
   "source": [
    "# TODO\n",
    "vggNet.evaluate(X_test_vgg16, y_test_vgg16)"
   ]
  },
  {
   "cell_type": "code",
   "execution_count": null,
   "id": "5fa8ff0c",
   "metadata": {
    "ExecuteTime": {
     "end_time": "2022-03-21T11:55:28.201168Z",
     "start_time": "2022-03-21T11:54:41.451190Z"
    }
   },
   "outputs": [],
   "source": [
    "y_pred_test_vgg16 = vggNet.predict(X_test_vgg16)\n",
    "y_pred_test_classes_vgg16 = np.argmax(y_pred_test_vgg16, axis=-1)"
   ]
  },
  {
   "cell_type": "code",
   "execution_count": null,
   "id": "489c3a73",
   "metadata": {
    "ExecuteTime": {
     "end_time": "2022-03-21T11:59:02.838347Z",
     "start_time": "2022-03-21T11:59:02.784856Z"
    }
   },
   "outputs": [],
   "source": [
    "pd.DataFrame(confusion_matrix(y_actual_test_classes, y_pred_test_classes_vgg16))"
   ]
  },
  {
   "cell_type": "code",
   "execution_count": null,
   "id": "39f4a610",
   "metadata": {
    "ExecuteTime": {
     "end_time": "2022-03-21T11:59:04.590862Z",
     "start_time": "2022-03-21T11:59:04.553344Z"
    }
   },
   "outputs": [],
   "source": [
    "print(classification_report(y_actual_test_classes, y_pred_test_classes_vgg16))"
   ]
  }
 ],
 "metadata": {
  "kernelspec": {
   "display_name": "Python 3 (ipykernel)",
   "language": "python",
   "name": "python3"
  },
  "language_info": {
   "codemirror_mode": {
    "name": "ipython",
    "version": 3
   },
   "file_extension": ".py",
   "mimetype": "text/x-python",
   "name": "python",
   "nbconvert_exporter": "python",
   "pygments_lexer": "ipython3",
   "version": "3.9.7"
  }
 },
 "nbformat": 4,
 "nbformat_minor": 5
}
