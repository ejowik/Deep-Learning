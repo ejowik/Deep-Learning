{
 "cells": [
  {
   "cell_type": "code",
   "execution_count": 1,
   "id": "286fa481",
   "metadata": {
    "ExecuteTime": {
     "end_time": "2022-04-06T17:19:23.663106Z",
     "start_time": "2022-04-06T17:18:52.848910Z"
    }
   },
   "outputs": [],
   "source": [
    "import pandas as pd\n",
    "import keras\n",
    "import numpy as np\n",
    "\n",
    "# Import CIFAR 10 dataset\n",
    "from keras.datasets import cifar10\n",
    "\n",
    "from keras.preprocessing.image import ImageDataGenerator\n",
    "\n",
    "# Import Necessary CNN Building Blocks\n",
    "from keras.models import Sequential, Model\n",
    "from keras.layers import Conv2D, MaxPooling2D, Flatten, Dense, Activation, Dropout, MaxPool2D, BatchNormalization, GlobalAveragePooling2D, UpSampling2D\n",
    "from keras.layers.advanced_activations import LeakyReLU\n",
    "\n",
    "from keras import backend as K\n",
    "from keras import applications\n",
    "from keras import callbacks\n",
    "from keras import optimizers\n",
    "from keras.utils import np_utils\n",
    "import random\n",
    "\n",
    "import tensorflow as tf\n",
    "import tensorflow_addons as tfa\n",
    "\n",
    "from sklearn.metrics import classification_report, confusion_matrix\n",
    "from tensorflow.keras.callbacks import EarlyStopping"
   ]
  },
  {
   "cell_type": "code",
   "execution_count": 2,
   "id": "8aa4a7d3",
   "metadata": {
    "ExecuteTime": {
     "end_time": "2022-04-06T17:19:23.671475Z",
     "start_time": "2022-04-06T17:19:23.665946Z"
    }
   },
   "outputs": [],
   "source": [
    "# Requirements:\n",
    "# !pip install keras\n",
    "# !pip install tensorflow\n",
    "# !pip install keras\n",
    "# !pip install tensorflow_addons\n",
    "\n",
    "# TODO: data augmentation validation"
   ]
  },
  {
   "cell_type": "markdown",
   "id": "1584ee76",
   "metadata": {},
   "source": [
    "## <span style='font-family:Georgia'> Data preparation"
   ]
  },
  {
   "cell_type": "code",
   "execution_count": 3,
   "id": "01100192",
   "metadata": {
    "ExecuteTime": {
     "end_time": "2022-04-06T17:19:25.125382Z",
     "start_time": "2022-04-06T17:19:23.675673Z"
    }
   },
   "outputs": [
    {
     "name": "stdout",
     "output_type": "stream",
     "text": [
      "x_train shape: (50000, 32, 32, 3)\n",
      "y_train shape: (50000, 1)\n",
      "50000 train samples\n",
      "10000 test samples\n"
     ]
    }
   ],
   "source": [
    "# Load Dataset\n",
    "(X_train, y_train), (X_test, y_test) = cifar10.load_data()\n",
    "\n",
    "BATCH_SIZE = 32\n",
    "INPUT_SHAPE = X_train.shape[1:]\n",
    "NUM_CLASSES = 10\n",
    "\n",
    "print('x_train shape:', X_train.shape)\n",
    "print('y_train shape:', y_train.shape)\n",
    "print(X_train.shape[0], 'train samples')\n",
    "print(X_test.shape[0], 'test samples')"
   ]
  },
  {
   "cell_type": "code",
   "execution_count": 4,
   "id": "d28d5f73",
   "metadata": {
    "ExecuteTime": {
     "end_time": "2022-04-06T17:19:26.097464Z",
     "start_time": "2022-04-06T17:19:25.128452Z"
    }
   },
   "outputs": [],
   "source": [
    "# Normalize input data\n",
    "X_train = X_train.astype('float32')/255\n",
    "X_test = X_test.astype('float32')/255\n",
    "\n",
    "# Encode target variable\n",
    "y_train = tf.keras.utils.to_categorical(y_train, NUM_CLASSES)\n",
    "y_test_ohe = tf.keras.utils.to_categorical(y_test, NUM_CLASSES)"
   ]
  },
  {
   "cell_type": "markdown",
   "id": "42d744b1",
   "metadata": {},
   "source": [
    "## <span style='font-family:Georgia'> Deep Learning pretrained models fitting"
   ]
  },
  {
   "cell_type": "markdown",
   "id": "ebefd28d",
   "metadata": {},
   "source": [
    "### <span style='font-family:Georgia'> Residual Network (ResNet)"
   ]
  },
  {
   "cell_type": "code",
   "execution_count": 5,
   "id": "53e7215c",
   "metadata": {
    "ExecuteTime": {
     "end_time": "2022-04-06T17:19:26.114676Z",
     "start_time": "2022-04-06T17:19:26.101485Z"
    }
   },
   "outputs": [],
   "source": [
    "LR = 2e-5\n",
    "EPOCHS=10\n",
    "INPUT_SHAPE = X_train.shape[1:]"
   ]
  },
  {
   "cell_type": "code",
   "execution_count": 6,
   "id": "ac651d83",
   "metadata": {
    "ExecuteTime": {
     "end_time": "2022-04-06T17:19:26.143295Z",
     "start_time": "2022-04-06T17:19:26.116863Z"
    }
   },
   "outputs": [],
   "source": [
    "input_tensor=tf.keras.Input(shape=INPUT_SHAPE)"
   ]
  },
  {
   "cell_type": "code",
   "execution_count": 7,
   "id": "30f4b266",
   "metadata": {
    "ExecuteTime": {
     "end_time": "2022-04-06T17:19:30.275587Z",
     "start_time": "2022-04-06T17:19:26.147863Z"
    }
   },
   "outputs": [],
   "source": [
    "res_base = tf.keras.applications.resnet50.ResNet50(weights='imagenet', include_top=False, input_tensor=input_tensor)\n",
    "    \n",
    "resNet = Sequential()\n",
    "resNet.add(res_base)\n",
    "resNet.add(tf.keras.layers.Flatten())\n",
    "resNet.add(tf.keras.layers.Dense(NUM_CLASSES, activation='softmax'))"
   ]
  },
  {
   "cell_type": "code",
   "execution_count": 8,
   "id": "d1a21ecf",
   "metadata": {
    "ExecuteTime": {
     "end_time": "2022-04-06T17:19:30.325676Z",
     "start_time": "2022-04-06T17:19:30.284148Z"
    }
   },
   "outputs": [],
   "source": [
    "resNet.compile(loss='categorical_crossentropy',\n",
    "               optimizer=tf.keras.optimizers.RMSprop(learning_rate=LR),\n",
    "               metrics=['accuracy'])"
   ]
  },
  {
   "cell_type": "code",
   "execution_count": 9,
   "id": "65bbb239",
   "metadata": {
    "ExecuteTime": {
     "end_time": "2022-04-06T17:19:30.408884Z",
     "start_time": "2022-04-06T17:19:30.327663Z"
    },
    "scrolled": true
   },
   "outputs": [
    {
     "name": "stdout",
     "output_type": "stream",
     "text": [
      "Model: \"sequential\"\n",
      "_________________________________________________________________\n",
      " Layer (type)                Output Shape              Param #   \n",
      "=================================================================\n",
      " resnet50 (Functional)       (None, 1, 1, 2048)        23587712  \n",
      "                                                                 \n",
      " flatten (Flatten)           (None, 2048)              0         \n",
      "                                                                 \n",
      " dense (Dense)               (None, 10)                20490     \n",
      "                                                                 \n",
      "=================================================================\n",
      "Total params: 23,608,202\n",
      "Trainable params: 23,555,082\n",
      "Non-trainable params: 53,120\n",
      "_________________________________________________________________\n"
     ]
    }
   ],
   "source": [
    "resNet.summary()"
   ]
  },
  {
   "cell_type": "code",
   "execution_count": 10,
   "id": "7dc5b755",
   "metadata": {
    "ExecuteTime": {
     "end_time": "2022-04-06T22:39:03.341747Z",
     "start_time": "2022-04-06T17:19:30.410132Z"
    },
    "scrolled": true
   },
   "outputs": [
    {
     "name": "stdout",
     "output_type": "stream",
     "text": [
      "Epoch 1/10\n",
      "1563/1563 [==============================] - 2162s 1s/step - loss: 1.9117 - accuracy: 0.4027 - val_loss: 1.3854 - val_accuracy: 0.5737\n",
      "Epoch 2/10\n",
      "1563/1563 [==============================] - 1917s 1s/step - loss: 1.0692 - accuracy: 0.6375 - val_loss: 0.9771 - val_accuracy: 0.6832\n",
      "Epoch 3/10\n",
      "1563/1563 [==============================] - 1822s 1s/step - loss: 0.8132 - accuracy: 0.7246 - val_loss: 0.8772 - val_accuracy: 0.7212\n",
      "Epoch 4/10\n",
      "1563/1563 [==============================] - 1815s 1s/step - loss: 0.6594 - accuracy: 0.7782 - val_loss: 0.8060 - val_accuracy: 0.7413\n",
      "Epoch 5/10\n",
      "1563/1563 [==============================] - 1719s 1s/step - loss: 0.5403 - accuracy: 0.8166 - val_loss: 0.8210 - val_accuracy: 0.7579\n",
      "Epoch 6/10\n",
      "1563/1563 [==============================] - 1832s 1s/step - loss: 0.4525 - accuracy: 0.8464 - val_loss: 0.8189 - val_accuracy: 0.7694\n",
      "Epoch 7/10\n",
      "1563/1563 [==============================] - 1961s 1s/step - loss: 0.3693 - accuracy: 0.8742 - val_loss: 0.8690 - val_accuracy: 0.7730\n",
      "Epoch 8/10\n",
      "1563/1563 [==============================] - 1975s 1s/step - loss: 0.3027 - accuracy: 0.8958 - val_loss: 0.9131 - val_accuracy: 0.7708\n",
      "Epoch 9/10\n",
      "1563/1563 [==============================] - 1988s 1s/step - loss: 0.2538 - accuracy: 0.9142 - val_loss: 0.9344 - val_accuracy: 0.7787\n",
      "Epoch 10/10\n",
      "1563/1563 [==============================] - 1981s 1s/step - loss: 0.2102 - accuracy: 0.9293 - val_loss: 1.0104 - val_accuracy: 0.7790\n"
     ]
    },
    {
     "data": {
      "text/plain": [
       "<keras.callbacks.History at 0x20f81798a00>"
      ]
     },
     "execution_count": 10,
     "metadata": {},
     "output_type": "execute_result"
    }
   ],
   "source": [
    "resNet.fit(X_train,\n",
    "           y_train,\n",
    "           batch_size=BATCH_SIZE,\n",
    "           epochs=EPOCHS,\n",
    "           shuffle=True,\n",
    "           verbose=1,\n",
    "           validation_data=(X_test, y_test_ohe)\n",
    "          )"
   ]
  },
  {
   "cell_type": "markdown",
   "id": "2430ebef",
   "metadata": {},
   "source": [
    "### <span style='font-family:Georgia'> VGG16"
   ]
  },
  {
   "cell_type": "code",
   "execution_count": 11,
   "id": "caa4e57f",
   "metadata": {
    "ExecuteTime": {
     "end_time": "2022-04-06T22:39:03.366476Z",
     "start_time": "2022-04-06T22:39:03.347767Z"
    }
   },
   "outputs": [],
   "source": [
    "EPOCHS=10\n",
    "BATCH_SIZE = 32\n",
    "LR=1e-3\n",
    "MOMENTUM=0.9\n",
    "INPUT_SHAPE = X_train.shape[1:]"
   ]
  },
  {
   "cell_type": "code",
   "execution_count": 12,
   "id": "1e574e2a",
   "metadata": {
    "ExecuteTime": {
     "end_time": "2022-04-06T22:39:03.986040Z",
     "start_time": "2022-04-06T22:39:03.369516Z"
    }
   },
   "outputs": [
    {
     "name": "stdout",
     "output_type": "stream",
     "text": [
      "Model: \"sequential_1\"\n",
      "_________________________________________________________________\n",
      " Layer (type)                Output Shape              Param #   \n",
      "=================================================================\n",
      " vgg16 (Functional)          (None, 1, 1, 512)         14714688  \n",
      "                                                                 \n",
      " flatten_1 (Flatten)         (None, 512)               0         \n",
      "                                                                 \n",
      " dense_1 (Dense)             (None, 10)                5130      \n",
      "                                                                 \n",
      "=================================================================\n",
      "Total params: 14,719,818\n",
      "Trainable params: 14,719,818\n",
      "Non-trainable params: 0\n",
      "_________________________________________________________________\n"
     ]
    }
   ],
   "source": [
    "vgg_base = tf.keras.applications.vgg16.VGG16(include_top=False,weights='imagenet',input_shape=INPUT_SHAPE)\n",
    "\n",
    "vgg = Sequential()\n",
    "vgg.add(vgg_base)\n",
    "vgg.add(Flatten()) \n",
    "vgg.add(Dense(NUM_CLASSES, activation=('softmax')))\n",
    "vgg.summary()"
   ]
  },
  {
   "cell_type": "code",
   "execution_count": 13,
   "id": "4276049a",
   "metadata": {
    "ExecuteTime": {
     "end_time": "2022-04-06T22:39:04.015078Z",
     "start_time": "2022-04-06T22:39:03.988346Z"
    }
   },
   "outputs": [],
   "source": [
    "vgg.compile(loss='binary_crossentropy',\n",
    "            optimizer=tf.keras.optimizers.SGD(learning_rate=LR, momentum=MOMENTUM),\n",
    "            metrics=['accuracy'])"
   ]
  },
  {
   "cell_type": "code",
   "execution_count": 14,
   "id": "8395fe05",
   "metadata": {
    "ExecuteTime": {
     "end_time": "2022-04-07T03:03:36.803390Z",
     "start_time": "2022-04-06T22:39:04.015078Z"
    }
   },
   "outputs": [
    {
     "name": "stdout",
     "output_type": "stream",
     "text": [
      "Epoch 1/10\n",
      "1562/1562 [==============================] - 1521s 973ms/step - loss: 0.1767 - accuracy: 0.6279 - val_loss: 0.1355 - val_accuracy: 0.7251\n",
      "Epoch 2/10\n",
      "1562/1562 [==============================] - 1557s 997ms/step - loss: 0.1193 - accuracy: 0.7589 - val_loss: 0.1139 - val_accuracy: 0.7740\n",
      "Epoch 3/10\n",
      "1562/1562 [==============================] - 1577s 1s/step - loss: 0.1022 - accuracy: 0.7959 - val_loss: 0.1066 - val_accuracy: 0.7882\n",
      "Epoch 4/10\n",
      "1562/1562 [==============================] - 1563s 1s/step - loss: 0.0913 - accuracy: 0.8200 - val_loss: 0.0967 - val_accuracy: 0.8065\n",
      "Epoch 5/10\n",
      "1562/1562 [==============================] - 1565s 1s/step - loss: 0.0823 - accuracy: 0.8363 - val_loss: 0.0912 - val_accuracy: 0.8209\n",
      "Epoch 6/10\n",
      "1562/1562 [==============================] - 1587s 1s/step - loss: 0.0744 - accuracy: 0.8545 - val_loss: 0.0945 - val_accuracy: 0.8071\n",
      "Epoch 7/10\n",
      "1562/1562 [==============================] - 1574s 1s/step - loss: 0.0686 - accuracy: 0.8658 - val_loss: 0.0857 - val_accuracy: 0.8315\n",
      "Epoch 8/10\n",
      "1562/1562 [==============================] - 1618s 1s/step - loss: 0.0630 - accuracy: 0.8778 - val_loss: 0.0831 - val_accuracy: 0.8370\n",
      "Epoch 9/10\n",
      "1562/1562 [==============================] - 1730s 1s/step - loss: 0.0574 - accuracy: 0.8906 - val_loss: 0.0855 - val_accuracy: 0.8362\n",
      "Epoch 10/10\n",
      "1562/1562 [==============================] - 1577s 1s/step - loss: 0.0526 - accuracy: 0.9009 - val_loss: 0.0823 - val_accuracy: 0.8398\n"
     ]
    }
   ],
   "source": [
    "vgg_history = (\n",
    "    vgg.fit(X_train,\n",
    "            y_train, \n",
    "            batch_size=BATCH_SIZE,\n",
    "            epochs=EPOCHS,\n",
    "            steps_per_epoch=X_train.shape[0]//BATCH_SIZE,\n",
    "            validation_data=(X_test, y_test_ohe),\n",
    "            validation_steps=X_test.shape[0]//BATCH_SIZE,\n",
    "            verbose=1\n",
    "           )\n",
    ")"
   ]
  },
  {
   "cell_type": "markdown",
   "id": "ef3da1b9",
   "metadata": {
    "ExecuteTime": {
     "end_time": "2022-03-19T18:22:56.487259Z",
     "start_time": "2022-03-19T18:22:56.483638Z"
    }
   },
   "source": [
    "## <span style='font-family:Georgia'> Models Evaluation"
   ]
  },
  {
   "cell_type": "markdown",
   "id": "63e82544",
   "metadata": {},
   "source": [
    "### <span style='font-family:Georgia'> Residual Network (ResNet)"
   ]
  },
  {
   "cell_type": "code",
   "execution_count": 15,
   "id": "7a3a8ac3",
   "metadata": {
    "ExecuteTime": {
     "end_time": "2022-04-07T03:04:01.434098Z",
     "start_time": "2022-04-07T03:03:36.809382Z"
    }
   },
   "outputs": [
    {
     "name": "stdout",
     "output_type": "stream",
     "text": [
      "313/313 [==============================] - 24s 78ms/step - loss: 1.0104 - accuracy: 0.7790\n"
     ]
    },
    {
     "data": {
      "text/plain": [
       "[1.0103892087936401, 0.7789999842643738]"
      ]
     },
     "execution_count": 15,
     "metadata": {},
     "output_type": "execute_result"
    }
   ],
   "source": [
    "resNet.evaluate(X_test, y_test_ohe)"
   ]
  },
  {
   "cell_type": "code",
   "execution_count": 16,
   "id": "01c05763",
   "metadata": {
    "ExecuteTime": {
     "end_time": "2022-04-07T03:04:25.461574Z",
     "start_time": "2022-04-07T03:04:01.436087Z"
    }
   },
   "outputs": [],
   "source": [
    "y_pred_resnet = resNet.predict(X_test)"
   ]
  },
  {
   "cell_type": "code",
   "execution_count": 17,
   "id": "2add4dfd",
   "metadata": {
    "ExecuteTime": {
     "end_time": "2022-04-07T03:04:25.492865Z",
     "start_time": "2022-04-07T03:04:25.467571Z"
    }
   },
   "outputs": [],
   "source": [
    "y_pred_resnet_classes = np.argmax(y_pred_resnet, axis=-1)"
   ]
  },
  {
   "cell_type": "code",
   "execution_count": 18,
   "id": "06106254",
   "metadata": {
    "ExecuteTime": {
     "end_time": "2022-04-07T03:04:25.571046Z",
     "start_time": "2022-04-07T03:04:25.498851Z"
    }
   },
   "outputs": [
    {
     "data": {
      "text/html": [
       "<div>\n",
       "<style scoped>\n",
       "    .dataframe tbody tr th:only-of-type {\n",
       "        vertical-align: middle;\n",
       "    }\n",
       "\n",
       "    .dataframe tbody tr th {\n",
       "        vertical-align: top;\n",
       "    }\n",
       "\n",
       "    .dataframe thead th {\n",
       "        text-align: right;\n",
       "    }\n",
       "</style>\n",
       "<table border=\"1\" class=\"dataframe\">\n",
       "  <thead>\n",
       "    <tr style=\"text-align: right;\">\n",
       "      <th></th>\n",
       "      <th>0</th>\n",
       "      <th>1</th>\n",
       "      <th>2</th>\n",
       "      <th>3</th>\n",
       "      <th>4</th>\n",
       "      <th>5</th>\n",
       "      <th>6</th>\n",
       "      <th>7</th>\n",
       "      <th>8</th>\n",
       "      <th>9</th>\n",
       "    </tr>\n",
       "  </thead>\n",
       "  <tbody>\n",
       "    <tr>\n",
       "      <th>0</th>\n",
       "      <td>821</td>\n",
       "      <td>17</td>\n",
       "      <td>29</td>\n",
       "      <td>15</td>\n",
       "      <td>23</td>\n",
       "      <td>4</td>\n",
       "      <td>6</td>\n",
       "      <td>8</td>\n",
       "      <td>48</td>\n",
       "      <td>29</td>\n",
       "    </tr>\n",
       "    <tr>\n",
       "      <th>1</th>\n",
       "      <td>21</td>\n",
       "      <td>861</td>\n",
       "      <td>4</td>\n",
       "      <td>9</td>\n",
       "      <td>2</td>\n",
       "      <td>4</td>\n",
       "      <td>9</td>\n",
       "      <td>3</td>\n",
       "      <td>24</td>\n",
       "      <td>63</td>\n",
       "    </tr>\n",
       "    <tr>\n",
       "      <th>2</th>\n",
       "      <td>42</td>\n",
       "      <td>3</td>\n",
       "      <td>699</td>\n",
       "      <td>66</td>\n",
       "      <td>91</td>\n",
       "      <td>30</td>\n",
       "      <td>42</td>\n",
       "      <td>17</td>\n",
       "      <td>7</td>\n",
       "      <td>3</td>\n",
       "    </tr>\n",
       "    <tr>\n",
       "      <th>3</th>\n",
       "      <td>20</td>\n",
       "      <td>9</td>\n",
       "      <td>44</td>\n",
       "      <td>630</td>\n",
       "      <td>55</td>\n",
       "      <td>151</td>\n",
       "      <td>49</td>\n",
       "      <td>19</td>\n",
       "      <td>8</td>\n",
       "      <td>15</td>\n",
       "    </tr>\n",
       "    <tr>\n",
       "      <th>4</th>\n",
       "      <td>13</td>\n",
       "      <td>1</td>\n",
       "      <td>35</td>\n",
       "      <td>51</td>\n",
       "      <td>746</td>\n",
       "      <td>34</td>\n",
       "      <td>43</td>\n",
       "      <td>51</td>\n",
       "      <td>10</td>\n",
       "      <td>16</td>\n",
       "    </tr>\n",
       "    <tr>\n",
       "      <th>5</th>\n",
       "      <td>11</td>\n",
       "      <td>4</td>\n",
       "      <td>28</td>\n",
       "      <td>174</td>\n",
       "      <td>44</td>\n",
       "      <td>675</td>\n",
       "      <td>18</td>\n",
       "      <td>41</td>\n",
       "      <td>3</td>\n",
       "      <td>2</td>\n",
       "    </tr>\n",
       "    <tr>\n",
       "      <th>6</th>\n",
       "      <td>5</td>\n",
       "      <td>6</td>\n",
       "      <td>33</td>\n",
       "      <td>64</td>\n",
       "      <td>24</td>\n",
       "      <td>20</td>\n",
       "      <td>838</td>\n",
       "      <td>7</td>\n",
       "      <td>2</td>\n",
       "      <td>1</td>\n",
       "    </tr>\n",
       "    <tr>\n",
       "      <th>7</th>\n",
       "      <td>10</td>\n",
       "      <td>3</td>\n",
       "      <td>19</td>\n",
       "      <td>37</td>\n",
       "      <td>47</td>\n",
       "      <td>49</td>\n",
       "      <td>5</td>\n",
       "      <td>815</td>\n",
       "      <td>4</td>\n",
       "      <td>11</td>\n",
       "    </tr>\n",
       "    <tr>\n",
       "      <th>8</th>\n",
       "      <td>50</td>\n",
       "      <td>28</td>\n",
       "      <td>6</td>\n",
       "      <td>14</td>\n",
       "      <td>8</td>\n",
       "      <td>4</td>\n",
       "      <td>2</td>\n",
       "      <td>4</td>\n",
       "      <td>860</td>\n",
       "      <td>24</td>\n",
       "    </tr>\n",
       "    <tr>\n",
       "      <th>9</th>\n",
       "      <td>21</td>\n",
       "      <td>74</td>\n",
       "      <td>6</td>\n",
       "      <td>13</td>\n",
       "      <td>2</td>\n",
       "      <td>5</td>\n",
       "      <td>3</td>\n",
       "      <td>8</td>\n",
       "      <td>23</td>\n",
       "      <td>845</td>\n",
       "    </tr>\n",
       "  </tbody>\n",
       "</table>\n",
       "</div>"
      ],
      "text/plain": [
       "     0    1    2    3    4    5    6    7    8    9\n",
       "0  821   17   29   15   23    4    6    8   48   29\n",
       "1   21  861    4    9    2    4    9    3   24   63\n",
       "2   42    3  699   66   91   30   42   17    7    3\n",
       "3   20    9   44  630   55  151   49   19    8   15\n",
       "4   13    1   35   51  746   34   43   51   10   16\n",
       "5   11    4   28  174   44  675   18   41    3    2\n",
       "6    5    6   33   64   24   20  838    7    2    1\n",
       "7   10    3   19   37   47   49    5  815    4   11\n",
       "8   50   28    6   14    8    4    2    4  860   24\n",
       "9   21   74    6   13    2    5    3    8   23  845"
      ]
     },
     "execution_count": 18,
     "metadata": {},
     "output_type": "execute_result"
    }
   ],
   "source": [
    "conf_matr_resnet = pd.DataFrame(confusion_matrix(y_test, y_pred_resnet_classes))\n",
    "conf_matr_resnet.to_csv(\"conf_matr_resnet.csv\")\n",
    "conf_matr_resnet"
   ]
  },
  {
   "cell_type": "code",
   "execution_count": 19,
   "id": "0ae80aa5",
   "metadata": {
    "ExecuteTime": {
     "end_time": "2022-04-07T03:04:25.602962Z",
     "start_time": "2022-04-07T03:04:25.573042Z"
    }
   },
   "outputs": [
    {
     "name": "stdout",
     "output_type": "stream",
     "text": [
      "              precision    recall  f1-score   support\n",
      "\n",
      "           0       0.81      0.82      0.82      1000\n",
      "           1       0.86      0.86      0.86      1000\n",
      "           2       0.77      0.70      0.73      1000\n",
      "           3       0.59      0.63      0.61      1000\n",
      "           4       0.72      0.75      0.73      1000\n",
      "           5       0.69      0.68      0.68      1000\n",
      "           6       0.83      0.84      0.83      1000\n",
      "           7       0.84      0.81      0.83      1000\n",
      "           8       0.87      0.86      0.86      1000\n",
      "           9       0.84      0.84      0.84      1000\n",
      "\n",
      "    accuracy                           0.78     10000\n",
      "   macro avg       0.78      0.78      0.78     10000\n",
      "weighted avg       0.78      0.78      0.78     10000\n",
      "\n"
     ]
    }
   ],
   "source": [
    "print(classification_report(y_test, y_pred_resnet_classes))"
   ]
  },
  {
   "cell_type": "markdown",
   "id": "c50f43d2",
   "metadata": {},
   "source": [
    "### <span style='font-family:Georgia'> VGG16"
   ]
  },
  {
   "cell_type": "code",
   "execution_count": 20,
   "id": "5e3895da",
   "metadata": {
    "ExecuteTime": {
     "end_time": "2022-04-07T03:05:06.784213Z",
     "start_time": "2022-04-07T03:04:25.603998Z"
    },
    "scrolled": true
   },
   "outputs": [
    {
     "name": "stdout",
     "output_type": "stream",
     "text": [
      "313/313 [==============================] - 41s 131ms/step - loss: 0.0824 - accuracy: 0.8397\n"
     ]
    },
    {
     "data": {
      "text/plain": [
       "[0.08236587047576904, 0.8396999835968018]"
      ]
     },
     "execution_count": 20,
     "metadata": {},
     "output_type": "execute_result"
    }
   ],
   "source": [
    "vgg.evaluate(X_test, y_test_ohe)"
   ]
  },
  {
   "cell_type": "code",
   "execution_count": 21,
   "id": "8a9c295c",
   "metadata": {
    "ExecuteTime": {
     "end_time": "2022-04-07T03:05:47.884919Z",
     "start_time": "2022-04-07T03:05:06.786202Z"
    }
   },
   "outputs": [],
   "source": [
    "y_pred_vgg16 = vgg.predict(X_test)"
   ]
  },
  {
   "cell_type": "code",
   "execution_count": 22,
   "id": "5fa8ff0c",
   "metadata": {
    "ExecuteTime": {
     "end_time": "2022-04-07T03:05:47.900548Z",
     "start_time": "2022-04-07T03:05:47.886914Z"
    }
   },
   "outputs": [],
   "source": [
    "y_pred_vgg16_classes = np.argmax(y_pred_vgg16, axis=-1)"
   ]
  },
  {
   "cell_type": "code",
   "execution_count": 23,
   "id": "489c3a73",
   "metadata": {
    "ExecuteTime": {
     "end_time": "2022-04-07T03:05:47.932463Z",
     "start_time": "2022-04-07T03:05:47.907530Z"
    }
   },
   "outputs": [
    {
     "data": {
      "text/html": [
       "<div>\n",
       "<style scoped>\n",
       "    .dataframe tbody tr th:only-of-type {\n",
       "        vertical-align: middle;\n",
       "    }\n",
       "\n",
       "    .dataframe tbody tr th {\n",
       "        vertical-align: top;\n",
       "    }\n",
       "\n",
       "    .dataframe thead th {\n",
       "        text-align: right;\n",
       "    }\n",
       "</style>\n",
       "<table border=\"1\" class=\"dataframe\">\n",
       "  <thead>\n",
       "    <tr style=\"text-align: right;\">\n",
       "      <th></th>\n",
       "      <th>0</th>\n",
       "      <th>1</th>\n",
       "      <th>2</th>\n",
       "      <th>3</th>\n",
       "      <th>4</th>\n",
       "      <th>5</th>\n",
       "      <th>6</th>\n",
       "      <th>7</th>\n",
       "      <th>8</th>\n",
       "      <th>9</th>\n",
       "    </tr>\n",
       "  </thead>\n",
       "  <tbody>\n",
       "    <tr>\n",
       "      <th>0</th>\n",
       "      <td>885</td>\n",
       "      <td>7</td>\n",
       "      <td>21</td>\n",
       "      <td>12</td>\n",
       "      <td>10</td>\n",
       "      <td>0</td>\n",
       "      <td>3</td>\n",
       "      <td>10</td>\n",
       "      <td>28</td>\n",
       "      <td>24</td>\n",
       "    </tr>\n",
       "    <tr>\n",
       "      <th>1</th>\n",
       "      <td>10</td>\n",
       "      <td>918</td>\n",
       "      <td>1</td>\n",
       "      <td>2</td>\n",
       "      <td>1</td>\n",
       "      <td>1</td>\n",
       "      <td>1</td>\n",
       "      <td>2</td>\n",
       "      <td>7</td>\n",
       "      <td>57</td>\n",
       "    </tr>\n",
       "    <tr>\n",
       "      <th>2</th>\n",
       "      <td>39</td>\n",
       "      <td>2</td>\n",
       "      <td>829</td>\n",
       "      <td>36</td>\n",
       "      <td>57</td>\n",
       "      <td>11</td>\n",
       "      <td>12</td>\n",
       "      <td>10</td>\n",
       "      <td>3</td>\n",
       "      <td>1</td>\n",
       "    </tr>\n",
       "    <tr>\n",
       "      <th>3</th>\n",
       "      <td>15</td>\n",
       "      <td>7</td>\n",
       "      <td>55</td>\n",
       "      <td>727</td>\n",
       "      <td>41</td>\n",
       "      <td>78</td>\n",
       "      <td>28</td>\n",
       "      <td>31</td>\n",
       "      <td>3</td>\n",
       "      <td>15</td>\n",
       "    </tr>\n",
       "    <tr>\n",
       "      <th>4</th>\n",
       "      <td>10</td>\n",
       "      <td>2</td>\n",
       "      <td>49</td>\n",
       "      <td>39</td>\n",
       "      <td>824</td>\n",
       "      <td>14</td>\n",
       "      <td>15</td>\n",
       "      <td>37</td>\n",
       "      <td>7</td>\n",
       "      <td>3</td>\n",
       "    </tr>\n",
       "    <tr>\n",
       "      <th>5</th>\n",
       "      <td>8</td>\n",
       "      <td>2</td>\n",
       "      <td>44</td>\n",
       "      <td>177</td>\n",
       "      <td>26</td>\n",
       "      <td>690</td>\n",
       "      <td>11</td>\n",
       "      <td>38</td>\n",
       "      <td>0</td>\n",
       "      <td>4</td>\n",
       "    </tr>\n",
       "    <tr>\n",
       "      <th>6</th>\n",
       "      <td>7</td>\n",
       "      <td>6</td>\n",
       "      <td>42</td>\n",
       "      <td>73</td>\n",
       "      <td>25</td>\n",
       "      <td>9</td>\n",
       "      <td>825</td>\n",
       "      <td>2</td>\n",
       "      <td>4</td>\n",
       "      <td>7</td>\n",
       "    </tr>\n",
       "    <tr>\n",
       "      <th>7</th>\n",
       "      <td>9</td>\n",
       "      <td>4</td>\n",
       "      <td>23</td>\n",
       "      <td>30</td>\n",
       "      <td>37</td>\n",
       "      <td>27</td>\n",
       "      <td>1</td>\n",
       "      <td>861</td>\n",
       "      <td>1</td>\n",
       "      <td>7</td>\n",
       "    </tr>\n",
       "    <tr>\n",
       "      <th>8</th>\n",
       "      <td>39</td>\n",
       "      <td>10</td>\n",
       "      <td>6</td>\n",
       "      <td>7</td>\n",
       "      <td>1</td>\n",
       "      <td>1</td>\n",
       "      <td>0</td>\n",
       "      <td>1</td>\n",
       "      <td>920</td>\n",
       "      <td>15</td>\n",
       "    </tr>\n",
       "    <tr>\n",
       "      <th>9</th>\n",
       "      <td>11</td>\n",
       "      <td>40</td>\n",
       "      <td>5</td>\n",
       "      <td>5</td>\n",
       "      <td>1</td>\n",
       "      <td>0</td>\n",
       "      <td>2</td>\n",
       "      <td>5</td>\n",
       "      <td>13</td>\n",
       "      <td>918</td>\n",
       "    </tr>\n",
       "  </tbody>\n",
       "</table>\n",
       "</div>"
      ],
      "text/plain": [
       "     0    1    2    3    4    5    6    7    8    9\n",
       "0  885    7   21   12   10    0    3   10   28   24\n",
       "1   10  918    1    2    1    1    1    2    7   57\n",
       "2   39    2  829   36   57   11   12   10    3    1\n",
       "3   15    7   55  727   41   78   28   31    3   15\n",
       "4   10    2   49   39  824   14   15   37    7    3\n",
       "5    8    2   44  177   26  690   11   38    0    4\n",
       "6    7    6   42   73   25    9  825    2    4    7\n",
       "7    9    4   23   30   37   27    1  861    1    7\n",
       "8   39   10    6    7    1    1    0    1  920   15\n",
       "9   11   40    5    5    1    0    2    5   13  918"
      ]
     },
     "execution_count": 23,
     "metadata": {},
     "output_type": "execute_result"
    }
   ],
   "source": [
    "conf_matr_vgg = pd.DataFrame(confusion_matrix(y_test, y_pred_vgg16_classes))\n",
    "conf_matr_vgg.to_csv(\"conf_matr_vgg.csv\")\n",
    "conf_matr_vgg"
   ]
  },
  {
   "cell_type": "code",
   "execution_count": 24,
   "id": "39f4a610",
   "metadata": {
    "ExecuteTime": {
     "end_time": "2022-04-07T03:05:47.980237Z",
     "start_time": "2022-04-07T03:05:47.934457Z"
    }
   },
   "outputs": [
    {
     "name": "stdout",
     "output_type": "stream",
     "text": [
      "              precision    recall  f1-score   support\n",
      "\n",
      "           0       0.86      0.89      0.87      1000\n",
      "           1       0.92      0.92      0.92      1000\n",
      "           2       0.77      0.83      0.80      1000\n",
      "           3       0.66      0.73      0.69      1000\n",
      "           4       0.81      0.82      0.81      1000\n",
      "           5       0.83      0.69      0.75      1000\n",
      "           6       0.92      0.82      0.87      1000\n",
      "           7       0.86      0.86      0.86      1000\n",
      "           8       0.93      0.92      0.93      1000\n",
      "           9       0.87      0.92      0.90      1000\n",
      "\n",
      "    accuracy                           0.84     10000\n",
      "   macro avg       0.84      0.84      0.84     10000\n",
      "weighted avg       0.84      0.84      0.84     10000\n",
      "\n"
     ]
    }
   ],
   "source": [
    "print(classification_report(y_test, y_pred_vgg16_classes))"
   ]
  },
  {
   "cell_type": "code",
   "execution_count": null,
   "id": "d230d555",
   "metadata": {},
   "outputs": [],
   "source": []
  }
 ],
 "metadata": {
  "kernelspec": {
   "display_name": "Python 3",
   "language": "python",
   "name": "python3"
  },
  "language_info": {
   "codemirror_mode": {
    "name": "ipython",
    "version": 3
   },
   "file_extension": ".py",
   "mimetype": "text/x-python",
   "name": "python",
   "nbconvert_exporter": "python",
   "pygments_lexer": "ipython3",
   "version": "3.8.8"
  }
 },
 "nbformat": 4,
 "nbformat_minor": 5
}
