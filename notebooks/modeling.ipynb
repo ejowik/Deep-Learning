{
 "cells": [
  {
   "cell_type": "code",
   "execution_count": 1,
   "id": "286fa481",
   "metadata": {
    "ExecuteTime": {
     "end_time": "2022-03-21T08:14:04.022914Z",
     "start_time": "2022-03-21T08:13:33.997363Z"
    }
   },
   "outputs": [],
   "source": [
    "import pandas as pd\n",
    "import keras\n",
    "import numpy as np\n",
    "\n",
    "# Import CIFAR 10 dataset\n",
    "from keras.datasets import cifar10\n",
    "\n",
    "from keras.preprocessing.image import ImageDataGenerator\n",
    "\n",
    "# Import Necessary CNN Building Blocks\n",
    "from keras.models import Sequential, Model\n",
    "from keras.layers import Conv2D, MaxPooling2D, Flatten, Dense, Activation, Dropout, MaxPool2D, BatchNormalization, GlobalAveragePooling2D, UpSampling2D\n",
    "from keras.layers.advanced_activations import LeakyReLU\n",
    "\n",
    "from keras import backend as K\n",
    "from keras import applications\n",
    "from keras import callbacks\n",
    "from keras import optimizers\n",
    "from keras.utils import np_utils\n",
    "\n",
    "import tensorflow as tf\n",
    "import tensorflow_addons as tfa\n",
    "\n",
    "from sklearn.metrics import classification_report, confusion_matrix\n",
    "from tensorflow.keras.callbacks import EarlyStopping"
   ]
  },
  {
   "cell_type": "code",
   "execution_count": 2,
   "id": "8aa4a7d3",
   "metadata": {
    "ExecuteTime": {
     "end_time": "2022-03-21T08:14:04.038692Z",
     "start_time": "2022-03-21T08:14:04.028109Z"
    }
   },
   "outputs": [],
   "source": [
    "# Requirements:\n",
    "# !pip install keras\n",
    "# !pip install tensorflow\n",
    "# !pip install keras\n",
    "# !pip install tensorflow_addons\n",
    "\n",
    "# TODO: data augmentation validation"
   ]
  },
  {
   "cell_type": "markdown",
   "id": "1584ee76",
   "metadata": {},
   "source": [
    "## Data"
   ]
  },
  {
   "cell_type": "code",
   "execution_count": 25,
   "id": "01100192",
   "metadata": {
    "ExecuteTime": {
     "end_time": "2022-03-21T11:58:49.082526Z",
     "start_time": "2022-03-21T11:58:48.213546Z"
    }
   },
   "outputs": [],
   "source": [
    "# Load Dataset\n",
    "(X_train, y_train), (X_test, y_test) = cifar10.load_data()\n",
    "\n",
    "BATCH_SIZE = 32\n",
    "INPUT_SHAPE = X_train.shape[1:]"
   ]
  },
  {
   "cell_type": "code",
   "execution_count": null,
   "id": "71e4f489",
   "metadata": {
    "ExecuteTime": {
     "end_time": "2022-03-21T11:55:28.292054Z",
     "start_time": "2022-03-21T08:16:59.334Z"
    }
   },
   "outputs": [],
   "source": [
    "# TODO: Configure data augmentation\n",
    "# train_datagen = ImageDataGenerator(\n",
    "#     rescale=1./255,\n",
    "#     shear_range=0.2,\n",
    "#     zoom_range=0.2,\n",
    "#     horizontal_flip=True)\n",
    "\n",
    "# train_datagen.fit(X_train)\n",
    "# train_generator = train_datagen.flow(X_train, y_train, batch_size=BATCH_SIZE)\n",
    "\n",
    "# test_datagen = ImageDataGenerator(rescale=1./255)\n",
    "# validation_generator = test_datagen.flow(X_test, y_test, batch_size=BATCH_SIZE)"
   ]
  },
  {
   "cell_type": "markdown",
   "id": "42d744b1",
   "metadata": {},
   "source": [
    "## Fitting the Deep Learning Models"
   ]
  },
  {
   "cell_type": "markdown",
   "id": "ba8d53f6",
   "metadata": {},
   "source": [
    "### Custom Models"
   ]
  },
  {
   "cell_type": "code",
   "execution_count": 26,
   "id": "d28d5f73",
   "metadata": {
    "ExecuteTime": {
     "end_time": "2022-03-21T11:58:51.145483Z",
     "start_time": "2022-03-21T11:58:50.530719Z"
    }
   },
   "outputs": [],
   "source": [
    "# Normalize input data\n",
    "X_train_norm = X_train/255\n",
    "X_test_norm = X_test/255\n",
    "\n",
    "# Convert class labels to one-hot encoded\n",
    "y_train_ohe = keras.utils.np_utils.to_categorical(y_train)\n",
    "y_test_ohe = keras.utils.np_utils.to_categorical(y_test)\n",
    "\n",
    "tqdm_callback = tfa.callbacks.TQDMProgressBar()\n",
    "\n",
    "LR=3e-3\n",
    "EPOCHS=30  # 200"
   ]
  },
  {
   "cell_type": "code",
   "execution_count": 5,
   "id": "d76149e2",
   "metadata": {
    "ExecuteTime": {
     "end_time": "2022-03-20T18:59:01.876573Z",
     "start_time": "2022-03-20T18:59:01.863608Z"
    }
   },
   "outputs": [],
   "source": [
    "# Scheduler of learning rate (decay with epochs)\n",
    "def lrScheduler(epoch):\n",
    "    return LR * 0.9 ** epoch"
   ]
  },
  {
   "cell_type": "markdown",
   "id": "718ea6be",
   "metadata": {},
   "source": [
    "#### Model concept no. 1"
   ]
  },
  {
   "cell_type": "code",
   "execution_count": 6,
   "id": "db458036",
   "metadata": {
    "ExecuteTime": {
     "end_time": "2022-03-20T18:59:02.018194Z",
     "start_time": "2022-03-20T18:59:01.877569Z"
    }
   },
   "outputs": [
    {
     "name": "stdout",
     "output_type": "stream",
     "text": [
      "Model: \"sequential\"\n",
      "_________________________________________________________________\n",
      " Layer (type)                Output Shape              Param #   \n",
      "=================================================================\n",
      " conv2d (Conv2D)             (None, 32, 32, 16)        448       \n",
      "                                                                 \n",
      " leaky_re_lu (LeakyReLU)     (None, 32, 32, 16)        0         \n",
      "                                                                 \n",
      " conv2d_1 (Conv2D)           (None, 32, 32, 32)        4640      \n",
      "                                                                 \n",
      " leaky_re_lu_1 (LeakyReLU)   (None, 32, 32, 32)        0         \n",
      "                                                                 \n",
      " max_pooling2d (MaxPooling2D  (None, 16, 16, 32)       0         \n",
      " )                                                               \n",
      "                                                                 \n",
      " dropout (Dropout)           (None, 16, 16, 32)        0         \n",
      "                                                                 \n",
      " conv2d_2 (Conv2D)           (None, 16, 16, 32)        9248      \n",
      "                                                                 \n",
      " leaky_re_lu_2 (LeakyReLU)   (None, 16, 16, 32)        0         \n",
      "                                                                 \n",
      " conv2d_3 (Conv2D)           (None, 16, 16, 64)        18496     \n",
      "                                                                 \n",
      " leaky_re_lu_3 (LeakyReLU)   (None, 16, 16, 64)        0         \n",
      "                                                                 \n",
      " max_pooling2d_1 (MaxPooling  (None, 8, 8, 64)         0         \n",
      " 2D)                                                             \n",
      "                                                                 \n",
      " dropout_1 (Dropout)         (None, 8, 8, 64)          0         \n",
      "                                                                 \n",
      " flatten (Flatten)           (None, 4096)              0         \n",
      "                                                                 \n",
      " dense (Dense)               (None, 256)               1048832   \n",
      "                                                                 \n",
      " leaky_re_lu_4 (LeakyReLU)   (None, 256)               0         \n",
      "                                                                 \n",
      " dropout_2 (Dropout)         (None, 256)               0         \n",
      "                                                                 \n",
      " dense_1 (Dense)             (None, 10)                2570      \n",
      "                                                                 \n",
      " activation (Activation)     (None, 10)                0         \n",
      "                                                                 \n",
      "=================================================================\n",
      "Total params: 1,084,234\n",
      "Trainable params: 1,084,234\n",
      "Non-trainable params: 0\n",
      "_________________________________________________________________\n"
     ]
    }
   ],
   "source": [
    "model1 = Sequential()\n",
    "\n",
    "model1.add(Conv2D(filters = 16, kernel_size = (3, 3), padding='same', input_shape=INPUT_SHAPE))\n",
    "model1.add(LeakyReLU(0.1))\n",
    "model1.add(Conv2D(filters = 32, kernel_size = (3, 3), padding='same'))\n",
    "model1.add(LeakyReLU(0.1))\n",
    "model1.add(MaxPooling2D((2, 2)))\n",
    "model1.add(Dropout(0.25))\n",
    "model1.add(Conv2D(filters = 32, kernel_size = (3, 3), padding='same'))\n",
    "model1.add(LeakyReLU(0.1))\n",
    "model1.add(Conv2D(filters = 64, kernel_size = (3, 3), padding='same'))\n",
    "model1.add(LeakyReLU(0.1))\n",
    "model1.add(MaxPooling2D((2, 2)))\n",
    "model1.add(Dropout(0.25))\n",
    "model1.add(Flatten())\n",
    "model1.add(Dense(256))\n",
    "model1.add(LeakyReLU(0.1))\n",
    "model1.add(Dropout(0.5))\n",
    "model1.add(Dense(10))\n",
    "model1.add(Activation(\"softmax\"))\n",
    "\n",
    "model1.summary()"
   ]
  },
  {
   "cell_type": "code",
   "execution_count": 7,
   "id": "8b180dd7",
   "metadata": {
    "ExecuteTime": {
     "end_time": "2022-03-20T18:59:02.034151Z",
     "start_time": "2022-03-20T18:59:02.020189Z"
    }
   },
   "outputs": [],
   "source": [
    "model1.compile(\n",
    "    loss='categorical_crossentropy',  \n",
    "    optimizer=tf.keras.optimizers.Adam(learning_rate=LR), \n",
    "    metrics=['accuracy']\n",
    ")"
   ]
  },
  {
   "cell_type": "code",
   "execution_count": 9,
   "id": "0abcce33",
   "metadata": {
    "ExecuteTime": {
     "end_time": "2022-03-20T19:51:58.361208Z",
     "start_time": "2022-03-20T18:59:31.751108Z"
    },
    "scrolled": false
   },
   "outputs": [
    {
     "data": {
      "application/vnd.jupyter.widget-view+json": {
       "model_id": "2619ea6c03b14b4dbf85f9b61a0c2251",
       "version_major": 2,
       "version_minor": 0
      },
      "text/plain": [
       "Training:   0%|                                                                                0/30 ETA: ?s,  …"
      ]
     },
     "metadata": {},
     "output_type": "display_data"
    },
    {
     "name": "stdout",
     "output_type": "stream",
     "text": [
      "Epoch 1/30\n"
     ]
    },
    {
     "data": {
      "application/vnd.jupyter.widget-view+json": {
       "model_id": "f00d03fe286d4fe09bc90d417564ad56",
       "version_major": 2,
       "version_minor": 0
      },
      "text/plain": [
       "0/1563                                                                                                       E…"
      ]
     },
     "metadata": {},
     "output_type": "display_data"
    },
    {
     "name": "stdout",
     "output_type": "stream",
     "text": [
      "Epoch 1/30\n",
      "1563/1563 [==============================] - 102s 65ms/step - loss: 1.5564 - accuracy: 0.4372 - val_loss: 1.1555 - val_accuracy: 0.5859 - lr: 0.0030\n",
      "Epoch 2/30\n"
     ]
    },
    {
     "data": {
      "application/vnd.jupyter.widget-view+json": {
       "model_id": "1be9ac1c885f427d8f920811edafd5ab",
       "version_major": 2,
       "version_minor": 0
      },
      "text/plain": [
       "0/1563                                                                                                       E…"
      ]
     },
     "metadata": {},
     "output_type": "display_data"
    },
    {
     "name": "stdout",
     "output_type": "stream",
     "text": [
      "Epoch 2/30\n",
      "1563/1563 [==============================] - 101s 65ms/step - loss: 1.1703 - accuracy: 0.5875 - val_loss: 1.0018 - val_accuracy: 0.6471 - lr: 0.0027\n",
      "Epoch 3/30\n"
     ]
    },
    {
     "data": {
      "application/vnd.jupyter.widget-view+json": {
       "model_id": "b600f7fadb4148c681d3b843d6b0a1a5",
       "version_major": 2,
       "version_minor": 0
      },
      "text/plain": [
       "0/1563                                                                                                       E…"
      ]
     },
     "metadata": {},
     "output_type": "display_data"
    },
    {
     "name": "stdout",
     "output_type": "stream",
     "text": [
      "Epoch 3/30\n",
      "1563/1563 [==============================] - 100s 64ms/step - loss: 1.0417 - accuracy: 0.6360 - val_loss: 0.9792 - val_accuracy: 0.6567 - lr: 0.0024\n",
      "Epoch 4/30\n"
     ]
    },
    {
     "data": {
      "application/vnd.jupyter.widget-view+json": {
       "model_id": "b2db12677f1c41cdbe84c330c3067f09",
       "version_major": 2,
       "version_minor": 0
      },
      "text/plain": [
       "0/1563                                                                                                       E…"
      ]
     },
     "metadata": {},
     "output_type": "display_data"
    },
    {
     "name": "stdout",
     "output_type": "stream",
     "text": [
      "Epoch 4/30\n",
      "1563/1563 [==============================] - 101s 64ms/step - loss: 0.9454 - accuracy: 0.6712 - val_loss: 0.8411 - val_accuracy: 0.7048 - lr: 0.0022\n",
      "Epoch 5/30\n"
     ]
    },
    {
     "data": {
      "application/vnd.jupyter.widget-view+json": {
       "model_id": "85bdceacb074438895f399f9255ae942",
       "version_major": 2,
       "version_minor": 0
      },
      "text/plain": [
       "0/1563                                                                                                       E…"
      ]
     },
     "metadata": {},
     "output_type": "display_data"
    },
    {
     "name": "stdout",
     "output_type": "stream",
     "text": [
      "Epoch 5/30\n",
      "1563/1563 [==============================] - 104s 66ms/step - loss: 0.8741 - accuracy: 0.6936 - val_loss: 0.7634 - val_accuracy: 0.7331 - lr: 0.0020\n",
      "Epoch 6/30\n"
     ]
    },
    {
     "data": {
      "application/vnd.jupyter.widget-view+json": {
       "model_id": "bbd83072ddce42b9a1f953a01204bab9",
       "version_major": 2,
       "version_minor": 0
      },
      "text/plain": [
       "0/1563                                                                                                       E…"
      ]
     },
     "metadata": {},
     "output_type": "display_data"
    },
    {
     "name": "stdout",
     "output_type": "stream",
     "text": [
      "Epoch 6/30\n",
      "1563/1563 [==============================] - 98s 63ms/step - loss: 0.8183 - accuracy: 0.7145 - val_loss: 0.8252 - val_accuracy: 0.7170 - lr: 0.0018\n",
      "Epoch 7/30\n"
     ]
    },
    {
     "data": {
      "application/vnd.jupyter.widget-view+json": {
       "model_id": "7717f79afef34429bebf8bea17018dfd",
       "version_major": 2,
       "version_minor": 0
      },
      "text/plain": [
       "0/1563                                                                                                       E…"
      ]
     },
     "metadata": {},
     "output_type": "display_data"
    },
    {
     "name": "stdout",
     "output_type": "stream",
     "text": [
      "Epoch 7/30\n",
      "1563/1563 [==============================] - 98s 63ms/step - loss: 0.7640 - accuracy: 0.7314 - val_loss: 0.7799 - val_accuracy: 0.7294 - lr: 0.0016\n",
      "Epoch 8/30\n"
     ]
    },
    {
     "data": {
      "application/vnd.jupyter.widget-view+json": {
       "model_id": "7a50ff94b11f4500952a98441e645ae5",
       "version_major": 2,
       "version_minor": 0
      },
      "text/plain": [
       "0/1563                                                                                                       E…"
      ]
     },
     "metadata": {},
     "output_type": "display_data"
    },
    {
     "name": "stdout",
     "output_type": "stream",
     "text": [
      "Epoch 8/30\n",
      "1563/1563 [==============================] - 96s 61ms/step - loss: 0.7149 - accuracy: 0.7501 - val_loss: 0.7525 - val_accuracy: 0.7415 - lr: 0.0014\n",
      "Epoch 9/30\n"
     ]
    },
    {
     "data": {
      "application/vnd.jupyter.widget-view+json": {
       "model_id": "130940065b6f4ee692c073e485f20232",
       "version_major": 2,
       "version_minor": 0
      },
      "text/plain": [
       "0/1563                                                                                                       E…"
      ]
     },
     "metadata": {},
     "output_type": "display_data"
    },
    {
     "name": "stdout",
     "output_type": "stream",
     "text": [
      "Epoch 9/30\n",
      "1563/1563 [==============================] - 97s 62ms/step - loss: 0.6696 - accuracy: 0.7636 - val_loss: 0.6782 - val_accuracy: 0.7699 - lr: 0.0013\n",
      "Epoch 10/30\n"
     ]
    },
    {
     "data": {
      "application/vnd.jupyter.widget-view+json": {
       "model_id": "b22e89d3a9854491a3fd2158f5be1c76",
       "version_major": 2,
       "version_minor": 0
      },
      "text/plain": [
       "0/1563                                                                                                       E…"
      ]
     },
     "metadata": {},
     "output_type": "display_data"
    },
    {
     "name": "stdout",
     "output_type": "stream",
     "text": [
      "Epoch 10/30\n",
      "1563/1563 [==============================] - 96s 62ms/step - loss: 0.6280 - accuracy: 0.7781 - val_loss: 0.6816 - val_accuracy: 0.7699 - lr: 0.0012\n",
      "Epoch 11/30\n"
     ]
    },
    {
     "data": {
      "application/vnd.jupyter.widget-view+json": {
       "model_id": "3a6f0ec3b477457d879380264eaace9e",
       "version_major": 2,
       "version_minor": 0
      },
      "text/plain": [
       "0/1563                                                                                                       E…"
      ]
     },
     "metadata": {},
     "output_type": "display_data"
    },
    {
     "name": "stdout",
     "output_type": "stream",
     "text": [
      "Epoch 11/30\n",
      "1563/1563 [==============================] - 101s 65ms/step - loss: 0.5913 - accuracy: 0.7909 - val_loss: 0.6606 - val_accuracy: 0.7766 - lr: 0.0010\n",
      "Epoch 12/30\n"
     ]
    },
    {
     "data": {
      "application/vnd.jupyter.widget-view+json": {
       "model_id": "2a2d3dfce15544b68ab40facb3298708",
       "version_major": 2,
       "version_minor": 0
      },
      "text/plain": [
       "0/1563                                                                                                       E…"
      ]
     },
     "metadata": {},
     "output_type": "display_data"
    },
    {
     "name": "stdout",
     "output_type": "stream",
     "text": [
      "Epoch 12/30\n",
      "1563/1563 [==============================] - 99s 63ms/step - loss: 0.5632 - accuracy: 0.8012 - val_loss: 0.6429 - val_accuracy: 0.7810 - lr: 9.4143e-04\n",
      "Epoch 13/30\n"
     ]
    },
    {
     "data": {
      "application/vnd.jupyter.widget-view+json": {
       "model_id": "89174e7bcced4e84b01543063b4bf767",
       "version_major": 2,
       "version_minor": 0
      },
      "text/plain": [
       "0/1563                                                                                                       E…"
      ]
     },
     "metadata": {},
     "output_type": "display_data"
    },
    {
     "name": "stdout",
     "output_type": "stream",
     "text": [
      "Epoch 13/30\n",
      "1563/1563 [==============================] - 96s 62ms/step - loss: 0.5357 - accuracy: 0.8107 - val_loss: 0.6308 - val_accuracy: 0.7868 - lr: 8.4729e-04\n",
      "Epoch 14/30\n"
     ]
    },
    {
     "data": {
      "application/vnd.jupyter.widget-view+json": {
       "model_id": "c87e815abfae42c6b55fbb4078ebc6ed",
       "version_major": 2,
       "version_minor": 0
      },
      "text/plain": [
       "0/1563                                                                                                       E…"
      ]
     },
     "metadata": {},
     "output_type": "display_data"
    },
    {
     "name": "stdout",
     "output_type": "stream",
     "text": [
      "Epoch 14/30\n",
      "1563/1563 [==============================] - 94s 60ms/step - loss: 0.5088 - accuracy: 0.8198 - val_loss: 0.6201 - val_accuracy: 0.7919 - lr: 7.6256e-04\n",
      "Epoch 15/30\n"
     ]
    },
    {
     "data": {
      "application/vnd.jupyter.widget-view+json": {
       "model_id": "e36dd6437d5b4604bb46f8e0e554de19",
       "version_major": 2,
       "version_minor": 0
      },
      "text/plain": [
       "0/1563                                                                                                       E…"
      ]
     },
     "metadata": {},
     "output_type": "display_data"
    },
    {
     "name": "stdout",
     "output_type": "stream",
     "text": [
      "Epoch 15/30\n",
      "1563/1563 [==============================] - 133s 85ms/step - loss: 0.4856 - accuracy: 0.8294 - val_loss: 0.6390 - val_accuracy: 0.7938 - lr: 6.8630e-04\n",
      "Epoch 16/30\n"
     ]
    },
    {
     "data": {
      "application/vnd.jupyter.widget-view+json": {
       "model_id": "af9660cf7b7f490c947dfab3427410a3",
       "version_major": 2,
       "version_minor": 0
      },
      "text/plain": [
       "0/1563                                                                                                       E…"
      ]
     },
     "metadata": {},
     "output_type": "display_data"
    },
    {
     "name": "stdout",
     "output_type": "stream",
     "text": [
      "Epoch 16/30\n",
      "1563/1563 [==============================] - 118s 75ms/step - loss: 0.4608 - accuracy: 0.8347 - val_loss: 0.6398 - val_accuracy: 0.7870 - lr: 6.1767e-04\n",
      "Epoch 17/30\n"
     ]
    },
    {
     "data": {
      "application/vnd.jupyter.widget-view+json": {
       "model_id": "2408cdde5c2241c09ac3922bbd925246",
       "version_major": 2,
       "version_minor": 0
      },
      "text/plain": [
       "0/1563                                                                                                       E…"
      ]
     },
     "metadata": {},
     "output_type": "display_data"
    },
    {
     "name": "stdout",
     "output_type": "stream",
     "text": [
      "Epoch 17/30\n",
      "1563/1563 [==============================] - 107s 68ms/step - loss: 0.4428 - accuracy: 0.8423 - val_loss: 0.6218 - val_accuracy: 0.7971 - lr: 5.5591e-04\n",
      "Epoch 18/30\n"
     ]
    },
    {
     "data": {
      "application/vnd.jupyter.widget-view+json": {
       "model_id": "880f505c9df9454e8aba6253acd01f0f",
       "version_major": 2,
       "version_minor": 0
      },
      "text/plain": [
       "0/1563                                                                                                       E…"
      ]
     },
     "metadata": {},
     "output_type": "display_data"
    },
    {
     "name": "stdout",
     "output_type": "stream",
     "text": [
      "Epoch 18/30\n",
      "1563/1563 [==============================] - 105s 67ms/step - loss: 0.4261 - accuracy: 0.8472 - val_loss: 0.6569 - val_accuracy: 0.7940 - lr: 5.0032e-04\n",
      "Epoch 19/30\n"
     ]
    },
    {
     "data": {
      "application/vnd.jupyter.widget-view+json": {
       "model_id": "5e8c68d256eb4b538778a6130d8b9d17",
       "version_major": 2,
       "version_minor": 0
      },
      "text/plain": [
       "0/1563                                                                                                       E…"
      ]
     },
     "metadata": {},
     "output_type": "display_data"
    },
    {
     "name": "stdout",
     "output_type": "stream",
     "text": [
      "Epoch 19/30\n",
      "1563/1563 [==============================] - 107s 68ms/step - loss: 0.4109 - accuracy: 0.8534 - val_loss: 0.6139 - val_accuracy: 0.7998 - lr: 4.5028e-04\n",
      "Epoch 20/30\n"
     ]
    },
    {
     "data": {
      "application/vnd.jupyter.widget-view+json": {
       "model_id": "ba877a59619048a28c992a637354ffca",
       "version_major": 2,
       "version_minor": 0
      },
      "text/plain": [
       "0/1563                                                                                                       E…"
      ]
     },
     "metadata": {},
     "output_type": "display_data"
    },
    {
     "name": "stdout",
     "output_type": "stream",
     "text": [
      "Epoch 20/30\n",
      "1563/1563 [==============================] - 106s 68ms/step - loss: 0.3949 - accuracy: 0.8579 - val_loss: 0.6249 - val_accuracy: 0.7990 - lr: 4.0526e-04\n",
      "Epoch 21/30\n"
     ]
    },
    {
     "data": {
      "application/vnd.jupyter.widget-view+json": {
       "model_id": "cb9b0a5173ac46e093121ac8ed783549",
       "version_major": 2,
       "version_minor": 0
      },
      "text/plain": [
       "0/1563                                                                                                       E…"
      ]
     },
     "metadata": {},
     "output_type": "display_data"
    },
    {
     "name": "stdout",
     "output_type": "stream",
     "text": [
      "Epoch 21/30\n",
      "1563/1563 [==============================] - 104s 66ms/step - loss: 0.3831 - accuracy: 0.8617 - val_loss: 0.6165 - val_accuracy: 0.8046 - lr: 3.6473e-04\n",
      "Epoch 22/30\n"
     ]
    },
    {
     "data": {
      "application/vnd.jupyter.widget-view+json": {
       "model_id": "63e78288a4b14c27aacad66a252aa5fd",
       "version_major": 2,
       "version_minor": 0
      },
      "text/plain": [
       "0/1563                                                                                                       E…"
      ]
     },
     "metadata": {},
     "output_type": "display_data"
    },
    {
     "name": "stdout",
     "output_type": "stream",
     "text": [
      "Epoch 22/30\n",
      "1563/1563 [==============================] - 112s 72ms/step - loss: 0.3719 - accuracy: 0.8669 - val_loss: 0.6193 - val_accuracy: 0.8021 - lr: 3.2826e-04\n",
      "Epoch 23/30\n"
     ]
    },
    {
     "data": {
      "application/vnd.jupyter.widget-view+json": {
       "model_id": "0b6d83acce8540a2a59a57f6dd7477f4",
       "version_major": 2,
       "version_minor": 0
      },
      "text/plain": [
       "0/1563                                                                                                       E…"
      ]
     },
     "metadata": {},
     "output_type": "display_data"
    },
    {
     "name": "stdout",
     "output_type": "stream",
     "text": [
      "Epoch 23/30\n",
      "1563/1563 [==============================] - 121s 78ms/step - loss: 0.3630 - accuracy: 0.8715 - val_loss: 0.6122 - val_accuracy: 0.8037 - lr: 2.9543e-04\n",
      "Epoch 24/30\n"
     ]
    },
    {
     "data": {
      "application/vnd.jupyter.widget-view+json": {
       "model_id": "910f5f20f1114df9a36affb686806b81",
       "version_major": 2,
       "version_minor": 0
      },
      "text/plain": [
       "0/1563                                                                                                       E…"
      ]
     },
     "metadata": {},
     "output_type": "display_data"
    },
    {
     "name": "stdout",
     "output_type": "stream",
     "text": [
      "Epoch 24/30\n",
      "1563/1563 [==============================] - 108s 69ms/step - loss: 0.3573 - accuracy: 0.8711 - val_loss: 0.6157 - val_accuracy: 0.8047 - lr: 2.6589e-04\n",
      "Epoch 25/30\n"
     ]
    },
    {
     "data": {
      "application/vnd.jupyter.widget-view+json": {
       "model_id": "66f5f162209441119693b6f5ae1034c9",
       "version_major": 2,
       "version_minor": 0
      },
      "text/plain": [
       "0/1563                                                                                                       E…"
      ]
     },
     "metadata": {},
     "output_type": "display_data"
    },
    {
     "name": "stdout",
     "output_type": "stream",
     "text": [
      "Epoch 25/30\n",
      "1563/1563 [==============================] - 108s 69ms/step - loss: 0.3467 - accuracy: 0.8757 - val_loss: 0.6205 - val_accuracy: 0.8070 - lr: 2.3930e-04\n",
      "Epoch 26/30\n"
     ]
    },
    {
     "data": {
      "application/vnd.jupyter.widget-view+json": {
       "model_id": "126de5c052654784967f9a49c638ce50",
       "version_major": 2,
       "version_minor": 0
      },
      "text/plain": [
       "0/1563                                                                                                       E…"
      ]
     },
     "metadata": {},
     "output_type": "display_data"
    },
    {
     "name": "stdout",
     "output_type": "stream",
     "text": [
      "Epoch 26/30\n",
      "1563/1563 [==============================] - 109s 70ms/step - loss: 0.3381 - accuracy: 0.8774 - val_loss: 0.6211 - val_accuracy: 0.8089 - lr: 2.1537e-04\n",
      "Epoch 27/30\n"
     ]
    },
    {
     "data": {
      "application/vnd.jupyter.widget-view+json": {
       "model_id": "28f457e2377b4c8390c465b60134cc66",
       "version_major": 2,
       "version_minor": 0
      },
      "text/plain": [
       "0/1563                                                                                                       E…"
      ]
     },
     "metadata": {},
     "output_type": "display_data"
    },
    {
     "name": "stdout",
     "output_type": "stream",
     "text": [
      "Epoch 27/30\n",
      "1563/1563 [==============================] - 105s 67ms/step - loss: 0.3323 - accuracy: 0.8795 - val_loss: 0.6179 - val_accuracy: 0.8079 - lr: 1.9383e-04\n",
      "Epoch 28/30\n"
     ]
    },
    {
     "data": {
      "application/vnd.jupyter.widget-view+json": {
       "model_id": "abbc6e37b6f84db79a4245325e918eb6",
       "version_major": 2,
       "version_minor": 0
      },
      "text/plain": [
       "0/1563                                                                                                       E…"
      ]
     },
     "metadata": {},
     "output_type": "display_data"
    },
    {
     "name": "stdout",
     "output_type": "stream",
     "text": [
      "Epoch 28/30\n",
      "1563/1563 [==============================] - 107s 69ms/step - loss: 0.3252 - accuracy: 0.8834 - val_loss: 0.6294 - val_accuracy: 0.8072 - lr: 1.7445e-04\n",
      "Epoch 29/30\n"
     ]
    },
    {
     "data": {
      "application/vnd.jupyter.widget-view+json": {
       "model_id": "471d00c415024dfcafb706f334ab5703",
       "version_major": 2,
       "version_minor": 0
      },
      "text/plain": [
       "0/1563                                                                                                       E…"
      ]
     },
     "metadata": {},
     "output_type": "display_data"
    },
    {
     "name": "stdout",
     "output_type": "stream",
     "text": [
      "Epoch 29/30\n",
      "1563/1563 [==============================] - 103s 66ms/step - loss: 0.3172 - accuracy: 0.8868 - val_loss: 0.6146 - val_accuracy: 0.8098 - lr: 1.5700e-04\n",
      "Epoch 30/30\n"
     ]
    },
    {
     "data": {
      "application/vnd.jupyter.widget-view+json": {
       "model_id": "e56f75044b0d4e7b91a6638533af2efc",
       "version_major": 2,
       "version_minor": 0
      },
      "text/plain": [
       "0/1563                                                                                                       E…"
      ]
     },
     "metadata": {},
     "output_type": "display_data"
    },
    {
     "name": "stdout",
     "output_type": "stream",
     "text": [
      "Epoch 30/30\n",
      "1563/1563 [==============================] - 107s 68ms/step - loss: 0.3128 - accuracy: 0.8859 - val_loss: 0.6153 - val_accuracy: 0.8120 - lr: 1.4130e-04\n"
     ]
    },
    {
     "data": {
      "text/plain": [
       "<keras.callbacks.History at 0x22cbb027310>"
      ]
     },
     "execution_count": 9,
     "metadata": {},
     "output_type": "execute_result"
    }
   ],
   "source": [
    "model1.fit(\n",
    "    X_train_norm,\n",
    "    y_train_ohe,\n",
    "    batch_size=BATCH_SIZE,\n",
    "    epochs=EPOCHS,\n",
    "    callbacks=[keras.callbacks.LearningRateScheduler(lrScheduler), \n",
    "               tqdm_callback,],\n",
    "    shuffle=True,\n",
    "    verbose=1,\n",
    "    validation_data=(X_test_norm, y_test_ohe)\n",
    ")"
   ]
  },
  {
   "cell_type": "markdown",
   "id": "9ffc61f4",
   "metadata": {},
   "source": [
    "#### Model concept no. 2"
   ]
  },
  {
   "cell_type": "code",
   "execution_count": 15,
   "id": "17511478",
   "metadata": {
    "ExecuteTime": {
     "end_time": "2022-03-20T20:05:45.000921Z",
     "start_time": "2022-03-20T20:05:44.991908Z"
    }
   },
   "outputs": [],
   "source": [
    "EPOCHS=200\n",
    "PATIENCE=20\n",
    "\n",
    "early_stop = EarlyStopping(monitor='loss', patience=PATIENCE)"
   ]
  },
  {
   "cell_type": "code",
   "execution_count": 16,
   "id": "451a42e1",
   "metadata": {
    "ExecuteTime": {
     "end_time": "2022-03-20T20:05:46.586214Z",
     "start_time": "2022-03-20T20:05:46.469891Z"
    }
   },
   "outputs": [],
   "source": [
    "model2 = Sequential()\n",
    "\n",
    "model2.add(Conv2D(filters=32, kernel_size=(3,3), input_shape=INPUT_SHAPE, activation='relu', padding = 'same', kernel_initializer='he_uniform'))\n",
    "model2.add(Conv2D(filters=32, kernel_size=(3,3), input_shape=INPUT_SHAPE, activation='relu', padding = 'same', kernel_initializer='he_uniform'))\n",
    "model2.add(MaxPooling2D(pool_size=(2, 2)))\n",
    "model2.add(Dropout(0.3))\n",
    "model2.add(Conv2D(filters=64, kernel_size=(3,3), input_shape=INPUT_SHAPE, activation='relu', padding = 'same', kernel_initializer='he_uniform'))\n",
    "model2.add(Conv2D(filters=64, kernel_size=(3,3), input_shape=INPUT_SHAPE, activation='relu', padding = 'same', kernel_initializer='he_uniform'))\n",
    "model2.add(MaxPooling2D(pool_size=(2, 2)))\n",
    "model2.add(Dropout(0.3))\n",
    "model2.add(Conv2D(filters=128, kernel_size=(3,3), input_shape=INPUT_SHAPE, activation='relu', padding = 'same', kernel_initializer='he_uniform'))\n",
    "model2.add(Conv2D(filters=128, kernel_size=(3,3), input_shape=INPUT_SHAPE, activation='relu', padding = 'same', kernel_initializer='he_uniform'))\n",
    "model2.add(MaxPooling2D(pool_size=(2, 2)))\n",
    "model2.add(Dropout(0.3))\n",
    "model2.add(BatchNormalization())\n",
    "model2.add(Flatten())\n",
    "model2.add(Dense(256, activation='relu', kernel_initializer='he_uniform'))\n",
    "model2.add(Dropout(0.4))\n",
    "model2.add(Dense(10, activation='softmax'))"
   ]
  },
  {
   "cell_type": "code",
   "execution_count": 17,
   "id": "1b72dd92",
   "metadata": {
    "ExecuteTime": {
     "end_time": "2022-03-20T20:05:47.198179Z",
     "start_time": "2022-03-20T20:05:47.184216Z"
    }
   },
   "outputs": [],
   "source": [
    "model2.compile(loss='categorical_crossentropy',\n",
    "              optimizer=tf.keras.optimizers.Adam(learning_rate=LR), \n",
    "              metrics=['accuracy'])"
   ]
  },
  {
   "cell_type": "code",
   "execution_count": 18,
   "id": "c72d5376",
   "metadata": {
    "ExecuteTime": {
     "end_time": "2022-03-20T20:05:49.447076Z",
     "start_time": "2022-03-20T20:05:49.410178Z"
    }
   },
   "outputs": [
    {
     "name": "stdout",
     "output_type": "stream",
     "text": [
      "Model: \"sequential_2\"\n",
      "_________________________________________________________________\n",
      " Layer (type)                Output Shape              Param #   \n",
      "=================================================================\n",
      " conv2d_10 (Conv2D)          (None, 32, 32, 32)        896       \n",
      "                                                                 \n",
      " conv2d_11 (Conv2D)          (None, 32, 32, 32)        9248      \n",
      "                                                                 \n",
      " max_pooling2d_5 (MaxPooling  (None, 16, 16, 32)       0         \n",
      " 2D)                                                             \n",
      "                                                                 \n",
      " dropout_7 (Dropout)         (None, 16, 16, 32)        0         \n",
      "                                                                 \n",
      " conv2d_12 (Conv2D)          (None, 16, 16, 64)        18496     \n",
      "                                                                 \n",
      " conv2d_13 (Conv2D)          (None, 16, 16, 64)        36928     \n",
      "                                                                 \n",
      " max_pooling2d_6 (MaxPooling  (None, 8, 8, 64)         0         \n",
      " 2D)                                                             \n",
      "                                                                 \n",
      " dropout_8 (Dropout)         (None, 8, 8, 64)          0         \n",
      "                                                                 \n",
      " conv2d_14 (Conv2D)          (None, 8, 8, 128)         73856     \n",
      "                                                                 \n",
      " conv2d_15 (Conv2D)          (None, 8, 8, 128)         147584    \n",
      "                                                                 \n",
      " max_pooling2d_7 (MaxPooling  (None, 4, 4, 128)        0         \n",
      " 2D)                                                             \n",
      "                                                                 \n",
      " dropout_9 (Dropout)         (None, 4, 4, 128)         0         \n",
      "                                                                 \n",
      " batch_normalization_1 (Batc  (None, 4, 4, 128)        512       \n",
      " hNormalization)                                                 \n",
      "                                                                 \n",
      " flatten_2 (Flatten)         (None, 2048)              0         \n",
      "                                                                 \n",
      " dense_4 (Dense)             (None, 256)               524544    \n",
      "                                                                 \n",
      " dropout_10 (Dropout)        (None, 256)               0         \n",
      "                                                                 \n",
      " dense_5 (Dense)             (None, 10)                2570      \n",
      "                                                                 \n",
      "=================================================================\n",
      "Total params: 814,634\n",
      "Trainable params: 814,378\n",
      "Non-trainable params: 256\n",
      "_________________________________________________________________\n"
     ]
    }
   ],
   "source": [
    "model2.summary()"
   ]
  },
  {
   "cell_type": "code",
   "execution_count": 19,
   "id": "28ecc385",
   "metadata": {
    "ExecuteTime": {
     "end_time": "2022-03-21T00:19:44.466458Z",
     "start_time": "2022-03-20T20:06:28.139781Z"
    },
    "scrolled": false
   },
   "outputs": [
    {
     "data": {
      "application/vnd.jupyter.widget-view+json": {
       "model_id": "fdd7ff54705147199348068f18268f22",
       "version_major": 2,
       "version_minor": 0
      },
      "text/plain": [
       "Training:   0%|                                                                               0/200 ETA: ?s,  …"
      ]
     },
     "metadata": {},
     "output_type": "display_data"
    },
    {
     "name": "stdout",
     "output_type": "stream",
     "text": [
      "Epoch 1/200\n"
     ]
    },
    {
     "data": {
      "application/vnd.jupyter.widget-view+json": {
       "model_id": "06c2d7fe05d94e7aac7532cd2e3c779c",
       "version_major": 2,
       "version_minor": 0
      },
      "text/plain": [
       "0/1563                                                                                                       E…"
      ]
     },
     "metadata": {},
     "output_type": "display_data"
    },
    {
     "name": "stdout",
     "output_type": "stream",
     "text": [
      "Epoch 1/200\n",
      "1563/1563 [==============================] - 196s 125ms/step - loss: 1.9610 - accuracy: 0.2554 - val_loss: 1.7258 - val_accuracy: 0.3252 - lr: 0.0030\n",
      "Epoch 2/200\n"
     ]
    },
    {
     "data": {
      "application/vnd.jupyter.widget-view+json": {
       "model_id": "87e67437aff843cd819f268fe5b3fd33",
       "version_major": 2,
       "version_minor": 0
      },
      "text/plain": [
       "0/1563                                                                                                       E…"
      ]
     },
     "metadata": {},
     "output_type": "display_data"
    },
    {
     "name": "stdout",
     "output_type": "stream",
     "text": [
      "Epoch 2/200\n",
      "1563/1563 [==============================] - 201s 128ms/step - loss: 1.5816 - accuracy: 0.4168 - val_loss: 1.4060 - val_accuracy: 0.5170 - lr: 0.0027\n",
      "Epoch 3/200\n"
     ]
    },
    {
     "data": {
      "application/vnd.jupyter.widget-view+json": {
       "model_id": "d38f740a99534accabe1023920763f9f",
       "version_major": 2,
       "version_minor": 0
      },
      "text/plain": [
       "0/1563                                                                                                       E…"
      ]
     },
     "metadata": {},
     "output_type": "display_data"
    },
    {
     "name": "stdout",
     "output_type": "stream",
     "text": [
      "Epoch 3/200\n",
      "1563/1563 [==============================] - 208s 133ms/step - loss: 1.3180 - accuracy: 0.5267 - val_loss: 1.2312 - val_accuracy: 0.5916 - lr: 0.0024\n",
      "Epoch 4/200\n"
     ]
    },
    {
     "data": {
      "application/vnd.jupyter.widget-view+json": {
       "model_id": "1d1ef0af422b4d27a66525545c9d870a",
       "version_major": 2,
       "version_minor": 0
      },
      "text/plain": [
       "0/1563                                                                                                       E…"
      ]
     },
     "metadata": {},
     "output_type": "display_data"
    },
    {
     "name": "stdout",
     "output_type": "stream",
     "text": [
      "Epoch 4/200\n",
      "1563/1563 [==============================] - 179s 115ms/step - loss: 1.1368 - accuracy: 0.5979 - val_loss: 0.9605 - val_accuracy: 0.6579 - lr: 0.0022\n",
      "Epoch 5/200\n"
     ]
    },
    {
     "data": {
      "application/vnd.jupyter.widget-view+json": {
       "model_id": "e82c2dba33ce4743970074b84313db62",
       "version_major": 2,
       "version_minor": 0
      },
      "text/plain": [
       "0/1563                                                                                                       E…"
      ]
     },
     "metadata": {},
     "output_type": "display_data"
    },
    {
     "name": "stdout",
     "output_type": "stream",
     "text": [
      "Epoch 5/200\n",
      "1563/1563 [==============================] - 183s 117ms/step - loss: 1.0122 - accuracy: 0.6428 - val_loss: 0.9241 - val_accuracy: 0.6800 - lr: 0.0020\n",
      "Epoch 6/200\n"
     ]
    },
    {
     "data": {
      "application/vnd.jupyter.widget-view+json": {
       "model_id": "bda2347f724e4a49b8ccd58046376096",
       "version_major": 2,
       "version_minor": 0
      },
      "text/plain": [
       "0/1563                                                                                                       E…"
      ]
     },
     "metadata": {},
     "output_type": "display_data"
    },
    {
     "name": "stdout",
     "output_type": "stream",
     "text": [
      "Epoch 6/200\n",
      "1563/1563 [==============================] - 190s 121ms/step - loss: 0.9206 - accuracy: 0.6774 - val_loss: 0.7973 - val_accuracy: 0.7303 - lr: 0.0018\n",
      "Epoch 7/200\n"
     ]
    },
    {
     "data": {
      "application/vnd.jupyter.widget-view+json": {
       "model_id": "81a8d514fbd24106831c625208830f11",
       "version_major": 2,
       "version_minor": 0
      },
      "text/plain": [
       "0/1563                                                                                                       E…"
      ]
     },
     "metadata": {},
     "output_type": "display_data"
    },
    {
     "name": "stdout",
     "output_type": "stream",
     "text": [
      "Epoch 7/200\n",
      "1563/1563 [==============================] - 168s 108ms/step - loss: 0.8591 - accuracy: 0.6990 - val_loss: 0.7946 - val_accuracy: 0.7238 - lr: 0.0016\n",
      "Epoch 8/200\n"
     ]
    },
    {
     "data": {
      "application/vnd.jupyter.widget-view+json": {
       "model_id": "722212f78751468895e5f6a3aef9a070",
       "version_major": 2,
       "version_minor": 0
      },
      "text/plain": [
       "0/1563                                                                                                       E…"
      ]
     },
     "metadata": {},
     "output_type": "display_data"
    },
    {
     "name": "stdout",
     "output_type": "stream",
     "text": [
      "Epoch 8/200\n",
      "1563/1563 [==============================] - 171s 110ms/step - loss: 0.7964 - accuracy: 0.7205 - val_loss: 0.7179 - val_accuracy: 0.7549 - lr: 0.0014\n",
      "Epoch 9/200\n"
     ]
    },
    {
     "data": {
      "application/vnd.jupyter.widget-view+json": {
       "model_id": "ea7126cd0e9e417fb4baf68127445e4f",
       "version_major": 2,
       "version_minor": 0
      },
      "text/plain": [
       "0/1563                                                                                                       E…"
      ]
     },
     "metadata": {},
     "output_type": "display_data"
    },
    {
     "name": "stdout",
     "output_type": "stream",
     "text": [
      "Epoch 9/200\n",
      "1563/1563 [==============================] - 172s 110ms/step - loss: 0.7544 - accuracy: 0.7373 - val_loss: 0.6875 - val_accuracy: 0.7630 - lr: 0.0013\n",
      "Epoch 10/200\n"
     ]
    },
    {
     "data": {
      "application/vnd.jupyter.widget-view+json": {
       "model_id": "c08817646a7e4a9c9950047343714f20",
       "version_major": 2,
       "version_minor": 0
      },
      "text/plain": [
       "0/1563                                                                                                       E…"
      ]
     },
     "metadata": {},
     "output_type": "display_data"
    },
    {
     "name": "stdout",
     "output_type": "stream",
     "text": [
      "Epoch 10/200\n",
      "1563/1563 [==============================] - 172s 110ms/step - loss: 0.7030 - accuracy: 0.7553 - val_loss: 0.6362 - val_accuracy: 0.7804 - lr: 0.0012\n",
      "Epoch 11/200\n"
     ]
    },
    {
     "data": {
      "application/vnd.jupyter.widget-view+json": {
       "model_id": "b468b3e3903f474f8319dfcb24761029",
       "version_major": 2,
       "version_minor": 0
      },
      "text/plain": [
       "0/1563                                                                                                       E…"
      ]
     },
     "metadata": {},
     "output_type": "display_data"
    },
    {
     "name": "stdout",
     "output_type": "stream",
     "text": [
      "Epoch 11/200\n",
      "1563/1563 [==============================] - 168s 107ms/step - loss: 0.6634 - accuracy: 0.7699 - val_loss: 0.6370 - val_accuracy: 0.7776 - lr: 0.0010\n",
      "Epoch 12/200\n"
     ]
    },
    {
     "data": {
      "application/vnd.jupyter.widget-view+json": {
       "model_id": "4fa660ae6e444402b110c6c69cb18a65",
       "version_major": 2,
       "version_minor": 0
      },
      "text/plain": [
       "0/1563                                                                                                       E…"
      ]
     },
     "metadata": {},
     "output_type": "display_data"
    },
    {
     "name": "stdout",
     "output_type": "stream",
     "text": [
      "Epoch 12/200\n",
      "1563/1563 [==============================] - 173s 110ms/step - loss: 0.6359 - accuracy: 0.7805 - val_loss: 0.6623 - val_accuracy: 0.7776 - lr: 9.4143e-04\n",
      "Epoch 13/200\n"
     ]
    },
    {
     "data": {
      "application/vnd.jupyter.widget-view+json": {
       "model_id": "6233388acec5451caa3679e8589f7d47",
       "version_major": 2,
       "version_minor": 0
      },
      "text/plain": [
       "0/1563                                                                                                       E…"
      ]
     },
     "metadata": {},
     "output_type": "display_data"
    },
    {
     "name": "stdout",
     "output_type": "stream",
     "text": [
      "Epoch 13/200\n",
      "1563/1563 [==============================] - 179s 114ms/step - loss: 0.6084 - accuracy: 0.7871 - val_loss: 0.5981 - val_accuracy: 0.7923 - lr: 8.4729e-04\n",
      "Epoch 14/200\n"
     ]
    },
    {
     "data": {
      "application/vnd.jupyter.widget-view+json": {
       "model_id": "0be9b660719c4af3aadf1127648f5cbf",
       "version_major": 2,
       "version_minor": 0
      },
      "text/plain": [
       "0/1563                                                                                                       E…"
      ]
     },
     "metadata": {},
     "output_type": "display_data"
    },
    {
     "name": "stdout",
     "output_type": "stream",
     "text": [
      "Epoch 14/200\n",
      "1563/1563 [==============================] - 177s 113ms/step - loss: 0.5802 - accuracy: 0.7960 - val_loss: 0.5976 - val_accuracy: 0.7978 - lr: 7.6256e-04\n",
      "Epoch 15/200\n"
     ]
    },
    {
     "data": {
      "application/vnd.jupyter.widget-view+json": {
       "model_id": "7af705c36cbb4fed9c00ae2d0ddb6c14",
       "version_major": 2,
       "version_minor": 0
      },
      "text/plain": [
       "0/1563                                                                                                       E…"
      ]
     },
     "metadata": {},
     "output_type": "display_data"
    },
    {
     "name": "stdout",
     "output_type": "stream",
     "text": [
      "Epoch 15/200\n",
      "1563/1563 [==============================] - 179s 114ms/step - loss: 0.5529 - accuracy: 0.8065 - val_loss: 0.5838 - val_accuracy: 0.7990 - lr: 6.8630e-04\n",
      "Epoch 16/200\n"
     ]
    },
    {
     "data": {
      "application/vnd.jupyter.widget-view+json": {
       "model_id": "f542c41eead4467180207d850575ff1b",
       "version_major": 2,
       "version_minor": 0
      },
      "text/plain": [
       "0/1563                                                                                                       E…"
      ]
     },
     "metadata": {},
     "output_type": "display_data"
    },
    {
     "name": "stdout",
     "output_type": "stream",
     "text": [
      "Epoch 16/200\n",
      "1563/1563 [==============================] - 180s 115ms/step - loss: 0.5420 - accuracy: 0.8085 - val_loss: 0.5809 - val_accuracy: 0.7982 - lr: 6.1767e-04\n",
      "Epoch 17/200\n"
     ]
    },
    {
     "data": {
      "application/vnd.jupyter.widget-view+json": {
       "model_id": "d80e1ba2c2dd4e728ea0e54562efdb18",
       "version_major": 2,
       "version_minor": 0
      },
      "text/plain": [
       "0/1563                                                                                                       E…"
      ]
     },
     "metadata": {},
     "output_type": "display_data"
    },
    {
     "name": "stdout",
     "output_type": "stream",
     "text": [
      "Epoch 17/200\n",
      "1563/1563 [==============================] - 179s 114ms/step - loss: 0.5191 - accuracy: 0.8176 - val_loss: 0.5666 - val_accuracy: 0.8086 - lr: 5.5591e-04\n",
      "Epoch 18/200\n"
     ]
    },
    {
     "data": {
      "application/vnd.jupyter.widget-view+json": {
       "model_id": "158216e5682448bc8ff5bd943d36a484",
       "version_major": 2,
       "version_minor": 0
      },
      "text/plain": [
       "0/1563                                                                                                       E…"
      ]
     },
     "metadata": {},
     "output_type": "display_data"
    },
    {
     "name": "stdout",
     "output_type": "stream",
     "text": [
      "Epoch 18/200\n",
      "1563/1563 [==============================] - 175s 112ms/step - loss: 0.5057 - accuracy: 0.8225 - val_loss: 0.5465 - val_accuracy: 0.8166 - lr: 5.0032e-04\n",
      "Epoch 19/200\n"
     ]
    },
    {
     "data": {
      "application/vnd.jupyter.widget-view+json": {
       "model_id": "f5d7325cad04428bafb7c9ce80a821f0",
       "version_major": 2,
       "version_minor": 0
      },
      "text/plain": [
       "0/1563                                                                                                       E…"
      ]
     },
     "metadata": {},
     "output_type": "display_data"
    },
    {
     "name": "stdout",
     "output_type": "stream",
     "text": [
      "Epoch 19/200\n",
      "1563/1563 [==============================] - 173s 111ms/step - loss: 0.4901 - accuracy: 0.8282 - val_loss: 0.5424 - val_accuracy: 0.8194 - lr: 4.5028e-04\n",
      "Epoch 20/200\n"
     ]
    },
    {
     "data": {
      "application/vnd.jupyter.widget-view+json": {
       "model_id": "4d3f8b3a4a594881910025a4bd39ea21",
       "version_major": 2,
       "version_minor": 0
      },
      "text/plain": [
       "0/1563                                                                                                       E…"
      ]
     },
     "metadata": {},
     "output_type": "display_data"
    },
    {
     "name": "stdout",
     "output_type": "stream",
     "text": [
      "Epoch 20/200\n",
      "1563/1563 [==============================] - 186s 119ms/step - loss: 0.4829 - accuracy: 0.8295 - val_loss: 0.5470 - val_accuracy: 0.8133 - lr: 4.0526e-04\n",
      "Epoch 21/200\n"
     ]
    },
    {
     "data": {
      "application/vnd.jupyter.widget-view+json": {
       "model_id": "10abbc948c60432c94a0a7b728257beb",
       "version_major": 2,
       "version_minor": 0
      },
      "text/plain": [
       "0/1563                                                                                                       E…"
      ]
     },
     "metadata": {},
     "output_type": "display_data"
    },
    {
     "name": "stdout",
     "output_type": "stream",
     "text": [
      "Epoch 21/200\n",
      "1563/1563 [==============================] - 177s 114ms/step - loss: 0.4649 - accuracy: 0.8357 - val_loss: 0.5357 - val_accuracy: 0.8193 - lr: 3.6473e-04\n",
      "Epoch 22/200\n"
     ]
    },
    {
     "data": {
      "application/vnd.jupyter.widget-view+json": {
       "model_id": "b0798730583e45a4948b4883d0a53ad2",
       "version_major": 2,
       "version_minor": 0
      },
      "text/plain": [
       "0/1563                                                                                                       E…"
      ]
     },
     "metadata": {},
     "output_type": "display_data"
    },
    {
     "name": "stdout",
     "output_type": "stream",
     "text": [
      "Epoch 22/200\n",
      "1563/1563 [==============================] - 174s 111ms/step - loss: 0.4607 - accuracy: 0.8379 - val_loss: 0.5423 - val_accuracy: 0.8179 - lr: 3.2826e-04\n",
      "Epoch 23/200\n"
     ]
    },
    {
     "data": {
      "application/vnd.jupyter.widget-view+json": {
       "model_id": "54a8e4488cfb41f9bbffa1f245eb93ea",
       "version_major": 2,
       "version_minor": 0
      },
      "text/plain": [
       "0/1563                                                                                                       E…"
      ]
     },
     "metadata": {},
     "output_type": "display_data"
    },
    {
     "name": "stdout",
     "output_type": "stream",
     "text": [
      "Epoch 23/200\n",
      "1563/1563 [==============================] - 170s 109ms/step - loss: 0.4440 - accuracy: 0.8424 - val_loss: 0.5621 - val_accuracy: 0.8179 - lr: 2.9543e-04\n",
      "Epoch 24/200\n"
     ]
    },
    {
     "data": {
      "application/vnd.jupyter.widget-view+json": {
       "model_id": "25b8f9d74e2444eea26e88dad920273c",
       "version_major": 2,
       "version_minor": 0
      },
      "text/plain": [
       "0/1563                                                                                                       E…"
      ]
     },
     "metadata": {},
     "output_type": "display_data"
    },
    {
     "name": "stdout",
     "output_type": "stream",
     "text": [
      "Epoch 24/200\n",
      "1563/1563 [==============================] - 170s 108ms/step - loss: 0.4389 - accuracy: 0.8457 - val_loss: 0.5434 - val_accuracy: 0.8206 - lr: 2.6589e-04\n",
      "Epoch 25/200\n"
     ]
    },
    {
     "data": {
      "application/vnd.jupyter.widget-view+json": {
       "model_id": "ec1e62ba42ad4f9eb1508483f14b4f1a",
       "version_major": 2,
       "version_minor": 0
      },
      "text/plain": [
       "0/1563                                                                                                       E…"
      ]
     },
     "metadata": {},
     "output_type": "display_data"
    },
    {
     "name": "stdout",
     "output_type": "stream",
     "text": [
      "Epoch 25/200\n",
      "1563/1563 [==============================] - 172s 110ms/step - loss: 0.4332 - accuracy: 0.8471 - val_loss: 0.5254 - val_accuracy: 0.8226 - lr: 2.3930e-04\n",
      "Epoch 26/200\n"
     ]
    },
    {
     "data": {
      "application/vnd.jupyter.widget-view+json": {
       "model_id": "36e1cd74c2d643ec9f110a89013d5ea1",
       "version_major": 2,
       "version_minor": 0
      },
      "text/plain": [
       "0/1563                                                                                                       E…"
      ]
     },
     "metadata": {},
     "output_type": "display_data"
    },
    {
     "name": "stdout",
     "output_type": "stream",
     "text": [
      "Epoch 26/200\n",
      "1563/1563 [==============================] - 174s 111ms/step - loss: 0.4204 - accuracy: 0.8527 - val_loss: 0.5294 - val_accuracy: 0.8243 - lr: 2.1537e-04\n",
      "Epoch 27/200\n"
     ]
    },
    {
     "data": {
      "application/vnd.jupyter.widget-view+json": {
       "model_id": "cb301a87324a4e2792889b2500cc07a9",
       "version_major": 2,
       "version_minor": 0
      },
      "text/plain": [
       "0/1563                                                                                                       E…"
      ]
     },
     "metadata": {},
     "output_type": "display_data"
    },
    {
     "name": "stdout",
     "output_type": "stream",
     "text": [
      "Epoch 27/200\n",
      "1563/1563 [==============================] - 176s 113ms/step - loss: 0.4193 - accuracy: 0.8517 - val_loss: 0.5296 - val_accuracy: 0.8223 - lr: 1.9383e-04\n",
      "Epoch 28/200\n"
     ]
    },
    {
     "data": {
      "application/vnd.jupyter.widget-view+json": {
       "model_id": "616967e6cc7f4a068c85b3e9b97d0367",
       "version_major": 2,
       "version_minor": 0
      },
      "text/plain": [
       "0/1563                                                                                                       E…"
      ]
     },
     "metadata": {},
     "output_type": "display_data"
    },
    {
     "name": "stdout",
     "output_type": "stream",
     "text": [
      "Epoch 28/200\n",
      "1563/1563 [==============================] - 168s 107ms/step - loss: 0.4132 - accuracy: 0.8543 - val_loss: 0.5302 - val_accuracy: 0.8219 - lr: 1.7445e-04\n",
      "Epoch 29/200\n"
     ]
    },
    {
     "data": {
      "application/vnd.jupyter.widget-view+json": {
       "model_id": "1a8bce25436e4ea899a5fa300a122747",
       "version_major": 2,
       "version_minor": 0
      },
      "text/plain": [
       "0/1563                                                                                                       E…"
      ]
     },
     "metadata": {},
     "output_type": "display_data"
    },
    {
     "name": "stdout",
     "output_type": "stream",
     "text": [
      "Epoch 29/200\n",
      "1563/1563 [==============================] - 169s 108ms/step - loss: 0.4067 - accuracy: 0.8572 - val_loss: 0.5389 - val_accuracy: 0.8212 - lr: 1.5700e-04\n",
      "Epoch 30/200\n"
     ]
    },
    {
     "data": {
      "application/vnd.jupyter.widget-view+json": {
       "model_id": "f597a434ebb043d48019396e1db419b0",
       "version_major": 2,
       "version_minor": 0
      },
      "text/plain": [
       "0/1563                                                                                                       E…"
      ]
     },
     "metadata": {},
     "output_type": "display_data"
    },
    {
     "name": "stdout",
     "output_type": "stream",
     "text": [
      "Epoch 30/200\n",
      "1563/1563 [==============================] - 168s 108ms/step - loss: 0.3977 - accuracy: 0.8582 - val_loss: 0.5316 - val_accuracy: 0.8240 - lr: 1.4130e-04\n",
      "Epoch 31/200\n"
     ]
    },
    {
     "data": {
      "application/vnd.jupyter.widget-view+json": {
       "model_id": "5d80ec3f72cf4474bdeaa138af1638c3",
       "version_major": 2,
       "version_minor": 0
      },
      "text/plain": [
       "0/1563                                                                                                       E…"
      ]
     },
     "metadata": {},
     "output_type": "display_data"
    },
    {
     "name": "stdout",
     "output_type": "stream",
     "text": [
      "Epoch 31/200\n",
      "1563/1563 [==============================] - 169s 108ms/step - loss: 0.3960 - accuracy: 0.8593 - val_loss: 0.5279 - val_accuracy: 0.8286 - lr: 1.2717e-04\n",
      "Epoch 32/200\n"
     ]
    },
    {
     "data": {
      "application/vnd.jupyter.widget-view+json": {
       "model_id": "4fb29d43a3c84020a7bdb224d0378268",
       "version_major": 2,
       "version_minor": 0
      },
      "text/plain": [
       "0/1563                                                                                                       E…"
      ]
     },
     "metadata": {},
     "output_type": "display_data"
    },
    {
     "name": "stdout",
     "output_type": "stream",
     "text": [
      "Epoch 32/200\n",
      "1563/1563 [==============================] - 168s 108ms/step - loss: 0.3943 - accuracy: 0.8600 - val_loss: 0.5286 - val_accuracy: 0.8266 - lr: 1.1446e-04\n",
      "Epoch 33/200\n"
     ]
    },
    {
     "data": {
      "application/vnd.jupyter.widget-view+json": {
       "model_id": "c8bab8bd0a9e4069a4a5aaea0af2054d",
       "version_major": 2,
       "version_minor": 0
      },
      "text/plain": [
       "0/1563                                                                                                       E…"
      ]
     },
     "metadata": {},
     "output_type": "display_data"
    },
    {
     "name": "stdout",
     "output_type": "stream",
     "text": [
      "Epoch 33/200\n",
      "1563/1563 [==============================] - 169s 108ms/step - loss: 0.3938 - accuracy: 0.8588 - val_loss: 0.5284 - val_accuracy: 0.8277 - lr: 1.0301e-04\n",
      "Epoch 34/200\n"
     ]
    },
    {
     "data": {
      "application/vnd.jupyter.widget-view+json": {
       "model_id": "df244c9c8f344e3bbcfe26f243a9ada9",
       "version_major": 2,
       "version_minor": 0
      },
      "text/plain": [
       "0/1563                                                                                                       E…"
      ]
     },
     "metadata": {},
     "output_type": "display_data"
    },
    {
     "name": "stdout",
     "output_type": "stream",
     "text": [
      "Epoch 34/200\n",
      "1563/1563 [==============================] - 168s 107ms/step - loss: 0.3868 - accuracy: 0.8613 - val_loss: 0.5308 - val_accuracy: 0.8256 - lr: 9.2709e-05\n",
      "Epoch 35/200\n"
     ]
    },
    {
     "data": {
      "application/vnd.jupyter.widget-view+json": {
       "model_id": "c90553e460354d7f8f1bbd312b598695",
       "version_major": 2,
       "version_minor": 0
      },
      "text/plain": [
       "0/1563                                                                                                       E…"
      ]
     },
     "metadata": {},
     "output_type": "display_data"
    },
    {
     "name": "stdout",
     "output_type": "stream",
     "text": [
      "Epoch 35/200\n",
      "1563/1563 [==============================] - 168s 108ms/step - loss: 0.3864 - accuracy: 0.8621 - val_loss: 0.5317 - val_accuracy: 0.8243 - lr: 8.3439e-05\n",
      "Epoch 36/200\n"
     ]
    },
    {
     "data": {
      "application/vnd.jupyter.widget-view+json": {
       "model_id": "5339aa67ab6547788cc534f3842b4fe0",
       "version_major": 2,
       "version_minor": 0
      },
      "text/plain": [
       "0/1563                                                                                                       E…"
      ]
     },
     "metadata": {},
     "output_type": "display_data"
    },
    {
     "name": "stdout",
     "output_type": "stream",
     "text": [
      "Epoch 36/200\n",
      "1563/1563 [==============================] - 171s 109ms/step - loss: 0.3817 - accuracy: 0.8663 - val_loss: 0.5315 - val_accuracy: 0.8242 - lr: 7.5095e-05\n",
      "Epoch 37/200\n"
     ]
    },
    {
     "data": {
      "application/vnd.jupyter.widget-view+json": {
       "model_id": "d99256a8219f4a7c967e0ee9d2ce46d9",
       "version_major": 2,
       "version_minor": 0
      },
      "text/plain": [
       "0/1563                                                                                                       E…"
      ]
     },
     "metadata": {},
     "output_type": "display_data"
    },
    {
     "name": "stdout",
     "output_type": "stream",
     "text": [
      "Epoch 37/200\n",
      "1563/1563 [==============================] - 185s 118ms/step - loss: 0.3787 - accuracy: 0.8662 - val_loss: 0.5279 - val_accuracy: 0.8282 - lr: 6.7585e-05\n",
      "Epoch 38/200\n"
     ]
    },
    {
     "data": {
      "application/vnd.jupyter.widget-view+json": {
       "model_id": "33f7d5e54aa34f54854c006a5d35b214",
       "version_major": 2,
       "version_minor": 0
      },
      "text/plain": [
       "0/1563                                                                                                       E…"
      ]
     },
     "metadata": {},
     "output_type": "display_data"
    },
    {
     "name": "stdout",
     "output_type": "stream",
     "text": [
      "Epoch 38/200\n",
      "1563/1563 [==============================] - 184s 118ms/step - loss: 0.3857 - accuracy: 0.8644 - val_loss: 0.5292 - val_accuracy: 0.8275 - lr: 6.0827e-05\n",
      "Epoch 39/200\n"
     ]
    },
    {
     "data": {
      "application/vnd.jupyter.widget-view+json": {
       "model_id": "099285c4dd024979a0f06db7cc8e96e6",
       "version_major": 2,
       "version_minor": 0
      },
      "text/plain": [
       "0/1563                                                                                                       E…"
      ]
     },
     "metadata": {},
     "output_type": "display_data"
    },
    {
     "name": "stdout",
     "output_type": "stream",
     "text": [
      "Epoch 39/200\n",
      "1563/1563 [==============================] - 185s 118ms/step - loss: 0.3784 - accuracy: 0.8661 - val_loss: 0.5232 - val_accuracy: 0.8280 - lr: 5.4744e-05\n",
      "Epoch 40/200\n"
     ]
    },
    {
     "data": {
      "application/vnd.jupyter.widget-view+json": {
       "model_id": "72085105d27044ffb6a2df0da0595ce7",
       "version_major": 2,
       "version_minor": 0
      },
      "text/plain": [
       "0/1563                                                                                                       E…"
      ]
     },
     "metadata": {},
     "output_type": "display_data"
    },
    {
     "name": "stdout",
     "output_type": "stream",
     "text": [
      "Epoch 40/200\n",
      "1563/1563 [==============================] - 181s 116ms/step - loss: 0.3741 - accuracy: 0.8676 - val_loss: 0.5253 - val_accuracy: 0.8292 - lr: 4.9270e-05\n",
      "Epoch 41/200\n"
     ]
    },
    {
     "data": {
      "application/vnd.jupyter.widget-view+json": {
       "model_id": "e2c295850b2c47679753a240a0c2071c",
       "version_major": 2,
       "version_minor": 0
      },
      "text/plain": [
       "0/1563                                                                                                       E…"
      ]
     },
     "metadata": {},
     "output_type": "display_data"
    },
    {
     "name": "stdout",
     "output_type": "stream",
     "text": [
      "Epoch 41/200\n",
      "1563/1563 [==============================] - 187s 120ms/step - loss: 0.3732 - accuracy: 0.8665 - val_loss: 0.5288 - val_accuracy: 0.8278 - lr: 4.4343e-05\n",
      "Epoch 42/200\n"
     ]
    },
    {
     "data": {
      "application/vnd.jupyter.widget-view+json": {
       "model_id": "1a42ccd7a0f545a1a95acac8cfbce584",
       "version_major": 2,
       "version_minor": 0
      },
      "text/plain": [
       "0/1563                                                                                                       E…"
      ]
     },
     "metadata": {},
     "output_type": "display_data"
    },
    {
     "name": "stdout",
     "output_type": "stream",
     "text": [
      "Epoch 42/200\n",
      "1563/1563 [==============================] - 184s 118ms/step - loss: 0.3725 - accuracy: 0.8678 - val_loss: 0.5249 - val_accuracy: 0.8303 - lr: 3.9908e-05\n",
      "Epoch 43/200\n"
     ]
    },
    {
     "data": {
      "application/vnd.jupyter.widget-view+json": {
       "model_id": "288bac96f3d04de7b951cfe8cfc4cf72",
       "version_major": 2,
       "version_minor": 0
      },
      "text/plain": [
       "0/1563                                                                                                       E…"
      ]
     },
     "metadata": {},
     "output_type": "display_data"
    },
    {
     "name": "stdout",
     "output_type": "stream",
     "text": [
      "Epoch 43/200\n",
      "1563/1563 [==============================] - 184s 118ms/step - loss: 0.3682 - accuracy: 0.8693 - val_loss: 0.5234 - val_accuracy: 0.8304 - lr: 3.5918e-05\n",
      "Epoch 44/200\n"
     ]
    },
    {
     "data": {
      "application/vnd.jupyter.widget-view+json": {
       "model_id": "975b246d862c458a8bbb6c0b80891b17",
       "version_major": 2,
       "version_minor": 0
      },
      "text/plain": [
       "0/1563                                                                                                       E…"
      ]
     },
     "metadata": {},
     "output_type": "display_data"
    },
    {
     "name": "stdout",
     "output_type": "stream",
     "text": [
      "Epoch 44/200\n",
      "1563/1563 [==============================] - 195s 125ms/step - loss: 0.3738 - accuracy: 0.8665 - val_loss: 0.5253 - val_accuracy: 0.8283 - lr: 3.2326e-05\n",
      "Epoch 45/200\n"
     ]
    },
    {
     "data": {
      "application/vnd.jupyter.widget-view+json": {
       "model_id": "377082a40044495894a523ed5d927f49",
       "version_major": 2,
       "version_minor": 0
      },
      "text/plain": [
       "0/1563                                                                                                       E…"
      ]
     },
     "metadata": {},
     "output_type": "display_data"
    },
    {
     "name": "stdout",
     "output_type": "stream",
     "text": [
      "Epoch 45/200\n",
      "1563/1563 [==============================] - 180s 115ms/step - loss: 0.3719 - accuracy: 0.8678 - val_loss: 0.5280 - val_accuracy: 0.8287 - lr: 2.9093e-05\n",
      "Epoch 46/200\n"
     ]
    },
    {
     "data": {
      "application/vnd.jupyter.widget-view+json": {
       "model_id": "b9e82f574aeb4b0c9db3eb99f84cb745",
       "version_major": 2,
       "version_minor": 0
      },
      "text/plain": [
       "0/1563                                                                                                       E…"
      ]
     },
     "metadata": {},
     "output_type": "display_data"
    },
    {
     "name": "stdout",
     "output_type": "stream",
     "text": [
      "Epoch 46/200\n",
      "1563/1563 [==============================] - 170s 109ms/step - loss: 0.3643 - accuracy: 0.8702 - val_loss: 0.5267 - val_accuracy: 0.8295 - lr: 2.6184e-05\n",
      "Epoch 47/200\n"
     ]
    },
    {
     "data": {
      "application/vnd.jupyter.widget-view+json": {
       "model_id": "c9ccc68abf5a409ab41cac5afe410399",
       "version_major": 2,
       "version_minor": 0
      },
      "text/plain": [
       "0/1563                                                                                                       E…"
      ]
     },
     "metadata": {},
     "output_type": "display_data"
    },
    {
     "name": "stdout",
     "output_type": "stream",
     "text": [
      "Epoch 47/200\n",
      "1563/1563 [==============================] - 170s 108ms/step - loss: 0.3677 - accuracy: 0.8679 - val_loss: 0.5263 - val_accuracy: 0.8284 - lr: 2.3566e-05\n",
      "Epoch 48/200\n"
     ]
    },
    {
     "data": {
      "application/vnd.jupyter.widget-view+json": {
       "model_id": "b3ef187950f0432985c7576594cbd4c5",
       "version_major": 2,
       "version_minor": 0
      },
      "text/plain": [
       "0/1563                                                                                                       E…"
      ]
     },
     "metadata": {},
     "output_type": "display_data"
    },
    {
     "name": "stdout",
     "output_type": "stream",
     "text": [
      "Epoch 48/200\n",
      "1563/1563 [==============================] - 170s 109ms/step - loss: 0.3656 - accuracy: 0.8689 - val_loss: 0.5257 - val_accuracy: 0.8290 - lr: 2.1209e-05\n",
      "Epoch 49/200\n"
     ]
    },
    {
     "data": {
      "application/vnd.jupyter.widget-view+json": {
       "model_id": "f88f4aeb8a034a018f65c35781b268a8",
       "version_major": 2,
       "version_minor": 0
      },
      "text/plain": [
       "0/1563                                                                                                       E…"
      ]
     },
     "metadata": {},
     "output_type": "display_data"
    },
    {
     "name": "stdout",
     "output_type": "stream",
     "text": [
      "Epoch 49/200\n",
      "1563/1563 [==============================] - 167s 107ms/step - loss: 0.3696 - accuracy: 0.8675 - val_loss: 0.5272 - val_accuracy: 0.8284 - lr: 1.9088e-05\n",
      "Epoch 50/200\n"
     ]
    },
    {
     "data": {
      "application/vnd.jupyter.widget-view+json": {
       "model_id": "2fe2d06ee3ae4880a679b0a3c0f66dd6",
       "version_major": 2,
       "version_minor": 0
      },
      "text/plain": [
       "0/1563                                                                                                       E…"
      ]
     },
     "metadata": {},
     "output_type": "display_data"
    },
    {
     "name": "stdout",
     "output_type": "stream",
     "text": [
      "Epoch 50/200\n",
      "1563/1563 [==============================] - 168s 108ms/step - loss: 0.3676 - accuracy: 0.8693 - val_loss: 0.5252 - val_accuracy: 0.8287 - lr: 1.7179e-05\n",
      "Epoch 51/200\n"
     ]
    },
    {
     "data": {
      "application/vnd.jupyter.widget-view+json": {
       "model_id": "3698e1c6aadb497599b3e2364b90b3db",
       "version_major": 2,
       "version_minor": 0
      },
      "text/plain": [
       "0/1563                                                                                                       E…"
      ]
     },
     "metadata": {},
     "output_type": "display_data"
    },
    {
     "name": "stdout",
     "output_type": "stream",
     "text": [
      "Epoch 51/200\n",
      "1563/1563 [==============================] - 166s 106ms/step - loss: 0.3665 - accuracy: 0.8691 - val_loss: 0.5245 - val_accuracy: 0.8290 - lr: 1.5461e-05\n",
      "Epoch 52/200\n"
     ]
    },
    {
     "data": {
      "application/vnd.jupyter.widget-view+json": {
       "model_id": "23d57f49a55847eb90400edca4a44204",
       "version_major": 2,
       "version_minor": 0
      },
      "text/plain": [
       "0/1563                                                                                                       E…"
      ]
     },
     "metadata": {},
     "output_type": "display_data"
    },
    {
     "name": "stdout",
     "output_type": "stream",
     "text": [
      "Epoch 52/200\n",
      "1563/1563 [==============================] - 173s 111ms/step - loss: 0.3666 - accuracy: 0.8682 - val_loss: 0.5245 - val_accuracy: 0.8294 - lr: 1.3915e-05\n",
      "Epoch 53/200\n"
     ]
    },
    {
     "data": {
      "application/vnd.jupyter.widget-view+json": {
       "model_id": "bd6af35f90d14d31aeec6e0126e28aa0",
       "version_major": 2,
       "version_minor": 0
      },
      "text/plain": [
       "0/1563                                                                                                       E…"
      ]
     },
     "metadata": {},
     "output_type": "display_data"
    },
    {
     "name": "stdout",
     "output_type": "stream",
     "text": [
      "Epoch 53/200\n",
      "1563/1563 [==============================] - 179s 114ms/step - loss: 0.3645 - accuracy: 0.8704 - val_loss: 0.5243 - val_accuracy: 0.8293 - lr: 1.2524e-05\n",
      "Epoch 54/200\n"
     ]
    },
    {
     "data": {
      "application/vnd.jupyter.widget-view+json": {
       "model_id": "1c70e4e68fb24859b4f23f531d9787c3",
       "version_major": 2,
       "version_minor": 0
      },
      "text/plain": [
       "0/1563                                                                                                       E…"
      ]
     },
     "metadata": {},
     "output_type": "display_data"
    },
    {
     "name": "stdout",
     "output_type": "stream",
     "text": [
      "Epoch 54/200\n",
      "1563/1563 [==============================] - 178s 114ms/step - loss: 0.3670 - accuracy: 0.8704 - val_loss: 0.5254 - val_accuracy: 0.8295 - lr: 1.1271e-05\n",
      "Epoch 55/200\n"
     ]
    },
    {
     "data": {
      "application/vnd.jupyter.widget-view+json": {
       "model_id": "e205011a902342719fc6040507f3997d",
       "version_major": 2,
       "version_minor": 0
      },
      "text/plain": [
       "0/1563                                                                                                       E…"
      ]
     },
     "metadata": {},
     "output_type": "display_data"
    },
    {
     "name": "stdout",
     "output_type": "stream",
     "text": [
      "Epoch 55/200\n",
      "1563/1563 [==============================] - 174s 111ms/step - loss: 0.3674 - accuracy: 0.8702 - val_loss: 0.5250 - val_accuracy: 0.8299 - lr: 1.0144e-05\n",
      "Epoch 56/200\n"
     ]
    },
    {
     "data": {
      "application/vnd.jupyter.widget-view+json": {
       "model_id": "b8368b32804541d09110943f3ea8624a",
       "version_major": 2,
       "version_minor": 0
      },
      "text/plain": [
       "0/1563                                                                                                       E…"
      ]
     },
     "metadata": {},
     "output_type": "display_data"
    },
    {
     "name": "stdout",
     "output_type": "stream",
     "text": [
      "Epoch 56/200\n",
      "1563/1563 [==============================] - 166s 106ms/step - loss: 0.3692 - accuracy: 0.8694 - val_loss: 0.5246 - val_accuracy: 0.8299 - lr: 9.1298e-06\n",
      "Epoch 57/200\n"
     ]
    },
    {
     "data": {
      "application/vnd.jupyter.widget-view+json": {
       "model_id": "af26ce209a9640458f634bec496fd7b3",
       "version_major": 2,
       "version_minor": 0
      },
      "text/plain": [
       "0/1563                                                                                                       E…"
      ]
     },
     "metadata": {},
     "output_type": "display_data"
    },
    {
     "name": "stdout",
     "output_type": "stream",
     "text": [
      "Epoch 57/200\n",
      "1563/1563 [==============================] - 167s 107ms/step - loss: 0.3634 - accuracy: 0.8716 - val_loss: 0.5236 - val_accuracy: 0.8288 - lr: 8.2168e-06\n",
      "Epoch 58/200\n"
     ]
    },
    {
     "data": {
      "application/vnd.jupyter.widget-view+json": {
       "model_id": "d700da840a5f42b8adf24472b7872651",
       "version_major": 2,
       "version_minor": 0
      },
      "text/plain": [
       "0/1563                                                                                                       E…"
      ]
     },
     "metadata": {},
     "output_type": "display_data"
    },
    {
     "name": "stdout",
     "output_type": "stream",
     "text": [
      "Epoch 58/200\n",
      "1563/1563 [==============================] - 170s 109ms/step - loss: 0.3644 - accuracy: 0.8699 - val_loss: 0.5246 - val_accuracy: 0.8292 - lr: 7.3951e-06\n",
      "Epoch 59/200\n"
     ]
    },
    {
     "data": {
      "application/vnd.jupyter.widget-view+json": {
       "model_id": "91bb33df1dd249a6834999ba22d5e2f2",
       "version_major": 2,
       "version_minor": 0
      },
      "text/plain": [
       "0/1563                                                                                                       E…"
      ]
     },
     "metadata": {},
     "output_type": "display_data"
    },
    {
     "name": "stdout",
     "output_type": "stream",
     "text": [
      "Epoch 59/200\n",
      "1563/1563 [==============================] - 176s 112ms/step - loss: 0.3629 - accuracy: 0.8696 - val_loss: 0.5250 - val_accuracy: 0.8300 - lr: 6.6556e-06\n",
      "Epoch 60/200\n"
     ]
    },
    {
     "data": {
      "application/vnd.jupyter.widget-view+json": {
       "model_id": "d70eb257a3844ed18938605359263e77",
       "version_major": 2,
       "version_minor": 0
      },
      "text/plain": [
       "0/1563                                                                                                       E…"
      ]
     },
     "metadata": {},
     "output_type": "display_data"
    },
    {
     "name": "stdout",
     "output_type": "stream",
     "text": [
      "Epoch 60/200\n",
      "1563/1563 [==============================] - 173s 110ms/step - loss: 0.3647 - accuracy: 0.8692 - val_loss: 0.5264 - val_accuracy: 0.8295 - lr: 5.9900e-06\n",
      "Epoch 61/200\n"
     ]
    },
    {
     "data": {
      "application/vnd.jupyter.widget-view+json": {
       "model_id": "c7cff3b060ef44bfbbf0f5fb224ac94f",
       "version_major": 2,
       "version_minor": 0
      },
      "text/plain": [
       "0/1563                                                                                                       E…"
      ]
     },
     "metadata": {},
     "output_type": "display_data"
    },
    {
     "name": "stdout",
     "output_type": "stream",
     "text": [
      "Epoch 61/200\n",
      "1563/1563 [==============================] - 175s 112ms/step - loss: 0.3659 - accuracy: 0.8709 - val_loss: 0.5254 - val_accuracy: 0.8300 - lr: 5.3910e-06\n",
      "Epoch 62/200\n"
     ]
    },
    {
     "data": {
      "application/vnd.jupyter.widget-view+json": {
       "model_id": "0d6849c73deb44deab5891fac38e62cb",
       "version_major": 2,
       "version_minor": 0
      },
      "text/plain": [
       "0/1563                                                                                                       E…"
      ]
     },
     "metadata": {},
     "output_type": "display_data"
    },
    {
     "name": "stdout",
     "output_type": "stream",
     "text": [
      "Epoch 62/200\n",
      "1563/1563 [==============================] - 172s 110ms/step - loss: 0.3648 - accuracy: 0.8706 - val_loss: 0.5236 - val_accuracy: 0.8303 - lr: 4.8519e-06\n",
      "Epoch 63/200\n"
     ]
    },
    {
     "data": {
      "application/vnd.jupyter.widget-view+json": {
       "model_id": "c4f1f9002faa4b8daf6345db3d3875ad",
       "version_major": 2,
       "version_minor": 0
      },
      "text/plain": [
       "0/1563                                                                                                       E…"
      ]
     },
     "metadata": {},
     "output_type": "display_data"
    },
    {
     "name": "stdout",
     "output_type": "stream",
     "text": [
      "Epoch 63/200\n",
      "1563/1563 [==============================] - 168s 107ms/step - loss: 0.3641 - accuracy: 0.8701 - val_loss: 0.5250 - val_accuracy: 0.8293 - lr: 4.3667e-06\n",
      "Epoch 64/200\n"
     ]
    },
    {
     "data": {
      "application/vnd.jupyter.widget-view+json": {
       "model_id": "8e0a7a40d43b4fcf8aca3cfc1ef17690",
       "version_major": 2,
       "version_minor": 0
      },
      "text/plain": [
       "0/1563                                                                                                       E…"
      ]
     },
     "metadata": {},
     "output_type": "display_data"
    },
    {
     "name": "stdout",
     "output_type": "stream",
     "text": [
      "Epoch 64/200\n",
      "1563/1563 [==============================] - 167s 107ms/step - loss: 0.3687 - accuracy: 0.8672 - val_loss: 0.5237 - val_accuracy: 0.8305 - lr: 3.9301e-06\n",
      "Epoch 65/200\n"
     ]
    },
    {
     "data": {
      "application/vnd.jupyter.widget-view+json": {
       "model_id": "4a2368859e1e42149c7010d9485be4d1",
       "version_major": 2,
       "version_minor": 0
      },
      "text/plain": [
       "0/1563                                                                                                       E…"
      ]
     },
     "metadata": {},
     "output_type": "display_data"
    },
    {
     "name": "stdout",
     "output_type": "stream",
     "text": [
      "Epoch 65/200\n",
      "1563/1563 [==============================] - 168s 108ms/step - loss: 0.3602 - accuracy: 0.8712 - val_loss: 0.5248 - val_accuracy: 0.8305 - lr: 3.5371e-06\n",
      "Epoch 66/200\n"
     ]
    },
    {
     "data": {
      "application/vnd.jupyter.widget-view+json": {
       "model_id": "321454fd8ede499da501ae8acf2f7c7b",
       "version_major": 2,
       "version_minor": 0
      },
      "text/plain": [
       "0/1563                                                                                                       E…"
      ]
     },
     "metadata": {},
     "output_type": "display_data"
    },
    {
     "name": "stdout",
     "output_type": "stream",
     "text": [
      "Epoch 66/200\n",
      "1563/1563 [==============================] - 169s 108ms/step - loss: 0.3637 - accuracy: 0.8691 - val_loss: 0.5239 - val_accuracy: 0.8307 - lr: 3.1833e-06\n",
      "Epoch 67/200\n"
     ]
    },
    {
     "data": {
      "application/vnd.jupyter.widget-view+json": {
       "model_id": "68957bac15a446e99c14ddea9cccaf8d",
       "version_major": 2,
       "version_minor": 0
      },
      "text/plain": [
       "0/1563                                                                                                       E…"
      ]
     },
     "metadata": {},
     "output_type": "display_data"
    },
    {
     "name": "stdout",
     "output_type": "stream",
     "text": [
      "Epoch 67/200\n",
      "1563/1563 [==============================] - 169s 108ms/step - loss: 0.3597 - accuracy: 0.8714 - val_loss: 0.5259 - val_accuracy: 0.8304 - lr: 2.8650e-06\n",
      "Epoch 68/200\n"
     ]
    },
    {
     "data": {
      "application/vnd.jupyter.widget-view+json": {
       "model_id": "02945c8fb870477dbb0f4d8e2d18c1c1",
       "version_major": 2,
       "version_minor": 0
      },
      "text/plain": [
       "0/1563                                                                                                       E…"
      ]
     },
     "metadata": {},
     "output_type": "display_data"
    },
    {
     "name": "stdout",
     "output_type": "stream",
     "text": [
      "Epoch 68/200\n",
      "1563/1563 [==============================] - 170s 109ms/step - loss: 0.3654 - accuracy: 0.8696 - val_loss: 0.5251 - val_accuracy: 0.8296 - lr: 2.5785e-06\n",
      "Epoch 69/200\n"
     ]
    },
    {
     "data": {
      "application/vnd.jupyter.widget-view+json": {
       "model_id": "fcdde9725bb94a92aa2eae917754ec3a",
       "version_major": 2,
       "version_minor": 0
      },
      "text/plain": [
       "0/1563                                                                                                       E…"
      ]
     },
     "metadata": {},
     "output_type": "display_data"
    },
    {
     "name": "stdout",
     "output_type": "stream",
     "text": [
      "Epoch 69/200\n",
      "1563/1563 [==============================] - 181s 116ms/step - loss: 0.3660 - accuracy: 0.8691 - val_loss: 0.5249 - val_accuracy: 0.8301 - lr: 2.3207e-06\n",
      "Epoch 70/200\n"
     ]
    },
    {
     "data": {
      "application/vnd.jupyter.widget-view+json": {
       "model_id": "290d4d9ddf424abca28e3934412f17a8",
       "version_major": 2,
       "version_minor": 0
      },
      "text/plain": [
       "0/1563                                                                                                       E…"
      ]
     },
     "metadata": {},
     "output_type": "display_data"
    },
    {
     "name": "stdout",
     "output_type": "stream",
     "text": [
      "Epoch 70/200\n",
      "1563/1563 [==============================] - 181s 116ms/step - loss: 0.3620 - accuracy: 0.8715 - val_loss: 0.5250 - val_accuracy: 0.8300 - lr: 2.0886e-06\n",
      "Epoch 71/200\n"
     ]
    },
    {
     "data": {
      "application/vnd.jupyter.widget-view+json": {
       "model_id": "405dc2949b464c9d9b23ce3633b8b6b7",
       "version_major": 2,
       "version_minor": 0
      },
      "text/plain": [
       "0/1563                                                                                                       E…"
      ]
     },
     "metadata": {},
     "output_type": "display_data"
    },
    {
     "name": "stdout",
     "output_type": "stream",
     "text": [
      "Epoch 71/200\n",
      "1563/1563 [==============================] - 167s 107ms/step - loss: 0.3645 - accuracy: 0.8699 - val_loss: 0.5258 - val_accuracy: 0.8295 - lr: 1.8797e-06\n",
      "Epoch 72/200\n"
     ]
    },
    {
     "data": {
      "application/vnd.jupyter.widget-view+json": {
       "model_id": "1d682b34b1834e628c2e6002228b41d0",
       "version_major": 2,
       "version_minor": 0
      },
      "text/plain": [
       "0/1563                                                                                                       E…"
      ]
     },
     "metadata": {},
     "output_type": "display_data"
    },
    {
     "name": "stdout",
     "output_type": "stream",
     "text": [
      "Epoch 72/200\n",
      "1563/1563 [==============================] - 166s 107ms/step - loss: 0.3659 - accuracy: 0.8701 - val_loss: 0.5247 - val_accuracy: 0.8299 - lr: 1.6918e-06\n",
      "Epoch 73/200\n"
     ]
    },
    {
     "data": {
      "application/vnd.jupyter.widget-view+json": {
       "model_id": "9b4d104980034d0991cd38bd403b9cfa",
       "version_major": 2,
       "version_minor": 0
      },
      "text/plain": [
       "0/1563                                                                                                       E…"
      ]
     },
     "metadata": {},
     "output_type": "display_data"
    },
    {
     "name": "stdout",
     "output_type": "stream",
     "text": [
      "Epoch 73/200\n",
      "1563/1563 [==============================] - 167s 107ms/step - loss: 0.3638 - accuracy: 0.8687 - val_loss: 0.5254 - val_accuracy: 0.8296 - lr: 1.5226e-06\n",
      "Epoch 74/200\n"
     ]
    },
    {
     "data": {
      "application/vnd.jupyter.widget-view+json": {
       "model_id": "5e30b2d12141472b846d8259d1fb8cd7",
       "version_major": 2,
       "version_minor": 0
      },
      "text/plain": [
       "0/1563                                                                                                       E…"
      ]
     },
     "metadata": {},
     "output_type": "display_data"
    },
    {
     "name": "stdout",
     "output_type": "stream",
     "text": [
      "Epoch 74/200\n",
      "1563/1563 [==============================] - 166s 107ms/step - loss: 0.3630 - accuracy: 0.8715 - val_loss: 0.5252 - val_accuracy: 0.8299 - lr: 1.3703e-06\n",
      "Epoch 75/200\n"
     ]
    },
    {
     "data": {
      "application/vnd.jupyter.widget-view+json": {
       "model_id": "2b70e0ed34b443b39e8a8cc57386dfca",
       "version_major": 2,
       "version_minor": 0
      },
      "text/plain": [
       "0/1563                                                                                                       E…"
      ]
     },
     "metadata": {},
     "output_type": "display_data"
    },
    {
     "name": "stdout",
     "output_type": "stream",
     "text": [
      "Epoch 75/200\n",
      "1563/1563 [==============================] - 169s 108ms/step - loss: 0.3648 - accuracy: 0.8710 - val_loss: 0.5247 - val_accuracy: 0.8299 - lr: 1.2333e-06\n",
      "Epoch 76/200\n"
     ]
    },
    {
     "data": {
      "application/vnd.jupyter.widget-view+json": {
       "model_id": "fa9ca9c657e34b368ae83b33c97277d2",
       "version_major": 2,
       "version_minor": 0
      },
      "text/plain": [
       "0/1563                                                                                                       E…"
      ]
     },
     "metadata": {},
     "output_type": "display_data"
    },
    {
     "name": "stdout",
     "output_type": "stream",
     "text": [
      "Epoch 76/200\n",
      "1563/1563 [==============================] - 168s 107ms/step - loss: 0.3626 - accuracy: 0.8717 - val_loss: 0.5243 - val_accuracy: 0.8298 - lr: 1.1100e-06\n",
      "Epoch 77/200\n"
     ]
    },
    {
     "data": {
      "application/vnd.jupyter.widget-view+json": {
       "model_id": "a59b2319d9f0461fb46eb328bf3bd9c5",
       "version_major": 2,
       "version_minor": 0
      },
      "text/plain": [
       "0/1563                                                                                                       E…"
      ]
     },
     "metadata": {},
     "output_type": "display_data"
    },
    {
     "name": "stdout",
     "output_type": "stream",
     "text": [
      "Epoch 77/200\n",
      "1563/1563 [==============================] - 168s 107ms/step - loss: 0.3600 - accuracy: 0.8711 - val_loss: 0.5257 - val_accuracy: 0.8288 - lr: 9.9897e-07\n",
      "Epoch 78/200\n"
     ]
    },
    {
     "data": {
      "application/vnd.jupyter.widget-view+json": {
       "model_id": "8f093d5f52424a08aa516704166015c3",
       "version_major": 2,
       "version_minor": 0
      },
      "text/plain": [
       "0/1563                                                                                                       E…"
      ]
     },
     "metadata": {},
     "output_type": "display_data"
    },
    {
     "name": "stdout",
     "output_type": "stream",
     "text": [
      "Epoch 78/200\n",
      "1563/1563 [==============================] - 171s 109ms/step - loss: 0.3615 - accuracy: 0.8715 - val_loss: 0.5242 - val_accuracy: 0.8299 - lr: 8.9907e-07\n",
      "Epoch 79/200\n"
     ]
    },
    {
     "data": {
      "application/vnd.jupyter.widget-view+json": {
       "model_id": "4940094aab8c45f190a1b1a068659970",
       "version_major": 2,
       "version_minor": 0
      },
      "text/plain": [
       "0/1563                                                                                                       E…"
      ]
     },
     "metadata": {},
     "output_type": "display_data"
    },
    {
     "name": "stdout",
     "output_type": "stream",
     "text": [
      "Epoch 79/200\n",
      "1563/1563 [==============================] - 177s 113ms/step - loss: 0.3638 - accuracy: 0.8693 - val_loss: 0.5260 - val_accuracy: 0.8302 - lr: 8.0916e-07\n",
      "Epoch 80/200\n"
     ]
    },
    {
     "data": {
      "application/vnd.jupyter.widget-view+json": {
       "model_id": "e85d01040e2446b887c9eb253c158acd",
       "version_major": 2,
       "version_minor": 0
      },
      "text/plain": [
       "0/1563                                                                                                       E…"
      ]
     },
     "metadata": {},
     "output_type": "display_data"
    },
    {
     "name": "stdout",
     "output_type": "stream",
     "text": [
      "Epoch 80/200\n",
      "1563/1563 [==============================] - 178s 114ms/step - loss: 0.3678 - accuracy: 0.8695 - val_loss: 0.5238 - val_accuracy: 0.8306 - lr: 7.2825e-07\n",
      "Epoch 81/200\n"
     ]
    },
    {
     "data": {
      "application/vnd.jupyter.widget-view+json": {
       "model_id": "fe70dd2656ce42f9a2c3d15638e1f127",
       "version_major": 2,
       "version_minor": 0
      },
      "text/plain": [
       "0/1563                                                                                                       E…"
      ]
     },
     "metadata": {},
     "output_type": "display_data"
    },
    {
     "name": "stdout",
     "output_type": "stream",
     "text": [
      "Epoch 81/200\n",
      "1563/1563 [==============================] - 178s 114ms/step - loss: 0.3645 - accuracy: 0.8697 - val_loss: 0.5239 - val_accuracy: 0.8301 - lr: 6.5542e-07\n",
      "Epoch 82/200\n"
     ]
    },
    {
     "data": {
      "application/vnd.jupyter.widget-view+json": {
       "model_id": "84ff16454f4e430995123f5af045abe9",
       "version_major": 2,
       "version_minor": 0
      },
      "text/plain": [
       "0/1563                                                                                                       E…"
      ]
     },
     "metadata": {},
     "output_type": "display_data"
    },
    {
     "name": "stdout",
     "output_type": "stream",
     "text": [
      "Epoch 82/200\n",
      "1563/1563 [==============================] - 174s 111ms/step - loss: 0.3605 - accuracy: 0.8699 - val_loss: 0.5249 - val_accuracy: 0.8303 - lr: 5.8988e-07\n",
      "Epoch 83/200\n"
     ]
    },
    {
     "data": {
      "application/vnd.jupyter.widget-view+json": {
       "model_id": "c24daf19f99143c49cb102b6ceb623f4",
       "version_major": 2,
       "version_minor": 0
      },
      "text/plain": [
       "0/1563                                                                                                       E…"
      ]
     },
     "metadata": {},
     "output_type": "display_data"
    },
    {
     "name": "stdout",
     "output_type": "stream",
     "text": [
      "Epoch 83/200\n",
      "1563/1563 [==============================] - 176s 113ms/step - loss: 0.3638 - accuracy: 0.8700 - val_loss: 0.5248 - val_accuracy: 0.8294 - lr: 5.3089e-07\n",
      "Epoch 84/200\n"
     ]
    },
    {
     "data": {
      "application/vnd.jupyter.widget-view+json": {
       "model_id": "02aeddedc4464411bd42079e2ec4510e",
       "version_major": 2,
       "version_minor": 0
      },
      "text/plain": [
       "0/1563                                                                                                       E…"
      ]
     },
     "metadata": {},
     "output_type": "display_data"
    },
    {
     "name": "stdout",
     "output_type": "stream",
     "text": [
      "Epoch 84/200\n",
      "1563/1563 [==============================] - 172s 110ms/step - loss: 0.3659 - accuracy: 0.8704 - val_loss: 0.5243 - val_accuracy: 0.8299 - lr: 4.7780e-07\n",
      "Epoch 85/200\n"
     ]
    },
    {
     "data": {
      "application/vnd.jupyter.widget-view+json": {
       "model_id": "89269b9fe16b497aafbc5586976518b9",
       "version_major": 2,
       "version_minor": 0
      },
      "text/plain": [
       "0/1563                                                                                                       E…"
      ]
     },
     "metadata": {},
     "output_type": "display_data"
    },
    {
     "name": "stdout",
     "output_type": "stream",
     "text": [
      "Epoch 85/200\n",
      "1563/1563 [==============================] - 166s 106ms/step - loss: 0.3610 - accuracy: 0.8720 - val_loss: 0.5248 - val_accuracy: 0.8297 - lr: 4.3002e-07\n",
      "Epoch 86/200\n"
     ]
    },
    {
     "data": {
      "application/vnd.jupyter.widget-view+json": {
       "model_id": "ee18a2b07a2848738da69a337570882a",
       "version_major": 2,
       "version_minor": 0
      },
      "text/plain": [
       "0/1563                                                                                                       E…"
      ]
     },
     "metadata": {},
     "output_type": "display_data"
    },
    {
     "name": "stdout",
     "output_type": "stream",
     "text": [
      "Epoch 86/200\n",
      "1563/1563 [==============================] - 169s 108ms/step - loss: 0.3655 - accuracy: 0.8689 - val_loss: 0.5261 - val_accuracy: 0.8298 - lr: 3.8702e-07\n",
      "Epoch 87/200\n"
     ]
    },
    {
     "data": {
      "application/vnd.jupyter.widget-view+json": {
       "model_id": "86cd5212c7d84ce1b81dec66eb6cbc75",
       "version_major": 2,
       "version_minor": 0
      },
      "text/plain": [
       "0/1563                                                                                                       E…"
      ]
     },
     "metadata": {},
     "output_type": "display_data"
    },
    {
     "name": "stdout",
     "output_type": "stream",
     "text": [
      "Epoch 87/200\n",
      "1563/1563 [==============================] - 168s 108ms/step - loss: 0.3626 - accuracy: 0.8702 - val_loss: 0.5253 - val_accuracy: 0.8297 - lr: 3.4832e-07\n"
     ]
    },
    {
     "data": {
      "text/plain": [
       "<keras.callbacks.History at 0x22cbe686580>"
      ]
     },
     "execution_count": 19,
     "metadata": {},
     "output_type": "execute_result"
    }
   ],
   "source": [
    "model2.fit(\n",
    "    X_train_norm,\n",
    "    y_train_ohe,\n",
    "    batch_size=BATCH_SIZE,\n",
    "    epochs=EPOCHS,\n",
    "    callbacks=[\n",
    "       keras.callbacks.LearningRateScheduler(lrScheduler), \n",
    "       tqdm_callback,\n",
    "       early_stop],\n",
    "    shuffle=True,\n",
    "    verbose=1,\n",
    "    validation_data=(X_test_norm, y_test_ohe)\n",
    "    )"
   ]
  },
  {
   "cell_type": "markdown",
   "id": "6ce7c867",
   "metadata": {},
   "source": [
    "#### Model concept no. 3"
   ]
  },
  {
   "cell_type": "code",
   "execution_count": 20,
   "id": "bc335cfc",
   "metadata": {
    "ExecuteTime": {
     "end_time": "2022-03-21T00:19:44.481420Z",
     "start_time": "2022-03-21T00:19:44.473440Z"
    }
   },
   "outputs": [],
   "source": [
    "BATCH_SIZE=128\n",
    "EPOCHS=20"
   ]
  },
  {
   "cell_type": "code",
   "execution_count": 21,
   "id": "770200cc",
   "metadata": {
    "ExecuteTime": {
     "end_time": "2022-03-21T00:19:44.635523Z",
     "start_time": "2022-03-21T00:19:44.485408Z"
    }
   },
   "outputs": [],
   "source": [
    "model3 = Sequential()\n",
    "\n",
    "model3.add(Conv2D(filters=32, kernel_size=(4,4), input_shape=INPUT_SHAPE, activation='relu',))\n",
    "model3.add(MaxPool2D(pool_size=(2, 2)))\n",
    "model3.add(Conv2D(filters=32, kernel_size=(4,4), activation='relu',))\n",
    "model3.add(MaxPool2D(pool_size=(2, 2)))\n",
    "model3.add(Flatten())\n",
    "model3.add(Dense(128, activation='relu'))\n",
    "model3.add(Dropout(0.2))\n",
    "model3.add(Dense(64, activation='relu'))\n",
    "model3.add(Dropout(0.2))\n",
    "model3.add(Dense(32, activation='relu'))\n",
    "model3.add(Dropout(0.2))\n",
    "model3.add(Dense(10, activation='softmax'))"
   ]
  },
  {
   "cell_type": "code",
   "execution_count": 22,
   "id": "895f8c59",
   "metadata": {
    "ExecuteTime": {
     "end_time": "2022-03-21T00:19:44.665515Z",
     "start_time": "2022-03-21T00:19:44.643503Z"
    }
   },
   "outputs": [],
   "source": [
    "model3.compile(loss='categorical_crossentropy',\n",
    "               optimizer=tf.keras.optimizers.Adam(learning_rate=LR), \n",
    "               metrics=['accuracy'])"
   ]
  },
  {
   "cell_type": "code",
   "execution_count": 23,
   "id": "5d470dfd",
   "metadata": {
    "ExecuteTime": {
     "end_time": "2022-03-21T00:19:44.713388Z",
     "start_time": "2022-03-21T00:19:44.667510Z"
    }
   },
   "outputs": [
    {
     "name": "stdout",
     "output_type": "stream",
     "text": [
      "Model: \"sequential_3\"\n",
      "_________________________________________________________________\n",
      " Layer (type)                Output Shape              Param #   \n",
      "=================================================================\n",
      " conv2d_16 (Conv2D)          (None, 29, 29, 32)        1568      \n",
      "                                                                 \n",
      " max_pooling2d_8 (MaxPooling  (None, 14, 14, 32)       0         \n",
      " 2D)                                                             \n",
      "                                                                 \n",
      " conv2d_17 (Conv2D)          (None, 11, 11, 32)        16416     \n",
      "                                                                 \n",
      " max_pooling2d_9 (MaxPooling  (None, 5, 5, 32)         0         \n",
      " 2D)                                                             \n",
      "                                                                 \n",
      " flatten_3 (Flatten)         (None, 800)               0         \n",
      "                                                                 \n",
      " dense_6 (Dense)             (None, 128)               102528    \n",
      "                                                                 \n",
      " dropout_11 (Dropout)        (None, 128)               0         \n",
      "                                                                 \n",
      " dense_7 (Dense)             (None, 64)                8256      \n",
      "                                                                 \n",
      " dropout_12 (Dropout)        (None, 64)                0         \n",
      "                                                                 \n",
      " dense_8 (Dense)             (None, 32)                2080      \n",
      "                                                                 \n",
      " dropout_13 (Dropout)        (None, 32)                0         \n",
      "                                                                 \n",
      " dense_9 (Dense)             (None, 10)                330       \n",
      "                                                                 \n",
      "=================================================================\n",
      "Total params: 131,178\n",
      "Trainable params: 131,178\n",
      "Non-trainable params: 0\n",
      "_________________________________________________________________\n"
     ]
    }
   ],
   "source": [
    "model3.summary()"
   ]
  },
  {
   "cell_type": "code",
   "execution_count": 24,
   "id": "74c06be9",
   "metadata": {
    "ExecuteTime": {
     "end_time": "2022-03-21T00:27:59.249038Z",
     "start_time": "2022-03-21T00:19:44.715383Z"
    },
    "scrolled": false
   },
   "outputs": [
    {
     "data": {
      "application/vnd.jupyter.widget-view+json": {
       "model_id": "bfe4589171de4c83a542f71680d355a1",
       "version_major": 2,
       "version_minor": 0
      },
      "text/plain": [
       "Training:   0%|                                                                                0/20 ETA: ?s,  …"
      ]
     },
     "metadata": {},
     "output_type": "display_data"
    },
    {
     "name": "stdout",
     "output_type": "stream",
     "text": [
      "Epoch 1/20\n"
     ]
    },
    {
     "data": {
      "application/vnd.jupyter.widget-view+json": {
       "model_id": "93f83cb48f17419c861a7ea8f84effea",
       "version_major": 2,
       "version_minor": 0
      },
      "text/plain": [
       "0/391                                                                                                        E…"
      ]
     },
     "metadata": {},
     "output_type": "display_data"
    },
    {
     "name": "stdout",
     "output_type": "stream",
     "text": [
      "Epoch 1/20\n",
      "391/391 [==============================] - 26s 65ms/step - loss: 1.8884 - accuracy: 0.2902 - val_loss: 1.5805 - val_accuracy: 0.4187 - lr: 0.0030\n",
      "Epoch 2/20\n"
     ]
    },
    {
     "data": {
      "application/vnd.jupyter.widget-view+json": {
       "model_id": "344292db569240e6b432dbfcf1d7d20e",
       "version_major": 2,
       "version_minor": 0
      },
      "text/plain": [
       "0/391                                                                                                        E…"
      ]
     },
     "metadata": {},
     "output_type": "display_data"
    },
    {
     "name": "stdout",
     "output_type": "stream",
     "text": [
      "Epoch 2/20\n",
      "391/391 [==============================] - 24s 62ms/step - loss: 1.5914 - accuracy: 0.4183 - val_loss: 1.4367 - val_accuracy: 0.4731 - lr: 0.0027\n",
      "Epoch 3/20\n"
     ]
    },
    {
     "data": {
      "application/vnd.jupyter.widget-view+json": {
       "model_id": "21b350b339e7415691ef62f81b8128e2",
       "version_major": 2,
       "version_minor": 0
      },
      "text/plain": [
       "0/391                                                                                                        E…"
      ]
     },
     "metadata": {},
     "output_type": "display_data"
    },
    {
     "name": "stdout",
     "output_type": "stream",
     "text": [
      "Epoch 3/20\n",
      "391/391 [==============================] - 25s 64ms/step - loss: 1.4697 - accuracy: 0.4704 - val_loss: 1.3571 - val_accuracy: 0.5117 - lr: 0.0024\n",
      "Epoch 4/20\n"
     ]
    },
    {
     "data": {
      "application/vnd.jupyter.widget-view+json": {
       "model_id": "21f67e0cc45e4c9e9aa580ec8448a54d",
       "version_major": 2,
       "version_minor": 0
      },
      "text/plain": [
       "0/391                                                                                                        E…"
      ]
     },
     "metadata": {},
     "output_type": "display_data"
    },
    {
     "name": "stdout",
     "output_type": "stream",
     "text": [
      "Epoch 4/20\n",
      "391/391 [==============================] - 25s 63ms/step - loss: 1.3812 - accuracy: 0.5091 - val_loss: 1.3477 - val_accuracy: 0.5189 - lr: 0.0022\n",
      "Epoch 5/20\n"
     ]
    },
    {
     "data": {
      "application/vnd.jupyter.widget-view+json": {
       "model_id": "186a5afba8c044238487d65d4a5d6691",
       "version_major": 2,
       "version_minor": 0
      },
      "text/plain": [
       "0/391                                                                                                        E…"
      ]
     },
     "metadata": {},
     "output_type": "display_data"
    },
    {
     "name": "stdout",
     "output_type": "stream",
     "text": [
      "Epoch 5/20\n",
      "391/391 [==============================] - 24s 62ms/step - loss: 1.3195 - accuracy: 0.5347 - val_loss: 1.2712 - val_accuracy: 0.5526 - lr: 0.0020\n",
      "Epoch 6/20\n"
     ]
    },
    {
     "data": {
      "application/vnd.jupyter.widget-view+json": {
       "model_id": "65e7ad7a176647f39086f485fefc4605",
       "version_major": 2,
       "version_minor": 0
      },
      "text/plain": [
       "0/391                                                                                                        E…"
      ]
     },
     "metadata": {},
     "output_type": "display_data"
    },
    {
     "name": "stdout",
     "output_type": "stream",
     "text": [
      "Epoch 6/20\n",
      "391/391 [==============================] - 25s 63ms/step - loss: 1.2764 - accuracy: 0.5517 - val_loss: 1.2233 - val_accuracy: 0.5620 - lr: 0.0018\n",
      "Epoch 7/20\n"
     ]
    },
    {
     "data": {
      "application/vnd.jupyter.widget-view+json": {
       "model_id": "8f809f78537445b78373986e10595fbe",
       "version_major": 2,
       "version_minor": 0
      },
      "text/plain": [
       "0/391                                                                                                        E…"
      ]
     },
     "metadata": {},
     "output_type": "display_data"
    },
    {
     "name": "stdout",
     "output_type": "stream",
     "text": [
      "Epoch 7/20\n",
      "391/391 [==============================] - 24s 62ms/step - loss: 1.2392 - accuracy: 0.5653 - val_loss: 1.2153 - val_accuracy: 0.5731 - lr: 0.0016\n",
      "Epoch 8/20\n"
     ]
    },
    {
     "data": {
      "application/vnd.jupyter.widget-view+json": {
       "model_id": "7f630c59620343c2a6ac71969ca32107",
       "version_major": 2,
       "version_minor": 0
      },
      "text/plain": [
       "0/391                                                                                                        E…"
      ]
     },
     "metadata": {},
     "output_type": "display_data"
    },
    {
     "name": "stdout",
     "output_type": "stream",
     "text": [
      "Epoch 8/20\n",
      "391/391 [==============================] - 24s 62ms/step - loss: 1.1943 - accuracy: 0.5818 - val_loss: 1.1995 - val_accuracy: 0.5747 - lr: 0.0014\n",
      "Epoch 9/20\n"
     ]
    },
    {
     "data": {
      "application/vnd.jupyter.widget-view+json": {
       "model_id": "aae753c0c5bf4858acd45648dc50ec07",
       "version_major": 2,
       "version_minor": 0
      },
      "text/plain": [
       "0/391                                                                                                        E…"
      ]
     },
     "metadata": {},
     "output_type": "display_data"
    },
    {
     "name": "stdout",
     "output_type": "stream",
     "text": [
      "Epoch 9/20\n",
      "391/391 [==============================] - 24s 63ms/step - loss: 1.1602 - accuracy: 0.5941 - val_loss: 1.1672 - val_accuracy: 0.5898 - lr: 0.0013\n",
      "Epoch 10/20\n"
     ]
    },
    {
     "data": {
      "application/vnd.jupyter.widget-view+json": {
       "model_id": "96fd8545265c4120b27887a28668ceac",
       "version_major": 2,
       "version_minor": 0
      },
      "text/plain": [
       "0/391                                                                                                        E…"
      ]
     },
     "metadata": {},
     "output_type": "display_data"
    },
    {
     "name": "stdout",
     "output_type": "stream",
     "text": [
      "Epoch 10/20\n",
      "391/391 [==============================] - 24s 62ms/step - loss: 1.1361 - accuracy: 0.6034 - val_loss: 1.1616 - val_accuracy: 0.5917 - lr: 0.0012\n",
      "Epoch 11/20\n"
     ]
    },
    {
     "data": {
      "application/vnd.jupyter.widget-view+json": {
       "model_id": "c5e8bb9e629e4ddf9ce02b0312a45ccd",
       "version_major": 2,
       "version_minor": 0
      },
      "text/plain": [
       "0/391                                                                                                        E…"
      ]
     },
     "metadata": {},
     "output_type": "display_data"
    },
    {
     "name": "stdout",
     "output_type": "stream",
     "text": [
      "Epoch 11/20\n",
      "391/391 [==============================] - 25s 63ms/step - loss: 1.1141 - accuracy: 0.6138 - val_loss: 1.1721 - val_accuracy: 0.5888 - lr: 0.0010\n",
      "Epoch 12/20\n"
     ]
    },
    {
     "data": {
      "application/vnd.jupyter.widget-view+json": {
       "model_id": "9110504433a1461fa2c804b64cad7cea",
       "version_major": 2,
       "version_minor": 0
      },
      "text/plain": [
       "0/391                                                                                                        E…"
      ]
     },
     "metadata": {},
     "output_type": "display_data"
    },
    {
     "name": "stdout",
     "output_type": "stream",
     "text": [
      "Epoch 12/20\n",
      "391/391 [==============================] - 25s 63ms/step - loss: 1.0887 - accuracy: 0.6224 - val_loss: 1.1769 - val_accuracy: 0.5903 - lr: 9.4143e-04\n",
      "Epoch 13/20\n"
     ]
    },
    {
     "data": {
      "application/vnd.jupyter.widget-view+json": {
       "model_id": "5ed6e9f847d043fb9ba5a22b8e637303",
       "version_major": 2,
       "version_minor": 0
      },
      "text/plain": [
       "0/391                                                                                                        E…"
      ]
     },
     "metadata": {},
     "output_type": "display_data"
    },
    {
     "name": "stdout",
     "output_type": "stream",
     "text": [
      "Epoch 13/20\n",
      "391/391 [==============================] - 24s 63ms/step - loss: 1.0710 - accuracy: 0.6277 - val_loss: 1.1429 - val_accuracy: 0.6005 - lr: 8.4729e-04\n",
      "Epoch 14/20\n"
     ]
    },
    {
     "data": {
      "application/vnd.jupyter.widget-view+json": {
       "model_id": "6d3a29f112fc4cb486ffcc705042e40e",
       "version_major": 2,
       "version_minor": 0
      },
      "text/plain": [
       "0/391                                                                                                        E…"
      ]
     },
     "metadata": {},
     "output_type": "display_data"
    },
    {
     "name": "stdout",
     "output_type": "stream",
     "text": [
      "Epoch 14/20\n",
      "391/391 [==============================] - 25s 63ms/step - loss: 1.0493 - accuracy: 0.6346 - val_loss: 1.1604 - val_accuracy: 0.6003 - lr: 7.6256e-04\n",
      "Epoch 15/20\n"
     ]
    },
    {
     "data": {
      "application/vnd.jupyter.widget-view+json": {
       "model_id": "80f215d366d84f41ae6995926f0ac7f0",
       "version_major": 2,
       "version_minor": 0
      },
      "text/plain": [
       "0/391                                                                                                        E…"
      ]
     },
     "metadata": {},
     "output_type": "display_data"
    },
    {
     "name": "stdout",
     "output_type": "stream",
     "text": [
      "Epoch 15/20\n",
      "391/391 [==============================] - 24s 63ms/step - loss: 1.0386 - accuracy: 0.6382 - val_loss: 1.1302 - val_accuracy: 0.6078 - lr: 6.8630e-04\n",
      "Epoch 16/20\n"
     ]
    },
    {
     "data": {
      "application/vnd.jupyter.widget-view+json": {
       "model_id": "7a0be37521fc4a0c8819ba0001d61211",
       "version_major": 2,
       "version_minor": 0
      },
      "text/plain": [
       "0/391                                                                                                        E…"
      ]
     },
     "metadata": {},
     "output_type": "display_data"
    },
    {
     "name": "stdout",
     "output_type": "stream",
     "text": [
      "Epoch 16/20\n",
      "391/391 [==============================] - 25s 64ms/step - loss: 1.0266 - accuracy: 0.6425 - val_loss: 1.1469 - val_accuracy: 0.6026 - lr: 6.1767e-04\n",
      "Epoch 17/20\n"
     ]
    },
    {
     "data": {
      "application/vnd.jupyter.widget-view+json": {
       "model_id": "6f2b5d5f58b94869a2f4585aa4773778",
       "version_major": 2,
       "version_minor": 0
      },
      "text/plain": [
       "0/391                                                                                                        E…"
      ]
     },
     "metadata": {},
     "output_type": "display_data"
    },
    {
     "name": "stdout",
     "output_type": "stream",
     "text": [
      "Epoch 17/20\n",
      "391/391 [==============================] - 24s 62ms/step - loss: 1.0136 - accuracy: 0.6476 - val_loss: 1.1244 - val_accuracy: 0.6107 - lr: 5.5591e-04\n",
      "Epoch 18/20\n"
     ]
    },
    {
     "data": {
      "application/vnd.jupyter.widget-view+json": {
       "model_id": "8beed71c60ad474482f49760bbda8e9b",
       "version_major": 2,
       "version_minor": 0
      },
      "text/plain": [
       "0/391                                                                                                        E…"
      ]
     },
     "metadata": {},
     "output_type": "display_data"
    },
    {
     "name": "stdout",
     "output_type": "stream",
     "text": [
      "Epoch 18/20\n",
      "391/391 [==============================] - 24s 63ms/step - loss: 1.0037 - accuracy: 0.6520 - val_loss: 1.1258 - val_accuracy: 0.6097 - lr: 5.0032e-04\n",
      "Epoch 19/20\n"
     ]
    },
    {
     "data": {
      "application/vnd.jupyter.widget-view+json": {
       "model_id": "7f0cbc44923e451d89816b1c67d19af4",
       "version_major": 2,
       "version_minor": 0
      },
      "text/plain": [
       "0/391                                                                                                        E…"
      ]
     },
     "metadata": {},
     "output_type": "display_data"
    },
    {
     "name": "stdout",
     "output_type": "stream",
     "text": [
      "Epoch 19/20\n",
      "391/391 [==============================] - 24s 63ms/step - loss: 0.9940 - accuracy: 0.6535 - val_loss: 1.1272 - val_accuracy: 0.6099 - lr: 4.5028e-04\n",
      "Epoch 20/20\n"
     ]
    },
    {
     "data": {
      "application/vnd.jupyter.widget-view+json": {
       "model_id": "4c20350ad8414dbfb62ceca0b2118139",
       "version_major": 2,
       "version_minor": 0
      },
      "text/plain": [
       "0/391                                                                                                        E…"
      ]
     },
     "metadata": {},
     "output_type": "display_data"
    },
    {
     "name": "stdout",
     "output_type": "stream",
     "text": [
      "Epoch 20/20\n",
      "391/391 [==============================] - 24s 62ms/step - loss: 0.9833 - accuracy: 0.6578 - val_loss: 1.1231 - val_accuracy: 0.6125 - lr: 4.0526e-04\n"
     ]
    },
    {
     "data": {
      "text/plain": [
       "<keras.callbacks.History at 0x22cbf294f10>"
      ]
     },
     "execution_count": 24,
     "metadata": {},
     "output_type": "execute_result"
    }
   ],
   "source": [
    "model3.fit(\n",
    "    X_train_norm,\n",
    "    y_train_ohe,\n",
    "    batch_size=BATCH_SIZE,\n",
    "    epochs=EPOCHS,\n",
    "    callbacks=[\n",
    "      keras.callbacks.LearningRateScheduler(lrScheduler), \n",
    "       tqdm_callback,],\n",
    "    shuffle=True,\n",
    "    verbose=1,\n",
    "    validation_data=(X_test_norm, y_test_ohe)\n",
    "    )"
   ]
  },
  {
   "cell_type": "markdown",
   "id": "67385436",
   "metadata": {},
   "source": [
    "### Pretrained Models"
   ]
  },
  {
   "cell_type": "markdown",
   "id": "ebefd28d",
   "metadata": {},
   "source": [
    "#### Residual Network (ResNet)\n",
    "\n",
    "https://medium.com/@kenneth.ca95/a-guide-to-transfer-learning-with-keras-using-resnet50-a81a4a28084b"
   ]
  },
  {
   "cell_type": "code",
   "execution_count": 26,
   "id": "53e7215c",
   "metadata": {
    "ExecuteTime": {
     "end_time": "2022-03-21T00:27:59.280389Z",
     "start_time": "2022-03-21T00:27:59.269919Z"
    }
   },
   "outputs": [],
   "source": [
    "LR = 2e-5\n",
    "EPOCHS=10"
   ]
  },
  {
   "cell_type": "code",
   "execution_count": 27,
   "id": "ddc8e764",
   "metadata": {
    "ExecuteTime": {
     "end_time": "2022-03-21T00:27:59.295709Z",
     "start_time": "2022-03-21T00:27:59.283371Z"
    }
   },
   "outputs": [],
   "source": [
    "def preprocess_data(X, y):\n",
    "    \"\"\"\n",
    "    a function that trains a convolutional neural network to classify the CIFAR 10 dataset\n",
    "    \n",
    "    :param X: X is a numpy.ndarray of shape(m, 32, 32, 3) containing the CIFAR 10 data,\n",
    "    where m is the number of data points\n",
    "    :param y: y is a numpy.ndarray of shape(m,) containing the CIFAR 10 data,\n",
    "    labels for X\n",
    "    :return: X_p, y_p\n",
    "        X_p is a numpy.ndarray containing the preprocessed X\n",
    "        y_p is a numpy.ndarray containing the preprocessed y\n",
    "    \"\"\"\n",
    "    X_p = tf.keras.applications.resnet50.preprocess_input(X)\n",
    "    y_p = tf.keras.utils.to_categorical(y, 10)\n",
    "    return X_p, y_p"
   ]
  },
  {
   "cell_type": "code",
   "execution_count": 28,
   "id": "ac651d83",
   "metadata": {
    "ExecuteTime": {
     "end_time": "2022-03-21T00:27:59.920228Z",
     "start_time": "2022-03-21T00:27:59.302690Z"
    }
   },
   "outputs": [],
   "source": [
    "X_train_resnet50, y_train_resnet50 = preprocess_data(X_train, y_train)\n",
    "X_test_resnet50, y_test_resnet50 = preprocess_data(X_test, y_test)\n",
    "\n",
    "input_tensor=tf.keras.Input(shape=X_train_resnet50.shape[1:])"
   ]
  },
  {
   "cell_type": "code",
   "execution_count": 29,
   "id": "30f4b266",
   "metadata": {
    "ExecuteTime": {
     "end_time": "2022-03-21T00:28:02.536812Z",
     "start_time": "2022-03-21T00:27:59.921077Z"
    }
   },
   "outputs": [],
   "source": [
    "res_model = tf.keras.applications.resnet50.ResNet50(weights='imagenet', include_top=False, input_tensor=input_tensor)\n",
    "\n",
    "for layer in res_model.layers[:143]:\n",
    "    layer.trainable=False\n",
    "    \n",
    "resNet = Sequential()\n",
    "resNet.add(res_model)\n",
    "resNet.add(tf.keras.layers.Flatten())\n",
    "resNet.add(tf.keras.layers.Dense(10, activation='softmax'))"
   ]
  },
  {
   "cell_type": "code",
   "execution_count": 30,
   "id": "d1a21ecf",
   "metadata": {
    "ExecuteTime": {
     "end_time": "2022-03-21T00:28:02.552247Z",
     "start_time": "2022-03-21T00:28:02.537813Z"
    }
   },
   "outputs": [],
   "source": [
    "resNet.compile(loss='categorical_crossentropy',\n",
    "               optimizer=tf.keras.optimizers.RMSprop(learning_rate=LR), \n",
    "               metrics=['accuracy'])"
   ]
  },
  {
   "cell_type": "code",
   "execution_count": 31,
   "id": "65bbb239",
   "metadata": {
    "ExecuteTime": {
     "end_time": "2022-03-21T00:28:02.583347Z",
     "start_time": "2022-03-21T00:28:02.553245Z"
    }
   },
   "outputs": [
    {
     "name": "stdout",
     "output_type": "stream",
     "text": [
      "Model: \"sequential_4\"\n",
      "_________________________________________________________________\n",
      " Layer (type)                Output Shape              Param #   \n",
      "=================================================================\n",
      " resnet50 (Functional)       (None, 1, 1, 2048)        23587712  \n",
      "                                                                 \n",
      " flatten_4 (Flatten)         (None, 2048)              0         \n",
      "                                                                 \n",
      " dense_10 (Dense)            (None, 10)                20490     \n",
      "                                                                 \n",
      "=================================================================\n",
      "Total params: 23,608,202\n",
      "Trainable params: 14,996,490\n",
      "Non-trainable params: 8,611,712\n",
      "_________________________________________________________________\n"
     ]
    }
   ],
   "source": [
    "resNet.summary()"
   ]
  },
  {
   "cell_type": "code",
   "execution_count": 32,
   "id": "7dc5b755",
   "metadata": {
    "ExecuteTime": {
     "end_time": "2022-03-21T03:11:58.567464Z",
     "start_time": "2022-03-21T00:28:02.584200Z"
    }
   },
   "outputs": [
    {
     "name": "stdout",
     "output_type": "stream",
     "text": [
      "Epoch 1/10\n",
      "391/391 [==============================] - 982s 3s/step - loss: 1.9412 - accuracy: 0.4174 - val_loss: 1.4056 - val_accuracy: 0.5417\n",
      "Epoch 2/10\n",
      "391/391 [==============================] - 988s 3s/step - loss: 1.0850 - accuracy: 0.6395 - val_loss: 1.2232 - val_accuracy: 0.6122\n",
      "Epoch 3/10\n",
      "391/391 [==============================] - 980s 3s/step - loss: 0.7825 - accuracy: 0.7352 - val_loss: 1.1423 - val_accuracy: 0.6361\n",
      "Epoch 4/10\n",
      "391/391 [==============================] - 982s 3s/step - loss: 0.5872 - accuracy: 0.8035 - val_loss: 1.1092 - val_accuracy: 0.6509\n",
      "Epoch 5/10\n",
      "391/391 [==============================] - 979s 3s/step - loss: 0.4388 - accuracy: 0.8618 - val_loss: 1.1027 - val_accuracy: 0.6570\n",
      "Epoch 6/10\n",
      "391/391 [==============================] - 996s 3s/step - loss: 0.3233 - accuracy: 0.9075 - val_loss: 1.0933 - val_accuracy: 0.6647\n",
      "Epoch 7/10\n",
      "391/391 [==============================] - 982s 3s/step - loss: 0.2350 - accuracy: 0.9405 - val_loss: 1.1156 - val_accuracy: 0.6650\n",
      "Epoch 8/10\n",
      "391/391 [==============================] - 980s 3s/step - loss: 0.1657 - accuracy: 0.9650 - val_loss: 1.1320 - val_accuracy: 0.6692\n",
      "Epoch 9/10\n",
      "391/391 [==============================] - 981s 3s/step - loss: 0.1173 - accuracy: 0.9791 - val_loss: 1.1785 - val_accuracy: 0.6714\n",
      "Epoch 10/10\n",
      "391/391 [==============================] - 986s 3s/step - loss: 0.0827 - accuracy: 0.9880 - val_loss: 1.1916 - val_accuracy: 0.6716\n"
     ]
    },
    {
     "data": {
      "text/plain": [
       "<keras.callbacks.History at 0x22cbf2945b0>"
      ]
     },
     "execution_count": 32,
     "metadata": {},
     "output_type": "execute_result"
    }
   ],
   "source": [
    "resNet.fit(X_train_resnet50,\n",
    "           y_train_resnet50,\n",
    "           batch_size=BATCH_SIZE,\n",
    "           epochs=EPOCHS,\n",
    "           shuffle=True,\n",
    "           verbose=1,\n",
    "           validation_data=(X_test_resnet50, y_test_resnet50)\n",
    "          )"
   ]
  },
  {
   "cell_type": "markdown",
   "id": "2430ebef",
   "metadata": {},
   "source": [
    "#### VGG16"
   ]
  },
  {
   "cell_type": "code",
   "execution_count": 15,
   "id": "caa4e57f",
   "metadata": {
    "ExecuteTime": {
     "end_time": "2022-03-21T08:15:52.152061Z",
     "start_time": "2022-03-21T08:15:52.131485Z"
    }
   },
   "outputs": [],
   "source": [
    "EPOCHS=10  # 50\n",
    "BATCH_SIZE = 32\n",
    "LR=1e-3\n",
    "MOMENTUM=0.9"
   ]
  },
  {
   "cell_type": "code",
   "execution_count": 16,
   "id": "10c4d885",
   "metadata": {
    "ExecuteTime": {
     "end_time": "2022-03-21T08:16:03.975160Z",
     "start_time": "2022-03-21T08:16:03.532180Z"
    }
   },
   "outputs": [],
   "source": [
    "def preprocess_data(X, y):\n",
    "    \"\"\"\n",
    "    a function that trains a convolutional neural network to classify the CIFAR 10 dataset\n",
    "    \n",
    "    :param X: X is a numpy.ndarray of shape(m, 32, 32, 3) containing the CIFAR 10 data,\n",
    "    where m is the number of data points\n",
    "    :param y: y is a numpy.ndarray of shape(m,) containing the CIFAR 10 data,\n",
    "    labels for X\n",
    "    :return: X_p, y_p\n",
    "        X_p is a numpy.ndarray containing the preprocessed X\n",
    "        y_p is a numpy.ndarray containing the preprocessed y\n",
    "    \"\"\"\n",
    "    X_p = tf.keras.applications.vgg16.preprocess_input(X)\n",
    "    y_p = tf.keras.utils.to_categorical(y, 10)\n",
    "    return X_p, y_p\n",
    "\n",
    "X_train_vgg16, y_train_vgg16 = preprocess_data(X_train, y_train)\n",
    "X_test_vgg16, y_test_vgg16 = preprocess_data(X_test, y_test)\n",
    "\n",
    "nb_train_samples = X_train_vgg16.shape[0]\n",
    "nb_validation_samples = X_test_vgg16.shape[0]\n",
    "input_tensor=tf.keras.Input(shape=X_train_vgg16.shape[1:])"
   ]
  },
  {
   "cell_type": "code",
   "execution_count": 17,
   "id": "1e574e2a",
   "metadata": {
    "ExecuteTime": {
     "end_time": "2022-03-21T08:16:04.626335Z",
     "start_time": "2022-03-21T08:16:04.229364Z"
    }
   },
   "outputs": [],
   "source": [
    "base_vgg = tf.keras.applications.vgg16.VGG16(weights='imagenet', include_top=False, input_shape=INPUT_SHAPE)\n",
    "# Extract the last layer from third block of vgg16 model\n",
    "last = base_vgg.get_layer('block3_pool').output\n",
    "# Add classification layers on top of it\n",
    "x = Flatten()(last)\n",
    "x = Dense(256, activation='relu')(x)\n",
    "x = Dropout(0.5)(x)\n",
    "pred = Dense(10, activation='sigmoid')(x)\n",
    "\n",
    "vggNet = Model(base_vgg.input, pred)\n",
    "\n",
    "# set the base model's layers to non-trainable\n",
    "# uncomment next two lines if you don't want to\n",
    "# train the base model\n",
    "# for layer in base_vgg.layers:\n",
    "#     layer.trainable = False"
   ]
  },
  {
   "cell_type": "code",
   "execution_count": 18,
   "id": "4276049a",
   "metadata": {
    "ExecuteTime": {
     "end_time": "2022-03-21T08:16:04.836922Z",
     "start_time": "2022-03-21T08:16:04.822782Z"
    }
   },
   "outputs": [],
   "source": [
    "# compile the model with a SGD/momentum optimizer\n",
    "# and a very slow learning rate.\n",
    "vggNet.compile(loss='binary_crossentropy',\n",
    "              optimizer=tf.keras.optimizers.SGD(learning_rate=LR, momentum=MOMENTUM),\n",
    "              metrics=['accuracy'])"
   ]
  },
  {
   "cell_type": "code",
   "execution_count": 19,
   "id": "74aef5da",
   "metadata": {
    "ExecuteTime": {
     "end_time": "2022-03-21T08:16:05.517780Z",
     "start_time": "2022-03-21T08:16:05.482731Z"
    }
   },
   "outputs": [
    {
     "name": "stdout",
     "output_type": "stream",
     "text": [
      "Model: \"model_2\"\n",
      "_________________________________________________________________\n",
      " Layer (type)                Output Shape              Param #   \n",
      "=================================================================\n",
      " input_7 (InputLayer)        [(None, 32, 32, 3)]       0         \n",
      "                                                                 \n",
      " block1_conv1 (Conv2D)       (None, 32, 32, 64)        1792      \n",
      "                                                                 \n",
      " block1_conv2 (Conv2D)       (None, 32, 32, 64)        36928     \n",
      "                                                                 \n",
      " block1_pool (MaxPooling2D)  (None, 16, 16, 64)        0         \n",
      "                                                                 \n",
      " block2_conv1 (Conv2D)       (None, 16, 16, 128)       73856     \n",
      "                                                                 \n",
      " block2_conv2 (Conv2D)       (None, 16, 16, 128)       147584    \n",
      "                                                                 \n",
      " block2_pool (MaxPooling2D)  (None, 8, 8, 128)         0         \n",
      "                                                                 \n",
      " block3_conv1 (Conv2D)       (None, 8, 8, 256)         295168    \n",
      "                                                                 \n",
      " block3_conv2 (Conv2D)       (None, 8, 8, 256)         590080    \n",
      "                                                                 \n",
      " block3_conv3 (Conv2D)       (None, 8, 8, 256)         590080    \n",
      "                                                                 \n",
      " block3_pool (MaxPooling2D)  (None, 4, 4, 256)         0         \n",
      "                                                                 \n",
      " flatten_2 (Flatten)         (None, 4096)              0         \n",
      "                                                                 \n",
      " dense_4 (Dense)             (None, 256)               1048832   \n",
      "                                                                 \n",
      " dropout_2 (Dropout)         (None, 256)               0         \n",
      "                                                                 \n",
      " dense_5 (Dense)             (None, 10)                2570      \n",
      "                                                                 \n",
      "=================================================================\n",
      "Total params: 2,786,890\n",
      "Trainable params: 2,786,890\n",
      "Non-trainable params: 0\n",
      "_________________________________________________________________\n"
     ]
    }
   ],
   "source": [
    "vggNet.summary()"
   ]
  },
  {
   "cell_type": "code",
   "execution_count": 20,
   "id": "d641f443",
   "metadata": {
    "ExecuteTime": {
     "end_time": "2022-03-21T11:53:46.841960Z",
     "start_time": "2022-03-21T08:16:05.959795Z"
    }
   },
   "outputs": [
    {
     "name": "stdout",
     "output_type": "stream",
     "text": [
      "Epoch 1/10\n",
      "50000/50000 [==============================] - 1296s 26ms/step - loss: nan - accuracy: 0.1000 - val_loss: nan - val_accuracy: 0.1000\n",
      "Epoch 2/10\n",
      "50000/50000 [==============================] - 1585s 32ms/step - loss: nan - accuracy: 0.1000 - val_loss: nan - val_accuracy: 0.1000\n",
      "Epoch 3/10\n",
      "50000/50000 [==============================] - 1231s 25ms/step - loss: nan - accuracy: 0.1000 - val_loss: nan - val_accuracy: 0.1000\n",
      "Epoch 4/10\n",
      "50000/50000 [==============================] - 1281s 26ms/step - loss: nan - accuracy: 0.1000 - val_loss: nan - val_accuracy: 0.1000\n",
      "Epoch 5/10\n",
      "50000/50000 [==============================] - 1334s 27ms/step - loss: nan - accuracy: 0.1000 - val_loss: nan - val_accuracy: 0.1000\n",
      "Epoch 6/10\n",
      "50000/50000 [==============================] - 1270s 25ms/step - loss: nan - accuracy: 0.1000 - val_loss: nan - val_accuracy: 0.1000\n",
      "Epoch 7/10\n",
      "50000/50000 [==============================] - 1200s 24ms/step - loss: nan - accuracy: 0.1000 - val_loss: nan - val_accuracy: 0.1000\n",
      "Epoch 8/10\n",
      "50000/50000 [==============================] - 1205s 24ms/step - loss: nan - accuracy: 0.1000 - val_loss: nan - val_accuracy: 0.1000\n",
      "Epoch 9/10\n",
      "50000/50000 [==============================] - 1296s 26ms/step - loss: nan - accuracy: 0.1000 - val_loss: nan - val_accuracy: 0.1000\n",
      "Epoch 10/10\n",
      "50000/50000 [==============================] - 1361s 27ms/step - loss: nan - accuracy: 0.1000 - val_loss: nan - val_accuracy: 0.1000\n"
     ]
    },
    {
     "data": {
      "text/plain": [
       "<keras.callbacks.History at 0x1d1f40d3970>"
      ]
     },
     "execution_count": 20,
     "metadata": {},
     "output_type": "execute_result"
    }
   ],
   "source": [
    "# fine-tune the model\n",
    "vggNet.fit(\n",
    "    # train_generator,\n",
    "    X_train_vgg16,\n",
    "    y_train_vgg16,\n",
    "    steps_per_epoch=nb_train_samples,\n",
    "    epochs=EPOCHS,\n",
    "    # validation_data=validation_generator,\n",
    "    validation_data=(X_test_vgg16, y_test_vgg16),\n",
    "    validation_steps=nb_validation_samples)"
   ]
  },
  {
   "cell_type": "markdown",
   "id": "ef3da1b9",
   "metadata": {
    "ExecuteTime": {
     "end_time": "2022-03-19T18:22:56.487259Z",
     "start_time": "2022-03-19T18:22:56.483638Z"
    }
   },
   "source": [
    "## Models Evaluation"
   ]
  },
  {
   "cell_type": "markdown",
   "id": "a695f557",
   "metadata": {},
   "source": [
    "### Custom Models"
   ]
  },
  {
   "cell_type": "code",
   "execution_count": 27,
   "id": "9c54d2dd",
   "metadata": {
    "ExecuteTime": {
     "end_time": "2022-03-21T11:58:59.057681Z",
     "start_time": "2022-03-21T11:58:59.039674Z"
    }
   },
   "outputs": [],
   "source": [
    "y_actual_test_classes = np.argmax(y_test_ohe, axis=-1)"
   ]
  },
  {
   "cell_type": "markdown",
   "id": "28e8d06b",
   "metadata": {},
   "source": [
    "#### Model concept no. 1"
   ]
  },
  {
   "cell_type": "code",
   "execution_count": 39,
   "id": "b5069e5d",
   "metadata": {
    "ExecuteTime": {
     "end_time": "2022-03-21T03:21:17.540231Z",
     "start_time": "2022-03-21T03:21:12.885650Z"
    }
   },
   "outputs": [],
   "source": [
    "y_pred_test_1 = model1.predict(X_test_norm)\n",
    "y_pred_test_classes_1 = np.argmax(y_pred_test_1, axis=-1)"
   ]
  },
  {
   "cell_type": "code",
   "execution_count": 40,
   "id": "47c017dd",
   "metadata": {
    "ExecuteTime": {
     "end_time": "2022-03-21T03:21:17.588076Z",
     "start_time": "2022-03-21T03:21:17.542198Z"
    }
   },
   "outputs": [
    {
     "data": {
      "text/html": [
       "<div>\n",
       "<style scoped>\n",
       "    .dataframe tbody tr th:only-of-type {\n",
       "        vertical-align: middle;\n",
       "    }\n",
       "\n",
       "    .dataframe tbody tr th {\n",
       "        vertical-align: top;\n",
       "    }\n",
       "\n",
       "    .dataframe thead th {\n",
       "        text-align: right;\n",
       "    }\n",
       "</style>\n",
       "<table border=\"1\" class=\"dataframe\">\n",
       "  <thead>\n",
       "    <tr style=\"text-align: right;\">\n",
       "      <th></th>\n",
       "      <th>0</th>\n",
       "      <th>1</th>\n",
       "      <th>2</th>\n",
       "      <th>3</th>\n",
       "      <th>4</th>\n",
       "      <th>5</th>\n",
       "      <th>6</th>\n",
       "      <th>7</th>\n",
       "      <th>8</th>\n",
       "      <th>9</th>\n",
       "    </tr>\n",
       "  </thead>\n",
       "  <tbody>\n",
       "    <tr>\n",
       "      <th>0</th>\n",
       "      <td>837</td>\n",
       "      <td>10</td>\n",
       "      <td>40</td>\n",
       "      <td>14</td>\n",
       "      <td>13</td>\n",
       "      <td>2</td>\n",
       "      <td>9</td>\n",
       "      <td>6</td>\n",
       "      <td>49</td>\n",
       "      <td>20</td>\n",
       "    </tr>\n",
       "    <tr>\n",
       "      <th>1</th>\n",
       "      <td>6</td>\n",
       "      <td>912</td>\n",
       "      <td>1</td>\n",
       "      <td>2</td>\n",
       "      <td>1</td>\n",
       "      <td>1</td>\n",
       "      <td>4</td>\n",
       "      <td>2</td>\n",
       "      <td>12</td>\n",
       "      <td>59</td>\n",
       "    </tr>\n",
       "    <tr>\n",
       "      <th>2</th>\n",
       "      <td>47</td>\n",
       "      <td>2</td>\n",
       "      <td>698</td>\n",
       "      <td>36</td>\n",
       "      <td>79</td>\n",
       "      <td>49</td>\n",
       "      <td>61</td>\n",
       "      <td>17</td>\n",
       "      <td>9</td>\n",
       "      <td>2</td>\n",
       "    </tr>\n",
       "    <tr>\n",
       "      <th>3</th>\n",
       "      <td>19</td>\n",
       "      <td>6</td>\n",
       "      <td>59</td>\n",
       "      <td>630</td>\n",
       "      <td>68</td>\n",
       "      <td>123</td>\n",
       "      <td>58</td>\n",
       "      <td>17</td>\n",
       "      <td>9</td>\n",
       "      <td>11</td>\n",
       "    </tr>\n",
       "    <tr>\n",
       "      <th>4</th>\n",
       "      <td>7</td>\n",
       "      <td>2</td>\n",
       "      <td>42</td>\n",
       "      <td>42</td>\n",
       "      <td>830</td>\n",
       "      <td>21</td>\n",
       "      <td>29</td>\n",
       "      <td>21</td>\n",
       "      <td>5</td>\n",
       "      <td>1</td>\n",
       "    </tr>\n",
       "    <tr>\n",
       "      <th>5</th>\n",
       "      <td>14</td>\n",
       "      <td>3</td>\n",
       "      <td>42</td>\n",
       "      <td>135</td>\n",
       "      <td>44</td>\n",
       "      <td>717</td>\n",
       "      <td>17</td>\n",
       "      <td>20</td>\n",
       "      <td>3</td>\n",
       "      <td>5</td>\n",
       "    </tr>\n",
       "    <tr>\n",
       "      <th>6</th>\n",
       "      <td>4</td>\n",
       "      <td>1</td>\n",
       "      <td>32</td>\n",
       "      <td>36</td>\n",
       "      <td>24</td>\n",
       "      <td>16</td>\n",
       "      <td>876</td>\n",
       "      <td>3</td>\n",
       "      <td>5</td>\n",
       "      <td>3</td>\n",
       "    </tr>\n",
       "    <tr>\n",
       "      <th>7</th>\n",
       "      <td>8</td>\n",
       "      <td>3</td>\n",
       "      <td>24</td>\n",
       "      <td>30</td>\n",
       "      <td>53</td>\n",
       "      <td>29</td>\n",
       "      <td>5</td>\n",
       "      <td>841</td>\n",
       "      <td>2</td>\n",
       "      <td>5</td>\n",
       "    </tr>\n",
       "    <tr>\n",
       "      <th>8</th>\n",
       "      <td>46</td>\n",
       "      <td>17</td>\n",
       "      <td>6</td>\n",
       "      <td>5</td>\n",
       "      <td>4</td>\n",
       "      <td>4</td>\n",
       "      <td>5</td>\n",
       "      <td>5</td>\n",
       "      <td>888</td>\n",
       "      <td>20</td>\n",
       "    </tr>\n",
       "    <tr>\n",
       "      <th>9</th>\n",
       "      <td>22</td>\n",
       "      <td>44</td>\n",
       "      <td>4</td>\n",
       "      <td>7</td>\n",
       "      <td>1</td>\n",
       "      <td>3</td>\n",
       "      <td>4</td>\n",
       "      <td>7</td>\n",
       "      <td>17</td>\n",
       "      <td>891</td>\n",
       "    </tr>\n",
       "  </tbody>\n",
       "</table>\n",
       "</div>"
      ],
      "text/plain": [
       "     0    1    2    3    4    5    6    7    8    9\n",
       "0  837   10   40   14   13    2    9    6   49   20\n",
       "1    6  912    1    2    1    1    4    2   12   59\n",
       "2   47    2  698   36   79   49   61   17    9    2\n",
       "3   19    6   59  630   68  123   58   17    9   11\n",
       "4    7    2   42   42  830   21   29   21    5    1\n",
       "5   14    3   42  135   44  717   17   20    3    5\n",
       "6    4    1   32   36   24   16  876    3    5    3\n",
       "7    8    3   24   30   53   29    5  841    2    5\n",
       "8   46   17    6    5    4    4    5    5  888   20\n",
       "9   22   44    4    7    1    3    4    7   17  891"
      ]
     },
     "execution_count": 40,
     "metadata": {},
     "output_type": "execute_result"
    }
   ],
   "source": [
    "pd.DataFrame(confusion_matrix(y_actual_test_classes, y_pred_test_classes_1))"
   ]
  },
  {
   "cell_type": "code",
   "execution_count": 41,
   "id": "749b559f",
   "metadata": {
    "ExecuteTime": {
     "end_time": "2022-03-21T03:21:17.635948Z",
     "start_time": "2022-03-21T03:21:17.594061Z"
    }
   },
   "outputs": [
    {
     "name": "stdout",
     "output_type": "stream",
     "text": [
      "              precision    recall  f1-score   support\n",
      "\n",
      "           0       0.83      0.84      0.83      1000\n",
      "           1       0.91      0.91      0.91      1000\n",
      "           2       0.74      0.70      0.72      1000\n",
      "           3       0.67      0.63      0.65      1000\n",
      "           4       0.74      0.83      0.78      1000\n",
      "           5       0.74      0.72      0.73      1000\n",
      "           6       0.82      0.88      0.85      1000\n",
      "           7       0.90      0.84      0.87      1000\n",
      "           8       0.89      0.89      0.89      1000\n",
      "           9       0.88      0.89      0.88      1000\n",
      "\n",
      "    accuracy                           0.81     10000\n",
      "   macro avg       0.81      0.81      0.81     10000\n",
      "weighted avg       0.81      0.81      0.81     10000\n",
      "\n"
     ]
    }
   ],
   "source": [
    "print(classification_report(y_actual_test_classes, y_pred_test_classes_1))"
   ]
  },
  {
   "cell_type": "markdown",
   "id": "72eb5847",
   "metadata": {
    "ExecuteTime": {
     "end_time": "2022-03-19T18:22:59.736407Z",
     "start_time": "2022-03-19T18:22:59.722690Z"
    }
   },
   "source": [
    "#### Model concept no. 2"
   ]
  },
  {
   "cell_type": "code",
   "execution_count": 42,
   "id": "bcfe8a57",
   "metadata": {
    "ExecuteTime": {
     "end_time": "2022-03-21T03:21:25.782471Z",
     "start_time": "2022-03-21T03:21:17.637944Z"
    }
   },
   "outputs": [],
   "source": [
    "y_pred_test_2 = model2.predict(X_test_norm)\n",
    "y_pred_test_classes_2 = np.argmax(y_pred_test_2, axis=-1)"
   ]
  },
  {
   "cell_type": "code",
   "execution_count": 43,
   "id": "f94c4250",
   "metadata": {
    "ExecuteTime": {
     "end_time": "2022-03-21T03:21:25.829883Z",
     "start_time": "2022-03-21T03:21:25.784465Z"
    }
   },
   "outputs": [
    {
     "data": {
      "text/html": [
       "<div>\n",
       "<style scoped>\n",
       "    .dataframe tbody tr th:only-of-type {\n",
       "        vertical-align: middle;\n",
       "    }\n",
       "\n",
       "    .dataframe tbody tr th {\n",
       "        vertical-align: top;\n",
       "    }\n",
       "\n",
       "    .dataframe thead th {\n",
       "        text-align: right;\n",
       "    }\n",
       "</style>\n",
       "<table border=\"1\" class=\"dataframe\">\n",
       "  <thead>\n",
       "    <tr style=\"text-align: right;\">\n",
       "      <th></th>\n",
       "      <th>0</th>\n",
       "      <th>1</th>\n",
       "      <th>2</th>\n",
       "      <th>3</th>\n",
       "      <th>4</th>\n",
       "      <th>5</th>\n",
       "      <th>6</th>\n",
       "      <th>7</th>\n",
       "      <th>8</th>\n",
       "      <th>9</th>\n",
       "    </tr>\n",
       "  </thead>\n",
       "  <tbody>\n",
       "    <tr>\n",
       "      <th>0</th>\n",
       "      <td>849</td>\n",
       "      <td>9</td>\n",
       "      <td>38</td>\n",
       "      <td>13</td>\n",
       "      <td>10</td>\n",
       "      <td>0</td>\n",
       "      <td>5</td>\n",
       "      <td>10</td>\n",
       "      <td>41</td>\n",
       "      <td>25</td>\n",
       "    </tr>\n",
       "    <tr>\n",
       "      <th>1</th>\n",
       "      <td>4</td>\n",
       "      <td>920</td>\n",
       "      <td>1</td>\n",
       "      <td>3</td>\n",
       "      <td>0</td>\n",
       "      <td>3</td>\n",
       "      <td>4</td>\n",
       "      <td>1</td>\n",
       "      <td>10</td>\n",
       "      <td>54</td>\n",
       "    </tr>\n",
       "    <tr>\n",
       "      <th>2</th>\n",
       "      <td>48</td>\n",
       "      <td>1</td>\n",
       "      <td>723</td>\n",
       "      <td>40</td>\n",
       "      <td>60</td>\n",
       "      <td>45</td>\n",
       "      <td>60</td>\n",
       "      <td>14</td>\n",
       "      <td>6</td>\n",
       "      <td>3</td>\n",
       "    </tr>\n",
       "    <tr>\n",
       "      <th>3</th>\n",
       "      <td>15</td>\n",
       "      <td>4</td>\n",
       "      <td>51</td>\n",
       "      <td>644</td>\n",
       "      <td>47</td>\n",
       "      <td>136</td>\n",
       "      <td>67</td>\n",
       "      <td>17</td>\n",
       "      <td>8</td>\n",
       "      <td>11</td>\n",
       "    </tr>\n",
       "    <tr>\n",
       "      <th>4</th>\n",
       "      <td>10</td>\n",
       "      <td>1</td>\n",
       "      <td>39</td>\n",
       "      <td>45</td>\n",
       "      <td>807</td>\n",
       "      <td>22</td>\n",
       "      <td>40</td>\n",
       "      <td>29</td>\n",
       "      <td>4</td>\n",
       "      <td>3</td>\n",
       "    </tr>\n",
       "    <tr>\n",
       "      <th>5</th>\n",
       "      <td>7</td>\n",
       "      <td>2</td>\n",
       "      <td>23</td>\n",
       "      <td>121</td>\n",
       "      <td>40</td>\n",
       "      <td>761</td>\n",
       "      <td>16</td>\n",
       "      <td>26</td>\n",
       "      <td>1</td>\n",
       "      <td>3</td>\n",
       "    </tr>\n",
       "    <tr>\n",
       "      <th>6</th>\n",
       "      <td>5</td>\n",
       "      <td>0</td>\n",
       "      <td>17</td>\n",
       "      <td>33</td>\n",
       "      <td>14</td>\n",
       "      <td>8</td>\n",
       "      <td>915</td>\n",
       "      <td>1</td>\n",
       "      <td>5</td>\n",
       "      <td>2</td>\n",
       "    </tr>\n",
       "    <tr>\n",
       "      <th>7</th>\n",
       "      <td>10</td>\n",
       "      <td>1</td>\n",
       "      <td>18</td>\n",
       "      <td>29</td>\n",
       "      <td>39</td>\n",
       "      <td>41</td>\n",
       "      <td>5</td>\n",
       "      <td>852</td>\n",
       "      <td>1</td>\n",
       "      <td>4</td>\n",
       "    </tr>\n",
       "    <tr>\n",
       "      <th>8</th>\n",
       "      <td>33</td>\n",
       "      <td>15</td>\n",
       "      <td>9</td>\n",
       "      <td>5</td>\n",
       "      <td>3</td>\n",
       "      <td>2</td>\n",
       "      <td>6</td>\n",
       "      <td>3</td>\n",
       "      <td>910</td>\n",
       "      <td>14</td>\n",
       "    </tr>\n",
       "    <tr>\n",
       "      <th>9</th>\n",
       "      <td>12</td>\n",
       "      <td>37</td>\n",
       "      <td>3</td>\n",
       "      <td>9</td>\n",
       "      <td>2</td>\n",
       "      <td>1</td>\n",
       "      <td>4</td>\n",
       "      <td>4</td>\n",
       "      <td>12</td>\n",
       "      <td>916</td>\n",
       "    </tr>\n",
       "  </tbody>\n",
       "</table>\n",
       "</div>"
      ],
      "text/plain": [
       "     0    1    2    3    4    5    6    7    8    9\n",
       "0  849    9   38   13   10    0    5   10   41   25\n",
       "1    4  920    1    3    0    3    4    1   10   54\n",
       "2   48    1  723   40   60   45   60   14    6    3\n",
       "3   15    4   51  644   47  136   67   17    8   11\n",
       "4   10    1   39   45  807   22   40   29    4    3\n",
       "5    7    2   23  121   40  761   16   26    1    3\n",
       "6    5    0   17   33   14    8  915    1    5    2\n",
       "7   10    1   18   29   39   41    5  852    1    4\n",
       "8   33   15    9    5    3    2    6    3  910   14\n",
       "9   12   37    3    9    2    1    4    4   12  916"
      ]
     },
     "execution_count": 43,
     "metadata": {},
     "output_type": "execute_result"
    }
   ],
   "source": [
    "pd.DataFrame(confusion_matrix(y_actual_test_classes, y_pred_test_classes_2))"
   ]
  },
  {
   "cell_type": "code",
   "execution_count": 44,
   "id": "f0e40e75",
   "metadata": {
    "ExecuteTime": {
     "end_time": "2022-03-21T03:21:25.877754Z",
     "start_time": "2022-03-21T03:21:25.832875Z"
    }
   },
   "outputs": [
    {
     "name": "stdout",
     "output_type": "stream",
     "text": [
      "              precision    recall  f1-score   support\n",
      "\n",
      "           0       0.85      0.85      0.85      1000\n",
      "           1       0.93      0.92      0.92      1000\n",
      "           2       0.78      0.72      0.75      1000\n",
      "           3       0.68      0.64      0.66      1000\n",
      "           4       0.79      0.81      0.80      1000\n",
      "           5       0.75      0.76      0.75      1000\n",
      "           6       0.82      0.92      0.86      1000\n",
      "           7       0.89      0.85      0.87      1000\n",
      "           8       0.91      0.91      0.91      1000\n",
      "           9       0.89      0.92      0.90      1000\n",
      "\n",
      "    accuracy                           0.83     10000\n",
      "   macro avg       0.83      0.83      0.83     10000\n",
      "weighted avg       0.83      0.83      0.83     10000\n",
      "\n"
     ]
    }
   ],
   "source": [
    "print(classification_report(y_actual_test_classes, y_pred_test_classes_2))"
   ]
  },
  {
   "cell_type": "markdown",
   "id": "40c54f9e",
   "metadata": {},
   "source": [
    "#### Model concept no. 3"
   ]
  },
  {
   "cell_type": "code",
   "execution_count": 45,
   "id": "c664e50d",
   "metadata": {
    "ExecuteTime": {
     "end_time": "2022-03-21T03:21:27.396294Z",
     "start_time": "2022-03-21T03:21:25.880746Z"
    }
   },
   "outputs": [],
   "source": [
    "y_pred_test_3 = model3.predict(X_test_norm)\n",
    "y_pred_test_classes_3 = np.argmax(y_pred_test_3, axis=-1)"
   ]
  },
  {
   "cell_type": "code",
   "execution_count": 46,
   "id": "c2b95b37",
   "metadata": {
    "ExecuteTime": {
     "end_time": "2022-03-21T03:21:27.428264Z",
     "start_time": "2022-03-21T03:21:27.398283Z"
    }
   },
   "outputs": [
    {
     "data": {
      "text/html": [
       "<div>\n",
       "<style scoped>\n",
       "    .dataframe tbody tr th:only-of-type {\n",
       "        vertical-align: middle;\n",
       "    }\n",
       "\n",
       "    .dataframe tbody tr th {\n",
       "        vertical-align: top;\n",
       "    }\n",
       "\n",
       "    .dataframe thead th {\n",
       "        text-align: right;\n",
       "    }\n",
       "</style>\n",
       "<table border=\"1\" class=\"dataframe\">\n",
       "  <thead>\n",
       "    <tr style=\"text-align: right;\">\n",
       "      <th></th>\n",
       "      <th>0</th>\n",
       "      <th>1</th>\n",
       "      <th>2</th>\n",
       "      <th>3</th>\n",
       "      <th>4</th>\n",
       "      <th>5</th>\n",
       "      <th>6</th>\n",
       "      <th>7</th>\n",
       "      <th>8</th>\n",
       "      <th>9</th>\n",
       "    </tr>\n",
       "  </thead>\n",
       "  <tbody>\n",
       "    <tr>\n",
       "      <th>0</th>\n",
       "      <td>669</td>\n",
       "      <td>37</td>\n",
       "      <td>72</td>\n",
       "      <td>18</td>\n",
       "      <td>19</td>\n",
       "      <td>12</td>\n",
       "      <td>15</td>\n",
       "      <td>19</td>\n",
       "      <td>106</td>\n",
       "      <td>33</td>\n",
       "    </tr>\n",
       "    <tr>\n",
       "      <th>1</th>\n",
       "      <td>36</td>\n",
       "      <td>764</td>\n",
       "      <td>3</td>\n",
       "      <td>12</td>\n",
       "      <td>8</td>\n",
       "      <td>8</td>\n",
       "      <td>20</td>\n",
       "      <td>10</td>\n",
       "      <td>28</td>\n",
       "      <td>111</td>\n",
       "    </tr>\n",
       "    <tr>\n",
       "      <th>2</th>\n",
       "      <td>75</td>\n",
       "      <td>9</td>\n",
       "      <td>402</td>\n",
       "      <td>87</td>\n",
       "      <td>140</td>\n",
       "      <td>108</td>\n",
       "      <td>98</td>\n",
       "      <td>36</td>\n",
       "      <td>27</td>\n",
       "      <td>18</td>\n",
       "    </tr>\n",
       "    <tr>\n",
       "      <th>3</th>\n",
       "      <td>24</td>\n",
       "      <td>20</td>\n",
       "      <td>66</td>\n",
       "      <td>391</td>\n",
       "      <td>76</td>\n",
       "      <td>225</td>\n",
       "      <td>114</td>\n",
       "      <td>53</td>\n",
       "      <td>19</td>\n",
       "      <td>12</td>\n",
       "    </tr>\n",
       "    <tr>\n",
       "      <th>4</th>\n",
       "      <td>39</td>\n",
       "      <td>4</td>\n",
       "      <td>90</td>\n",
       "      <td>47</td>\n",
       "      <td>538</td>\n",
       "      <td>71</td>\n",
       "      <td>93</td>\n",
       "      <td>100</td>\n",
       "      <td>12</td>\n",
       "      <td>6</td>\n",
       "    </tr>\n",
       "    <tr>\n",
       "      <th>5</th>\n",
       "      <td>10</td>\n",
       "      <td>5</td>\n",
       "      <td>65</td>\n",
       "      <td>204</td>\n",
       "      <td>75</td>\n",
       "      <td>507</td>\n",
       "      <td>43</td>\n",
       "      <td>69</td>\n",
       "      <td>10</td>\n",
       "      <td>12</td>\n",
       "    </tr>\n",
       "    <tr>\n",
       "      <th>6</th>\n",
       "      <td>2</td>\n",
       "      <td>6</td>\n",
       "      <td>41</td>\n",
       "      <td>74</td>\n",
       "      <td>66</td>\n",
       "      <td>25</td>\n",
       "      <td>763</td>\n",
       "      <td>10</td>\n",
       "      <td>8</td>\n",
       "      <td>5</td>\n",
       "    </tr>\n",
       "    <tr>\n",
       "      <th>7</th>\n",
       "      <td>24</td>\n",
       "      <td>5</td>\n",
       "      <td>29</td>\n",
       "      <td>44</td>\n",
       "      <td>74</td>\n",
       "      <td>116</td>\n",
       "      <td>18</td>\n",
       "      <td>658</td>\n",
       "      <td>1</td>\n",
       "      <td>31</td>\n",
       "    </tr>\n",
       "    <tr>\n",
       "      <th>8</th>\n",
       "      <td>99</td>\n",
       "      <td>48</td>\n",
       "      <td>22</td>\n",
       "      <td>20</td>\n",
       "      <td>12</td>\n",
       "      <td>6</td>\n",
       "      <td>9</td>\n",
       "      <td>3</td>\n",
       "      <td>739</td>\n",
       "      <td>42</td>\n",
       "    </tr>\n",
       "    <tr>\n",
       "      <th>9</th>\n",
       "      <td>38</td>\n",
       "      <td>127</td>\n",
       "      <td>9</td>\n",
       "      <td>20</td>\n",
       "      <td>7</td>\n",
       "      <td>9</td>\n",
       "      <td>16</td>\n",
       "      <td>29</td>\n",
       "      <td>51</td>\n",
       "      <td>694</td>\n",
       "    </tr>\n",
       "  </tbody>\n",
       "</table>\n",
       "</div>"
      ],
      "text/plain": [
       "     0    1    2    3    4    5    6    7    8    9\n",
       "0  669   37   72   18   19   12   15   19  106   33\n",
       "1   36  764    3   12    8    8   20   10   28  111\n",
       "2   75    9  402   87  140  108   98   36   27   18\n",
       "3   24   20   66  391   76  225  114   53   19   12\n",
       "4   39    4   90   47  538   71   93  100   12    6\n",
       "5   10    5   65  204   75  507   43   69   10   12\n",
       "6    2    6   41   74   66   25  763   10    8    5\n",
       "7   24    5   29   44   74  116   18  658    1   31\n",
       "8   99   48   22   20   12    6    9    3  739   42\n",
       "9   38  127    9   20    7    9   16   29   51  694"
      ]
     },
     "execution_count": 46,
     "metadata": {},
     "output_type": "execute_result"
    }
   ],
   "source": [
    "pd.DataFrame(confusion_matrix(y_actual_test_classes, y_pred_test_classes_3))"
   ]
  },
  {
   "cell_type": "code",
   "execution_count": 47,
   "id": "167a28fe",
   "metadata": {
    "ExecuteTime": {
     "end_time": "2022-03-21T03:21:27.507669Z",
     "start_time": "2022-03-21T03:21:27.434248Z"
    }
   },
   "outputs": [
    {
     "name": "stdout",
     "output_type": "stream",
     "text": [
      "              precision    recall  f1-score   support\n",
      "\n",
      "           0       0.66      0.67      0.66      1000\n",
      "           1       0.75      0.76      0.75      1000\n",
      "           2       0.50      0.40      0.45      1000\n",
      "           3       0.43      0.39      0.41      1000\n",
      "           4       0.53      0.54      0.53      1000\n",
      "           5       0.47      0.51      0.49      1000\n",
      "           6       0.64      0.76      0.70      1000\n",
      "           7       0.67      0.66      0.66      1000\n",
      "           8       0.74      0.74      0.74      1000\n",
      "           9       0.72      0.69      0.71      1000\n",
      "\n",
      "    accuracy                           0.61     10000\n",
      "   macro avg       0.61      0.61      0.61     10000\n",
      "weighted avg       0.61      0.61      0.61     10000\n",
      "\n"
     ]
    }
   ],
   "source": [
    "print(classification_report(y_actual_test_classes, y_pred_test_classes_3))"
   ]
  },
  {
   "cell_type": "markdown",
   "id": "63e82544",
   "metadata": {},
   "source": [
    "#### Residual Network (ResNet)"
   ]
  },
  {
   "cell_type": "code",
   "execution_count": 53,
   "id": "7a3a8ac3",
   "metadata": {
    "ExecuteTime": {
     "end_time": "2022-03-21T05:57:13.106834Z",
     "start_time": "2022-03-21T05:56:51.552484Z"
    }
   },
   "outputs": [
    {
     "name": "stdout",
     "output_type": "stream",
     "text": [
      "313/313 [==============================] - 21s 69ms/step - loss: 1.1916 - accuracy: 0.6716\n"
     ]
    },
    {
     "data": {
      "text/plain": [
       "[1.1915991306304932, 0.6715999841690063]"
      ]
     },
     "execution_count": 53,
     "metadata": {},
     "output_type": "execute_result"
    }
   ],
   "source": [
    "# TODO\n",
    "resNet.evaluate(X_test_resnet50, y_test_resnet50)"
   ]
  },
  {
   "cell_type": "code",
   "execution_count": 54,
   "id": "01c05763",
   "metadata": {
    "ExecuteTime": {
     "end_time": "2022-03-21T05:57:42.987800Z",
     "start_time": "2022-03-21T05:57:19.483184Z"
    }
   },
   "outputs": [],
   "source": [
    "y_pred_test_resnet = resNet.predict(X_test_resnet50)\n",
    "y_pred_test_classes_resnet = np.argmax(y_pred_test_resnet, axis=-1)"
   ]
  },
  {
   "cell_type": "code",
   "execution_count": 55,
   "id": "06106254",
   "metadata": {
    "ExecuteTime": {
     "end_time": "2022-03-21T05:57:44.444587Z",
     "start_time": "2022-03-21T05:57:44.418762Z"
    }
   },
   "outputs": [
    {
     "data": {
      "text/html": [
       "<div>\n",
       "<style scoped>\n",
       "    .dataframe tbody tr th:only-of-type {\n",
       "        vertical-align: middle;\n",
       "    }\n",
       "\n",
       "    .dataframe tbody tr th {\n",
       "        vertical-align: top;\n",
       "    }\n",
       "\n",
       "    .dataframe thead th {\n",
       "        text-align: right;\n",
       "    }\n",
       "</style>\n",
       "<table border=\"1\" class=\"dataframe\">\n",
       "  <thead>\n",
       "    <tr style=\"text-align: right;\">\n",
       "      <th></th>\n",
       "      <th>0</th>\n",
       "      <th>1</th>\n",
       "      <th>2</th>\n",
       "      <th>3</th>\n",
       "      <th>4</th>\n",
       "      <th>5</th>\n",
       "      <th>6</th>\n",
       "      <th>7</th>\n",
       "      <th>8</th>\n",
       "      <th>9</th>\n",
       "    </tr>\n",
       "  </thead>\n",
       "  <tbody>\n",
       "    <tr>\n",
       "      <th>0</th>\n",
       "      <td>718</td>\n",
       "      <td>32</td>\n",
       "      <td>45</td>\n",
       "      <td>11</td>\n",
       "      <td>23</td>\n",
       "      <td>9</td>\n",
       "      <td>7</td>\n",
       "      <td>17</td>\n",
       "      <td>93</td>\n",
       "      <td>45</td>\n",
       "    </tr>\n",
       "    <tr>\n",
       "      <th>1</th>\n",
       "      <td>27</td>\n",
       "      <td>736</td>\n",
       "      <td>5</td>\n",
       "      <td>14</td>\n",
       "      <td>9</td>\n",
       "      <td>20</td>\n",
       "      <td>9</td>\n",
       "      <td>11</td>\n",
       "      <td>47</td>\n",
       "      <td>122</td>\n",
       "    </tr>\n",
       "    <tr>\n",
       "      <th>2</th>\n",
       "      <td>62</td>\n",
       "      <td>12</td>\n",
       "      <td>582</td>\n",
       "      <td>54</td>\n",
       "      <td>101</td>\n",
       "      <td>53</td>\n",
       "      <td>83</td>\n",
       "      <td>33</td>\n",
       "      <td>12</td>\n",
       "      <td>8</td>\n",
       "    </tr>\n",
       "    <tr>\n",
       "      <th>3</th>\n",
       "      <td>17</td>\n",
       "      <td>32</td>\n",
       "      <td>63</td>\n",
       "      <td>492</td>\n",
       "      <td>64</td>\n",
       "      <td>170</td>\n",
       "      <td>85</td>\n",
       "      <td>41</td>\n",
       "      <td>13</td>\n",
       "      <td>23</td>\n",
       "    </tr>\n",
       "    <tr>\n",
       "      <th>4</th>\n",
       "      <td>14</td>\n",
       "      <td>3</td>\n",
       "      <td>67</td>\n",
       "      <td>56</td>\n",
       "      <td>631</td>\n",
       "      <td>46</td>\n",
       "      <td>84</td>\n",
       "      <td>80</td>\n",
       "      <td>13</td>\n",
       "      <td>6</td>\n",
       "    </tr>\n",
       "    <tr>\n",
       "      <th>5</th>\n",
       "      <td>7</td>\n",
       "      <td>14</td>\n",
       "      <td>45</td>\n",
       "      <td>160</td>\n",
       "      <td>53</td>\n",
       "      <td>611</td>\n",
       "      <td>45</td>\n",
       "      <td>52</td>\n",
       "      <td>4</td>\n",
       "      <td>9</td>\n",
       "    </tr>\n",
       "    <tr>\n",
       "      <th>6</th>\n",
       "      <td>10</td>\n",
       "      <td>12</td>\n",
       "      <td>60</td>\n",
       "      <td>55</td>\n",
       "      <td>66</td>\n",
       "      <td>47</td>\n",
       "      <td>730</td>\n",
       "      <td>7</td>\n",
       "      <td>6</td>\n",
       "      <td>7</td>\n",
       "    </tr>\n",
       "    <tr>\n",
       "      <th>7</th>\n",
       "      <td>23</td>\n",
       "      <td>16</td>\n",
       "      <td>24</td>\n",
       "      <td>50</td>\n",
       "      <td>63</td>\n",
       "      <td>66</td>\n",
       "      <td>15</td>\n",
       "      <td>708</td>\n",
       "      <td>9</td>\n",
       "      <td>26</td>\n",
       "    </tr>\n",
       "    <tr>\n",
       "      <th>8</th>\n",
       "      <td>72</td>\n",
       "      <td>52</td>\n",
       "      <td>19</td>\n",
       "      <td>10</td>\n",
       "      <td>13</td>\n",
       "      <td>8</td>\n",
       "      <td>0</td>\n",
       "      <td>6</td>\n",
       "      <td>772</td>\n",
       "      <td>48</td>\n",
       "    </tr>\n",
       "    <tr>\n",
       "      <th>9</th>\n",
       "      <td>45</td>\n",
       "      <td>108</td>\n",
       "      <td>1</td>\n",
       "      <td>15</td>\n",
       "      <td>9</td>\n",
       "      <td>12</td>\n",
       "      <td>8</td>\n",
       "      <td>23</td>\n",
       "      <td>43</td>\n",
       "      <td>736</td>\n",
       "    </tr>\n",
       "  </tbody>\n",
       "</table>\n",
       "</div>"
      ],
      "text/plain": [
       "     0    1    2    3    4    5    6    7    8    9\n",
       "0  718   32   45   11   23    9    7   17   93   45\n",
       "1   27  736    5   14    9   20    9   11   47  122\n",
       "2   62   12  582   54  101   53   83   33   12    8\n",
       "3   17   32   63  492   64  170   85   41   13   23\n",
       "4   14    3   67   56  631   46   84   80   13    6\n",
       "5    7   14   45  160   53  611   45   52    4    9\n",
       "6   10   12   60   55   66   47  730    7    6    7\n",
       "7   23   16   24   50   63   66   15  708    9   26\n",
       "8   72   52   19   10   13    8    0    6  772   48\n",
       "9   45  108    1   15    9   12    8   23   43  736"
      ]
     },
     "execution_count": 55,
     "metadata": {},
     "output_type": "execute_result"
    }
   ],
   "source": [
    "pd.DataFrame(confusion_matrix(y_actual_test_classes, y_pred_test_classes_resnet))"
   ]
  },
  {
   "cell_type": "code",
   "execution_count": 56,
   "id": "0ae80aa5",
   "metadata": {
    "ExecuteTime": {
     "end_time": "2022-03-21T05:57:59.517100Z",
     "start_time": "2022-03-21T05:57:59.487180Z"
    }
   },
   "outputs": [
    {
     "name": "stdout",
     "output_type": "stream",
     "text": [
      "              precision    recall  f1-score   support\n",
      "\n",
      "           0       0.72      0.72      0.72      1000\n",
      "           1       0.72      0.74      0.73      1000\n",
      "           2       0.64      0.58      0.61      1000\n",
      "           3       0.54      0.49      0.51      1000\n",
      "           4       0.61      0.63      0.62      1000\n",
      "           5       0.59      0.61      0.60      1000\n",
      "           6       0.68      0.73      0.71      1000\n",
      "           7       0.72      0.71      0.72      1000\n",
      "           8       0.76      0.77      0.77      1000\n",
      "           9       0.71      0.74      0.73      1000\n",
      "\n",
      "    accuracy                           0.67     10000\n",
      "   macro avg       0.67      0.67      0.67     10000\n",
      "weighted avg       0.67      0.67      0.67     10000\n",
      "\n"
     ]
    }
   ],
   "source": [
    "print(classification_report(y_actual_test_classes, y_pred_test_classes_resnet))"
   ]
  },
  {
   "cell_type": "markdown",
   "id": "c50f43d2",
   "metadata": {},
   "source": [
    "#### VGG16"
   ]
  },
  {
   "cell_type": "code",
   "execution_count": 21,
   "id": "f16436ee",
   "metadata": {
    "ExecuteTime": {
     "end_time": "2022-03-21T11:54:41.447202Z",
     "start_time": "2022-03-21T11:53:46.847943Z"
    }
   },
   "outputs": [
    {
     "name": "stdout",
     "output_type": "stream",
     "text": [
      "313/313 [==============================] - 54s 172ms/step - loss: nan - accuracy: 0.1000\n"
     ]
    },
    {
     "data": {
      "text/plain": [
       "[nan, 0.10000000149011612]"
      ]
     },
     "execution_count": 21,
     "metadata": {},
     "output_type": "execute_result"
    }
   ],
   "source": [
    "# TODO\n",
    "vggNet.evaluate(X_test_vgg16, y_test_vgg16)"
   ]
  },
  {
   "cell_type": "code",
   "execution_count": 22,
   "id": "5fa8ff0c",
   "metadata": {
    "ExecuteTime": {
     "end_time": "2022-03-21T11:55:28.201168Z",
     "start_time": "2022-03-21T11:54:41.451190Z"
    }
   },
   "outputs": [],
   "source": [
    "y_pred_test_vgg16 = vggNet.predict(X_test_vgg16)\n",
    "y_pred_test_classes_vgg16 = np.argmax(y_pred_test_vgg16, axis=-1)"
   ]
  },
  {
   "cell_type": "code",
   "execution_count": 28,
   "id": "489c3a73",
   "metadata": {
    "ExecuteTime": {
     "end_time": "2022-03-21T11:59:02.838347Z",
     "start_time": "2022-03-21T11:59:02.784856Z"
    }
   },
   "outputs": [
    {
     "data": {
      "text/html": [
       "<div>\n",
       "<style scoped>\n",
       "    .dataframe tbody tr th:only-of-type {\n",
       "        vertical-align: middle;\n",
       "    }\n",
       "\n",
       "    .dataframe tbody tr th {\n",
       "        vertical-align: top;\n",
       "    }\n",
       "\n",
       "    .dataframe thead th {\n",
       "        text-align: right;\n",
       "    }\n",
       "</style>\n",
       "<table border=\"1\" class=\"dataframe\">\n",
       "  <thead>\n",
       "    <tr style=\"text-align: right;\">\n",
       "      <th></th>\n",
       "      <th>0</th>\n",
       "      <th>1</th>\n",
       "      <th>2</th>\n",
       "      <th>3</th>\n",
       "      <th>4</th>\n",
       "      <th>5</th>\n",
       "      <th>6</th>\n",
       "      <th>7</th>\n",
       "      <th>8</th>\n",
       "      <th>9</th>\n",
       "    </tr>\n",
       "  </thead>\n",
       "  <tbody>\n",
       "    <tr>\n",
       "      <th>0</th>\n",
       "      <td>1000</td>\n",
       "      <td>0</td>\n",
       "      <td>0</td>\n",
       "      <td>0</td>\n",
       "      <td>0</td>\n",
       "      <td>0</td>\n",
       "      <td>0</td>\n",
       "      <td>0</td>\n",
       "      <td>0</td>\n",
       "      <td>0</td>\n",
       "    </tr>\n",
       "    <tr>\n",
       "      <th>1</th>\n",
       "      <td>1000</td>\n",
       "      <td>0</td>\n",
       "      <td>0</td>\n",
       "      <td>0</td>\n",
       "      <td>0</td>\n",
       "      <td>0</td>\n",
       "      <td>0</td>\n",
       "      <td>0</td>\n",
       "      <td>0</td>\n",
       "      <td>0</td>\n",
       "    </tr>\n",
       "    <tr>\n",
       "      <th>2</th>\n",
       "      <td>1000</td>\n",
       "      <td>0</td>\n",
       "      <td>0</td>\n",
       "      <td>0</td>\n",
       "      <td>0</td>\n",
       "      <td>0</td>\n",
       "      <td>0</td>\n",
       "      <td>0</td>\n",
       "      <td>0</td>\n",
       "      <td>0</td>\n",
       "    </tr>\n",
       "    <tr>\n",
       "      <th>3</th>\n",
       "      <td>1000</td>\n",
       "      <td>0</td>\n",
       "      <td>0</td>\n",
       "      <td>0</td>\n",
       "      <td>0</td>\n",
       "      <td>0</td>\n",
       "      <td>0</td>\n",
       "      <td>0</td>\n",
       "      <td>0</td>\n",
       "      <td>0</td>\n",
       "    </tr>\n",
       "    <tr>\n",
       "      <th>4</th>\n",
       "      <td>1000</td>\n",
       "      <td>0</td>\n",
       "      <td>0</td>\n",
       "      <td>0</td>\n",
       "      <td>0</td>\n",
       "      <td>0</td>\n",
       "      <td>0</td>\n",
       "      <td>0</td>\n",
       "      <td>0</td>\n",
       "      <td>0</td>\n",
       "    </tr>\n",
       "    <tr>\n",
       "      <th>5</th>\n",
       "      <td>1000</td>\n",
       "      <td>0</td>\n",
       "      <td>0</td>\n",
       "      <td>0</td>\n",
       "      <td>0</td>\n",
       "      <td>0</td>\n",
       "      <td>0</td>\n",
       "      <td>0</td>\n",
       "      <td>0</td>\n",
       "      <td>0</td>\n",
       "    </tr>\n",
       "    <tr>\n",
       "      <th>6</th>\n",
       "      <td>1000</td>\n",
       "      <td>0</td>\n",
       "      <td>0</td>\n",
       "      <td>0</td>\n",
       "      <td>0</td>\n",
       "      <td>0</td>\n",
       "      <td>0</td>\n",
       "      <td>0</td>\n",
       "      <td>0</td>\n",
       "      <td>0</td>\n",
       "    </tr>\n",
       "    <tr>\n",
       "      <th>7</th>\n",
       "      <td>1000</td>\n",
       "      <td>0</td>\n",
       "      <td>0</td>\n",
       "      <td>0</td>\n",
       "      <td>0</td>\n",
       "      <td>0</td>\n",
       "      <td>0</td>\n",
       "      <td>0</td>\n",
       "      <td>0</td>\n",
       "      <td>0</td>\n",
       "    </tr>\n",
       "    <tr>\n",
       "      <th>8</th>\n",
       "      <td>1000</td>\n",
       "      <td>0</td>\n",
       "      <td>0</td>\n",
       "      <td>0</td>\n",
       "      <td>0</td>\n",
       "      <td>0</td>\n",
       "      <td>0</td>\n",
       "      <td>0</td>\n",
       "      <td>0</td>\n",
       "      <td>0</td>\n",
       "    </tr>\n",
       "    <tr>\n",
       "      <th>9</th>\n",
       "      <td>1000</td>\n",
       "      <td>0</td>\n",
       "      <td>0</td>\n",
       "      <td>0</td>\n",
       "      <td>0</td>\n",
       "      <td>0</td>\n",
       "      <td>0</td>\n",
       "      <td>0</td>\n",
       "      <td>0</td>\n",
       "      <td>0</td>\n",
       "    </tr>\n",
       "  </tbody>\n",
       "</table>\n",
       "</div>"
      ],
      "text/plain": [
       "      0  1  2  3  4  5  6  7  8  9\n",
       "0  1000  0  0  0  0  0  0  0  0  0\n",
       "1  1000  0  0  0  0  0  0  0  0  0\n",
       "2  1000  0  0  0  0  0  0  0  0  0\n",
       "3  1000  0  0  0  0  0  0  0  0  0\n",
       "4  1000  0  0  0  0  0  0  0  0  0\n",
       "5  1000  0  0  0  0  0  0  0  0  0\n",
       "6  1000  0  0  0  0  0  0  0  0  0\n",
       "7  1000  0  0  0  0  0  0  0  0  0\n",
       "8  1000  0  0  0  0  0  0  0  0  0\n",
       "9  1000  0  0  0  0  0  0  0  0  0"
      ]
     },
     "execution_count": 28,
     "metadata": {},
     "output_type": "execute_result"
    }
   ],
   "source": [
    "pd.DataFrame(confusion_matrix(y_actual_test_classes, y_pred_test_classes_vgg16))"
   ]
  },
  {
   "cell_type": "code",
   "execution_count": 29,
   "id": "39f4a610",
   "metadata": {
    "ExecuteTime": {
     "end_time": "2022-03-21T11:59:04.590862Z",
     "start_time": "2022-03-21T11:59:04.553344Z"
    }
   },
   "outputs": [
    {
     "name": "stdout",
     "output_type": "stream",
     "text": [
      "              precision    recall  f1-score   support\n",
      "\n",
      "           0       0.10      1.00      0.18      1000\n",
      "           1       0.00      0.00      0.00      1000\n",
      "           2       0.00      0.00      0.00      1000\n",
      "           3       0.00      0.00      0.00      1000\n",
      "           4       0.00      0.00      0.00      1000\n",
      "           5       0.00      0.00      0.00      1000\n",
      "           6       0.00      0.00      0.00      1000\n",
      "           7       0.00      0.00      0.00      1000\n",
      "           8       0.00      0.00      0.00      1000\n",
      "           9       0.00      0.00      0.00      1000\n",
      "\n",
      "    accuracy                           0.10     10000\n",
      "   macro avg       0.01      0.10      0.02     10000\n",
      "weighted avg       0.01      0.10      0.02     10000\n",
      "\n"
     ]
    },
    {
     "name": "stderr",
     "output_type": "stream",
     "text": [
      "C:\\Users\\ejowik001\\Anaconda3\\lib\\site-packages\\sklearn\\metrics\\_classification.py:1318: UndefinedMetricWarning: Precision and F-score are ill-defined and being set to 0.0 in labels with no predicted samples. Use `zero_division` parameter to control this behavior.\n",
      "  _warn_prf(average, modifier, msg_start, len(result))\n",
      "C:\\Users\\ejowik001\\Anaconda3\\lib\\site-packages\\sklearn\\metrics\\_classification.py:1318: UndefinedMetricWarning: Precision and F-score are ill-defined and being set to 0.0 in labels with no predicted samples. Use `zero_division` parameter to control this behavior.\n",
      "  _warn_prf(average, modifier, msg_start, len(result))\n",
      "C:\\Users\\ejowik001\\Anaconda3\\lib\\site-packages\\sklearn\\metrics\\_classification.py:1318: UndefinedMetricWarning: Precision and F-score are ill-defined and being set to 0.0 in labels with no predicted samples. Use `zero_division` parameter to control this behavior.\n",
      "  _warn_prf(average, modifier, msg_start, len(result))\n"
     ]
    }
   ],
   "source": [
    "print(classification_report(y_actual_test_classes, y_pred_test_classes_vgg16))"
   ]
  }
 ],
 "metadata": {
  "kernelspec": {
   "display_name": "Python 3",
   "language": "python",
   "name": "python3"
  },
  "language_info": {
   "codemirror_mode": {
    "name": "ipython",
    "version": 3
   },
   "file_extension": ".py",
   "mimetype": "text/x-python",
   "name": "python",
   "nbconvert_exporter": "python",
   "pygments_lexer": "ipython3",
   "version": "3.8.8"
  }
 },
 "nbformat": 4,
 "nbformat_minor": 5
}
