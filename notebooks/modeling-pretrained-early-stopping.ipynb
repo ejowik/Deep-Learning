{
 "cells": [
  {
   "cell_type": "code",
   "execution_count": 1,
   "id": "286fa481",
   "metadata": {
    "ExecuteTime": {
     "end_time": "2022-04-07T16:45:39.834416Z",
     "start_time": "2022-04-07T16:45:20.290859Z"
    }
   },
   "outputs": [],
   "source": [
    "import pandas as pd\n",
    "import keras\n",
    "import numpy as np\n",
    "\n",
    "# Import CIFAR 10 dataset\n",
    "from keras.datasets import cifar10\n",
    "\n",
    "from keras.preprocessing.image import ImageDataGenerator\n",
    "\n",
    "# Import Necessary CNN Building Blocks\n",
    "from keras.models import Sequential, Model\n",
    "from keras.layers import Conv2D, MaxPooling2D, Flatten, Dense, Activation, Dropout, MaxPool2D, BatchNormalization, GlobalAveragePooling2D, UpSampling2D\n",
    "from keras.layers.advanced_activations import LeakyReLU\n",
    "\n",
    "from keras import backend as K\n",
    "from keras import applications\n",
    "from keras import callbacks\n",
    "from keras import optimizers\n",
    "from keras.utils import np_utils\n",
    "import random\n",
    "\n",
    "import tensorflow as tf\n",
    "import tensorflow_addons as tfa\n",
    "\n",
    "from sklearn.metrics import classification_report, confusion_matrix\n",
    "from tensorflow.keras.callbacks import EarlyStopping\n",
    "\n",
    "import seaborn as sns\n",
    "import matplotlib.pyplot as plt\n",
    "\n",
    "sns.set_style('whitegrid')\n",
    "plt.rcParams[\"figure.figsize\"] = 9,6"
   ]
  },
  {
   "cell_type": "code",
   "execution_count": 2,
   "id": "55fa4f03",
   "metadata": {
    "ExecuteTime": {
     "end_time": "2022-04-07T16:45:39.843533Z",
     "start_time": "2022-04-07T16:45:39.835517Z"
    }
   },
   "outputs": [],
   "source": [
    "# Requirements:\n",
    "# !pip install keras\n",
    "# !pip install tensorflow\n",
    "# !pip install keras\n",
    "# !pip install tensorflow_addons"
   ]
  },
  {
   "cell_type": "markdown",
   "id": "1584ee76",
   "metadata": {},
   "source": [
    "# <span style='font-family:Georgia'> Data loading & preparation"
   ]
  },
  {
   "cell_type": "code",
   "execution_count": 3,
   "id": "01100192",
   "metadata": {
    "ExecuteTime": {
     "end_time": "2022-04-07T06:07:23.366844Z",
     "start_time": "2022-04-07T06:07:22.498671Z"
    }
   },
   "outputs": [
    {
     "name": "stdout",
     "output_type": "stream",
     "text": [
      "x_train shape: (50000, 32, 32, 3)\n",
      "y_train shape: (50000, 1)\n",
      "50000 train samples\n",
      "10000 test samples\n"
     ]
    }
   ],
   "source": [
    "# Load Dataset\n",
    "(X_train, y_train), (X_test, y_test) = cifar10.load_data()\n",
    "\n",
    "BATCH_SIZE = 32\n",
    "INPUT_SHAPE = X_train.shape[1:]\n",
    "NUM_CLASSES = 10\n",
    "\n",
    "print('x_train shape:', X_train.shape)\n",
    "print('y_train shape:', y_train.shape)\n",
    "print(X_train.shape[0], 'train samples')\n",
    "print(X_test.shape[0], 'test samples')"
   ]
  },
  {
   "cell_type": "code",
   "execution_count": 4,
   "id": "d28d5f73",
   "metadata": {
    "ExecuteTime": {
     "end_time": "2022-04-07T06:07:24.000141Z",
     "start_time": "2022-04-07T06:07:23.368839Z"
    }
   },
   "outputs": [],
   "source": [
    "# Normalize input data\n",
    "X_train = X_train.astype('float32')/255\n",
    "X_test = X_test.astype('float32')/255\n",
    "\n",
    "# Encode target variable\n",
    "y_train = tf.keras.utils.to_categorical(y_train, NUM_CLASSES)\n",
    "y_test_ohe = tf.keras.utils.to_categorical(y_test, NUM_CLASSES)"
   ]
  },
  {
   "cell_type": "markdown",
   "id": "42d744b1",
   "metadata": {},
   "source": [
    "# <span style='font-family:Georgia'> Deep Learning pretrained models fitting with early stopping"
   ]
  },
  {
   "cell_type": "code",
   "execution_count": 5,
   "id": "92897d7f",
   "metadata": {
    "ExecuteTime": {
     "end_time": "2022-04-07T06:07:24.015124Z",
     "start_time": "2022-04-07T06:07:24.003153Z"
    }
   },
   "outputs": [],
   "source": [
    "early_stopping = EarlyStopping()"
   ]
  },
  {
   "cell_type": "markdown",
   "id": "ebefd28d",
   "metadata": {},
   "source": [
    "## <span style='font-family:Georgia'> Residual Network (ResNet)"
   ]
  },
  {
   "cell_type": "code",
   "execution_count": 6,
   "id": "53e7215c",
   "metadata": {
    "ExecuteTime": {
     "end_time": "2022-04-07T06:07:24.030436Z",
     "start_time": "2022-04-07T06:07:24.018115Z"
    }
   },
   "outputs": [],
   "source": [
    "LR = 2e-5\n",
    "EPOCHS=10\n",
    "INPUT_SHAPE = X_train.shape[1:]"
   ]
  },
  {
   "cell_type": "code",
   "execution_count": 7,
   "id": "ac651d83",
   "metadata": {
    "ExecuteTime": {
     "end_time": "2022-04-07T06:07:24.061921Z",
     "start_time": "2022-04-07T06:07:24.031453Z"
    }
   },
   "outputs": [],
   "source": [
    "input_tensor=tf.keras.Input(shape=INPUT_SHAPE)"
   ]
  },
  {
   "cell_type": "code",
   "execution_count": 8,
   "id": "30f4b266",
   "metadata": {
    "ExecuteTime": {
     "end_time": "2022-04-07T06:07:26.126340Z",
     "start_time": "2022-04-07T06:07:24.064917Z"
    }
   },
   "outputs": [],
   "source": [
    "res_base = tf.keras.applications.resnet50.ResNet50(weights='imagenet', include_top=False, input_tensor=input_tensor)\n",
    "    \n",
    "resNet = Sequential()\n",
    "resNet.add(res_base)\n",
    "resNet.add(tf.keras.layers.Flatten())\n",
    "resNet.add(tf.keras.layers.Dense(NUM_CLASSES, activation='softmax'))"
   ]
  },
  {
   "cell_type": "code",
   "execution_count": 9,
   "id": "d1a21ecf",
   "metadata": {
    "ExecuteTime": {
     "end_time": "2022-04-07T06:07:26.142306Z",
     "start_time": "2022-04-07T06:07:26.128338Z"
    }
   },
   "outputs": [],
   "source": [
    "resNet.compile(loss='categorical_crossentropy',\n",
    "               optimizer=tf.keras.optimizers.RMSprop(learning_rate=LR),\n",
    "               metrics=['accuracy'])"
   ]
  },
  {
   "cell_type": "code",
   "execution_count": 10,
   "id": "65bbb239",
   "metadata": {
    "ExecuteTime": {
     "end_time": "2022-04-07T06:07:26.188692Z",
     "start_time": "2022-04-07T06:07:26.143303Z"
    },
    "scrolled": true
   },
   "outputs": [
    {
     "name": "stdout",
     "output_type": "stream",
     "text": [
      "Model: \"sequential\"\n",
      "_________________________________________________________________\n",
      " Layer (type)                Output Shape              Param #   \n",
      "=================================================================\n",
      " resnet50 (Functional)       (None, 1, 1, 2048)        23587712  \n",
      "                                                                 \n",
      " flatten (Flatten)           (None, 2048)              0         \n",
      "                                                                 \n",
      " dense (Dense)               (None, 10)                20490     \n",
      "                                                                 \n",
      "=================================================================\n",
      "Total params: 23,608,202\n",
      "Trainable params: 23,555,082\n",
      "Non-trainable params: 53,120\n",
      "_________________________________________________________________\n"
     ]
    }
   ],
   "source": [
    "resNet.summary()"
   ]
  },
  {
   "cell_type": "code",
   "execution_count": 11,
   "id": "7dc5b755",
   "metadata": {
    "ExecuteTime": {
     "end_time": "2022-04-07T07:04:47.133864Z",
     "start_time": "2022-04-07T06:07:26.189656Z"
    },
    "scrolled": false
   },
   "outputs": [
    {
     "name": "stdout",
     "output_type": "stream",
     "text": [
      "Epoch 1/10\n",
      "1563/1563 [==============================] - 1742s 1s/step - loss: 1.8825 - accuracy: 0.4032 - val_loss: 1.3141 - val_accuracy: 0.5806\n",
      "Epoch 2/10\n",
      "1563/1563 [==============================] - 1699s 1s/step - loss: 1.0816 - accuracy: 0.6350 - val_loss: 1.0139 - val_accuracy: 0.6806\n"
     ]
    },
    {
     "data": {
      "text/plain": [
       "<keras.callbacks.History at 0x1dc4d906a60>"
      ]
     },
     "execution_count": 11,
     "metadata": {},
     "output_type": "execute_result"
    }
   ],
   "source": [
    "resNet.fit(X_train,\n",
    "           y_train,\n",
    "           batch_size=BATCH_SIZE,\n",
    "           epochs=EPOCHS,\n",
    "           shuffle=True,\n",
    "           verbose=1,\n",
    "           validation_data=(X_test, y_test_ohe),\n",
    "           callbacks=[early_stopping]\n",
    "          )"
   ]
  },
  {
   "cell_type": "markdown",
   "id": "2430ebef",
   "metadata": {},
   "source": [
    "## <span style='font-family:Georgia'> VGG16"
   ]
  },
  {
   "cell_type": "code",
   "execution_count": 12,
   "id": "caa4e57f",
   "metadata": {
    "ExecuteTime": {
     "end_time": "2022-04-07T07:04:47.149709Z",
     "start_time": "2022-04-07T07:04:47.135858Z"
    }
   },
   "outputs": [],
   "source": [
    "EPOCHS=10\n",
    "BATCH_SIZE = 32\n",
    "LR=1e-3\n",
    "MOMENTUM=0.9\n",
    "INPUT_SHAPE = X_train.shape[1:]"
   ]
  },
  {
   "cell_type": "code",
   "execution_count": 13,
   "id": "1e574e2a",
   "metadata": {
    "ExecuteTime": {
     "end_time": "2022-04-07T07:04:47.638963Z",
     "start_time": "2022-04-07T07:04:47.151704Z"
    }
   },
   "outputs": [
    {
     "name": "stdout",
     "output_type": "stream",
     "text": [
      "Model: \"sequential_1\"\n",
      "_________________________________________________________________\n",
      " Layer (type)                Output Shape              Param #   \n",
      "=================================================================\n",
      " vgg16 (Functional)          (None, 1, 1, 512)         14714688  \n",
      "                                                                 \n",
      " flatten_1 (Flatten)         (None, 512)               0         \n",
      "                                                                 \n",
      " dense_1 (Dense)             (None, 10)                5130      \n",
      "                                                                 \n",
      "=================================================================\n",
      "Total params: 14,719,818\n",
      "Trainable params: 14,719,818\n",
      "Non-trainable params: 0\n",
      "_________________________________________________________________\n"
     ]
    }
   ],
   "source": [
    "vgg_base = tf.keras.applications.vgg16.VGG16(include_top=False,weights='imagenet',input_shape=INPUT_SHAPE)\n",
    "\n",
    "vgg = Sequential()\n",
    "vgg.add(vgg_base)\n",
    "vgg.add(Flatten()) \n",
    "vgg.add(Dense(NUM_CLASSES, activation=('softmax')))\n",
    "vgg.summary()"
   ]
  },
  {
   "cell_type": "code",
   "execution_count": 14,
   "id": "4276049a",
   "metadata": {
    "ExecuteTime": {
     "end_time": "2022-04-07T07:04:47.660020Z",
     "start_time": "2022-04-07T07:04:47.640958Z"
    }
   },
   "outputs": [],
   "source": [
    "vgg.compile(loss='binary_crossentropy',\n",
    "            optimizer=tf.keras.optimizers.SGD(learning_rate=LR, momentum=MOMENTUM),\n",
    "            metrics=['accuracy'])"
   ]
  },
  {
   "cell_type": "code",
   "execution_count": 15,
   "id": "8395fe05",
   "metadata": {
    "ExecuteTime": {
     "end_time": "2022-04-07T07:54:54.250775Z",
     "start_time": "2022-04-07T07:04:47.661078Z"
    }
   },
   "outputs": [
    {
     "name": "stdout",
     "output_type": "stream",
     "text": [
      "Epoch 1/10\n",
      "1562/1562 [==============================] - 1513s 968ms/step - loss: 0.1810 - accuracy: 0.6177 - val_loss: 0.1450 - val_accuracy: 0.6959\n",
      "Epoch 2/10\n",
      "1562/1562 [==============================] - 1493s 956ms/step - loss: 0.1211 - accuracy: 0.7545 - val_loss: 0.1138 - val_accuracy: 0.7726\n"
     ]
    }
   ],
   "source": [
    "vgg_history = (\n",
    "    vgg.fit(X_train,\n",
    "            y_train, \n",
    "            batch_size=BATCH_SIZE,\n",
    "            epochs=EPOCHS,\n",
    "            steps_per_epoch=X_train.shape[0]//BATCH_SIZE,\n",
    "            validation_data=(X_test, y_test_ohe),\n",
    "            validation_steps=X_test.shape[0]//BATCH_SIZE,\n",
    "            verbose=1,\n",
    "            callbacks=[early_stopping]\n",
    "           )\n",
    ")"
   ]
  },
  {
   "cell_type": "markdown",
   "id": "ef3da1b9",
   "metadata": {
    "ExecuteTime": {
     "end_time": "2022-03-19T18:22:56.487259Z",
     "start_time": "2022-03-19T18:22:56.483638Z"
    }
   },
   "source": [
    "# <span style='font-family:Georgia'> Models Evaluation"
   ]
  },
  {
   "cell_type": "markdown",
   "id": "63e82544",
   "metadata": {},
   "source": [
    "## <span style='font-family:Georgia'> Residual Network (ResNet)"
   ]
  },
  {
   "cell_type": "code",
   "execution_count": 16,
   "id": "7a3a8ac3",
   "metadata": {
    "ExecuteTime": {
     "end_time": "2022-04-07T07:55:14.431246Z",
     "start_time": "2022-04-07T07:54:54.250775Z"
    }
   },
   "outputs": [
    {
     "name": "stdout",
     "output_type": "stream",
     "text": [
      "313/313 [==============================] - 20s 64ms/step - loss: 1.0139 - accuracy: 0.6806\n"
     ]
    },
    {
     "data": {
      "text/plain": [
       "[1.0138516426086426, 0.6805999875068665]"
      ]
     },
     "execution_count": 16,
     "metadata": {},
     "output_type": "execute_result"
    }
   ],
   "source": [
    "resNet.evaluate(X_test, y_test_ohe)"
   ]
  },
  {
   "cell_type": "code",
   "execution_count": 17,
   "id": "01c05763",
   "metadata": {
    "ExecuteTime": {
     "end_time": "2022-04-07T07:55:36.191552Z",
     "start_time": "2022-04-07T07:55:14.432245Z"
    }
   },
   "outputs": [],
   "source": [
    "y_pred_resnet = resNet.predict(X_test)"
   ]
  },
  {
   "cell_type": "code",
   "execution_count": 18,
   "id": "2add4dfd",
   "metadata": {
    "ExecuteTime": {
     "end_time": "2022-04-07T07:55:36.211358Z",
     "start_time": "2022-04-07T07:55:36.191552Z"
    }
   },
   "outputs": [],
   "source": [
    "y_pred_resnet_classes = np.argmax(y_pred_resnet, axis=-1)"
   ]
  },
  {
   "cell_type": "code",
   "execution_count": 19,
   "id": "06106254",
   "metadata": {
    "ExecuteTime": {
     "end_time": "2022-04-07T07:55:36.259009Z",
     "start_time": "2022-04-07T07:55:36.214350Z"
    }
   },
   "outputs": [
    {
     "data": {
      "text/html": [
       "<div>\n",
       "<style scoped>\n",
       "    .dataframe tbody tr th:only-of-type {\n",
       "        vertical-align: middle;\n",
       "    }\n",
       "\n",
       "    .dataframe tbody tr th {\n",
       "        vertical-align: top;\n",
       "    }\n",
       "\n",
       "    .dataframe thead th {\n",
       "        text-align: right;\n",
       "    }\n",
       "</style>\n",
       "<table border=\"1\" class=\"dataframe\">\n",
       "  <thead>\n",
       "    <tr style=\"text-align: right;\">\n",
       "      <th></th>\n",
       "      <th>0</th>\n",
       "      <th>1</th>\n",
       "      <th>2</th>\n",
       "      <th>3</th>\n",
       "      <th>4</th>\n",
       "      <th>5</th>\n",
       "      <th>6</th>\n",
       "      <th>7</th>\n",
       "      <th>8</th>\n",
       "      <th>9</th>\n",
       "    </tr>\n",
       "  </thead>\n",
       "  <tbody>\n",
       "    <tr>\n",
       "      <th>0</th>\n",
       "      <td>702</td>\n",
       "      <td>27</td>\n",
       "      <td>59</td>\n",
       "      <td>25</td>\n",
       "      <td>16</td>\n",
       "      <td>3</td>\n",
       "      <td>10</td>\n",
       "      <td>10</td>\n",
       "      <td>110</td>\n",
       "      <td>38</td>\n",
       "    </tr>\n",
       "    <tr>\n",
       "      <th>1</th>\n",
       "      <td>32</td>\n",
       "      <td>780</td>\n",
       "      <td>5</td>\n",
       "      <td>9</td>\n",
       "      <td>5</td>\n",
       "      <td>3</td>\n",
       "      <td>8</td>\n",
       "      <td>7</td>\n",
       "      <td>35</td>\n",
       "      <td>116</td>\n",
       "    </tr>\n",
       "    <tr>\n",
       "      <th>2</th>\n",
       "      <td>53</td>\n",
       "      <td>11</td>\n",
       "      <td>587</td>\n",
       "      <td>70</td>\n",
       "      <td>93</td>\n",
       "      <td>65</td>\n",
       "      <td>63</td>\n",
       "      <td>30</td>\n",
       "      <td>23</td>\n",
       "      <td>5</td>\n",
       "    </tr>\n",
       "    <tr>\n",
       "      <th>3</th>\n",
       "      <td>12</td>\n",
       "      <td>16</td>\n",
       "      <td>63</td>\n",
       "      <td>530</td>\n",
       "      <td>62</td>\n",
       "      <td>165</td>\n",
       "      <td>74</td>\n",
       "      <td>40</td>\n",
       "      <td>14</td>\n",
       "      <td>24</td>\n",
       "    </tr>\n",
       "    <tr>\n",
       "      <th>4</th>\n",
       "      <td>24</td>\n",
       "      <td>7</td>\n",
       "      <td>87</td>\n",
       "      <td>55</td>\n",
       "      <td>585</td>\n",
       "      <td>33</td>\n",
       "      <td>53</td>\n",
       "      <td>106</td>\n",
       "      <td>41</td>\n",
       "      <td>9</td>\n",
       "    </tr>\n",
       "    <tr>\n",
       "      <th>5</th>\n",
       "      <td>14</td>\n",
       "      <td>8</td>\n",
       "      <td>53</td>\n",
       "      <td>197</td>\n",
       "      <td>52</td>\n",
       "      <td>572</td>\n",
       "      <td>28</td>\n",
       "      <td>59</td>\n",
       "      <td>5</td>\n",
       "      <td>12</td>\n",
       "    </tr>\n",
       "    <tr>\n",
       "      <th>6</th>\n",
       "      <td>10</td>\n",
       "      <td>10</td>\n",
       "      <td>49</td>\n",
       "      <td>75</td>\n",
       "      <td>56</td>\n",
       "      <td>34</td>\n",
       "      <td>738</td>\n",
       "      <td>9</td>\n",
       "      <td>7</td>\n",
       "      <td>12</td>\n",
       "    </tr>\n",
       "    <tr>\n",
       "      <th>7</th>\n",
       "      <td>22</td>\n",
       "      <td>7</td>\n",
       "      <td>37</td>\n",
       "      <td>57</td>\n",
       "      <td>55</td>\n",
       "      <td>65</td>\n",
       "      <td>9</td>\n",
       "      <td>718</td>\n",
       "      <td>5</td>\n",
       "      <td>25</td>\n",
       "    </tr>\n",
       "    <tr>\n",
       "      <th>8</th>\n",
       "      <td>76</td>\n",
       "      <td>46</td>\n",
       "      <td>13</td>\n",
       "      <td>7</td>\n",
       "      <td>6</td>\n",
       "      <td>4</td>\n",
       "      <td>3</td>\n",
       "      <td>3</td>\n",
       "      <td>807</td>\n",
       "      <td>35</td>\n",
       "    </tr>\n",
       "    <tr>\n",
       "      <th>9</th>\n",
       "      <td>29</td>\n",
       "      <td>81</td>\n",
       "      <td>4</td>\n",
       "      <td>17</td>\n",
       "      <td>4</td>\n",
       "      <td>10</td>\n",
       "      <td>6</td>\n",
       "      <td>19</td>\n",
       "      <td>43</td>\n",
       "      <td>787</td>\n",
       "    </tr>\n",
       "  </tbody>\n",
       "</table>\n",
       "</div>"
      ],
      "text/plain": [
       "     0    1    2    3    4    5    6    7    8    9\n",
       "0  702   27   59   25   16    3   10   10  110   38\n",
       "1   32  780    5    9    5    3    8    7   35  116\n",
       "2   53   11  587   70   93   65   63   30   23    5\n",
       "3   12   16   63  530   62  165   74   40   14   24\n",
       "4   24    7   87   55  585   33   53  106   41    9\n",
       "5   14    8   53  197   52  572   28   59    5   12\n",
       "6   10   10   49   75   56   34  738    9    7   12\n",
       "7   22    7   37   57   55   65    9  718    5   25\n",
       "8   76   46   13    7    6    4    3    3  807   35\n",
       "9   29   81    4   17    4   10    6   19   43  787"
      ]
     },
     "execution_count": 19,
     "metadata": {},
     "output_type": "execute_result"
    }
   ],
   "source": [
    "conf_matr_resnet = pd.DataFrame(confusion_matrix(y_test, y_pred_resnet_classes))\n",
    "conf_matr_resnet.to_csv(\"../results/pretrained/conf_matr_resnet_early_stop.csv\")\n",
    "conf_matr_resnet"
   ]
  },
  {
   "cell_type": "code",
   "execution_count": 20,
   "id": "0ae80aa5",
   "metadata": {
    "ExecuteTime": {
     "end_time": "2022-04-07T07:55:36.297458Z",
     "start_time": "2022-04-07T07:55:36.261006Z"
    }
   },
   "outputs": [
    {
     "name": "stdout",
     "output_type": "stream",
     "text": [
      "              precision    recall  f1-score   support\n",
      "\n",
      "           0       0.72      0.70      0.71      1000\n",
      "           1       0.79      0.78      0.78      1000\n",
      "           2       0.61      0.59      0.60      1000\n",
      "           3       0.51      0.53      0.52      1000\n",
      "           4       0.63      0.58      0.60      1000\n",
      "           5       0.60      0.57      0.59      1000\n",
      "           6       0.74      0.74      0.74      1000\n",
      "           7       0.72      0.72      0.72      1000\n",
      "           8       0.74      0.81      0.77      1000\n",
      "           9       0.74      0.79      0.76      1000\n",
      "\n",
      "    accuracy                           0.68     10000\n",
      "   macro avg       0.68      0.68      0.68     10000\n",
      "weighted avg       0.68      0.68      0.68     10000\n",
      "\n"
     ]
    }
   ],
   "source": [
    "print(classification_report(y_test, y_pred_resnet_classes))"
   ]
  },
  {
   "cell_type": "markdown",
   "id": "c50f43d2",
   "metadata": {},
   "source": [
    "## <span style='font-family:Georgia'> VGG16"
   ]
  },
  {
   "cell_type": "code",
   "execution_count": 21,
   "id": "5e3895da",
   "metadata": {
    "ExecuteTime": {
     "end_time": "2022-04-07T07:56:17.384350Z",
     "start_time": "2022-04-07T07:55:36.299168Z"
    },
    "scrolled": true
   },
   "outputs": [
    {
     "name": "stdout",
     "output_type": "stream",
     "text": [
      "313/313 [==============================] - 41s 131ms/step - loss: 0.1138 - accuracy: 0.7726\n"
     ]
    },
    {
     "data": {
      "text/plain": [
       "[0.11381202191114426, 0.772599995136261]"
      ]
     },
     "execution_count": 21,
     "metadata": {},
     "output_type": "execute_result"
    }
   ],
   "source": [
    "vgg.evaluate(X_test, y_test_ohe)"
   ]
  },
  {
   "cell_type": "code",
   "execution_count": 22,
   "id": "8a9c295c",
   "metadata": {
    "ExecuteTime": {
     "end_time": "2022-04-07T07:56:55.158380Z",
     "start_time": "2022-04-07T07:56:17.386282Z"
    }
   },
   "outputs": [],
   "source": [
    "y_pred_vgg16 = vgg.predict(X_test)"
   ]
  },
  {
   "cell_type": "code",
   "execution_count": 23,
   "id": "5fa8ff0c",
   "metadata": {
    "ExecuteTime": {
     "end_time": "2022-04-07T07:56:55.173752Z",
     "start_time": "2022-04-07T07:56:55.158380Z"
    }
   },
   "outputs": [],
   "source": [
    "y_pred_vgg16_classes = np.argmax(y_pred_vgg16, axis=-1)"
   ]
  },
  {
   "cell_type": "code",
   "execution_count": 24,
   "id": "489c3a73",
   "metadata": {
    "ExecuteTime": {
     "end_time": "2022-04-07T07:56:55.220549Z",
     "start_time": "2022-04-07T07:56:55.179370Z"
    }
   },
   "outputs": [
    {
     "data": {
      "text/html": [
       "<div>\n",
       "<style scoped>\n",
       "    .dataframe tbody tr th:only-of-type {\n",
       "        vertical-align: middle;\n",
       "    }\n",
       "\n",
       "    .dataframe tbody tr th {\n",
       "        vertical-align: top;\n",
       "    }\n",
       "\n",
       "    .dataframe thead th {\n",
       "        text-align: right;\n",
       "    }\n",
       "</style>\n",
       "<table border=\"1\" class=\"dataframe\">\n",
       "  <thead>\n",
       "    <tr style=\"text-align: right;\">\n",
       "      <th></th>\n",
       "      <th>0</th>\n",
       "      <th>1</th>\n",
       "      <th>2</th>\n",
       "      <th>3</th>\n",
       "      <th>4</th>\n",
       "      <th>5</th>\n",
       "      <th>6</th>\n",
       "      <th>7</th>\n",
       "      <th>8</th>\n",
       "      <th>9</th>\n",
       "    </tr>\n",
       "  </thead>\n",
       "  <tbody>\n",
       "    <tr>\n",
       "      <th>0</th>\n",
       "      <td>793</td>\n",
       "      <td>20</td>\n",
       "      <td>27</td>\n",
       "      <td>10</td>\n",
       "      <td>8</td>\n",
       "      <td>1</td>\n",
       "      <td>5</td>\n",
       "      <td>12</td>\n",
       "      <td>67</td>\n",
       "      <td>57</td>\n",
       "    </tr>\n",
       "    <tr>\n",
       "      <th>1</th>\n",
       "      <td>7</td>\n",
       "      <td>886</td>\n",
       "      <td>0</td>\n",
       "      <td>5</td>\n",
       "      <td>1</td>\n",
       "      <td>2</td>\n",
       "      <td>5</td>\n",
       "      <td>2</td>\n",
       "      <td>11</td>\n",
       "      <td>81</td>\n",
       "    </tr>\n",
       "    <tr>\n",
       "      <th>2</th>\n",
       "      <td>56</td>\n",
       "      <td>5</td>\n",
       "      <td>667</td>\n",
       "      <td>45</td>\n",
       "      <td>64</td>\n",
       "      <td>43</td>\n",
       "      <td>79</td>\n",
       "      <td>24</td>\n",
       "      <td>7</td>\n",
       "      <td>10</td>\n",
       "    </tr>\n",
       "    <tr>\n",
       "      <th>3</th>\n",
       "      <td>18</td>\n",
       "      <td>19</td>\n",
       "      <td>44</td>\n",
       "      <td>588</td>\n",
       "      <td>30</td>\n",
       "      <td>144</td>\n",
       "      <td>64</td>\n",
       "      <td>41</td>\n",
       "      <td>17</td>\n",
       "      <td>35</td>\n",
       "    </tr>\n",
       "    <tr>\n",
       "      <th>4</th>\n",
       "      <td>21</td>\n",
       "      <td>6</td>\n",
       "      <td>76</td>\n",
       "      <td>66</td>\n",
       "      <td>633</td>\n",
       "      <td>20</td>\n",
       "      <td>78</td>\n",
       "      <td>74</td>\n",
       "      <td>16</td>\n",
       "      <td>10</td>\n",
       "    </tr>\n",
       "    <tr>\n",
       "      <th>5</th>\n",
       "      <td>10</td>\n",
       "      <td>6</td>\n",
       "      <td>34</td>\n",
       "      <td>147</td>\n",
       "      <td>25</td>\n",
       "      <td>679</td>\n",
       "      <td>31</td>\n",
       "      <td>52</td>\n",
       "      <td>0</td>\n",
       "      <td>16</td>\n",
       "    </tr>\n",
       "    <tr>\n",
       "      <th>6</th>\n",
       "      <td>6</td>\n",
       "      <td>10</td>\n",
       "      <td>23</td>\n",
       "      <td>47</td>\n",
       "      <td>15</td>\n",
       "      <td>13</td>\n",
       "      <td>860</td>\n",
       "      <td>6</td>\n",
       "      <td>8</td>\n",
       "      <td>12</td>\n",
       "    </tr>\n",
       "    <tr>\n",
       "      <th>7</th>\n",
       "      <td>14</td>\n",
       "      <td>6</td>\n",
       "      <td>16</td>\n",
       "      <td>38</td>\n",
       "      <td>28</td>\n",
       "      <td>37</td>\n",
       "      <td>6</td>\n",
       "      <td>821</td>\n",
       "      <td>4</td>\n",
       "      <td>30</td>\n",
       "    </tr>\n",
       "    <tr>\n",
       "      <th>8</th>\n",
       "      <td>29</td>\n",
       "      <td>20</td>\n",
       "      <td>5</td>\n",
       "      <td>13</td>\n",
       "      <td>4</td>\n",
       "      <td>0</td>\n",
       "      <td>2</td>\n",
       "      <td>3</td>\n",
       "      <td>889</td>\n",
       "      <td>35</td>\n",
       "    </tr>\n",
       "    <tr>\n",
       "      <th>9</th>\n",
       "      <td>9</td>\n",
       "      <td>46</td>\n",
       "      <td>4</td>\n",
       "      <td>6</td>\n",
       "      <td>0</td>\n",
       "      <td>2</td>\n",
       "      <td>3</td>\n",
       "      <td>3</td>\n",
       "      <td>17</td>\n",
       "      <td>910</td>\n",
       "    </tr>\n",
       "  </tbody>\n",
       "</table>\n",
       "</div>"
      ],
      "text/plain": [
       "     0    1    2    3    4    5    6    7    8    9\n",
       "0  793   20   27   10    8    1    5   12   67   57\n",
       "1    7  886    0    5    1    2    5    2   11   81\n",
       "2   56    5  667   45   64   43   79   24    7   10\n",
       "3   18   19   44  588   30  144   64   41   17   35\n",
       "4   21    6   76   66  633   20   78   74   16   10\n",
       "5   10    6   34  147   25  679   31   52    0   16\n",
       "6    6   10   23   47   15   13  860    6    8   12\n",
       "7   14    6   16   38   28   37    6  821    4   30\n",
       "8   29   20    5   13    4    0    2    3  889   35\n",
       "9    9   46    4    6    0    2    3    3   17  910"
      ]
     },
     "execution_count": 24,
     "metadata": {},
     "output_type": "execute_result"
    }
   ],
   "source": [
    "conf_matr_vgg = pd.DataFrame(confusion_matrix(y_test, y_pred_vgg16_classes))\n",
    "conf_matr_vgg.to_csv(\"../results/pretrained/conf_matr_vgg_early_stop.csv\")\n",
    "conf_matr_vgg"
   ]
  },
  {
   "cell_type": "code",
   "execution_count": 25,
   "id": "39f4a610",
   "metadata": {
    "ExecuteTime": {
     "end_time": "2022-04-07T07:56:55.274807Z",
     "start_time": "2022-04-07T07:56:55.222180Z"
    }
   },
   "outputs": [
    {
     "name": "stdout",
     "output_type": "stream",
     "text": [
      "              precision    recall  f1-score   support\n",
      "\n",
      "           0       0.82      0.79      0.81      1000\n",
      "           1       0.87      0.89      0.88      1000\n",
      "           2       0.74      0.67      0.70      1000\n",
      "           3       0.61      0.59      0.60      1000\n",
      "           4       0.78      0.63      0.70      1000\n",
      "           5       0.72      0.68      0.70      1000\n",
      "           6       0.76      0.86      0.81      1000\n",
      "           7       0.79      0.82      0.81      1000\n",
      "           8       0.86      0.89      0.87      1000\n",
      "           9       0.76      0.91      0.83      1000\n",
      "\n",
      "    accuracy                           0.77     10000\n",
      "   macro avg       0.77      0.77      0.77     10000\n",
      "weighted avg       0.77      0.77      0.77     10000\n",
      "\n"
     ]
    }
   ],
   "source": [
    "print(classification_report(y_test, y_pred_vgg16_classes))"
   ]
  },
  {
   "cell_type": "markdown",
   "id": "ecbf95ad",
   "metadata": {},
   "source": [
    "## <span style='font-family:Georgia'> Confusion matrices comparison"
   ]
  },
  {
   "cell_type": "code",
   "execution_count": 26,
   "id": "f5e007ea",
   "metadata": {
    "ExecuteTime": {
     "end_time": "2022-04-07T16:49:17.205992Z",
     "start_time": "2022-04-07T16:49:15.896871Z"
    }
   },
   "outputs": [
    {
     "data": {
      "image/png": "[encoded data removed]",
      "text/plain": [
       "<Figure size 1296x576 with 4 Axes>"
      ]
     },
     "metadata": {},
     "output_type": "display_data"
    }
   ],
   "source": [
    "fig, axes = plt.subplots(1,2,figsize=(18,8))\n",
    "models = ['ResNet', 'VGG16',]\n",
    "models_results = [conf_matr_resnet, conf_matr_vgg]\n",
    "title = \"Pretrained models with Early Stopping callback\"\n",
    "for i in range(2):\n",
    "    sns.heatmap(models_results[i], annot=True, cmap=\"Blues\", ax=axes[i], fmt='d', annot_kws={\"size\": 12})\n",
    "    axes[i].set_title(models[i], size=15)\n",
    "    axes[i].set_xticklabels(axes[i].get_xmajorticklabels(), fontsize = 12)\n",
    "    axes[i].set_yticklabels(axes[i].get_xmajorticklabels(), fontsize = 12)\n",
    "    cax = plt.gcf().axes[-1]\n",
    "    cax.tick_params(labelsize=12)\n",
    "\n",
    "fig.suptitle(title, size=18)\n",
    "plt.tight_layout()\n",
    "plt.show()"
   ]
  }
 ],
 "metadata": {
  "kernelspec": {
   "display_name": "Python 3",
   "language": "python",
   "name": "python3"
  },
  "language_info": {
   "codemirror_mode": {
    "name": "ipython",
    "version": 3
   },
   "file_extension": ".py",
   "mimetype": "text/x-python",
   "name": "python",
   "nbconvert_exporter": "python",
   "pygments_lexer": "ipython3",
   "version": "3.8.8"
  }
 },
 "nbformat": 4,
 "nbformat_minor": 5
}
